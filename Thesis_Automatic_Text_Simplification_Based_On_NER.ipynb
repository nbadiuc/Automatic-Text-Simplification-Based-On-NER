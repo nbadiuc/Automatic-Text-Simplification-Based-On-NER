{
  "nbformat": 4,
  "nbformat_minor": 0,
  "metadata": {
    "colab": {
      "provenance": [],
      "include_colab_link": true
    },
    "kernelspec": {
      "name": "python3",
      "display_name": "Python 3"
    },
    "language_info": {
      "name": "python"
    }
  },
  "cells": [
    {
      "cell_type": "markdown",
      "metadata": {
        "id": "view-in-github",
        "colab_type": "text"
      },
      "source": [
        "<a href=\"https://colab.research.google.com/github/nbadiuc/Automatic-Text-Simplification-Based-On-NER/blob/main/Thesis_Automatic_Text_Simplification_Based_On_NER.ipynb\" target=\"_parent\"><img src=\"https://colab.research.google.com/assets/colab-badge.svg\" alt=\"Open In Colab\"/></a>"
      ]
    },
    {
      "cell_type": "markdown",
      "source": [
        "#Installations and imports"
      ],
      "metadata": {
        "id": "aIhi3lYiHuDy"
      }
    },
    {
      "cell_type": "code",
      "source": [
        "!pip install torch\n",
        "!pip install transformers\n",
        "!pip install xformers\n",
        "!pip install sentencepiece\n",
        "!pip install sacremoses"
      ],
      "metadata": {
        "id": "0NDAXzj7FsLE",
        "colab": {
          "base_uri": "https://localhost:8080/"
        },
        "outputId": "1fce5913-633d-44ca-ce52-11c54ab7f892"
      },
      "execution_count": null,
      "outputs": [
        {
          "output_type": "stream",
          "name": "stdout",
          "text": [
            "Looking in indexes: https://pypi.org/simple, https://us-python.pkg.dev/colab-wheels/public/simple/\n",
            "Requirement already satisfied: torch in /usr/local/lib/python3.10/dist-packages (2.0.1+cu118)\n",
            "Requirement already satisfied: filelock in /usr/local/lib/python3.10/dist-packages (from torch) (3.12.0)\n",
            "Requirement already satisfied: typing-extensions in /usr/local/lib/python3.10/dist-packages (from torch) (4.5.0)\n",
            "Requirement already satisfied: sympy in /usr/local/lib/python3.10/dist-packages (from torch) (1.11.1)\n",
            "Requirement already satisfied: networkx in /usr/local/lib/python3.10/dist-packages (from torch) (3.1)\n",
            "Requirement already satisfied: jinja2 in /usr/local/lib/python3.10/dist-packages (from torch) (3.1.2)\n",
            "Requirement already satisfied: triton==2.0.0 in /usr/local/lib/python3.10/dist-packages (from torch) (2.0.0)\n",
            "Requirement already satisfied: cmake in /usr/local/lib/python3.10/dist-packages (from triton==2.0.0->torch) (3.25.2)\n",
            "Requirement already satisfied: lit in /usr/local/lib/python3.10/dist-packages (from triton==2.0.0->torch) (16.0.5)\n",
            "Requirement already satisfied: MarkupSafe>=2.0 in /usr/local/lib/python3.10/dist-packages (from jinja2->torch) (2.1.2)\n",
            "Requirement already satisfied: mpmath>=0.19 in /usr/local/lib/python3.10/dist-packages (from sympy->torch) (1.3.0)\n",
            "Looking in indexes: https://pypi.org/simple, https://us-python.pkg.dev/colab-wheels/public/simple/\n",
            "Requirement already satisfied: transformers in /usr/local/lib/python3.10/dist-packages (4.29.2)\n",
            "Requirement already satisfied: filelock in /usr/local/lib/python3.10/dist-packages (from transformers) (3.12.0)\n",
            "Requirement already satisfied: huggingface-hub<1.0,>=0.14.1 in /usr/local/lib/python3.10/dist-packages (from transformers) (0.15.1)\n",
            "Requirement already satisfied: numpy>=1.17 in /usr/local/lib/python3.10/dist-packages (from transformers) (1.22.4)\n",
            "Requirement already satisfied: packaging>=20.0 in /usr/local/lib/python3.10/dist-packages (from transformers) (23.1)\n",
            "Requirement already satisfied: pyyaml>=5.1 in /usr/local/lib/python3.10/dist-packages (from transformers) (6.0)\n",
            "Requirement already satisfied: regex!=2019.12.17 in /usr/local/lib/python3.10/dist-packages (from transformers) (2022.10.31)\n",
            "Requirement already satisfied: requests in /usr/local/lib/python3.10/dist-packages (from transformers) (2.27.1)\n",
            "Requirement already satisfied: tokenizers!=0.11.3,<0.14,>=0.11.1 in /usr/local/lib/python3.10/dist-packages (from transformers) (0.13.3)\n",
            "Requirement already satisfied: tqdm>=4.27 in /usr/local/lib/python3.10/dist-packages (from transformers) (4.65.0)\n",
            "Requirement already satisfied: fsspec in /usr/local/lib/python3.10/dist-packages (from huggingface-hub<1.0,>=0.14.1->transformers) (2023.4.0)\n",
            "Requirement already satisfied: typing-extensions>=3.7.4.3 in /usr/local/lib/python3.10/dist-packages (from huggingface-hub<1.0,>=0.14.1->transformers) (4.5.0)\n",
            "Requirement already satisfied: urllib3<1.27,>=1.21.1 in /usr/local/lib/python3.10/dist-packages (from requests->transformers) (1.26.15)\n",
            "Requirement already satisfied: certifi>=2017.4.17 in /usr/local/lib/python3.10/dist-packages (from requests->transformers) (2022.12.7)\n",
            "Requirement already satisfied: charset-normalizer~=2.0.0 in /usr/local/lib/python3.10/dist-packages (from requests->transformers) (2.0.12)\n",
            "Requirement already satisfied: idna<4,>=2.5 in /usr/local/lib/python3.10/dist-packages (from requests->transformers) (3.4)\n",
            "Looking in indexes: https://pypi.org/simple, https://us-python.pkg.dev/colab-wheels/public/simple/\n",
            "Requirement already satisfied: xformers in /usr/local/lib/python3.10/dist-packages (0.0.20)\n",
            "Requirement already satisfied: numpy in /usr/local/lib/python3.10/dist-packages (from xformers) (1.22.4)\n",
            "Requirement already satisfied: pyre-extensions==0.0.29 in /usr/local/lib/python3.10/dist-packages (from xformers) (0.0.29)\n",
            "Requirement already satisfied: torch==2.0.1 in /usr/local/lib/python3.10/dist-packages (from xformers) (2.0.1+cu118)\n",
            "Requirement already satisfied: typing-inspect in /usr/local/lib/python3.10/dist-packages (from pyre-extensions==0.0.29->xformers) (0.9.0)\n",
            "Requirement already satisfied: typing-extensions in /usr/local/lib/python3.10/dist-packages (from pyre-extensions==0.0.29->xformers) (4.5.0)\n",
            "Requirement already satisfied: filelock in /usr/local/lib/python3.10/dist-packages (from torch==2.0.1->xformers) (3.12.0)\n",
            "Requirement already satisfied: sympy in /usr/local/lib/python3.10/dist-packages (from torch==2.0.1->xformers) (1.11.1)\n",
            "Requirement already satisfied: networkx in /usr/local/lib/python3.10/dist-packages (from torch==2.0.1->xformers) (3.1)\n",
            "Requirement already satisfied: jinja2 in /usr/local/lib/python3.10/dist-packages (from torch==2.0.1->xformers) (3.1.2)\n",
            "Requirement already satisfied: triton==2.0.0 in /usr/local/lib/python3.10/dist-packages (from torch==2.0.1->xformers) (2.0.0)\n",
            "Requirement already satisfied: cmake in /usr/local/lib/python3.10/dist-packages (from triton==2.0.0->torch==2.0.1->xformers) (3.25.2)\n",
            "Requirement already satisfied: lit in /usr/local/lib/python3.10/dist-packages (from triton==2.0.0->torch==2.0.1->xformers) (16.0.5)\n",
            "Requirement already satisfied: MarkupSafe>=2.0 in /usr/local/lib/python3.10/dist-packages (from jinja2->torch==2.0.1->xformers) (2.1.2)\n",
            "Requirement already satisfied: mpmath>=0.19 in /usr/local/lib/python3.10/dist-packages (from sympy->torch==2.0.1->xformers) (1.3.0)\n",
            "Requirement already satisfied: mypy-extensions>=0.3.0 in /usr/local/lib/python3.10/dist-packages (from typing-inspect->pyre-extensions==0.0.29->xformers) (1.0.0)\n",
            "Looking in indexes: https://pypi.org/simple, https://us-python.pkg.dev/colab-wheels/public/simple/\n",
            "Requirement already satisfied: sentencepiece in /usr/local/lib/python3.10/dist-packages (0.1.99)\n",
            "Looking in indexes: https://pypi.org/simple, https://us-python.pkg.dev/colab-wheels/public/simple/\n",
            "Requirement already satisfied: sacremoses in /usr/local/lib/python3.10/dist-packages (0.0.53)\n",
            "Requirement already satisfied: regex in /usr/local/lib/python3.10/dist-packages (from sacremoses) (2022.10.31)\n",
            "Requirement already satisfied: six in /usr/local/lib/python3.10/dist-packages (from sacremoses) (1.16.0)\n",
            "Requirement already satisfied: click in /usr/local/lib/python3.10/dist-packages (from sacremoses) (8.1.3)\n",
            "Requirement already satisfied: joblib in /usr/local/lib/python3.10/dist-packages (from sacremoses) (1.2.0)\n",
            "Requirement already satisfied: tqdm in /usr/local/lib/python3.10/dist-packages (from sacremoses) (4.65.0)\n"
          ]
        }
      ]
    },
    {
      "cell_type": "code",
      "source": [
        "from transformers import AutoTokenizer, AutoModel, AutoModelForCausalLM\n",
        "from transformers import pipeline\n",
        "\n",
        "import torch\n",
        "from sklearn.metrics.pairwise import cosine_distances\n",
        "import pandas as pd\n",
        "import zipfile\n",
        "import os\n",
        "import string\n",
        "import requests\n",
        "import json\n",
        "import random\n",
        "import re"
      ],
      "metadata": {
        "id": "Yi_WnMMtIBOf"
      },
      "execution_count": null,
      "outputs": []
    },
    {
      "cell_type": "code",
      "source": [
        "import nltk\n",
        "nltk.download('punkt')\n",
        "nltk.download('stopwords')\n",
        "from nltk.tokenize import sent_tokenize, word_tokenize\n",
        "from nltk.corpus import stopwords"
      ],
      "metadata": {
        "colab": {
          "base_uri": "https://localhost:8080/"
        },
        "id": "C9z70zSKILaq",
        "outputId": "f20ba9ec-0996-42ec-a818-ef73b04c5202"
      },
      "execution_count": null,
      "outputs": [
        {
          "output_type": "stream",
          "name": "stderr",
          "text": [
            "[nltk_data] Downloading package punkt to /root/nltk_data...\n",
            "[nltk_data]   Package punkt is already up-to-date!\n",
            "[nltk_data] Downloading package stopwords to /root/nltk_data...\n",
            "[nltk_data]   Package stopwords is already up-to-date!\n"
          ]
        }
      ]
    },
    {
      "cell_type": "code",
      "source": [
        "!pip install pymorphy2\n",
        "import pymorphy2\n",
        "morph = pymorphy2.MorphAnalyzer()"
      ],
      "metadata": {
        "colab": {
          "base_uri": "https://localhost:8080/"
        },
        "id": "0DwVwsOXIzpa",
        "outputId": "8738060f-81d7-4d75-e7a5-4d66c07edd61"
      },
      "execution_count": null,
      "outputs": [
        {
          "output_type": "stream",
          "name": "stdout",
          "text": [
            "Looking in indexes: https://pypi.org/simple, https://us-python.pkg.dev/colab-wheels/public/simple/\n",
            "Requirement already satisfied: pymorphy2 in /usr/local/lib/python3.10/dist-packages (0.9.1)\n",
            "Requirement already satisfied: dawg-python>=0.7.1 in /usr/local/lib/python3.10/dist-packages (from pymorphy2) (0.7.2)\n",
            "Requirement already satisfied: pymorphy2-dicts-ru<3.0,>=2.4 in /usr/local/lib/python3.10/dist-packages (from pymorphy2) (2.4.417127.4579844)\n",
            "Requirement already satisfied: docopt>=0.6 in /usr/local/lib/python3.10/dist-packages (from pymorphy2) (0.6.2)\n"
          ]
        }
      ]
    },
    {
      "cell_type": "code",
      "source": [
        "from google.colab import drive\n",
        "drive.mount('/content/drive')"
      ],
      "metadata": {
        "colab": {
          "base_uri": "https://localhost:8080/"
        },
        "id": "OAcg5zU-lPKa",
        "outputId": "305e3e81-7698-48f0-e6cc-4ccf9621c0f3"
      },
      "execution_count": null,
      "outputs": [
        {
          "output_type": "stream",
          "name": "stdout",
          "text": [
            "Drive already mounted at /content/drive; to attempt to forcibly remount, call drive.mount(\"/content/drive\", force_remount=True).\n"
          ]
        }
      ]
    },
    {
      "cell_type": "markdown",
      "source": [
        "# The baseline model"
      ],
      "metadata": {
        "id": "iaq9JrhRKCQQ"
      }
    },
    {
      "cell_type": "code",
      "source": [
        "baseline_tokenizer = AutoTokenizer.from_pretrained(\"orzhan/rugpt3-simplify-large\", padding_side='left')\n",
        "baseline_model = AutoModelForCausalLM.from_pretrained(\"orzhan/rugpt3-simplify-large\")"
      ],
      "metadata": {
        "colab": {
          "base_uri": "https://localhost:8080/"
        },
        "id": "dt2EYncaF0cz",
        "outputId": "53b1ebe2-916d-482e-8e7c-dc778149a0b2"
      },
      "execution_count": null,
      "outputs": [
        {
          "output_type": "stream",
          "name": "stderr",
          "text": [
            "Special tokens have been added in the vocabulary, make sure the associated word embeddings are fine-tuned or trained.\n"
          ]
        }
      ]
    },
    {
      "cell_type": "code",
      "source": [
        "baseline_simplifier = pipeline(\"text-generation\", model=baseline_model, tokenizer=baseline_tokenizer, max_length=160)"
      ],
      "metadata": {
        "id": "kNBcQY6_7l3o"
      },
      "execution_count": null,
      "outputs": []
    },
    {
      "cell_type": "code",
      "source": [
        "def base_model(sentence):\n",
        "    sentence = \"<s>\" + sentence + \"<Simplify:>\"\n",
        "    while sentence.find(\"EndText\") == -1:\n",
        "        sentence = baseline_simplifier(sentence)[0]['generated_text']\n",
        "    return sentence[sentence.find(\"<Simplify:>\")+12:sentence.find(\"EndText\")-1]"
      ],
      "metadata": {
        "id": "kzKFdlfOEf7j"
      },
      "execution_count": null,
      "outputs": []
    },
    {
      "cell_type": "code",
      "source": [
        "print(base_model(\"Финансовым директором социальной сети Facebook назначен 39-летний Дэвид Эберсман (David Ebersman), сообщает The Wall Street Journal.\"))"
      ],
      "metadata": {
        "colab": {
          "base_uri": "https://localhost:8080/"
        },
        "id": "7Zm6DH6FFqhk",
        "outputId": "8eca21a4-eecd-4998-fd4b-97b08b5d6040"
      },
      "execution_count": null,
      "outputs": [
        {
          "output_type": "stream",
          "name": "stderr",
          "text": [
            "Setting `pad_token_id` to `eos_token_id`:50256 for open-end generation.\n"
          ]
        },
        {
          "output_type": "stream",
          "name": "stdout",
          "text": [
            "Дэвид Эберсман (David Ebersman) - финансовый директор социальной сети Facebook.\n"
          ]
        }
      ]
    },
    {
      "cell_type": "markdown",
      "source": [
        "#BERT and synonym dictionary models"
      ],
      "metadata": {
        "id": "ennAbE7z7cHq"
      }
    },
    {
      "cell_type": "code",
      "source": [
        "# download the dataset into the /tmp folder\n",
        "!wget \"https://github.com/nerel-ds/NEREL/archive/refs/heads/master.zip\" -O \"/tmp/nerel.zip\"\n",
        "\n",
        "zip_ref = zipfile.ZipFile('/tmp/nerel.zip', 'r')\n",
        "zip_ref.extractall('/tmp')\n",
        "zip_ref.close()"
      ],
      "metadata": {
        "colab": {
          "base_uri": "https://localhost:8080/"
        },
        "id": "3NDINHVXCxEp",
        "outputId": "c0dbb8e0-cf8b-4037-87d7-c51f330dcfe0"
      },
      "execution_count": null,
      "outputs": [
        {
          "output_type": "stream",
          "name": "stdout",
          "text": [
            "--2023-06-07 12:26:38--  https://github.com/nerel-ds/NEREL/archive/refs/heads/master.zip\n",
            "Resolving github.com (github.com)... 140.82.113.4\n",
            "Connecting to github.com (github.com)|140.82.113.4|:443... connected.\n",
            "HTTP request sent, awaiting response... 302 Found\n",
            "Location: https://codeload.github.com/nerel-ds/NEREL/zip/refs/heads/master [following]\n",
            "--2023-06-07 12:26:38--  https://codeload.github.com/nerel-ds/NEREL/zip/refs/heads/master\n",
            "Resolving codeload.github.com (codeload.github.com)... 140.82.114.9\n",
            "Connecting to codeload.github.com (codeload.github.com)|140.82.114.9|:443... connected.\n",
            "HTTP request sent, awaiting response... 200 OK\n",
            "Length: unspecified [application/zip]\n",
            "Saving to: ‘/tmp/nerel.zip’\n",
            "\n",
            "/tmp/nerel.zip          [    <=>             ]   6.14M  8.38MB/s    in 0.7s    \n",
            "\n",
            "2023-06-07 12:26:39 (8.38 MB/s) - ‘/tmp/nerel.zip’ saved [6443546]\n",
            "\n"
          ]
        }
      ]
    },
    {
      "cell_type": "code",
      "source": [
        "# reading a text and its annotation\n",
        "def read_text(text_location=\"/tmp/NEREL-master/NEREL-v1.1/train/023.txt\"):\n",
        "\n",
        "    with open(text_location) as f:\n",
        "        lines = f.readlines()\n",
        "    \n",
        "    # getting rid of the titles of the articles - they are not full sentences\n",
        "    offset = len(lines[0]) # title length\n",
        "\n",
        "    text = ''\n",
        "    for i in range(1, len(lines)):\n",
        "        text += lines[i]\n",
        "\n",
        "    ann_location = text_location[:-3] + \"ann\"\n",
        "    with open(ann_location) as f:\n",
        "        ann = f.readlines()\n",
        "\n",
        "    return text, ann, offset"
      ],
      "metadata": {
        "id": "S05fdmDaY7kc"
      },
      "execution_count": null,
      "outputs": []
    },
    {
      "cell_type": "code",
      "source": [
        "text, ann, offset = read_text(text_location=\"/tmp/NEREL-master/NEREL-v1.1/train/106106_text.txt\")\n",
        "print(\"Text:\")\n",
        "print(text)\n",
        "print(\"Annotation:\")\n",
        "print(ann)\n",
        "print(\"Offset:\")\n",
        "print(offset)"
      ],
      "metadata": {
        "colab": {
          "base_uri": "https://localhost:8080/"
        },
        "id": "I043eNDcb4yv",
        "outputId": "06d4f614-a050-4144-c035-b75a1984616f"
      },
      "execution_count": null,
      "outputs": [
        {
          "output_type": "stream",
          "name": "stdout",
          "text": [
            "Text:\n",
            "\n",
            "Эдуард Назаров\n",
            "11 сентября 2016 года на 75 году жизни в Москве скончался советский и российский мультипликатор, режиссёр и художник, народный артист Российской Федерации, автор известного мультфильма «Жил-был пёс» Эдуард Назаров.\n",
            "\n",
            "Эдуард Васильевич он давно болел и имел проблемы с сосудами.\n",
            "\n",
            "Время и место похорон пока уточняются.\n",
            "\n",
            "Эдуард Назаров родился 23 ноября 1941 года в Москве. Закончил Строгановское художественно-промышленное училище. Работал в мультипликации с 1959 года сначала прорисовщиком, затем ассистентом художника-постановщика у Михаила Цехановского, художником-постановщиком у Фёдора Хитрука, режиссёром.\n",
            "\n",
            "Занимался оформлением книг и журналов: «Квант», «Весёлые картинки», «Мурзилка», «Химия и жизнь», «Знание — сила», «Миша» и других.\n",
            "\n",
            "C 1979 по 2000 год преподавал на Высших курсах сценаристов и режиссёров.\n",
            "\n",
            "В 1993 году организовал школу-студию мультипликаторов-режиссёров «ШАР» совместно с Андреем Хржановским, Фёдором Хитруком, Юрием Норштейном.\n",
            "\n",
            "Соавтор и ведущий телепрограмм «Анимация от А до Я» (1996—98), «Мир анимации или анимации мира» (1999—2001), снимался в документальных сериалах «Союзмультфильм — сказки и были» (серия «Весёлые сказки о грустном», 2003), «Фабрика чудес» (серия «Художник-постановщик», 2006), «Невесомая жизнь» (2006), документальном фильме «Русская магия» (2004).\n",
            "\n",
            "С 1991 года — президент (с Давидом Черкасским) Международного Фестиваля Мультипликационных фильмов «КРОК».\n",
            "\n",
            "Вместе с Юрием Норштейном участвовал в проекте Юрия Красного по созданию мультипликационного фильма на основе рисунков детей-инвалидов.\n",
            "\n",
            "После смерти Александра Татарского в августе 2007 года занял пост художественного директора студии «Пилот».\n",
            "\n",
            "\n",
            "Annotation:\n",
            "['T1\\tPERSON 5 19\\tЭдуард Назаров\\n', 'T2\\tWORK_OF_ART 45 56\\tЖил-был пёс\\n', 'T3\\tPERSON 59 73\\tЭдуард Назаров\\n', 'T4\\tDATE 74 95\\t11 сентября 2016 года\\n', 'T6\\tAGE 96 106\\tна 75 году\\n', 'T7\\tCITY 115 121\\tМоскве\\n', 'T8\\tNATIONALITY 132 141\\tсоветский\\n', 'T9\\tNATIONALITY 144 154\\tроссийский\\n', 'T11\\tAWARD 192 207\\tнародный артист\\n', 'T12\\tCOUNTRY 208 228\\tРоссийской Федерации\\n', 'T14\\tWORK_OF_ART 260 271\\tЖил-был пёс\\n', 'T15\\tPERSON 273 287\\tЭдуард Назаров\\n', 'T16\\tPERSON 290 307\\tЭдуард Васильевич\\n', 'T17\\tPERSON 392 406\\tЭдуард Назаров\\n', 'T18\\tDATE 415 434\\t23 ноября 1941 года\\n', 'T19\\tCITY 437 443\\tМоскве\\n', 'T20\\tORGANIZATION 454 502\\tСтрогановское художественно-промышленное училище\\n', 'T21\\tDATE 529 540\\tс 1959 года\\n', 'T22\\tPROFESSION 570 604\\tассистентом художника-постановщика\\n', 'T23\\tPERSON 607 627\\tМихаила Цехановского\\n', 'T24\\tPROFESSION 629 653\\tхудожником-постановщиком\\n', 'T25\\tPERSON 656 670\\tФёдора Хитрука\\n', 'T26\\tPROFESSION 672 682\\tрежиссёром\\n', 'T27\\tWORK_OF_ART 725 730\\tКвант\\n', 'T28\\tWORK_OF_ART 734 750\\tВесёлые картинки\\n', 'T29\\tWORK_OF_ART 754 762\\tМурзилка\\n', 'T30\\tWORK_OF_ART 766 779\\tХимия и жизнь\\n', 'T31\\tWORK_OF_ART 783 796\\tЗнание\\xa0— сила\\n', 'T32\\tWORK_OF_ART 800 804\\tМиша\\n', 'T33\\tDATE 817 835\\tC 1979 по 2000 год\\n', 'T34\\tORGANIZATION 850 888\\tВысших курсах сценаристов и режиссёров\\n', 'T35\\tORGANIZATION 850 863\\tВысших курсах\\n', 'T36\\tDATE 891 902\\tВ 1993 году\\n', 'T38\\tORGANIZATION 957 960\\tШАР\\n', 'T39\\tPERSON 974 993\\tАндреем Хржановским\\n', 'T40\\tPERSON 995 1011\\tФёдором Хитруком\\n', 'T41\\tPERSON 1013 1029\\tЮрием Норштейном\\n', 'T42\\tWORK_OF_ART 1064 1082\\tАнимация от А до Я\\n', 'T43\\tDATE 1085 1089\\t1996\\n', 'T44\\tWORK_OF_ART 1096 1126\\tМир анимации или анимации мира\\n', 'T45\\tDATE 1129 1133\\t1999\\n', 'T46\\tORGANIZATION 1177 1191\\tСоюзмультфильм\\n', 'T47\\tWORK_OF_ART 1177 1207\\tСоюзмультфильм\\xa0— сказки и были\\n', 'T48\\tWORK_OF_ART 1217 1242\\tВесёлые сказки о грустном\\n', 'T49\\tWORK_OF_ART 1253 1266\\tФабрика чудес\\n', 'T50\\tWORK_OF_ART 1276 1296\\tХудожник-постановщик\\n', 'T51\\tWORK_OF_ART 1307 1322\\tНевесомая жизнь\\n', 'T52\\tDATE 1325 1329\\t2006\\n', 'T53\\tWORK_OF_ART 1355 1368\\tРусская магия\\n', 'T54\\tDATE 1379 1390\\tС 1991 года\\n', 'T55\\tPROFESSION 1393 1402\\tпрезидент\\n', 'T56\\tPERSON 1406 1424\\tДавидом Черкасским\\n', 'T57\\tEVENT 1426 1484\\tМеждународного Фестиваля Мультипликационных фильмов «КРОК»\\n', 'T58\\tPERSON 1496 1512\\tЮрием Норштейном\\n', 'T59\\tPERSON 1534 1547\\tЮрия Красного\\n', 'T60\\tPERSON 1637 1658\\tАлександра Татарского\\n', 'T61\\tDATE 1659 1678\\tв августе 2007 года\\n', 'T62\\tPROFESSION 1690 1715\\tхудожественного директора\\n', 'T63\\tORGANIZATION 1724 1729\\tПилот\\n', 'R3\\tORIGINS_FROM Arg1:T15 Arg2:T8\\n', 'R12\\tWORKPLACE Arg1:T56 Arg2:T57\\n', 'R13\\tWORKPLACE Arg1:T60 Arg2:T63\\n', 'T5\\tPROFESSION 582 604\\tхудожника-постановщика\\n', 'R1\\tDATE_OF_BIRTH Arg1:T17 Arg2:T18\\t\\n', 'R6\\tPLACE_OF_BIRTH Arg1:T17 Arg2:T19\\t\\n', 'T37\\tPROFESSION 1042 1062\\tведущий телепрограмм\\n', 'T64\\tEVENT 1479 1483\\tКРОК\\n', 'T65\\tPROFESSION 549 562\\tпрорисовщиком\\n', 'T66\\tPROFESSION 864 875\\tсценаристов\\n', 'T67\\tPROFESSION 878 888\\tрежиссёров\\n', 'T69\\tPROFESSION 1706 1715\\tдиректора\\n', 'T70\\tDISEASE 317 322\\tболел\\n', 'T71\\tDISEASE 330 349\\tпроблемы с сосудами\\n', 'R2\\tPRODUCES Arg1:T1 Arg2:T2\\t\\n', 'R4\\tAGE_DIED_AT Arg1:T15 Arg2:T6\\t\\n', 'R7\\tDATE_OF_DEATH Arg1:T15 Arg2:T4\\t\\n', 'R8\\tMEDICAL_CONDITION Arg1:T16 Arg2:T71\\t\\n', 'R9\\tSCHOOLS_ATTENDED Arg1:T17 Arg2:T20\\t\\n', 'R10\\tWORKS_AS Arg1:T17 Arg2:T65\\t\\n', 'R14\\tSUBORDINATE_OF Arg1:T17 Arg2:T23\\t\\n', 'R15\\tWORKS_AS Arg1:T17 Arg2:T22\\t\\n', 'R16\\tSUBORDINATE_OF Arg1:T17 Arg2:T25\\t\\n', 'R17\\tWORKS_AS Arg1:T17 Arg2:T24\\t\\n', 'R18\\tWORKS_AS Arg1:T17 Arg2:T26\\t\\n', 'T73\\tPROFESSION 155 169\\tмультипликатор\\n', 'T10\\tPROFESSION 171 179\\tрежиссёр\\n', 'T74\\tPROFESSION 182 190\\tхудожник\\n', 'R5\\tWORKS_AS Arg1:T15 Arg2:T10\\t\\n', 'R19\\tWORKS_AS Arg1:T15 Arg2:T74\\t\\n', 'T13\\tDATE 1245 1249\\t2003\\n', 'T72\\tDATE 1299 1303\\t2006\\n', 'T75\\tDATE 1371 1375\\t2004\\n', 'R11\\tPRODUCES Arg1:T15 Arg2:T14\\t\\n', 'R20\\tPLACE_OF_DEATH Arg1:T15 Arg2:T7\\t\\n', 'R21\\tMEDICAL_CONDITION Arg1:T16 Arg2:T70\\t\\n', 'R22\\tWORKPLACE Arg1:T17 Arg2:T34\\t\\n', 'R23\\tPARTICIPANT_IN Arg1:T17 Arg2:T27\\t\\n', 'R24\\tPARTICIPANT_IN Arg1:T17 Arg2:T28\\t\\n', 'R25\\tPARTICIPANT_IN Arg1:T17 Arg2:T29\\t\\n', 'R26\\tPARTICIPANT_IN Arg1:T17 Arg2:T30\\t\\n', 'R27\\tPARTICIPANT_IN Arg1:T17 Arg2:T31\\t\\n', 'R28\\tPARTICIPANT_IN Arg1:T17 Arg2:T32\\t\\n', 'R29\\tFOUNDED_BY Arg1:T38 Arg2:T39\\t\\n', 'R30\\tFOUNDED_BY Arg1:T38 Arg2:T40\\t\\n', 'R31\\tFOUNDED_BY Arg1:T38 Arg2:T41\\t\\n', 'R32\\tKNOWS Arg1:T39 Arg2:T40\\t\\n', 'R33\\tKNOWS Arg1:T40 Arg2:T41\\t\\n', 'T76\\tPROFESSION 928 955\\tмультипликаторов-режиссёров\\n', 'T77\\tPROFESSION 928 944\\tмультипликаторов\\n', 'T78\\tPROFESSION 945 955\\tрежиссёров\\n', 'R34\\tDATE_FOUNDED_IN Arg1:T38 Arg2:T36\\t\\n', 'R35\\tWORKS_AS Arg1:T56 Arg2:T55\\t\\n', 'R36\\tFOUNDED_BY Arg1:T38 Arg2:T17\\t\\n', 'T68\\tPROFESSION 1042 1049\\tведущий\\n', 'R37\\tALTERNATIVE_NAME Arg1:T3 Arg2:T16\\t\\n', 'R38\\tWORKS_AS Arg1:T17 Arg2:T37\\t\\n', 'R39\\tPRODUCES Arg1:T17 Arg2:T42\\t\\n', 'R40\\tPRODUCES Arg1:T17 Arg2:T44\\t\\n', 'T79\\tDATE 1090 1092\\t98\\n', 'R41\\tDATE_FOUNDED_IN Arg1:T42 Arg2:T43\\t\\n', 'R42\\tKNOWS Arg1:T58 Arg2:T59\\t\\n', 'T80\\tEVENT 0 4\\tУмер\\n', 'R43\\tPARTICIPANT_IN Arg1:T1 Arg2:T80\\t\\n', 'T81\\tEVENT 122 131\\tскончался\\n', 'R45\\tORIGINS_FROM Arg1:T15 Arg2:T9\\t\\n', 'R46\\tPARTICIPANT_IN Arg1:T15 Arg2:T81\\t\\n', 'R47\\tTAKES_PLACE_IN Arg1:T81 Arg2:T7\\t\\n', 'R48\\tORIGINS_FROM Arg1:T73 Arg2:T9\\t\\n', 'R49\\tORIGINS_FROM Arg1:T73 Arg2:T8\\t\\n', 'R50\\tALTERNATIVE_NAME Arg1:T12 Arg2:T9\\t\\n', 'R51\\tORIGINS_FROM Arg1:T74 Arg2:T9\\t\\n', 'R52\\tORIGINS_FROM Arg1:T74 Arg2:T8\\t\\n', 'R53\\tORIGINS_FROM Arg1:T10 Arg2:T9\\t\\n', 'R54\\tORIGINS_FROM Arg1:T10 Arg2:T8\\t\\n', 'R55\\tALTERNATIVE_NAME Arg1:T16 Arg2:T17\\t\\n', 'R56\\tSUBORDINATE_OF Arg1:T22 Arg2:T5\\t\\n', 'R57\\tSUBORDINATE_OF Arg1:T22 Arg2:T23\\t\\n', 'R58\\tSUBORDINATE_OF Arg1:T24 Arg2:T25\\t\\n', 'R59\\tSUBORDINATE_OF Arg1:T65 Arg2:T23\\t\\n', 'R60\\tPARTICIPANT_IN Arg1:T37 Arg2:T42\\t\\n', 'R61\\tPARTICIPANT_IN Arg1:T37 Arg2:T44\\t\\n', 'R62\\tSTART_TIME Arg1:T42 Arg2:T43\\t\\n', 'R63\\tEND_TIME Arg1:T42 Arg2:T79\\t\\n', 'T82\\tDATE 1134 1138\\t2001\\n', 'R64\\tSTART_TIME Arg1:T44 Arg2:T45\\t\\n', 'R65\\tEND_TIME Arg1:T44 Arg2:T82\\t\\n', 'R68\\tDATE_OF_CREATION Arg1:T51 Arg2:T52\\t\\n', 'R69\\tDATE_OF_CREATION Arg1:T53 Arg2:T75\\t\\n', 'R70\\tWORKPLACE Arg1:T62 Arg2:T63\\t\\n', 'R71\\tWORKS_AS Arg1:T17 Arg2:T55\\t\\n', 'R72\\tKNOWS Arg1:T17 Arg2:T56\\t\\n', 'R73\\tALTERNATIVE_NAME Arg1:T57 Arg2:T64\\t\\n', 'R74\\tWORKPLACE Arg1:T17 Arg2:T57\\t\\n', 'R75\\tKNOWS Arg1:T17 Arg2:T58\\t\\n', 'T83\\tAWARD 192 228\\tнародный артист Российской Федерации\\n', 'R76\\tAWARDED_WITH Arg1:T15 Arg2:T83\\t\\n', 'R77\\tORIGINS_FROM Arg1:T83 Arg2:T12\\t\\n', 'T84\\tPROFESSION 201 207\\tартист\\n', 'R66\\tDATE_OF_CREATION Arg1:T48 Arg2:T13\\t\\n', 'R67\\tDATE_OF_CREATION Arg1:T50 Arg2:T72\\t\\n', 'T85\\tNATIONALITY 1355 1362\\tРусская\\n', 'R44\\tALTERNATIVE_NAME Arg1:T80 Arg2:T81\\t\\n', 'N1\\tReference T2 Wikidata:Q2682217\\tЖил-был пёс\\n', 'N4\\tReference T11 Wikidata:Q1208997\\tнародный артист\\n', 'N5\\tReference T12 Wikidata:Q159\\tРоссия\\n', 'N7\\tReference T19 Wikidata:Q649\\tМосква\\n', 'N8\\tReference T20 Wikidata:Q2360835\\tСтрогановское училище\\n', 'N10\\tReference T23 Wikidata:Q4505390\\tМихаил Михайлович Цехановский\\n', 'N11\\tReference T24 Wikidata:Q2962070\\tхудожник-постановщик\\n', 'N12\\tReference T25 Wikidata:Q732039\\tФёдор Савельевич Хитрук\\n', 'N13\\tReference T26 Wikidata:Q3455803\\tрежиссёр\\n', 'N14\\tReference T27 Wikidata:Q2421092\\tКвант\\n', 'N15\\tReference T28 Wikidata:Q4109862\\tВесёлые картинки\\n', 'N16\\tReference T29 Wikidata:Q2382250\\tМурзилка\\n', 'N17\\tReference T30 Wikidata:Q4497743\\tХимия и жизнь — XXI век\\n', 'N18\\tReference T31 Wikidata:Q4192926\\tЗнание — сила\\n', 'N20\\tReference T34 Wikidata:Q4129798\\tВысшие курсы сценаристов и режиссёров\\n', 'N23\\tReference T39 Wikidata:Q3791296\\tХржановский, Андрей Юрьевич\\n', 'N26\\tReference T46 Wikidata:Q679912\\tСоюзмультфильм\\n', 'N33\\tReference T55 Wikidata:Q30461\\tпрезидент\\n', 'N34\\tReference T56 Wikidata:Q1174863\\tДавид Янович Черкасский\\n', 'N35\\tReference T58 Wikidata:Q371337\\tНорштейн, Юрий Борисович\\n', 'N36\\tReference T59 Wikidata:Q4239366\\tКрасный, Юрий Ешуанович\\n', 'N37\\tReference T60 Wikidata:Q2627503\\tАлександр Михайлович Татарский\\n', 'N40\\tReference T37 Wikidata:Q947873\\tтелеведущий\\n', 'N41\\tReference T66 Wikidata:Q28389\\tсценарист\\n', 'N42\\tReference T69 Wikidata:Q484876\\tглавный управляющий\\n', 'N43\\tReference T74 Wikidata:Q1028181\\tхудожник\\n', 'N44\\tReference T77 Wikidata:Q266569\\tхудожник-мультипликатор\\n', 'N46\\tReference T83 Wikidata:Q1857712\\tНародный артист Российской Федерации\\n', 'N47\\tReference T84 Wikidata:Q483501\\tдеятель искусств\\n', 'N6\\tReference T16 Wikidata:Q4312193\\tЭдуард Васильевич Назаров\\n', 'N19\\tReference T32 Wikidata:Q973841\\t\\n', 'N21\\tReference T35 Wikidata:NULL\\tнет данных\\n', 'N2\\tReference T8 Wikidata:Q1633149\\t\\n', 'N3\\tReference T9 Wikidata:Q492468\\tроссияне\\n', 'N49\\tReference T65 Wikidata:Q3153626\\t\\n', 'N9\\tReference T22 Wikidata:Q28798045\\t\\n', 'N50\\tReference T76 Wikidata:Q779815\\t\\n', 'N22\\tReference T38 Wikidata:Q4525026\\t\\n', 'N51\\tReference T1 Wikidata:Q371337\\tНорштейн, Юрий Борисович\\n', 'N39\\tReference T63 Wikidata:Q4362796\\tПилот\\n', 'N38\\tReference T62 Wikidata:Q706364\\tарт-директор\\n', 'N48\\tReference T85 Wikidata:Q49542\\tрусские\\n', 'N45\\tReference T68 Wikidata:Q13590141\\tведущий\\n', 'N24\\tReference T42 Wikidata:NULL\\tнет данных\\n', 'N25\\tReference T44 Wikidata:NULL\\tнет данных\\n', 'N27\\tReference T47 Wikidata:NULL\\tнет данных\\n', 'N28\\tReference T48 Wikidata:NULL\\tнет данных\\n', 'N29\\tReference T49 Wikidata:Q4480324\\t\\n', 'N30\\tReference T50 Wikidata:NULL\\tнет данных\\n', 'N31\\tReference T51 Wikidata:NULL\\tнет данных\\n', 'N32\\tReference T53 Wikidata:NULL\\tнет данных\\n', 'N52\\tReference T14 Wikidata:Q2682217\\tЖил-был пёс\\n', 'N53\\tReference T7 Wikidata:Q649\\tМосква\\n', 'N54\\tReference T5 Wikidata:Q2962070\\tхудожник-постановщик\\n', 'N55\\tReference T40 Wikidata:Q732039\\tФёдор Савельевич Хитрук\\n', 'N56\\tReference T78 Wikidata:Q3455803\\tрежиссёр\\n', 'N57\\tReference T10 Wikidata:Q3455803\\tрежиссёр\\n', 'N58\\tReference T67 Wikidata:Q3455803\\tрежиссёр\\n', 'N59\\tReference T41 Wikidata:Q371337\\tНорштейн, Юрий Борисович\\n', 'N60\\tReference T73 Wikidata:Q266569\\tхудожник-мультипликатор\\n', 'N61\\tReference T1 Wikidata:Q4312193\\tЭдуард Васильевич Назаров\\n', 'N62\\tReference T3 Wikidata:Q4312193\\tЭдуард Васильевич Назаров\\n', 'N63\\tReference T15 Wikidata:Q4312193\\tЭдуард Васильевич Назаров\\n', 'N64\\tReference T17 Wikidata:Q4312193\\tЭдуард Васильевич Назаров\\n', 'N65\\tReference T3 Wikidata:Q371337\\tНорштейн, Юрий Борисович\\n', 'N66\\tReference T15 Wikidata:Q371337\\tНорштейн, Юрий Борисович\\n', 'N67\\tReference T16 Wikidata:Q371337\\tНорштейн, Юрий Борисович\\n', 'N68\\tReference T17 Wikidata:Q371337\\tНорштейн, Юрий Борисович\\n', 'T86\\tEVENT 407 414\\tродился\\n', 'R78\\tPARTICIPANT_IN Arg1:T17 Arg2:T86\\t\\n', 'R79\\tPOINT_IN_TIME Arg1:T86 Arg2:T18\\t\\n', 'R80\\tTAKES_PLACE_IN Arg1:T86 Arg2:T19\\t\\n', 'T87\\tEVENT 1679 1689\\tзанял пост\\n', 'R81\\tPARTICIPANT_IN Arg1:T63 Arg2:T87\\t\\n', 'R82\\tPARTICIPANT_IN Arg1:T17 Arg2:T87\\t\\n', 'R83\\tPOINT_IN_TIME Arg1:T87 Arg2:T61\\t\\n', 'T88\\tEVENT 1630 1636\\tсмерти\\n', 'R84\\tINANIMATE_INVOLVED Arg1:T60 Arg2:T88\\t\\n', 'R85\\tHAS_CAUSE Arg1:T87 Arg2:T88\\t\\n']\n",
            "Offset:\n",
            "58\n"
          ]
        }
      ]
    },
    {
      "cell_type": "code",
      "source": [
        "# using annotation, generates a mask that contains 1s in the places corresponding to named entities and 0s otherwise\n",
        "def generate_NE_mask(text, ann, offset):\n",
        "    mask = [0] * len(text)\n",
        "    for line in ann:\n",
        "        if line[0] == 'T': # \"T\" - terms; in annotation, they correspond to named entites\n",
        "            if ';' in line:\n",
        "                line = line.split(';')[0]\n",
        "            start_ind, end_ind = line.split('\\t')[1].split(' ')[1:3]\n",
        "            #named_entity = line.split('\\t')[2].strip()\n",
        "            start_ind = int(start_ind) - offset\n",
        "            end_ind = int(end_ind) - offset\n",
        "            if start_ind >= 0:\n",
        "                for i in range(start_ind, end_ind):\n",
        "                    mask[i] = 1\n",
        "    return mask"
      ],
      "metadata": {
        "id": "RhD_XqKaHDB6"
      },
      "execution_count": null,
      "outputs": []
    },
    {
      "cell_type": "code",
      "source": [
        "mask = generate_NE_mask(text, ann, offset)\n",
        "for i in range(min(len(mask), 250)):\n",
        "    print(mask[i], end='')\n",
        "print()\n",
        "print(text[:min(len(mask), 250)])"
      ],
      "metadata": {
        "colab": {
          "base_uri": "https://localhost:8080/"
        },
        "id": "H4HbwUUNswif",
        "outputId": "41a2bd96-9712-495a-a230-60dd36f52327"
      },
      "execution_count": null,
      "outputs": [
        {
          "output_type": "stream",
          "name": "stdout",
          "text": [
            "0111111111111110111111111111111111111011111111110000000001111110111111111011111111100011111111110111111111111110011111111000111111110011111111111111111111111111111111111100000000000000000000000000000000111111111110011111111111111000111111111111111110\n",
            "\n",
            "Эдуард Назаров\n",
            "11 сентября 2016 года на 75 году жизни в Москве скончался советский и российский мультипликатор, режиссёр и художник, народный артист Российской Федерации, автор известного мультфильма «Жил-был пёс» Эдуард Назаров.\n",
            "\n",
            "Эдуард Васильевич \n"
          ]
        }
      ]
    },
    {
      "cell_type": "code",
      "source": [
        "# splits text into sentences remembering start positions of each one\n",
        "# (relative to text that does not contain name of the article, so, to match the positions in annotation, you need to add offset)\n",
        "def split_text_into_sentences(text):\n",
        "    tokenized_sentences = sent_tokenize(text, language=\"russian\")\n",
        "    sentences = []\n",
        "    sentence_start_positions = []\n",
        "    for i in range(len(tokenized_sentences)):\n",
        "        tokenized_sentences[i] = tokenized_sentences[i].strip()\n",
        "        if len(tokenized_sentences[i]) != 0:\n",
        "            sentences.append(tokenized_sentences[i].replace('\\n', ' '))\n",
        "            sentence_start_positions.append(text.find(tokenized_sentences[i]))\n",
        "    return sentences, sentence_start_positions"
      ],
      "metadata": {
        "id": "oLro7kTQ1hBd"
      },
      "execution_count": null,
      "outputs": []
    },
    {
      "cell_type": "code",
      "source": [
        "sentences, sentence_start_positions = split_text_into_sentences(text)\n",
        "for i in range(len(sentences)):\n",
        "    print(sentence_start_positions[i], sentences[i])"
      ],
      "metadata": {
        "colab": {
          "base_uri": "https://localhost:8080/"
        },
        "id": "MKkdV_out1lw",
        "outputId": "975b8153-5d16-4233-bb56-c2dedf6d0709"
      },
      "execution_count": null,
      "outputs": [
        {
          "output_type": "stream",
          "name": "stdout",
          "text": [
            "1 Эдуард Назаров 11 сентября 2016 года на 75 году жизни в Москве скончался советский и российский мультипликатор, режиссёр и художник, народный артист Российской Федерации, автор известного мультфильма «Жил-был пёс» Эдуард Назаров.\n",
            "232 Эдуард Васильевич он давно болел и имел проблемы с сосудами.\n",
            "294 Время и место похорон пока уточняются.\n",
            "334 Эдуард Назаров родился 23 ноября 1941 года в Москве.\n",
            "387 Закончил Строгановское художественно-промышленное училище.\n",
            "446 Работал в мультипликации с 1959 года сначала прорисовщиком, затем ассистентом художника-постановщика у Михаила Цехановского, художником-постановщиком у Фёдора Хитрука, режиссёром.\n",
            "627 Занимался оформлением книг и журналов: «Квант», «Весёлые картинки», «Мурзилка», «Химия и жизнь», «Знание — сила», «Миша» и других.\n",
            "759 C 1979 по 2000 год преподавал на Высших курсах сценаристов и режиссёров.\n",
            "833 В 1993 году организовал школу-студию мультипликаторов-режиссёров «ШАР» совместно с Андреем Хржановским, Фёдором Хитруком, Юрием Норштейном.\n",
            "974 Соавтор и ведущий телепрограмм «Анимация от А до Я» (1996—98), «Мир анимации или анимации мира» (1999—2001), снимался в документальных сериалах «Союзмультфильм — сказки и были» (серия «Весёлые сказки о грустном», 2003), «Фабрика чудес» (серия «Художник-постановщик», 2006), «Невесомая жизнь» (2006), документальном фильме «Русская магия» (2004).\n",
            "1321 С 1991 года — президент (с Давидом Черкасским) Международного Фестиваля Мультипликационных фильмов «КРОК».\n",
            "1429 Вместе с Юрием Норштейном участвовал в проекте Юрия Красного по созданию мультипликационного фильма на основе рисунков детей-инвалидов.\n",
            "1566 После смерти Александра Татарского в августе 2007 года занял пост художественного директора студии «Пилот».\n"
          ]
        }
      ]
    },
    {
      "cell_type": "code",
      "source": [
        "# splits sentences into words remembering start position of each one (relative to text without the name of article)\n",
        "# gets rid of punctuation and stop words while doing so\n",
        "def split_sentences_into_words(text, sentences, sentence_start_positions):\n",
        "\n",
        "    words = []\n",
        "    words_start_positions = []\n",
        "\n",
        "    for i in range(len(sentences)):\n",
        "        current_words = word_tokenize(sentences[i], language=\"russian\")\n",
        "        stop = set(stopwords.words('russian') + list(string.punctuation))\n",
        "        current_words = [word for word in current_words if word not in stop]\n",
        "\n",
        "        current_piece_of_text = text[sentence_start_positions[i]:]\n",
        "        current_words_start_positions = []\n",
        "        for word in current_words:\n",
        "            current_words_start_positions.append(current_piece_of_text.find(word) + sentence_start_positions[i])\n",
        "        words.append(current_words)\n",
        "        words_start_positions.append(current_words_start_positions)\n",
        "\n",
        "    return words, words_start_positions"
      ],
      "metadata": {
        "id": "R099T_M0d7sm"
      },
      "execution_count": null,
      "outputs": []
    },
    {
      "cell_type": "code",
      "source": [
        "words, words_start_positions = split_sentences_into_words(text, sentences, sentence_start_positions)\n",
        "print(words)\n",
        "print(words_start_positions)"
      ],
      "metadata": {
        "colab": {
          "base_uri": "https://localhost:8080/"
        },
        "id": "-4wcbl9Fu5Gr",
        "outputId": "68441c38-cd5d-4f7d-b694-5f176795faf0"
      },
      "execution_count": null,
      "outputs": [
        {
          "output_type": "stream",
          "name": "stdout",
          "text": [
            "[['Эдуард', 'Назаров', '11', 'сентября', '2016', 'года', '75', 'году', 'жизни', 'Москве', 'скончался', 'советский', 'российский', 'мультипликатор', 'режиссёр', 'художник', 'народный', 'артист', 'Российской', 'Федерации', 'автор', 'известного', 'мультфильма', '«', 'Жил-был', 'пёс', '»', 'Эдуард', 'Назаров'], ['Эдуард', 'Васильевич', 'давно', 'болел', 'имел', 'проблемы', 'сосудами'], ['Время', 'место', 'похорон', 'пока', 'уточняются'], ['Эдуард', 'Назаров', 'родился', '23', 'ноября', '1941', 'года', 'Москве'], ['Закончил', 'Строгановское', 'художественно-промышленное', 'училище'], ['Работал', 'мультипликации', '1959', 'года', 'сначала', 'прорисовщиком', 'затем', 'ассистентом', 'художника-постановщика', 'Михаила', 'Цехановского', 'художником-постановщиком', 'Фёдора', 'Хитрука', 'режиссёром'], ['Занимался', 'оформлением', 'книг', 'журналов', '«', 'Квант', '»', '«', 'Весёлые', 'картинки', '»', '«', 'Мурзилка', '»', '«', 'Химия', 'жизнь', '»', '«', 'Знание', '—', 'сила', '»', '«', 'Миша', '»', 'других'], ['C', '1979', '2000', 'год', 'преподавал', 'Высших', 'курсах', 'сценаристов', 'режиссёров'], ['В', '1993', 'году', 'организовал', 'школу-студию', 'мультипликаторов-режиссёров', '«', 'ШАР', '»', 'совместно', 'Андреем', 'Хржановским', 'Фёдором', 'Хитруком', 'Юрием', 'Норштейном'], ['Соавтор', 'ведущий', 'телепрограмм', '«', 'Анимация', 'А', 'Я', '»', '1996—98', '«', 'Мир', 'анимации', 'анимации', 'мира', '»', '1999—2001', 'снимался', 'документальных', 'сериалах', '«', 'Союзмультфильм', '—', 'сказки', '»', 'серия', '«', 'Весёлые', 'сказки', 'грустном', '»', '2003', '«', 'Фабрика', 'чудес', '»', 'серия', '«', 'Художник-постановщик', '»', '2006', '«', 'Невесомая', 'жизнь', '»', '2006', 'документальном', 'фильме', '«', 'Русская', 'магия', '»', '2004'], ['С', '1991', 'года', '—', 'президент', 'Давидом', 'Черкасским', 'Международного', 'Фестиваля', 'Мультипликационных', 'фильмов', '«', 'КРОК', '»'], ['Вместе', 'Юрием', 'Норштейном', 'участвовал', 'проекте', 'Юрия', 'Красного', 'созданию', 'мультипликационного', 'фильма', 'основе', 'рисунков', 'детей-инвалидов'], ['После', 'смерти', 'Александра', 'Татарского', 'августе', '2007', 'года', 'занял', 'пост', 'художественного', 'директора', 'студии', '«', 'Пилот', '»']]\n",
            "[[1, 8, 16, 19, 28, 33, 41, 44, 49, 57, 64, 74, 86, 97, 113, 124, 134, 143, 150, 161, 172, 178, 189, 201, 202, 210, 213, 1, 8], [232, 239, 253, 259, 267, 272, 283], [294, 302, 308, 316, 321], [334, 341, 349, 357, 360, 367, 372, 379], [387, 396, 410, 437], [446, 456, 473, 478, 483, 491, 506, 512, 524, 549, 557, 571, 598, 605, 614], [627, 637, 649, 656, 666, 667, 672, 666, 676, 684, 672, 666, 696, 672, 666, 708, 716, 672, 666, 725, 732, 734, 672, 666, 742, 672, 750], [759, 761, 769, 774, 778, 792, 799, 806, 820], [833, 835, 840, 845, 857, 870, 898, 899, 902, 904, 916, 924, 937, 945, 955, 961], [974, 984, 992, 1005, 1006, 1006, 1023, 1024, 1027, 1005, 1038, 1042, 1042, 1064, 1024, 1071, 1083, 1094, 1109, 1005, 1119, 1031, 1136, 1024, 1152, 1005, 1159, 1136, 1176, 1024, 1187, 1005, 1195, 1203, 1024, 1152, 1005, 1218, 1024, 1241, 1005, 1249, 1259, 1024, 1241, 1274, 1289, 1005, 1297, 1305, 1024, 1313], [1321, 1323, 1328, 1333, 1335, 1348, 1356, 1368, 1383, 1393, 1412, 1420, 1421, 1425], [1429, 1438, 1444, 1455, 1468, 1476, 1481, 1493, 1502, 1522, 1532, 1539, 1548], [1566, 1572, 1579, 1590, 1603, 1611, 1616, 1621, 1627, 1632, 1648, 1658, 1665, 1666, 1671]]\n"
          ]
        }
      ]
    },
    {
      "cell_type": "code",
      "source": [
        "word_frequencies = pd.read_csv('/content/drive/My Drive/freqrnc2011.csv', sep='\\t', index_col='Lemma')\n",
        "\n",
        "len_threshold = 7\n",
        "frequency_threshold = 1/31\n",
        "\n",
        "def word_complexity(word, method):\n",
        "    if method == \"len\":\n",
        "        return len(word)\n",
        "    if method == \"frequency\":\n",
        "        if word in word_frequencies.index:\n",
        "            word_frequency = word_frequencies.loc[word]['Freq(ipm)']\n",
        "            if isinstance(word_frequency, pd.core.series.Series):\n",
        "                word_frequency = max(word_frequency)\n",
        "            return 1/word_frequency\n",
        "        else:\n",
        "            return 1/(frequency_threshold - 1)\n",
        "#            return 15/word_frequency + len(word)/14\n",
        "#        else:\n",
        "#            return len(word)/7"
      ],
      "metadata": {
        "id": "vpCnjnYmGDAu"
      },
      "execution_count": null,
      "outputs": []
    },
    {
      "cell_type": "code",
      "source": [
        "def get_normal_form(word):\n",
        "    return morph.parse(word)[0].normal_form"
      ],
      "metadata": {
        "id": "W9DPeBUt6DsZ"
      },
      "execution_count": null,
      "outputs": []
    },
    {
      "cell_type": "code",
      "source": [
        "bert_simplifier = pipeline(\"fill-mask\", model=\"bert-base-multilingual-cased\")\n",
        "\n",
        "def bert_model(initial_sentence, masked_word, word_start_position_in_initial_sentence, complexity_method):\n",
        "    masked_sentence = initial_sentence[:word_start_position_in_initial_sentence] + \"[MASK]\" + initial_sentence[word_start_position_in_initial_sentence + len(masked_word):]\n",
        "    results = bert_simplifier(masked_sentence)\n",
        "    for result in results:\n",
        "        suggested_word = result['token_str']\n",
        "        if word_complexity(get_normal_form(suggested_word), complexity_method) < word_complexity(masked_word, complexity_method):\n",
        "            return suggested_word\n",
        "    return masked_word "
      ],
      "metadata": {
        "id": "3VhrLCOPmFPW",
        "colab": {
          "base_uri": "https://localhost:8080/"
        },
        "outputId": "c13b57c7-76f8-4da7-a4d0-4dcac68fe709"
      },
      "execution_count": null,
      "outputs": [
        {
          "output_type": "stream",
          "name": "stderr",
          "text": [
            "Some weights of the model checkpoint at bert-base-multilingual-cased were not used when initializing BertForMaskedLM: ['cls.seq_relationship.bias', 'cls.seq_relationship.weight']\n",
            "- This IS expected if you are initializing BertForMaskedLM from the checkpoint of a model trained on another task or with another architecture (e.g. initializing a BertForSequenceClassification model from a BertForPreTraining model).\n",
            "- This IS NOT expected if you are initializing BertForMaskedLM from the checkpoint of a model that you expect to be exactly identical (initializing a BertForSequenceClassification model from a BertForSequenceClassification model).\n"
          ]
        }
      ]
    },
    {
      "cell_type": "code",
      "source": [
        "def get_synonyms(word):\n",
        "    url = 'https://dictionary.yandex.net/api/v1/dicservice.json/lookup'\n",
        "    params = {\n",
        "        'key': 'dict.1.1.20230528T133010Z.158a1e5336183ca0.4e03e68250b1dfaa01b77acbf3439b0e45d1a614',\n",
        "        'lang': 'ru-ru',\n",
        "        'text': word\n",
        "    }\n",
        "    response = requests.get(url, params=params)\n",
        "    data = json.loads(response.text)\n",
        "    try:\n",
        "        synonyms_list = []\n",
        "        for i in data['def'][0]['tr']:\n",
        "            for j in i['syn']:\n",
        "                synonyms_list.append(j['text'])\n",
        "            synonyms_list.append(i['text'])\n",
        "        return synonyms_list\n",
        "    except:\n",
        "        return []"
      ],
      "metadata": {
        "id": "No9gCzS2Lppa"
      },
      "execution_count": null,
      "outputs": []
    },
    {
      "cell_type": "code",
      "source": [
        "def get_declension(word):\n",
        "    p = morph.parse(word)[0]\n",
        "    tags = set()\n",
        "    for tag in {p.tag.case, p.tag.gender, p.tag.number, p.tag.tense, p.tag.person, p.tag.aspect, p.tag.involvement, p.tag.mood, p.tag.voice}:\n",
        "        if tag != None:\n",
        "            tags.add(tag)\n",
        "    return tags"
      ],
      "metadata": {
        "id": "9ByDwh1naNXR"
      },
      "execution_count": null,
      "outputs": []
    },
    {
      "cell_type": "code",
      "source": [
        "get_declension(\"красноречивый\")"
      ],
      "metadata": {
        "colab": {
          "base_uri": "https://localhost:8080/"
        },
        "id": "wZlxSjFMJZFU",
        "outputId": "aba68971-548e-425f-9f88-71367a499be5"
      },
      "execution_count": null,
      "outputs": [
        {
          "output_type": "execute_result",
          "data": {
            "text/plain": [
              "{'masc', 'nomn', 'sing'}"
            ]
          },
          "metadata": {},
          "execution_count": 24
        }
      ]
    },
    {
      "cell_type": "code",
      "source": [
        "def decline(word, tags):\n",
        "    p = morph.parse(word)[0]\n",
        "    for tag in tags:\n",
        "        if p.inflect({tag}) != None:\n",
        "            p = p.inflect({tag})\n",
        "    return p.word"
      ],
      "metadata": {
        "id": "aOY-TT3ceZ70"
      },
      "execution_count": null,
      "outputs": []
    },
    {
      "cell_type": "code",
      "source": [
        "def synonym_model(word, complexity_method):\n",
        "    declension = get_declension(word)\n",
        "    normalized_word = get_normal_form(word)\n",
        "    synonyms = get_synonyms(normalized_word)\n",
        "    result = word\n",
        "    for synonym in synonyms:\n",
        "        if word_complexity(synonym, complexity_method) < word_complexity(result, complexity_method):\n",
        "            result = synonym\n",
        "    result = decline(result, declension)\n",
        "    if word[0].isupper():\n",
        "        result = result.capitalize()\n",
        "    return result"
      ],
      "metadata": {
        "id": "8688XPB0Pt29"
      },
      "execution_count": null,
      "outputs": []
    },
    {
      "cell_type": "code",
      "source": [
        "synonym_model(\"апробации\", \"frequency\")"
      ],
      "metadata": {
        "colab": {
          "base_uri": "https://localhost:8080/",
          "height": 36
        },
        "id": "Xb7yfzGeUxZ-",
        "outputId": "cfa97752-9d82-4035-8fcd-84229a16390e"
      },
      "execution_count": null,
      "outputs": [
        {
          "output_type": "execute_result",
          "data": {
            "text/plain": [
              "'апробации'"
            ],
            "application/vnd.google.colaboratory.intrinsic+json": {
              "type": "string"
            }
          },
          "metadata": {},
          "execution_count": 27
        }
      ]
    },
    {
      "cell_type": "code",
      "source": [
        "simple_dir = '/content/drive/My Drive/simplifications'\n",
        "if not os.path.exists(os.path.join(simple_dir, 'original')):\n",
        "    os.makedirs(os.path.join(simple_dir, 'original'))\n",
        "\n",
        "def write_list_to_file(list, path): # path where the file is located\n",
        "    with open(path, 'w') as f:\n",
        "        for item in list:\n",
        "            f.write(\"%s\\n\" % item)\n",
        "\n",
        "def read_list_from_file(path):\n",
        "    with open(path) as f:\n",
        "        sentences = f.readlines()\n",
        "    return sentences"
      ],
      "metadata": {
        "id": "CRzr6BppIW2q"
      },
      "execution_count": null,
      "outputs": []
    },
    {
      "cell_type": "code",
      "source": [
        "def simplify(text_location, model, complexity_method):\n",
        "\n",
        "    text, ann, offset = read_text(text_location)\n",
        "    mask = generate_NE_mask(text, ann, offset)\n",
        "    sentences, sentence_start_positions = split_text_into_sentences(text)\n",
        "    words, words_start_positions = split_sentences_into_words(text, sentences, sentence_start_positions)\n",
        "\n",
        "    file_name = text_location.split('/')[-1]\n",
        "    if not os.path.exists(os.path.join(simple_dir, 'original', file_name)):\n",
        "        write_list_to_file(sentences, os.path.join(simple_dir, 'original', file_name))\n",
        "    simplified_sentences = []\n",
        "    \n",
        "    for sentence_ind in range(len(sentences)):\n",
        "        if model == \"baseline\":\n",
        "            simplified_sentence = base_model(sentences[sentence_ind])\n",
        "        else:\n",
        "            simplified_sentence = sentences[sentence_ind]\n",
        "            words_start_positions_in_simplified_sentence = words_start_positions[sentence_ind][:]\n",
        "            for word_ind in range(len(words[sentence_ind])):\n",
        "                words_start_positions_in_simplified_sentence[word_ind] -= sentence_start_positions[sentence_ind]\n",
        "\n",
        "            for word_ind in range(len(words[sentence_ind])):\n",
        "                current_word = words[sentence_ind][word_ind]\n",
        "                if mask[words_start_positions[sentence_ind][word_ind]] == 0: # if the current word is not part of a named entity\n",
        "                    normalized_current_word = get_normal_form(current_word)\n",
        "                    if complexity_method == \"len\":\n",
        "                        threshold = len_threshold\n",
        "                    else:\n",
        "                        threshold = frequency_threshold\n",
        "                    if word_complexity(normalized_current_word, complexity_method) > threshold:\n",
        "                        current_word_start_position_in_initial_sentence = words_start_positions[sentence_ind][word_ind] - sentence_start_positions[sentence_ind]\n",
        "                        current_word_start_position_in_simplified_sentence = words_start_positions_in_simplified_sentence[word_ind]\n",
        "                        #print(current_word)\n",
        "                        suggested_word = current_word\n",
        "                        if model == \"bert\":\n",
        "                            suggested_word = bert_model(sentences[sentence_ind], current_word, current_word_start_position_in_initial_sentence, complexity_method)\n",
        "                        elif model == \"synonym\":\n",
        "                            suggested_word = synonym_model(current_word, complexity_method)\n",
        "\n",
        "                        #print(suggested_word)\n",
        "                        simplified_sentence = simplified_sentence[:current_word_start_position_in_simplified_sentence] + suggested_word + simplified_sentence[current_word_start_position_in_simplified_sentence + len(current_word):]\n",
        "                        simplification_offset = len(suggested_word) - len(current_word)\n",
        "\n",
        "                        for new_word_ind in range(word_ind + 1, len(words[sentence_ind])):\n",
        "                            words_start_positions_in_simplified_sentence[new_word_ind] += simplification_offset\n",
        "\n",
        "        simplified_sentences.append(simplified_sentence)\n",
        "        print(sentences[sentence_ind])\n",
        "        print(simplified_sentence)\n",
        "        print()\n",
        "\n",
        "    return simplified_sentences"
      ],
      "metadata": {
        "id": "J8Q5bKENiGMl"
      },
      "execution_count": null,
      "outputs": []
    },
    {
      "cell_type": "code",
      "source": [
        "print(simplify(text_location=\"/tmp/NEREL-master/NEREL-v1.1/train/023.txt\", model=\"synonym\", complexity_method=\"len\"))"
      ],
      "metadata": {
        "id": "QI8lXX5zuOKu",
        "colab": {
          "base_uri": "https://localhost:8080/"
        },
        "outputId": "e09f3737-1ac3-4795-fff5-47cd5b7e41bd"
      },
      "execution_count": null,
      "outputs": [
        {
          "output_type": "stream",
          "name": "stdout",
          "text": [
            "Финансовым директором социальной сети Facebook назначен 39-летний Дэвид Эберсман (David Ebersman), сообщает The Wall Street Journal.\n",
            "Финансовым директором светской сети Facebook назначен 39-летний Дэвид Эберсман (David Ebersman), пишет The Wall Street Journal.\n",
            "\n",
            "На работу в Facebook он выйдет в сентябре.\n",
            "На работу в Facebook он выйдет в сентябре.\n",
            "\n",
            "Ранее Эберсман был финансовым директором биотехнологической компании Genentech.\n",
            "Ранее Эберсман был финансовым директором биотехнологической компании Genentech.\n",
            "\n",
            "Эберсман подчеркнул, что видит много общего между Facebook и Genentech.\n",
            "Эберсман указал, что видит много общего между Facebook и Genentech.\n",
            "\n",
            "В частности, это две быстрорастущие компании с сильной корпоративной культурой.\n",
            "В частности, это две быстрорастущие компании с сильной общей культурой.\n",
            "\n",
            "Также он заявил, что Facebook ожидает 70-процентное увеличение выручки в 2009 году.\n",
            "Также он заявил, что Facebook ожидает 70-процентное увеличение выручки в 2009 году.\n",
            "\n",
            "В компании Genentech Дэвид Эберсман проработал 15 лет.\n",
            "В компании Genentech Дэвид Эберсман прошёл 15 лет.\n",
            "\n",
            "Ее финансовым директором он стал в 2006 году.\n",
            "Ее финансовым директором он стал в 2006 году.\n",
            "\n",
            "На этой должности Эберсман проработал до апреля 2009 года, когда Roche Holding купил Genentech.\n",
            "На этой должности Эберсман прошёл до апреля 2009 года, когда Roche Holding купил Genentech.\n",
            "\n",
            "По данным The Wall Street Journal, на должность финансового директора Facebook претендовали 11 кандидатов.\n",
            "По данным The Wall Street Journal, на должность финансового директора Facebook обижались 11 соперников.\n",
            "\n",
            "Каждый из них прошел собеседование с основателем Facebook Марком Цукербергом (Mark Zuckerberg) и другими руководителями компании.\n",
            "Каждый из них прошел спор с отцом Facebook Марком Цукербергом (Mark Zuckerberg) и другими руководителями компании.\n",
            "\n",
            "Ранее финансовым директором Facebook был Гидеон Ю (Gideon Yu).\n",
            "Ранее финансовым директором Facebook был Гидеон Ю (Gideon Yu).\n",
            "\n",
            "Он покинул компанию три месяца назад.\n",
            "Он покинул компанию три месяца назад.\n",
            "\n",
            "Вместо него социальная сеть решила нанять топ-менеджера с опытом работы в публичной компании.\n",
            "Вместо него светская сеть решила нанять топ-менеджера с опытом работы в публичной компании.\n",
            "\n",
            "Facebook является крупнейшей западной социальной сетью.\n",
            "Facebook есть крупнейшей западной светской сетью.\n",
            "\n",
            "За пять лет существования этого проекта его аудитория превысила 200 миллионов человек.\n",
            "За пять лет века этого проекта его зал перешла 200 миллионов человек.\n",
            "\n",
            "['Финансовым директором светской сети Facebook назначен 39-летний Дэвид Эберсман (David Ebersman), пишет The Wall Street Journal.', 'На работу в Facebook он выйдет в сентябре.', 'Ранее Эберсман был финансовым директором биотехнологической компании Genentech.', 'Эберсман указал, что видит много общего между Facebook и Genentech.', 'В частности, это две быстрорастущие компании с сильной общей культурой.', 'Также он заявил, что Facebook ожидает 70-процентное увеличение выручки в 2009 году.', 'В компании Genentech Дэвид Эберсман прошёл 15 лет.', 'Ее финансовым директором он стал в 2006 году.', 'На этой должности Эберсман прошёл до апреля 2009 года, когда Roche Holding купил Genentech.', 'По данным The Wall Street Journal, на должность финансового директора Facebook обижались 11 соперников.', 'Каждый из них прошел спор с отцом Facebook Марком Цукербергом (Mark Zuckerberg) и другими руководителями компании.', 'Ранее финансовым директором Facebook был Гидеон Ю (Gideon Yu).', 'Он покинул компанию три месяца назад.', 'Вместо него светская сеть решила нанять топ-менеджера с опытом работы в публичной компании.', 'Facebook есть крупнейшей западной светской сетью.', 'За пять лет века этого проекта его зал перешла 200 миллионов человек.']\n"
          ]
        }
      ]
    },
    {
      "cell_type": "markdown",
      "source": [
        "#Assessment"
      ],
      "metadata": {
        "id": "PxYfwi8Thk2M"
      }
    },
    {
      "cell_type": "code",
      "source": [
        "def generate_simplifications(file_list, models):\n",
        "    ind = 1\n",
        "    for file_name in file_list:\n",
        "        for model, complexity_method in models:\n",
        "            print(ind, model, complexity_method)\n",
        "            file_path = os.path.join(dataset_dir, file_name)\n",
        "            if os.path.isfile(file_path):\n",
        "                simplified_sentences = simplify(file_path, model, complexity_method)\n",
        "                if not os.path.exists(os.path.join(simple_dir, model, complexity_method)):\n",
        "                    os.makedirs(os.path.join(simple_dir, model, complexity_method))\n",
        "                write_list_to_file(simplified_sentences, os.path.join(simple_dir, model, complexity_method, file_name))\n",
        "            print()\n",
        "        ind += 1"
      ],
      "metadata": {
        "id": "qcUdSulIk8kt"
      },
      "execution_count": null,
      "outputs": []
    },
    {
      "cell_type": "code",
      "source": [
        "dataset_dir = \"/tmp/NEREL-master/NEREL-v1.1/train/\"\n",
        "file_list = os.listdir(dataset_dir)\n",
        "txt_file_list = [file_name for file_name in file_list if file_name.endswith(\".txt\")]\n",
        "random.shuffle(txt_file_list)\n",
        "\n",
        "simple_dir = '/content/drive/My Drive/simplifications'\n",
        "\n",
        "if not os.path.exists(os.path.join(simple_dir, 'original')):\n",
        "    os.makedirs(os.path.join(simple_dir, 'original'))\n",
        "\n",
        "models = [(\"baseline\", \"\"), (\"bert\", \"len\"), (\"bert\", \"frequency\"), (\"synonym\", \"len\"), (\"synonym\", \"frequency\")]"
      ],
      "metadata": {
        "id": "Gha4H8pjBsfG"
      },
      "execution_count": null,
      "outputs": []
    },
    {
      "cell_type": "code",
      "source": [
        "write_list_to_file(txt_file_list, os.path.join(simple_dir, 'file_list.txt'))"
      ],
      "metadata": {
        "id": "4gt8lOma76c5"
      },
      "execution_count": null,
      "outputs": []
    },
    {
      "cell_type": "code",
      "source": [
        "# generating simplifications for random 20 files from the dataset using baseline model\n",
        "base_sample_size = 20 #20\n",
        "base_sample_file_list = txt_file_list[:base_sample_size]\n",
        "print(base_sample_file_list)\n",
        "\n",
        "generate_simplifications(base_sample_file_list, models[:1]) #[(\"baseline\", \"\")]"
      ],
      "metadata": {
        "colab": {
          "base_uri": "https://localhost:8080/"
        },
        "id": "BYTobx2AnJkD",
        "outputId": "caf479cf-a689-45c5-d81f-6d95145e41c2"
      },
      "execution_count": null,
      "outputs": [
        {
          "output_type": "stream",
          "name": "stderr",
          "text": [
            "Setting `pad_token_id` to `eos_token_id`:50256 for open-end generation.\n"
          ]
        },
        {
          "output_type": "stream",
          "name": "stdout",
          "text": [
            "['114858_text.txt', '505701_text.txt', '3948_text.txt', '117464_text.txt', '24989_text.txt', '55256_text.txt', '109586_text.txt', '15371_text.txt', '121454_text.txt', '506305_text.txt', '25455_text.txt', '28090_text.txt', '12146_text.txt', '141181_text.txt', '131643_text.txt', '139852_text.txt', '132624_text.txt', '527071_text.txt', '99993_text.txt', '037.txt']\n",
            "1 baseline \n"
          ]
        },
        {
          "output_type": "stream",
          "name": "stderr",
          "text": [
            "Setting `pad_token_id` to `eos_token_id`:50256 for open-end generation.\n"
          ]
        },
        {
          "output_type": "stream",
          "name": "stdout",
          "text": [
            "Федеральный закон от 03.04.2017 № 53-ФЗ 3 апреля 2017 года Президент России Владимир Путин подписал закон о ратификации соглашения между Россией и Южной Осетией о повышении пенсий российским гражданам, постоянно проживающим в республике.\n",
            "3 апреля 2017 года Президент России Владимир Путин подписал закон о ратификации соглашения между Россией и Южной Осетией о повышении пенсий.\n",
            "\n"
          ]
        },
        {
          "output_type": "stream",
          "name": "stderr",
          "text": [
            "Setting `pad_token_id` to `eos_token_id`:50256 for open-end generation.\n"
          ]
        },
        {
          "output_type": "stream",
          "name": "stdout",
          "text": [
            "Документ был опубликован на официальном интернет-портале правовой информации 4 апреля 2017 года.\n",
            "Документ был опубликован на официальном сайте правовой информации 4 апреля.\n",
            "\n"
          ]
        },
        {
          "output_type": "stream",
          "name": "stderr",
          "text": [
            "Setting `pad_token_id` to `eos_token_id`:50256 for open-end generation.\n",
            "Input length of input_ids is 160, but `max_length` is set to 160. This can lead to unexpected behavior. You should consider increasing `max_new_tokens`.\n",
            "Setting `pad_token_id` to `eos_token_id`:50256 for open-end generation.\n",
            "Input length of input_ids is 161, but `max_length` is set to 160. This can lead to unexpected behavior. You should consider increasing `max_new_tokens`.\n",
            "Setting `pad_token_id` to `eos_token_id`:50256 for open-end generation.\n",
            "Input length of input_ids is 162, but `max_length` is set to 160. This can lead to unexpected behavior. You should consider increasing `max_new_tokens`.\n",
            "Setting `pad_token_id` to `eos_token_id`:50256 for open-end generation.\n",
            "Input length of input_ids is 163, but `max_length` is set to 160. This can lead to unexpected behavior. You should consider increasing `max_new_tokens`.\n",
            "Setting `pad_token_id` to `eos_token_id`:50256 for open-end generation.\n",
            "Input length of input_ids is 164, but `max_length` is set to 160. This can lead to unexpected behavior. You should consider increasing `max_new_tokens`.\n",
            "Setting `pad_token_id` to `eos_token_id`:50256 for open-end generation.\n",
            "Input length of input_ids is 165, but `max_length` is set to 160. This can lead to unexpected behavior. You should consider increasing `max_new_tokens`.\n",
            "Setting `pad_token_id` to `eos_token_id`:50256 for open-end generation.\n",
            "Input length of input_ids is 166, but `max_length` is set to 160. This can lead to unexpected behavior. You should consider increasing `max_new_tokens`.\n",
            "Setting `pad_token_id` to `eos_token_id`:50256 for open-end generation.\n",
            "Input length of input_ids is 167, but `max_length` is set to 160. This can lead to unexpected behavior. You should consider increasing `max_new_tokens`.\n",
            "Setting `pad_token_id` to `eos_token_id`:50256 for open-end generation.\n"
          ]
        },
        {
          "output_type": "stream",
          "name": "stdout",
          "text": [
            "Согласно Федеральному Закону «О ратификации межправительственного соглашения между Россией и Южной Осетией о выплате страховых пенсий гражданам РФ, проживающим на территории РЮО», если размер общей суммы пенсионного обеспечения гражданина не достигает среднего уровня пенсионного обеспечения в Северо-Кавказском федеральном округе (СКФО), то такому гражданину будет производиться ежемесячная доплата к пенсии поэтапно в течение двух лет.\n",
            "Согласно Федеральному Закону «О ратификации межправительственного соглашения между Россией и Южной Осетией о выплате страховых пенсий гражданам РФ, проживающим на территории РЮО», если размер общей суммы пенсии гражданина не достигает среднего уровня пенсии в Северо-Кавказском федеральном округе (СКФО), то такому человеку будет выплачиваться ежемесячная доплата к пенсии поэтапно в течение двух лет.\n",
            "\n"
          ]
        },
        {
          "output_type": "stream",
          "name": "stderr",
          "text": [
            "Setting `pad_token_id` to `eos_token_id`:50256 for open-end generation.\n"
          ]
        },
        {
          "output_type": "stream",
          "name": "stdout",
          "text": [
            "Сначала с 1 января 2016 года — 18 % назначенной общей суммы пенсионного обеспечения, а потом с 1 апреля 2017 года — 18,8 % назначенной общей суммы пенсионного обеспечения.\n",
            "Сначала с 1 января 2016 года пенсионное обеспечение составляло 18,8% от общей суммы пенсии, а с 1 апреля 2017 года - 18,8%.\n",
            "\n"
          ]
        },
        {
          "output_type": "stream",
          "name": "stderr",
          "text": [
            "Setting `pad_token_id` to `eos_token_id`:50256 for open-end generation.\n"
          ]
        },
        {
          "output_type": "stream",
          "name": "stdout",
          "text": [
            "Исключение составят те, кто имеет постоянную регистрацию на территории РФ.\n",
            "Исключение составят те, кто постоянно проживает в России.\n",
            "\n"
          ]
        },
        {
          "output_type": "stream",
          "name": "stderr",
          "text": [
            "Setting `pad_token_id` to `eos_token_id`:50256 for open-end generation.\n"
          ]
        },
        {
          "output_type": "stream",
          "name": "stdout",
          "text": [
            "По состоянию на 1 января 2016 года средний размер пенсии в СКФО составляет , а средний размер страховой пенсии, которая выплачивается россиянам на территории Южной Осетии — 7370 рублей.\n",
            "Средний размер пенсии в Северной Осетии составляет 7370 рублей.\n",
            "\n"
          ]
        },
        {
          "output_type": "stream",
          "name": "stderr",
          "text": [
            "Setting `pad_token_id` to `eos_token_id`:50256 for open-end generation.\n"
          ]
        },
        {
          "output_type": "stream",
          "name": "stdout",
          "text": [
            "Соответственно, средний размер доплаты составит в 2016 году 854 рубля, в 2017 году — 1809 рублей, в 2018 году — 2007 рублей и в 2019 году — 2318 рублей.\n",
            "Средний размер доплаты в 2016 году составит 854 рубля, в 2017 году - 1809 рублей, в 2018 году - 2007 рублей и в 2019 году - 2318 рублей.\n",
            "\n"
          ]
        },
        {
          "output_type": "stream",
          "name": "stderr",
          "text": [
            "Setting `pad_token_id` to `eos_token_id`:50256 for open-end generation.\n"
          ]
        },
        {
          "output_type": "stream",
          "name": "stdout",
          "text": [
            "Требование о доведении уровня пенсионного обеспечения до среднего размера пенсии по СКФО содержится в договоре между Россией и Южной Осетией о союзничестве и интеграции, заключённом в Москве в июне 2015 года.\n",
            "Договор о союзе и интеграции между Россией и Южной Осетией, подписанный в Москве в июне 2015 года, гласит, что пенсии будут выплачиваться в размере среднего размера пенсии по стране.\n",
            "\n",
            "\n",
            "2 baseline \n"
          ]
        },
        {
          "output_type": "stream",
          "name": "stderr",
          "text": [
            "Setting `pad_token_id` to `eos_token_id`:50256 for open-end generation.\n"
          ]
        },
        {
          "output_type": "stream",
          "name": "stdout",
          "text": [
            "Геликон-опера на Большой Никитской 4 сентября прошёл торжественный сбор труппы московской «Геликон-оперы», приуроченный к грядущему тридцатилетнему юбилея театра.\n",
            "Геликон-опера на Большой Никитской 4 сентября прошла торжественный сбор труппы.\n",
            "\n"
          ]
        },
        {
          "output_type": "stream",
          "name": "stderr",
          "text": [
            "Setting `pad_token_id` to `eos_token_id`:50256 for open-end generation.\n"
          ]
        },
        {
          "output_type": "stream",
          "name": "stdout",
          "text": [
            "Художественный руководитель «Геликона» Дмитрий Бертман, общаясь с коллегами по Skype из Токио (режиссёр ставит сейчас в Национальной опере Японии «Евгения Онегина»), анонсировал пять премьер, которые ожидают зрителей в ближайшие месяцы.\n",
            "Художник Дмитрий Бертман, общаясь с коллегами по Skype из Токио, анонсировал пять премьер, которые ждут зрителей в ближайшие месяцы.\n",
            "\n"
          ]
        },
        {
          "output_type": "stream",
          "name": "stderr",
          "text": [
            "Setting `pad_token_id` to `eos_token_id`:50256 for open-end generation.\n"
          ]
        },
        {
          "output_type": "stream",
          "name": "stdout",
          "text": [
            "Так, уже 25 сентября пройдет российская премьера музыкального спектакля «Мистер Георг Отс» (режиссёр — Дмитрий Бертман), посвященного столетию знаменитого певца (мировая премьера состоялась в июле в Эстонии.\n",
            "25 сентября в России будет показан музыкальный спектакль «Мистер Георг Отс» (режиссер Дмитрий Бертман).\n",
            "\n"
          ]
        },
        {
          "output_type": "stream",
          "name": "stderr",
          "text": [
            "Setting `pad_token_id` to `eos_token_id`:50256 for open-end generation.\n"
          ]
        },
        {
          "output_type": "stream",
          "name": "stdout",
          "text": [
            "А самую масштабную премьеру сезона, знаменитый шедевр Джузеппе Верди, зрители, по словам Бертмана, увидят в октябре:  22 октября в театре состоится главная премьера «Травиата» Верди, где я буду режиссёром.\n",
            "22 октября в театре состоится премьера «Травиаты» Верди, где я буду режиссером.\n",
            "\n"
          ]
        },
        {
          "output_type": "stream",
          "name": "stderr",
          "text": [
            "Setting `pad_token_id` to `eos_token_id`:50256 for open-end generation.\n"
          ]
        },
        {
          "output_type": "stream",
          "name": "stdout",
          "text": [
            "Я думаю, это будет очень красивый спектакль, который надолго войдет в наш репертуар.\n",
            "Я думаю, это будет очень красивый спектакль, который надолго войдет в наш репертуар.\n",
            "\n"
          ]
        },
        {
          "output_type": "stream",
          "name": "stderr",
          "text": [
            "Setting `pad_token_id` to `eos_token_id`:50256 for open-end generation.\n"
          ]
        },
        {
          "output_type": "stream",
          "name": "stdout",
          "text": [
            "В конце декабря, во время школьных каникул, младшему поколению театралов будет представлена премьера спектакля «Снежная королева.\n",
            "В конце декабря, во время школьных каникул, состоится премьера спектакля «Снежная королева».\n",
            "\n"
          ]
        },
        {
          "output_type": "stream",
          "name": "stderr",
          "text": [
            "Setting `pad_token_id` to `eos_token_id`:50256 for open-end generation.\n"
          ]
        },
        {
          "output_type": "stream",
          "name": "stdout",
          "text": [
            "Глобальное потепление» (режиссер Илья Ильин): своего рода продолжение истории про Кая и Герду.\n",
            "Глобальное потепление: своего рода продолжение истории про Кая и Герду.\n",
            "\n"
          ]
        },
        {
          "output_type": "stream",
          "name": "stderr",
          "text": [
            "Setting `pad_token_id` to `eos_token_id`:50256 for open-end generation.\n"
          ]
        },
        {
          "output_type": "stream",
          "name": "stdout",
          "text": [
            "Ещё две премьеры пройдут в «Геликон-опере» уже в феврале будущего года.\n",
            "В феврале будущего года в «Геликон-опере» состоится премьера «Елены».\n",
            "\n"
          ]
        },
        {
          "output_type": "stream",
          "name": "stderr",
          "text": [
            "Setting `pad_token_id` to `eos_token_id`:50256 for open-end generation.\n"
          ]
        },
        {
          "output_type": "stream",
          "name": "stdout",
          "text": [
            "2 февраля увидит свет спектакль в жанре «буфф-нуар» «Туда и обратно» (постановка Дмитрия Бикбаева).\n",
            "2 февраля - премьера спектакля в жанре «буфф-нуар» «Туда и обратно» (постановка Дмитрия Бикбаева).\n",
            "\n"
          ]
        },
        {
          "output_type": "stream",
          "name": "stderr",
          "text": [
            "Setting `pad_token_id` to `eos_token_id`:50256 for open-end generation.\n"
          ]
        },
        {
          "output_type": "stream",
          "name": "stdout",
          "text": [
            "А спустя еще десять дней, обещает Бертман, зрителям продемонстрируют ещё одно яркое зрелище: 12 февраля 2020 года мы представим семейный спектакль — оперу «Золушка», которую написал Леонид Вайнштейн, ученик советского композитор Кары Караева — это фантастическая сказка, яркий костюмный спектакль.\n",
            "12 февраля 2020 года мы представим семейный спектакль — оперу «Золушка», которую написал Леонид Вайнштейн.\n",
            "\n",
            "\n",
            "3 baseline \n"
          ]
        },
        {
          "output_type": "stream",
          "name": "stderr",
          "text": [
            "Setting `pad_token_id` to `eos_token_id`:50256 for open-end generation.\n"
          ]
        },
        {
          "output_type": "stream",
          "name": "stdout",
          "text": [
            "Перезахоронение Эдгара По 17 ноября 1875 года.\n",
            "Перезахоронение Эдгара По 17 ноября 1875 года.\n",
            "\n"
          ]
        },
        {
          "output_type": "stream",
          "name": "stderr",
          "text": [
            "Setting `pad_token_id` to `eos_token_id`:50256 for open-end generation.\n"
          ]
        },
        {
          "output_type": "stream",
          "name": "stdout",
          "text": [
            "Каждые год, вот уже в течение 58 лет, в день рождения  Эдгара По (19 января) его могилу посещает неизвестный и оставляет на могиле полбутылки коньяку и три красные розы.\n",
            "Каждый год, вот уже в течение 58 лет, в день рождения Эдгара По (19 января) его могилу посещают неизвестный и оставляют на могиле полбутылки коньяку и три красные розы.\n",
            "\n"
          ]
        },
        {
          "output_type": "stream",
          "name": "stderr",
          "text": [
            "Setting `pad_token_id` to `eos_token_id`:50256 for open-end generation.\n"
          ]
        },
        {
          "output_type": "stream",
          "name": "stdout",
          "text": [
            "Никто не знает этого человека.\n",
            "Никто не знает этого человека.\n",
            "\n"
          ]
        },
        {
          "output_type": "stream",
          "name": "stderr",
          "text": [
            "Setting `pad_token_id` to `eos_token_id`:50256 for open-end generation.\n"
          ]
        },
        {
          "output_type": "stream",
          "name": "stdout",
          "text": [
            "Хотя и предпринимались попытки его узнать.\n",
            "Хотя и предпринимались попытки его узнать, он не был известен.\n",
            "\n"
          ]
        },
        {
          "output_type": "stream",
          "name": "stderr",
          "text": [
            "Setting `pad_token_id` to `eos_token_id`:50256 for open-end generation.\n"
          ]
        },
        {
          "output_type": "stream",
          "name": "stdout",
          "text": [
            "Это похоже на какую-то детективную историю: в этом году к могиле Эдгара По в Балтиморе вновь приходил неизвестный.\n",
            "В этом году к могиле Эдгара По в Балтиморе вновь приходил неизвестный.\n",
            "\n"
          ]
        },
        {
          "output_type": "stream",
          "name": "stderr",
          "text": [
            "Setting `pad_token_id` to `eos_token_id`:50256 for open-end generation.\n"
          ]
        },
        {
          "output_type": "stream",
          "name": "stdout",
          "text": [
            "И, как всегда, он оставил на могиле наполовину полную бутылку коньяка и три красные розы.\n",
            "И, как всегда, оставил на могиле наполовину полную бутылку коньяку и три красные розы.\n",
            "\n"
          ]
        },
        {
          "output_type": "stream",
          "name": "stderr",
          "text": [
            "Setting `pad_token_id` to `eos_token_id`:50256 for open-end generation.\n"
          ]
        },
        {
          "output_type": "stream",
          "name": "stdout",
          "text": [
            "Это повторяется с 19 января 1949 года, уже 58 лет.\n",
            "Это повторяется с 19 января 1949 года, уже 58 лет.\n",
            "\n"
          ]
        },
        {
          "output_type": "stream",
          "name": "stderr",
          "text": [
            "Setting `pad_token_id` to `eos_token_id`:50256 for open-end generation.\n"
          ]
        },
        {
          "output_type": "stream",
          "name": "stdout",
          "text": [
            "Как сообщает куратор музея По в Балтиморе Джефф Джером (Jeff Jerome), в этом году, 19 января, могилу По посетили 55 любопытных.\n",
            "В этом году, 19 января, могилу По посетили 55 человек.\n",
            "\n"
          ]
        },
        {
          "output_type": "stream",
          "name": "stderr",
          "text": [
            "Setting `pad_token_id` to `eos_token_id`:50256 for open-end generation.\n"
          ]
        },
        {
          "output_type": "stream",
          "name": "stdout",
          "text": [
            "В этом году все вели себя прилично.\n",
            "В этом году все вели себя прилично.\n",
            "\n"
          ]
        },
        {
          "output_type": "stream",
          "name": "stderr",
          "text": [
            "Setting `pad_token_id` to `eos_token_id`:50256 for open-end generation.\n"
          ]
        },
        {
          "output_type": "stream",
          "name": "stdout",
          "text": [
            "В прошлом году некоторые пытались выследить таинственного посетителя, но ему удалось скрыться через боковой выход кладбища.\n",
            "В прошлом году некоторые пытались выследить таинственного посетителя, но он сбежал через боковой выход кладбища.\n",
            "\n"
          ]
        },
        {
          "output_type": "stream",
          "name": "stderr",
          "text": [
            "Setting `pad_token_id` to `eos_token_id`:50256 for open-end generation.\n"
          ]
        },
        {
          "output_type": "stream",
          "name": "stdout",
          "text": [
            "Джером наблюдает таинственные посещения с 19 января 1976 года.\n",
            "Джером наблюдает загадочные посещения с 19 января 1976 года.\n",
            "\n"
          ]
        },
        {
          "output_type": "stream",
          "name": "stderr",
          "text": [
            "Setting `pad_token_id` to `eos_token_id`:50256 for open-end generation.\n"
          ]
        },
        {
          "output_type": "stream",
          "name": "stdout",
          "text": [
            "Из своих наблюдений он сделал вывод, что в настоящий момент, церемонию продолжает сын того человека, который начал эти посещения в 1949 году.\n",
            "Из своих наблюдений он сделал вывод, что в настоящий момент, церемонию продолжает сын того человека, который начал эти посещения в 1949 году.\n",
            "\n"
          ]
        },
        {
          "output_type": "stream",
          "name": "stderr",
          "text": [
            "Setting `pad_token_id` to `eos_token_id`:50256 for open-end generation.\n"
          ]
        },
        {
          "output_type": "stream",
          "name": "stdout",
          "text": [
            "В 1993 году на могиле было оставлено зашифрованное сообщение: «Факел передается дальше».\n",
            "В 1993 году на могиле было написано: «Факел передается дальше».\n",
            "\n"
          ]
        },
        {
          "output_type": "stream",
          "name": "stderr",
          "text": [
            "Setting `pad_token_id` to `eos_token_id`:50256 for open-end generation.\n"
          ]
        },
        {
          "output_type": "stream",
          "name": "stdout",
          "text": [
            "В более позднем сообщении говорилось, что тот человек умер в 1998 году, и передал традицию сыновьям.\n",
            "В более позднем сообщении говорилось, что тот человек умер в 1998 году.\n",
            "\n",
            "\n",
            "4 baseline \n"
          ]
        },
        {
          "output_type": "stream",
          "name": "stderr",
          "text": [
            "Setting `pad_token_id` to `eos_token_id`:50256 for open-end generation.\n"
          ]
        },
        {
          "output_type": "stream",
          "name": "stdout",
          "text": [
            "Мёртвое море В субботу, 6 мая 2017 года, в Мёртвом море в Израиле утонул 68-летний депутат Госдумы РФ от фракции ЛДПР Василий Тарасюк.\n",
            "6 мая в Мёртвом море утонул депутат Госдумы РФ от фракции ЛДПР Василий Тарасюк.\n",
            "\n"
          ]
        },
        {
          "output_type": "stream",
          "name": "stderr",
          "text": [
            "Setting `pad_token_id` to `eos_token_id`:50256 for open-end generation.\n"
          ]
        },
        {
          "output_type": "stream",
          "name": "stdout",
          "text": [
            "Большинство российских источников не подтверждают обстоятельства смерти.\n",
            "Большинство российских источников не подтверждают факт смерти.\n",
            "\n"
          ]
        },
        {
          "output_type": "stream",
          "name": "stderr",
          "text": [
            "Setting `pad_token_id` to `eos_token_id`:50256 for open-end generation.\n"
          ]
        },
        {
          "output_type": "stream",
          "name": "stdout",
          "text": [
            "Ранее СМИ сообщали о погибшем «туристе из России».\n",
            "анее СМИ сообщали о погибшем туристе из России.\n",
            "\n"
          ]
        },
        {
          "output_type": "stream",
          "name": "stderr",
          "text": [
            "Setting `pad_token_id` to `eos_token_id`:50256 for open-end generation.\n"
          ]
        },
        {
          "output_type": "stream",
          "name": "stdout",
          "text": [
            "Около 8:00 на пляже гостиницы ''Herods'' спасатели вытащили на берег находившегося без сознания мужчину.\n",
            "Около 8:00 на пляже гостиницы ''Herods'' спасатели вытащили на берег мужчину.\n",
            "\n"
          ]
        },
        {
          "output_type": "stream",
          "name": "stderr",
          "text": [
            "Setting `pad_token_id` to `eos_token_id`:50256 for open-end generation.\n"
          ]
        },
        {
          "output_type": "stream",
          "name": "stdout",
          "text": [
            "Фельдшер Шани Гамлиэль рассказала журналистам, что первую помощь утонувшему начал оказывать пляжный спасатель, но к моменту прибытия бригады «Маген Давид Адом» мужчина находился в состоянии клинической смерти, пульса и дыхания не было.\n",
            "Фельдшер Шани Гамлиэль рассказала журналистам, что первую помощь утонувшему начал оказывать пляжный спасатель, но к моменту прибытия бригады «Маген Давид Адом» мужчина находился в состоянии клинической смерти, пульса и дыхания не было.\n",
            "\n"
          ]
        },
        {
          "output_type": "stream",
          "name": "stderr",
          "text": [
            "Setting `pad_token_id` to `eos_token_id`:50256 for open-end generation.\n"
          ]
        },
        {
          "output_type": "stream",
          "name": "stdout",
          "text": [
            "Реанимационные действия не увенчались успехом.\n",
            "Реанимационные действия не увенчались успехом.\n",
            "\n"
          ]
        },
        {
          "output_type": "stream",
          "name": "stderr",
          "text": [
            "Setting `pad_token_id` to `eos_token_id`:50256 for open-end generation.\n"
          ]
        },
        {
          "output_type": "stream",
          "name": "stdout",
          "text": [
            "Лишь сегодня пресс-служба фракции ЛДПР подтвердила факт гибели депутата.\n",
            "Пресс-служба фракции ЛДПР подтвердила факт гибели депутата.\n",
            "\n"
          ]
        },
        {
          "output_type": "stream",
          "name": "stderr",
          "text": [
            "Setting `pad_token_id` to `eos_token_id`:50256 for open-end generation.\n"
          ]
        },
        {
          "output_type": "stream",
          "name": "stdout",
          "text": [
            "Вице-спикер Думы от ЛДПР Игорь Лебедев сказал: Да, это так, но подробностей мы не знаем.\n",
            "ице-спикер Госдумы от ЛДПР Игорь Лебедев сказал: Да, это так, но подробностей мы не знаем.\n",
            "\n"
          ]
        },
        {
          "output_type": "stream",
          "name": "stderr",
          "text": [
            "Setting `pad_token_id` to `eos_token_id`:50256 for open-end generation.\n"
          ]
        },
        {
          "output_type": "stream",
          "name": "stdout",
          "text": [
            "Только получили сообщение от супруги, которая находилась там вместе с ним на лечении, что, к сожалению, Василий Михайлович погиб.\n",
            "Только получили сообщение от супруги, которая находилась там с ним, что, к сожалению, Василий Михайлович погиб.\n",
            "\n"
          ]
        },
        {
          "output_type": "stream",
          "name": "stderr",
          "text": [
            "Setting `pad_token_id` to `eos_token_id`:50256 for open-end generation.\n"
          ]
        },
        {
          "output_type": "stream",
          "name": "stdout",
          "text": [
            "Сейчас, видимо, идёт процесс его доставки в Россию.\n",
            "Сейчас, вероятно, идёт процесс его доставки в Россию.\n",
            "\n"
          ]
        },
        {
          "output_type": "stream",
          "name": "stderr",
          "text": [
            "Setting `pad_token_id` to `eos_token_id`:50256 for open-end generation.\n"
          ]
        },
        {
          "output_type": "stream",
          "name": "stdout",
          "text": [
            "Похороны предположительно состоятся 11-12 мая, сообщила РБК его помощница по работе в Госдуме Галина Лякишева.\n",
            "Похороны предположительно состоятся 11-12 мая, сообщила РБК его помощница по работе в Госдуме.\n",
            "\n"
          ]
        },
        {
          "output_type": "stream",
          "name": "stderr",
          "text": [
            "Setting `pad_token_id` to `eos_token_id`:50256 for open-end generation.\n"
          ]
        },
        {
          "output_type": "stream",
          "name": "stdout",
          "text": [
            "Василий Тарасюк с 2003 года избирается в Госдуму (четвёртого, пятого и шестого созыва) и занимал должность первого заместителя председателя комитета Госдумы по природным ресурсам, собственности и земельным отношениям.\n",
            "В 2003 году Тарасюк был избран депутатом Госдумы от «Единой России» и занимал должность первого заместителя председателя комитета Госдумы по природным ресурсам, собственности и земельным отношениям.\n",
            "\n"
          ]
        },
        {
          "output_type": "stream",
          "name": "stderr",
          "text": [
            "Setting `pad_token_id` to `eos_token_id`:50256 for open-end generation.\n"
          ]
        },
        {
          "output_type": "stream",
          "name": "stdout",
          "text": [
            "Ранее он работал топ-менеджером дочерних предприятий «Лукойла» («Варьеганнефть», «ЛУКОЙЛ-Когалымнефтегаз», «ЛУКОЙЛ — Западная Сибирь»), а также генеральным директором Афипского нефтеперерабатывающего завода.\n",
            "Он также работал топ-менеджером дочерних предприятий «Лукойла» («Варьеганнефть», «Лукойл-Когалымнефтегаз», «Лукойл-Западная Сибирь») и генеральным директором Афипского нефтеперерабатывающего завода.\n",
            "\n"
          ]
        },
        {
          "output_type": "stream",
          "name": "stderr",
          "text": [
            "Setting `pad_token_id` to `eos_token_id`:50256 for open-end generation.\n"
          ]
        },
        {
          "output_type": "stream",
          "name": "stdout",
          "text": [
            "Также он был членом городского совета народных депутатов и городской думы Когалыма (Ханты-Мансийский округ).\n",
            "Он был членом городского совета народных депутатов и городской думы Когалыма.\n",
            "\n"
          ]
        },
        {
          "output_type": "stream",
          "name": "stderr",
          "text": [
            "Setting `pad_token_id` to `eos_token_id`:50256 for open-end generation.\n"
          ]
        },
        {
          "output_type": "stream",
          "name": "stdout",
          "text": [
            "Согласно опубликованной декларации, его доход в 2016 году составил 77,7 миллиона рублей.\n",
            "Согласно опубликованной декларации, его доход в 2016 году составил 77,7 миллиона рублей.\n",
            "\n",
            "\n",
            "5 baseline \n"
          ]
        },
        {
          "output_type": "stream",
          "name": "stderr",
          "text": [
            "Setting `pad_token_id` to `eos_token_id`:50256 for open-end generation.\n"
          ]
        },
        {
          "output_type": "stream",
          "name": "stdout",
          "text": [
            "Мобил из космоса В штате Алабама на юге США полицейские штурмом взяли бункер, в котором 65-летний мужчина держал в заложниках 5-летнего мальчика, и освободили пленника.\n",
            "В штате Алабама на юге США полицейские штурмом взяли бункер, в котором 65-летний мужчина держал в заложниках 5-летнего мальчика.\n",
            "\n"
          ]
        },
        {
          "output_type": "stream",
          "name": "stderr",
          "text": [
            "Setting `pad_token_id` to `eos_token_id`:50256 for open-end generation.\n"
          ]
        },
        {
          "output_type": "stream",
          "name": "stdout",
          "text": [
            "Похититель — водитель-дальнобойщик Джимми Ли Дайкс — мёртв.\n",
            "Похититель - водитель-дальнобойщик Джимми Ли Дайкс - мертв.\n",
            "\n"
          ]
        },
        {
          "output_type": "stream",
          "name": "stderr",
          "text": [
            "Setting `pad_token_id` to `eos_token_id`:50256 for open-end generation.\n"
          ]
        },
        {
          "output_type": "stream",
          "name": "stdout",
          "text": [
            "Дайкс похитил ребенка из школьного автобуса, застрелив водителя, и держал мальчика в плену почти целую неделю.\n",
            "Дайкс похитил ребенка из школьного автобуса и держал его в плену почти неделю.\n",
            "\n"
          ]
        },
        {
          "output_type": "stream",
          "name": "stderr",
          "text": [
            "Setting `pad_token_id` to `eos_token_id`:50256 for open-end generation.\n"
          ]
        },
        {
          "output_type": "stream",
          "name": "stdout",
          "text": [
            "Агенты ФБР сообщили, что шансов договориться с ним оставалось все меньше и меньше.\n",
            "Агенты ФБР сообщили, что шансов договориться с ним становилось все меньше и меньше.\n",
            "\n"
          ]
        },
        {
          "output_type": "stream",
          "name": "stderr",
          "text": [
            "Setting `pad_token_id` to `eos_token_id`:50256 for open-end generation.\n"
          ]
        },
        {
          "output_type": "stream",
          "name": "stdout",
          "text": [
            "Агент из города Мобил (штат Алабама) рассказал, что после того как преступник достал пистолет, сотрудники ФБР поняли, что ребенку угрожает серьезная опасность.\n",
            "Агенту из города Мобил (штат Алабама) рассказали, что после того, как преступник достал пистолет, сотрудники ФБР поняли, что ребенок может пострадать.\n",
            "\n"
          ]
        },
        {
          "output_type": "stream",
          "name": "stderr",
          "text": [
            "Setting `pad_token_id` to `eos_token_id`:50256 for open-end generation.\n"
          ]
        },
        {
          "output_type": "stream",
          "name": "stdout",
          "text": [
            "В понедельник полицейские штурмом взяли бункер и освободили ребенка, который не пострадал физически, однако в целях предосторожности был доставлен в местную больницу.\n",
            "В понедельник полицейские взяли бункер и освободили ребенка, который не пострадал физически.\n",
            "\n"
          ]
        },
        {
          "output_type": "stream",
          "name": "stderr",
          "text": [
            "Setting `pad_token_id` to `eos_token_id`:50256 for open-end generation.\n"
          ]
        },
        {
          "output_type": "stream",
          "name": "stdout",
          "text": [
            "Мотивы преступления пока не выяснены.\n",
            "Пока не установлены мотивы преступления, не известно, что произошло.\n",
            "\n"
          ]
        },
        {
          "output_type": "stream",
          "name": "stderr",
          "text": [
            "Setting `pad_token_id` to `eos_token_id`:50256 for open-end generation.\n"
          ]
        },
        {
          "output_type": "stream",
          "name": "stdout",
          "text": [
            "Интересно, что освобождение мальчика произошло в какнун его дня рождения — 6 февраля.\n",
            "6 февраля - освобождение мальчика.\n",
            "\n",
            "\n",
            "6 baseline \n"
          ]
        },
        {
          "output_type": "stream",
          "name": "stderr",
          "text": [
            "Setting `pad_token_id` to `eos_token_id`:50256 for open-end generation.\n"
          ]
        },
        {
          "output_type": "stream",
          "name": "stdout",
          "text": [
            "Синий светодиод Лауреаты Нобелевской премии по физике 2014 года объявлены в Стокгольме.\n",
            "Синий светодиод Лауреаты Нобелевской премии по физике 2014 года объявлены в Стокгольме.\n",
            "\n"
          ]
        },
        {
          "output_type": "stream",
          "name": "stderr",
          "text": [
            "Setting `pad_token_id` to `eos_token_id`:50256 for open-end generation.\n"
          ]
        },
        {
          "output_type": "stream",
          "name": "stdout",
          "text": [
            "Ими стали Исаму Акасаки, Хироси Амано и Сюдзи Накамура.\n",
            "Исаму Акасаки, Хироси Амано и Сюдзи Накамура.\n",
            "\n"
          ]
        },
        {
          "output_type": "stream",
          "name": "stderr",
          "text": [
            "Setting `pad_token_id` to `eos_token_id`:50256 for open-end generation.\n"
          ]
        },
        {
          "output_type": "stream",
          "name": "stdout",
          "text": [
            "Премия вручена за изобретение энергоэффективного и экологически чистого источника света — синего светодиода.\n",
            "Премия вручается за изобретение энергоэффективного и экологически чистого источника света.\n",
            "\n"
          ]
        },
        {
          "output_type": "stream",
          "name": "stderr",
          "text": [
            "Setting `pad_token_id` to `eos_token_id`:50256 for open-end generation.\n"
          ]
        },
        {
          "output_type": "stream",
          "name": "stdout",
          "text": [
            "Работы, за которые вручена престижная награда, была проведена учёными в конце 1980-х — начале 1990-х годов.\n",
            "Работы, за которые вручена престижная награда, были проведены учеными в конце 1980-х - начале 1990-х годов.\n",
            "\n"
          ]
        },
        {
          "output_type": "stream",
          "name": "stderr",
          "text": [
            "Setting `pad_token_id` to `eos_token_id`:50256 for open-end generation.\n"
          ]
        },
        {
          "output_type": "stream",
          "name": "stdout",
          "text": [
            "До этого в течение нескольких десятилетий многие группы, в том числе такие крупные производители как ''Bell Labs'' и ''Phillips'' бились над задачей создания энергоэффективных синих диодов, но не достигли успеха.\n",
            "До этого в течение нескольких десятилетий многие группы, такие как ''Bell Labs'' и ''Phillips'', пытались создать энергоэффективные синие диоды.\n",
            "\n"
          ]
        },
        {
          "output_type": "stream",
          "name": "stderr",
          "text": [
            "Setting `pad_token_id` to `eos_token_id`:50256 for open-end generation.\n"
          ]
        },
        {
          "output_type": "stream",
          "name": "stdout",
          "text": [
            "Разработки лауреатов позволили решить эту проблему.\n",
            "Разработки лауреатов помогли решить эту проблему.\n",
            "\n"
          ]
        },
        {
          "output_type": "stream",
          "name": "stderr",
          "text": [
            "Setting `pad_token_id` to `eos_token_id`:50256 for open-end generation.\n"
          ]
        },
        {
          "output_type": "stream",
          "name": "stdout",
          "text": [
            "Появление синих светодиодов позволило создать диодные источники белого света.\n",
            "Появление синих светодиодов позволило создать диодные источники белого света.\n",
            "\n"
          ]
        },
        {
          "output_type": "stream",
          "name": "stderr",
          "text": [
            "Setting `pad_token_id` to `eos_token_id`:50256 for open-end generation.\n"
          ]
        },
        {
          "output_type": "stream",
          "name": "stdout",
          "text": [
            "По сравнению с другими искусственными источниками — лампами накаливания и люминисцентными лампами — они обладают значительно большей эффективностью.\n",
            "Они обладают значительно большей эффективностью, чем другие источники света.\n",
            "\n"
          ]
        },
        {
          "output_type": "stream",
          "name": "stderr",
          "text": [
            "Setting `pad_token_id` to `eos_token_id`:50256 for open-end generation.\n"
          ]
        },
        {
          "output_type": "stream",
          "name": "stdout",
          "text": [
            "Кроме того, диодные лампы считаются более экологичными.\n",
            "Диодные лампы считаются более экологичными.\n",
            "\n"
          ]
        },
        {
          "output_type": "stream",
          "name": "stderr",
          "text": [
            "Setting `pad_token_id` to `eos_token_id`:50256 for open-end generation.\n"
          ]
        },
        {
          "output_type": "stream",
          "name": "stdout",
          "text": [
            "Самым старшим из лауреатов является Исаму Акасаки, ему 85 лет.\n",
            "Самый старший из лауреатов - Исаму Акасаки, ему 85 лет.\n",
            "\n"
          ]
        },
        {
          "output_type": "stream",
          "name": "stderr",
          "text": [
            "Setting `pad_token_id` to `eos_token_id`:50256 for open-end generation.\n"
          ]
        },
        {
          "output_type": "stream",
          "name": "stdout",
          "text": [
            "Сейчас он работает в должности профессора в Университете Мейджо и является заслуженным профессором Нагойского университета.\n",
            "Сейчас он работает профессором Нагойского университета.\n",
            "\n"
          ]
        },
        {
          "output_type": "stream",
          "name": "stderr",
          "text": [
            "Setting `pad_token_id` to `eos_token_id`:50256 for open-end generation.\n"
          ]
        },
        {
          "output_type": "stream",
          "name": "stdout",
          "text": [
            "Хироси Амано, родившийся в 1960 году, сейчас занимает должность профессора Нагойского университета.\n",
            "Хироси Амано (родился в 1960 году) - профессор Нагойского университета.\n",
            "\n"
          ]
        },
        {
          "output_type": "stream",
          "name": "stderr",
          "text": [
            "Setting `pad_token_id` to `eos_token_id`:50256 for open-end generation.\n"
          ]
        },
        {
          "output_type": "stream",
          "name": "stdout",
          "text": [
            "В начале 1990-х годов он был аспирантом Акасаки.\n",
            "В начале 1990-х он был аспирантом Акасаки.\n",
            "\n"
          ]
        },
        {
          "output_type": "stream",
          "name": "stderr",
          "text": [
            "Setting `pad_token_id` to `eos_token_id`:50256 for open-end generation.\n"
          ]
        },
        {
          "output_type": "stream",
          "name": "stdout",
          "text": [
            "Сюдзи Накамура родился в 1954 году и, хотя, как и два других лауреата, имеет японские корни, является гражданином США.\n",
            "Сёдзи Накамура родился в 1954 году в Японии.\n",
            "\n"
          ]
        },
        {
          "output_type": "stream",
          "name": "stderr",
          "text": [
            "Setting `pad_token_id` to `eos_token_id`:50256 for open-end generation.\n"
          ]
        },
        {
          "output_type": "stream",
          "name": "stdout",
          "text": [
            "Сейчас он — профессор Калифорнийского университета в Санта-Барбаре.\n",
            "Сейчас он - профессор Калифорнийского университета в Санта-Барбаре.\n",
            "\n"
          ]
        },
        {
          "output_type": "stream",
          "name": "stderr",
          "text": [
            "Setting `pad_token_id` to `eos_token_id`:50256 for open-end generation.\n"
          ]
        },
        {
          "output_type": "stream",
          "name": "stdout",
          "text": [
            "85-летний Исаму Акасаки и 54-летний Хироси Амано работали над проблемой синего света в Институте Наго, 60-летний Сюдзи Накамура — в компании ''Nichia Chemical Industries''.\n",
            "85-летний Исаму Акасаки и 54-летний Хироси Амано работали над проблемой синего света в Институте Наго.\n",
            "\n"
          ]
        },
        {
          "output_type": "stream",
          "name": "stderr",
          "text": [
            "Setting `pad_token_id` to `eos_token_id`:50256 for open-end generation.\n"
          ]
        },
        {
          "output_type": "stream",
          "name": "stdout",
          "text": [
            "Премия в размере около 1 миллиона евро будет разделена следующим образом: Накамура достанется половина, а Акасаки и Амано получат по одной четверти.\n",
            "Премия в размере 1 миллиона евро будет разделена следующим образом: Накамура получит половину, а Акасаки и Амано - по одной четверти.\n",
            "\n",
            "\n",
            "7 baseline \n"
          ]
        },
        {
          "output_type": "stream",
          "name": "stderr",
          "text": [
            "Setting `pad_token_id` to `eos_token_id`:50256 for open-end generation.\n"
          ]
        },
        {
          "output_type": "stream",
          "name": "stdout",
          "text": [
            "Максим Орешкин 30 ноября 2016 года новым министром экономического развития назначен 34-летний Максим Орешкин, который ранее занимал пост заместителя министра финансов.\n",
            "Максим Орешкин 30 ноября 2016 года новым министром экономического развития назначен 34-летний Максим Орешкин.\n",
            "\n"
          ]
        },
        {
          "output_type": "stream",
          "name": "stderr",
          "text": [
            "Setting `pad_token_id` to `eos_token_id`:50256 for open-end generation.\n"
          ]
        },
        {
          "output_type": "stream",
          "name": "stdout",
          "text": [
            "Президент РФ Владимир Путин спросил у Орешкина, что по его мнению самое важное в работе ведомства, на что тот ответил: Самое плохое уже позади и сейчас важно подготовить ключевые меры, которые позволят снять структурные преграды для роста российской экономики.\n",
            "Президент РФ Владимир Путин спросил у Орешкина, что самое важное в работе ведомства, на что тот ответил: Самое плохое позади и сейчас важно подготовить ключевые меры, которые позволят снять структурные препятствия для роста российской экономики.\n",
            "\n"
          ]
        },
        {
          "output_type": "stream",
          "name": "stderr",
          "text": [
            "Setting `pad_token_id` to `eos_token_id`:50256 for open-end generation.\n"
          ]
        },
        {
          "output_type": "stream",
          "name": "stdout",
          "text": [
            "После чего Путин ответил: Максим Станиславович, вы человек достаточно молодой, но молодым специалистом вас уже не назовешь.\n",
            "После чего Путин ответил: Максим Станиславович, вы молодой специалист, но вы уже не молоды.\n",
            "\n"
          ]
        },
        {
          "output_type": "stream",
          "name": "stderr",
          "text": [
            "Setting `pad_token_id` to `eos_token_id`:50256 for open-end generation.\n"
          ]
        },
        {
          "output_type": "stream",
          "name": "stdout",
          "text": [
            "Вы человек грамотный и зрелый специалист, опытный.\n",
            "Вы грамотный и зрелый специалист.\n",
            "\n"
          ]
        },
        {
          "output_type": "stream",
          "name": "stderr",
          "text": [
            "Setting `pad_token_id` to `eos_token_id`:50256 for open-end generation.\n"
          ]
        },
        {
          "output_type": "stream",
          "name": "stdout",
          "text": [
            "Я желаю вам удачи.\n",
            "Я желаю вам удачи.\n",
            "\n"
          ]
        },
        {
          "output_type": "stream",
          "name": "stderr",
          "text": [
            "Setting `pad_token_id` to `eos_token_id`:50256 for open-end generation.\n"
          ]
        },
        {
          "output_type": "stream",
          "name": "stdout",
          "text": [
            "Максим Орешкин родился в 1982 году.\n",
            "Максим Орешкин родился в 1982 году в Москве.\n",
            "\n"
          ]
        },
        {
          "output_type": "stream",
          "name": "stderr",
          "text": [
            "Setting `pad_token_id` to `eos_token_id`:50256 for open-end generation.\n"
          ]
        },
        {
          "output_type": "stream",
          "name": "stdout",
          "text": [
            "Свою юность провёл в Москве, Ховрино.\n",
            "С юных лет жил в Москве.\n",
            "\n"
          ]
        },
        {
          "output_type": "stream",
          "name": "stderr",
          "text": [
            "Setting `pad_token_id` to `eos_token_id`:50256 for open-end generation.\n"
          ]
        },
        {
          "output_type": "stream",
          "name": "stdout",
          "text": [
            "Орешкин имеет десятилетний стаж в коммерческой сфере, поработав в «Росбанк», «ВТБ-Капитал», также занимал пост ведущего экономиста в Центробанке и успел поработать в правительстве директором департамента, затем заместителем министра финансов.\n",
            "Орешкин имеет десятилетний стаж в коммерческой сфере, поработав в «Росбанк», «ВТБ-Капитал», а также занимал пост главного экономиста в Центробанке и успел поработать в правительстве директором департамента, затем заместителем министра финансов.\n",
            "\n",
            "\n",
            "8 baseline \n"
          ]
        },
        {
          "output_type": "stream",
          "name": "stderr",
          "text": [
            "Setting `pad_token_id` to `eos_token_id`:50256 for open-end generation.\n"
          ]
        },
        {
          "output_type": "stream",
          "name": "stdout",
          "text": [
            "В Унцукульском районе Дагестана из-за ссоры возле заправки около часа ночи произошла массовая вооружённая драка между жителями селений Гимры и Унцукуль, в результате которой погибли семь человек, в том числе трёхлетний ребёнок.\n",
            "В Унцукульском районе Дагестана из-за ссоры около заправки около часа ночи произошла массовая вооружённая драка между жителями селений Гимры и Унцукуль.\n",
            "\n"
          ]
        },
        {
          "output_type": "stream",
          "name": "stderr",
          "text": [
            "Setting `pad_token_id` to `eos_token_id`:50256 for open-end generation.\n"
          ]
        },
        {
          "output_type": "stream",
          "name": "stdout",
          "text": [
            "Ещё несколько сельчан оказались в больнице с ранениями различной степени тяжести.\n",
            "Ещё несколько сельчан были ранены.\n",
            "\n"
          ]
        },
        {
          "output_type": "stream",
          "name": "stderr",
          "text": [
            "Setting `pad_token_id` to `eos_token_id`:50256 for open-end generation.\n"
          ]
        },
        {
          "output_type": "stream",
          "name": "stdout",
          "text": [
            "Как сообщает РИА «Новости», сначала возле одной из заправок в двух километрах от селения Гимры были обнаружены тела двоих погибших с огнестрельными ранениями.\n",
            "Около одной из заправок в двух километрах от поселения Гимры были обнаружены тела двух погибших с огнестрельными ранениями.\n",
            "\n"
          ]
        },
        {
          "output_type": "stream",
          "name": "stderr",
          "text": [
            "Setting `pad_token_id` to `eos_token_id`:50256 for open-end generation.\n"
          ]
        },
        {
          "output_type": "stream",
          "name": "stdout",
          "text": [
            "Затем возле одного из лечебных заведений в селении Унцукуль собрались местные жители.\n",
            "Затем возле одного из лечебных заведений в селении Унцукуль собрались местные жители.\n",
            "\n"
          ]
        },
        {
          "output_type": "stream",
          "name": "stderr",
          "text": [
            "Setting `pad_token_id` to `eos_token_id`:50256 for open-end generation.\n"
          ]
        },
        {
          "output_type": "stream",
          "name": "stdout",
          "text": [
            "Снова вспыхнула драка с применением огнестрельного оружия.\n",
            "снова началась драка с применением огнестрельного оружия.\n",
            "\n"
          ]
        },
        {
          "output_type": "stream",
          "name": "stderr",
          "text": [
            "Setting `pad_token_id` to `eos_token_id`:50256 for open-end generation.\n"
          ]
        },
        {
          "output_type": "stream",
          "name": "stdout",
          "text": [
            "В ходе массового конфликта погибли ещё три человека, в том числе девочка 2008 года рождения.\n",
            "В ходе массового конфликта погибли ещё три человека.\n",
            "\n"
          ]
        },
        {
          "output_type": "stream",
          "name": "stderr",
          "text": [
            "Setting `pad_token_id` to `eos_token_id`:50256 for open-end generation.\n"
          ]
        },
        {
          "output_type": "stream",
          "name": "stdout",
          "text": [
            "Ещё двое пострадавших скончались в больнице.\n",
            "Еще двое получили ранения в больнице.\n",
            "\n"
          ]
        },
        {
          "output_type": "stream",
          "name": "stderr",
          "text": [
            "Setting `pad_token_id` to `eos_token_id`:50256 for open-end generation.\n"
          ]
        },
        {
          "output_type": "stream",
          "name": "stdout",
          "text": [
            "С места происшествия изъят охотничий нарезной карабин «Сайга» калибра 7,62 мм.  Уголовное дело по факту драки в Унцукульском районе возбуждено по трём статьям УК РФ - части 1 статьи 105 (убийство), частью 3 статьи 30, частью 2 статьи 105 (покушение на убийство более двух лиц) и части 2 статьи 222 УК РФ (незаконный оборот оружия).\n",
            "По факту драки в Унцукульском районе возбуждено уголовное дело по трем статьям: части 1 статьи 105 (убийство), части 3 статьи 30, части 2 статьи 105 (покушение на убийство более двух лиц) и части 2 статьи 222 (незаконный оборот оружия).\n",
            "\n"
          ]
        },
        {
          "output_type": "stream",
          "name": "stderr",
          "text": [
            "Setting `pad_token_id` to `eos_token_id`:50256 for open-end generation.\n"
          ]
        },
        {
          "output_type": "stream",
          "name": "stdout",
          "text": [
            "Ведется расследование.\n",
            "Ведется расследование.\n",
            "\n"
          ]
        },
        {
          "output_type": "stream",
          "name": "stderr",
          "text": [
            "Setting `pad_token_id` to `eos_token_id`:50256 for open-end generation.\n"
          ]
        },
        {
          "output_type": "stream",
          "name": "stdout",
          "text": [
            "На месте работает следственная бригада.\n",
            "Следственная бригада работает на месте.\n",
            "\n"
          ]
        },
        {
          "output_type": "stream",
          "name": "stderr",
          "text": [
            "Setting `pad_token_id` to `eos_token_id`:50256 for open-end generation.\n"
          ]
        },
        {
          "output_type": "stream",
          "name": "stdout",
          "text": [
            "Обстоятельства инцидента выясняются.\n",
            "Обстоятельства инцидента выясняются.\n",
            "\n",
            "\n",
            "9 baseline \n"
          ]
        },
        {
          "output_type": "stream",
          "name": "stderr",
          "text": [
            "Setting `pad_token_id` to `eos_token_id`:50256 for open-end generation.\n"
          ]
        },
        {
          "output_type": "stream",
          "name": "stdout",
          "text": [
            "Протесты в Венесуэле В Венесуэле похищенный у полиции вертолет обстрелял здания Верховного суда и одного из министерств.\n",
            "Протесты в Венесуэле В Венесуэле похищен заложник.\n",
            "\n"
          ]
        },
        {
          "output_type": "stream",
          "name": "stderr",
          "text": [
            "Setting `pad_token_id` to `eos_token_id`:50256 for open-end generation.\n"
          ]
        },
        {
          "output_type": "stream",
          "name": "stdout",
          "text": [
            "Инцидент усугубил политический кризис в этой стране, которая является членом ОПЕК.\n",
            "Инцидент усугубил политический кризис в этой стране.\n",
            "\n"
          ]
        },
        {
          "output_type": "stream",
          "name": "stderr",
          "text": [
            "Setting `pad_token_id` to `eos_token_id`:50256 for open-end generation.\n"
          ]
        },
        {
          "output_type": "stream",
          "name": "stdout",
          "text": [
            "Президент Николас Мадуро заявил, что атаку совершили «террористы», которые хотят совершить переворот.\n",
            "Президент Николас Мадуро заявил, что атаку совершили «террористы».\n",
            "\n"
          ]
        },
        {
          "output_type": "stream",
          "name": "stderr",
          "text": [
            "Setting `pad_token_id` to `eos_token_id`:50256 for open-end generation.\n"
          ]
        },
        {
          "output_type": "stream",
          "name": "stdout",
          "text": [
            "С вертолета было произведено 15 выстрелов по зданию МВД, где проходило культурное мероприятие, и были брошены четыре гранаты по зданию суда, где заседали судьи, сообщили официальные лица.\n",
            "С вертолета было произведено 15 выстрелов по зданию МВД, где проходил культурный мероприятие.\n",
            "\n"
          ]
        },
        {
          "output_type": "stream",
          "name": "stderr",
          "text": [
            "Setting `pad_token_id` to `eos_token_id`:50256 for open-end generation.\n"
          ]
        },
        {
          "output_type": "stream",
          "name": "stdout",
          "text": [
            "Однако сообщений о пострадавших не поступало.\n",
            "Однако сообщений о пострадавших не поступало.\n",
            "\n"
          ]
        },
        {
          "output_type": "stream",
          "name": "stderr",
          "text": [
            "Setting `pad_token_id` to `eos_token_id`:50256 for open-end generation.\n"
          ]
        },
        {
          "output_type": "stream",
          "name": "stdout",
          "text": [
            "«Скорее рано, чем поздно мы захватим вертолет и тех, кто стоял за этой вооруженной террористической атакой на институты страны, — сказал Мадуро.\n",
            "«Скорее рано, чем поздно мы захватим вертолет и тех, кто стоял за этой вооруженной террористической атакой на институты страны.\n",
            "\n"
          ]
        },
        {
          "output_type": "stream",
          "name": "stderr",
          "text": [
            "Setting `pad_token_id` to `eos_token_id`:50256 for open-end generation.\n"
          ]
        },
        {
          "output_type": "stream",
          "name": "stdout",
          "text": [
            "— Их действия могли привести к гибели десятков людей».\n",
            "Их действия могли привести к гибели десятков людей».\n",
            "\n"
          ]
        },
        {
          "output_type": "stream",
          "name": "stderr",
          "text": [
            "Setting `pad_token_id` to `eos_token_id`:50256 for open-end generation.\n"
          ]
        },
        {
          "output_type": "stream",
          "name": "stdout",
          "text": [
            "54-летний социалист Мадуро на протяжении последних трёх месяцев сталкивается с непрекращающимися протестами, которые организуют оппозиционные лидеры, называющие его диктатором, разрушившим когда-то процветавшую экономику.\n",
            "4-летний социалист Мадуро на протяжении последних трёх месяцев сталкивается с протестами, которые организуют оппозиционные лидеры, называющие его диктатором, разрушившим когда-то процветавшую экономику.\n",
            "\n"
          ]
        },
        {
          "output_type": "stream",
          "name": "stderr",
          "text": [
            "Setting `pad_token_id` to `eos_token_id`:50256 for open-end generation.\n"
          ]
        },
        {
          "output_type": "stream",
          "name": "stdout",
          "text": [
            "Внутри правительства и силовых структур также нарастает недовольство.\n",
            "Внутри правительства и силовых структур также растет недовольство.\n",
            "\n"
          ]
        },
        {
          "output_type": "stream",
          "name": "stderr",
          "text": [
            "Setting `pad_token_id` to `eos_token_id`:50256 for open-end generation.\n"
          ]
        },
        {
          "output_type": "stream",
          "name": "stdout",
          "text": [
            "Начиная с апреля 2017 года, в ходе антиправительственных протестов погибли по меньшей мене 75 человек.\n",
            "В ходе антиправительственных протестов в марте-апреле 2017 года были убиты 75 человек.\n",
            "\n"
          ]
        },
        {
          "output_type": "stream",
          "name": "stderr",
          "text": [
            "Setting `pad_token_id` to `eos_token_id`:50256 for open-end generation.\n"
          ]
        },
        {
          "output_type": "stream",
          "name": "stdout",
          "text": [
            "Сотни других получили ранения или были арестованы.\n",
            "отни других получили ранения или были арестованы.\n",
            "\n",
            "\n",
            "10 baseline \n"
          ]
        },
        {
          "output_type": "stream",
          "name": "stderr",
          "text": [
            "Setting `pad_token_id` to `eos_token_id`:50256 for open-end generation.\n"
          ]
        },
        {
          "output_type": "stream",
          "name": "stdout",
          "text": [
            "Анастасия Заворотнюк Актриса Анастасия Заворотнюк находится в реанимации одной из московских больниц в тяжёлом состоянии с отёком мозга, пишут сегодня несколько российских СМИ со ссылкой на свои источники.\n",
            "Анастасия Заворотнюк Актриса Анастасия Заворотнюк находится в больнице в тяжелом состоянии с отеком мозга.\n",
            "\n"
          ]
        },
        {
          "output_type": "stream",
          "name": "stderr",
          "text": [
            "Setting `pad_token_id` to `eos_token_id`:50256 for open-end generation.\n"
          ]
        },
        {
          "output_type": "stream",
          "name": "stdout",
          "text": [
            "По их данным, у 48-летней актрисы последняя стадия неоперабельной опухоли мозга — такой же диагноз, что и у Жанны Фриске, умершей четыре года назад.\n",
            "По их данным, у 48-летней актрисы последняя стадия неоперабельной опухоли мозга - такой же диагноз, что и у Жанны Фриске, умершей четыре года назад.\n",
            "\n"
          ]
        },
        {
          "output_type": "stream",
          "name": "stderr",
          "text": [
            "Setting `pad_token_id` to `eos_token_id`:50256 for open-end generation.\n"
          ]
        },
        {
          "output_type": "stream",
          "name": "stdout",
          "text": [
            "Заворотнюк находится под постоянным наблюдением в российской клинике, куда она поступила больше двух недель назад из Польши, где также проходила лечение, которое не дало результатов.\n",
            "Заворотнюк находится под постоянным наблюдением в российской клинике, куда она поступила больше двух недель назад из Польши.\n",
            "\n"
          ]
        },
        {
          "output_type": "stream",
          "name": "stderr",
          "text": [
            "Setting `pad_token_id` to `eos_token_id`:50256 for open-end generation.\n"
          ]
        },
        {
          "output_type": "stream",
          "name": "stdout",
          "text": [
            "Сейчас рядом с актрисой постоянно находится муж, фигурист Пётр Чернышёв.\n",
            "Рядом с актрисой постоянно находится муж, фигурист Пётр Чернышёв.\n",
            "\n"
          ]
        },
        {
          "output_type": "stream",
          "name": "stderr",
          "text": [
            "Setting `pad_token_id` to `eos_token_id`:50256 for open-end generation.\n"
          ]
        },
        {
          "output_type": "stream",
          "name": "stdout",
          "text": [
            "Онкологическое заболевание у Анастасии якобы обнаружили после рождения её дочери Милы, которая появилась на свет в конце октября 2018 года.\n",
            "У Анастасии якобы обнаружили рак груди после рождения дочери Милы.\n",
            "\n"
          ]
        },
        {
          "output_type": "stream",
          "name": "stderr",
          "text": [
            "Setting `pad_token_id` to `eos_token_id`:50256 for open-end generation.\n"
          ]
        },
        {
          "output_type": "stream",
          "name": "stdout",
          "text": [
            "Ранее актриса промолчала о своём диагнозе на вопрос корреспондента «Комсомольской правды».\n",
            "анее актриса не сказала о своём диагнозе.\n",
            "\n"
          ]
        },
        {
          "output_type": "stream",
          "name": "stderr",
          "text": [
            "Setting `pad_token_id` to `eos_token_id`:50256 for open-end generation.\n"
          ]
        },
        {
          "output_type": "stream",
          "name": "stdout",
          "text": [
            "Журналист отметил, что голос артистки «звучал хрипло, как у очень больного человека».\n",
            "Журналист отметил, что голос артистки «звучал хрипло, как у очень больного человека».\n",
            "\n"
          ]
        },
        {
          "output_type": "stream",
          "name": "stderr",
          "text": [
            "Setting `pad_token_id` to `eos_token_id`:50256 for open-end generation.\n"
          ]
        },
        {
          "output_type": "stream",
          "name": "stdout",
          "text": [
            "Директор актрисы Марина Потапова также отказалась комментировать информацию о диагнозе Анастасии.\n",
            "Директор актрисы Марина Потапова также отказалась комментировать информацию о диагнозе Анастасии.\n",
            "\n"
          ]
        },
        {
          "output_type": "stream",
          "name": "stderr",
          "text": [
            "Setting `pad_token_id` to `eos_token_id`:50256 for open-end generation.\n"
          ]
        },
        {
          "output_type": "stream",
          "name": "stdout",
          "text": [
            "Концертный директор актрисы Стас Христов сообщил РБК, что «пока ничего не знает» о ее состоянии.\n",
            "Концертный директор актрисы Стас Христов ничего не знает о состоянии ее здоровья.\n",
            "\n"
          ]
        },
        {
          "output_type": "stream",
          "name": "stderr",
          "text": [
            "Setting `pad_token_id` to `eos_token_id`:50256 for open-end generation.\n"
          ]
        },
        {
          "output_type": "stream",
          "name": "stdout",
          "text": [
            "Анастасия Заворотнюк больше всего известна ролью няни в комедийном телесериале «Моя прекрасная няня» (2004—2009).\n",
            "Анастасия Заворотнюк больше всего известна ролью няни в комедийном телесериале Моя прекрасная няня (2004–2009).\n",
            "\n"
          ]
        },
        {
          "output_type": "stream",
          "name": "stderr",
          "text": [
            "Setting `pad_token_id` to `eos_token_id`:50256 for open-end generation.\n"
          ]
        },
        {
          "output_type": "stream",
          "name": "stdout",
          "text": [
            "Всего в её фильмографии около тридцати работ.\n",
            "В её фильмографии около тридцати работ.\n",
            "\n"
          ]
        },
        {
          "output_type": "stream",
          "name": "stderr",
          "text": [
            "Setting `pad_token_id` to `eos_token_id`:50256 for open-end generation.\n"
          ]
        },
        {
          "output_type": "stream",
          "name": "stdout",
          "text": [
            "Также Заворотнюк играла в театре.\n",
            "Заворотнюк также сыграла в театре.\n",
            "\n"
          ]
        },
        {
          "output_type": "stream",
          "name": "stderr",
          "text": [
            "Setting `pad_token_id` to `eos_token_id`:50256 for open-end generation.\n"
          ]
        },
        {
          "output_type": "stream",
          "name": "stdout",
          "text": [
            "В ходе президентских выборов 2018 года Анастасия Заворотнюк вошла в состав движения Putin Team, выступавшего в поддержку Владимира Путина.\n",
            "В ходе президентских выборов 2018 года Анастасия Заворотнюк вошла в состав движения Putin Team, выступавшего за Владимира Путина.\n",
            "\n"
          ]
        },
        {
          "output_type": "stream",
          "name": "stderr",
          "text": [
            "Setting `pad_token_id` to `eos_token_id`:50256 for open-end generation.\n",
            "Input length of input_ids is 160, but `max_length` is set to 160. This can lead to unexpected behavior. You should consider increasing `max_new_tokens`.\n",
            "Setting `pad_token_id` to `eos_token_id`:50256 for open-end generation.\n",
            "Input length of input_ids is 161, but `max_length` is set to 160. This can lead to unexpected behavior. You should consider increasing `max_new_tokens`.\n",
            "Setting `pad_token_id` to `eos_token_id`:50256 for open-end generation.\n",
            "Input length of input_ids is 162, but `max_length` is set to 160. This can lead to unexpected behavior. You should consider increasing `max_new_tokens`.\n",
            "Setting `pad_token_id` to `eos_token_id`:50256 for open-end generation.\n",
            "Input length of input_ids is 163, but `max_length` is set to 160. This can lead to unexpected behavior. You should consider increasing `max_new_tokens`.\n",
            "Setting `pad_token_id` to `eos_token_id`:50256 for open-end generation.\n",
            "Input length of input_ids is 164, but `max_length` is set to 160. This can lead to unexpected behavior. You should consider increasing `max_new_tokens`.\n",
            "Setting `pad_token_id` to `eos_token_id`:50256 for open-end generation.\n",
            "Input length of input_ids is 165, but `max_length` is set to 160. This can lead to unexpected behavior. You should consider increasing `max_new_tokens`.\n",
            "Setting `pad_token_id` to `eos_token_id`:50256 for open-end generation.\n",
            "Input length of input_ids is 166, but `max_length` is set to 160. This can lead to unexpected behavior. You should consider increasing `max_new_tokens`.\n",
            "Setting `pad_token_id` to `eos_token_id`:50256 for open-end generation.\n",
            "Input length of input_ids is 167, but `max_length` is set to 160. This can lead to unexpected behavior. You should consider increasing `max_new_tokens`.\n",
            "Setting `pad_token_id` to `eos_token_id`:50256 for open-end generation.\n",
            "Input length of input_ids is 168, but `max_length` is set to 160. This can lead to unexpected behavior. You should consider increasing `max_new_tokens`.\n",
            "Setting `pad_token_id` to `eos_token_id`:50256 for open-end generation.\n"
          ]
        },
        {
          "output_type": "stream",
          "name": "stdout",
          "text": [
            "Mash пишет:  Нейрохирурги планируют провести операцию Анастасии Заворотнюк Но состояние актрисы делает любое вмешательство очень опасным До этого врачи провели курс химио и лучевой терапии но нужного эффекта это не дало состояние Заворотнюк ухудшилось Сейчас она в реанимации опухоль дала метастазы в мозг В самое ближайшее время будет проведён консилиум специалисты обсудят возможность операции Но риск слишком велик актриса может не пережить хирургического вмешательства    Концертный директор актрисы Стас Христов сообщил агентству «Москва»: О своем здоровье она обещает рассказать сама в эфире одного из федеральных каналов.\n",
            "Нейрохирурги планируют провести операцию Анастасии Заворотнюк Но состояние актрисы делает любое вмешательство очень опасным До этого врачи провели курс химио и лучевой терапии но необходимого эффекта не дали состояние актрисы ухудшилось\n",
            "\n"
          ]
        },
        {
          "output_type": "stream",
          "name": "stderr",
          "text": [
            "Setting `pad_token_id` to `eos_token_id`:50256 for open-end generation.\n"
          ]
        },
        {
          "output_type": "stream",
          "name": "stdout",
          "text": [
            "По словам Стаса, актриса в переписке с ним назвала бредом сообщения о том, что она в тяжёлом состоянии находится в реанимации с отёком мозга.\n",
            "По словам Стаса, актриса в переписке с ним назвала бредом сообщения о том, что она в тяжёлом состоянии находится в реанимации с отеком мозга.\n",
            "\n",
            "\n",
            "11 baseline \n"
          ]
        },
        {
          "output_type": "stream",
          "name": "stderr",
          "text": [
            "Setting `pad_token_id` to `eos_token_id`:50256 for open-end generation.\n"
          ]
        },
        {
          "output_type": "stream",
          "name": "stdout",
          "text": [
            "Вид Галифакса.\n",
            "Галифакс - город в округе Галифакс, штат Айова, США.\n",
            "\n"
          ]
        },
        {
          "output_type": "stream",
          "name": "stderr",
          "text": [
            "Setting `pad_token_id` to `eos_token_id`:50256 for open-end generation.\n"
          ]
        },
        {
          "output_type": "stream",
          "name": "stdout",
          "text": [
            "Канадский морской офицер, который признался в том, что сотрудничал с российскими спецслужбами в течение 4 лет, был приговорен к 20 годам в тюрьме.\n",
            "Канадский морской офицер, который признался в сотрудничестве с русскими спецслужбами в течение 4 лет, был приговорен к 20 годам тюремного заключения.\n",
            "\n"
          ]
        },
        {
          "output_type": "stream",
          "name": "stderr",
          "text": [
            "Setting `pad_token_id` to `eos_token_id`:50256 for open-end generation.\n"
          ]
        },
        {
          "output_type": "stream",
          "name": "stdout",
          "text": [
            "Дилайла также обязали выплаить штраф в размере более 110 тысяч долларов — суммы которую он получил от России.\n",
            "Дилайла также получил штраф в размере более 110 тысяч долларов от России.\n",
            "\n"
          ]
        },
        {
          "output_type": "stream",
          "name": "stderr",
          "text": [
            "Setting `pad_token_id` to `eos_token_id`:50256 for open-end generation.\n"
          ]
        },
        {
          "output_type": "stream",
          "name": "stdout",
          "text": [
            "Офицер военно-морской разведки Джеффри Дилайл, не обнаружил особых знаков волнения, когда ему был зачитан приговор, в котором офицера признали виновным в передаче иностранным организациям информации, которая могда повредить национальным интересам Канады.\n",
            "Офицер военно-морской разведки Джеффри Дилайл, не заметил особых знаков волнения, когда ему был зачитан приговор, в котором офицера признали виновным в передаче иностранным организациям информации, которая могла нанести ущерб национальным интересам Канады.\n",
            "\n"
          ]
        },
        {
          "output_type": "stream",
          "name": "stderr",
          "text": [
            "Setting `pad_token_id` to `eos_token_id`:50256 for open-end generation.\n"
          ]
        },
        {
          "output_type": "stream",
          "name": "stdout",
          "text": [
            "Джеффри Дилайлу 41 год. Он работал в канадском Галифаксе на контрольно-пропускном пункте морского транспорта.\n",
            "жеффри Дилайлу 41 год. Он работал в канадском Галифаксе на контрольно-пропускном посту морского транспорта.\n",
            "\n"
          ]
        },
        {
          "output_type": "stream",
          "name": "stderr",
          "text": [
            "Setting `pad_token_id` to `eos_token_id`:50256 for open-end generation.\n"
          ]
        },
        {
          "output_type": "stream",
          "name": "stdout",
          "text": [
            "Сообщается, что он выкрадывал секретную информацию, копируя её на «флэшки».\n",
            "Он украл секретную информацию, скопировав ее на флэшки.\n",
            "\n"
          ]
        },
        {
          "output_type": "stream",
          "name": "stderr",
          "text": [
            "Setting `pad_token_id` to `eos_token_id`:50256 for open-end generation.\n"
          ]
        },
        {
          "output_type": "stream",
          "name": "stdout",
          "text": [
            "Дилайл, опустошённый тем, что начал распадаться его брак, в 2007 году пришел в посольство России в Оттаве и предложил продать секретную информацию.\n",
            "Дилайл, опустошенный разводом, в 2007 году пришел в посольство России в Оттаве и предложил продать секретную информацию.\n",
            "\n",
            "\n",
            "12 baseline \n"
          ]
        },
        {
          "output_type": "stream",
          "name": "stderr",
          "text": [
            "Setting `pad_token_id` to `eos_token_id`:50256 for open-end generation.\n"
          ]
        },
        {
          "output_type": "stream",
          "name": "stdout",
          "text": [
            "1 апреля 2013 года власти Индонезии конфисковали 687 двухкоготных черепах с грузового самолёта в столичном аэропорту.\n",
            "Индонезия конфискует 687 двухъярусных черепах с грузового самолета в столичном аэропорту.\n",
            "\n"
          ]
        },
        {
          "output_type": "stream",
          "name": "stderr",
          "text": [
            "Setting `pad_token_id` to `eos_token_id`:50256 for open-end generation.\n"
          ]
        },
        {
          "output_type": "stream",
          "name": "stdout",
          "text": [
            "На посылке был указан несуществующий адрес.\n",
            "На посылке был указан несуществующий адрес.\n",
            "\n"
          ]
        },
        {
          "output_type": "stream",
          "name": "stderr",
          "text": [
            "Setting `pad_token_id` to `eos_token_id`:50256 for open-end generation.\n"
          ]
        },
        {
          "output_type": "stream",
          "name": "stdout",
          "text": [
            "Черепах собираются вернуть в их место обитания — Новую Гвинею.\n",
            "Черепах собираются вернуть в их место обитания - Новую Гвинею.\n",
            "\n"
          ]
        },
        {
          "output_type": "stream",
          "name": "stderr",
          "text": [
            "Setting `pad_token_id` to `eos_token_id`:50256 for open-end generation.\n"
          ]
        },
        {
          "output_type": "stream",
          "name": "stdout",
          "text": [
            "Черепахам, которым не было и месяца, пришлось перенести полёт из восточной провинции Индонезии (с острова Новая Гвинея) в международный аэропорт Сукарно Хатта 15 марта 2013 года.\n",
            "Черепахам пришлось перенести полёт из восточной провинции Индонезии (с острова Новая Гвинея) в международный аэропорт Сукарно Хатта 15 марта 2013 года.\n",
            "\n"
          ]
        },
        {
          "output_type": "stream",
          "name": "stderr",
          "text": [
            "Setting `pad_token_id` to `eos_token_id`:50256 for open-end generation.\n"
          ]
        },
        {
          "output_type": "stream",
          "name": "stdout",
          "text": [
            "По прибытию служащие увидели содержимое повреждённой упаковки.\n",
            "По прибытию служащие увидели содержимое поврежденной упаковки.\n",
            "\n"
          ]
        },
        {
          "output_type": "stream",
          "name": "stderr",
          "text": [
            "Setting `pad_token_id` to `eos_token_id`:50256 for open-end generation.\n"
          ]
        },
        {
          "output_type": "stream",
          "name": "stdout",
          "text": [
            "Она была записана как ручная кладь, но определить отправителя не удалось.\n",
            "Она была ручной кладью, но определить отправителя не удалось.\n",
            "\n"
          ]
        },
        {
          "output_type": "stream",
          "name": "stderr",
          "text": [
            "Setting `pad_token_id` to `eos_token_id`:50256 for open-end generation.\n"
          ]
        },
        {
          "output_type": "stream",
          "name": "stdout",
          "text": [
            "Причины двухнедельной задержки также неизвестны.\n",
            "Причины двухнедельной задержки также неизвестны.\n",
            "\n"
          ]
        },
        {
          "output_type": "stream",
          "name": "stderr",
          "text": [
            "Setting `pad_token_id` to `eos_token_id`:50256 for open-end generation.\n"
          ]
        },
        {
          "output_type": "stream",
          "name": "stdout",
          "text": [
            "Сотрудники предположили, что посылка могла быть неудачной попыткой контрабанды в Гонконг.\n",
            "отрудники предположили, что посылка могла быть неудачной попыткой контрабанды в Гонконг.\n",
            "\n"
          ]
        },
        {
          "output_type": "stream",
          "name": "stderr",
          "text": [
            "Setting `pad_token_id` to `eos_token_id`:50256 for open-end generation.\n"
          ]
        },
        {
          "output_type": "stream",
          "name": "stdout",
          "text": [
            "По законам Индонезии, такое преступление влечёт за собой до трёх лет заключения и штраф в размере до 15,4 тыс. долларов США.\n",
            "По законам Индонезии, такое преступление влечёт за собой до трёх лет тюрьмы и штраф в размере до 15,4 тыс. долларов США.\n",
            "\n"
          ]
        },
        {
          "output_type": "stream",
          "name": "stderr",
          "text": [
            "Setting `pad_token_id` to `eos_token_id`:50256 for open-end generation.\n"
          ]
        },
        {
          "output_type": "stream",
          "name": "stdout",
          "text": [
            "Министерство морских дел и рыболовства сообщило, что черепах передадут на лечение в Центр природных ресурсов в столице и затем отпустят в Новой Гвинее.\n",
            "Министерство морских дел и рыболовства сообщило, что черепах отправят в Центр природных ресурсов в столице и затем отпустят в Новой Гвинее.\n",
            "\n"
          ]
        },
        {
          "output_type": "stream",
          "name": "stderr",
          "text": [
            "Setting `pad_token_id` to `eos_token_id`:50256 for open-end generation.\n"
          ]
        },
        {
          "output_type": "stream",
          "name": "stdout",
          "text": [
            "Отличительным признаком вида является розовый мясистый сопло-образный нос.\n",
            "Отличительным признаком вида является розовый сопло-образный нос.\n",
            "\n"
          ]
        },
        {
          "output_type": "stream",
          "name": "stderr",
          "text": [
            "Setting `pad_token_id` to `eos_token_id`:50256 for open-end generation.\n"
          ]
        },
        {
          "output_type": "stream",
          "name": "stdout",
          "text": [
            "Конвенция о международной торговле видами дикой фауны и флоры, находящимися под угрозой уничтожения классифицирует вид как исчезающий.\n",
            "Конвенция о международной торговле видами дикой фауны и флоры, находящимися под угрозой исчезновения, классифицирует вид как исчезающий.\n",
            "\n"
          ]
        },
        {
          "output_type": "stream",
          "name": "stderr",
          "text": [
            "Setting `pad_token_id` to `eos_token_id`:50256 for open-end generation.\n"
          ]
        },
        {
          "output_type": "stream",
          "name": "stdout",
          "text": [
            "Он также причислен к так называемым «живым ископаемым» — видам, относящимся к крупным таксонам, почти полностью вымершим десятки или сотни миллионов лет назад.\n",
            "Он также считается «живым ископаемым» -видом, почти полностью вымершим десятки или сотни миллионов лет назад.\n",
            "\n",
            "\n",
            "13 baseline \n"
          ]
        },
        {
          "output_type": "stream",
          "name": "stderr",
          "text": [
            "Setting `pad_token_id` to `eos_token_id`:50256 for open-end generation.\n"
          ]
        },
        {
          "output_type": "stream",
          "name": "stdout",
          "text": [
            "Международная федерация футбола окончательно определила состав претендентов на получение приза лучшему тренеру и лучшему игроку, вручение которого состоится 10 января в Цюрихе.\n",
            "Международный футбольный союз (FIFA) официально определил состав претендентов на получение приза лучшему тренеру и лучшему игроку.\n",
            "\n"
          ]
        },
        {
          "output_type": "stream",
          "name": "stderr",
          "text": [
            "Setting `pad_token_id` to `eos_token_id`:50256 for open-end generation.\n"
          ]
        },
        {
          "output_type": "stream",
          "name": "stdout",
          "text": [
            "Как сообщает NEWSru.com, в список вошли наставник футболистов национальной сборной Испании Висенте дель Боске, тренер испанского клуба «Барселона» Хосеп Гвардиола и Жозе Моуринью, тренирующий мадридский «Реал».\n",
            "Висенте дель Боске, тренер испанского клуба «Барселона» Хосеп Гвардиола и Жозе Моуринью, тренирующие мадридский «Реал».\n",
            "\n"
          ]
        },
        {
          "output_type": "stream",
          "name": "stderr",
          "text": [
            "Setting `pad_token_id` to `eos_token_id`:50256 for open-end generation.\n"
          ]
        },
        {
          "output_type": "stream",
          "name": "stdout",
          "text": [
            "Напомним, что в 2010 году Висенте дель Боске впервые привёл сборную Испании к победе на чемпионате мира, под руководством Хосепа Гвардиолы «Барселона» завоевала свой очередной титул чемпиона Испании, а игроки миланского «Интера», опекаемые Жозе Моуринью, выиграли Кубок чемпионов, чемпионат и Кубок Италии.\n",
            "В 2010 году Висенте дель Боске впервые привёл сборную Испании к победе на чемпионате мира, под руководством Хосепа Гвардиолы «Барселона» завоевала свой очередной титул чемпиона Испании.\n",
            "\n"
          ]
        },
        {
          "output_type": "stream",
          "name": "stderr",
          "text": [
            "Setting `pad_token_id` to `eos_token_id`:50256 for open-end generation.\n"
          ]
        },
        {
          "output_type": "stream",
          "name": "stdout",
          "text": [
            "Ранее на приз «Золотой мяч» от ФИФА были выдвинуты выступающие за «Барселону» игроки сборной Испании Хави Эрнандес, Андрес Иньеста, а также аргентинец Лионель Месси.\n",
            "На этот раз на приз «Золотой мяч» от ФИФА были выдвинуты игроки сборной Испании Хави Эрнандес, Андрес Иньеста и Лионель Месси.\n",
            "\n"
          ]
        },
        {
          "output_type": "stream",
          "name": "stderr",
          "text": [
            "Setting `pad_token_id` to `eos_token_id`:50256 for open-end generation.\n"
          ]
        },
        {
          "output_type": "stream",
          "name": "stdout",
          "text": [
            "Трио футболистов «Барсы» набрало наибольшее количество голосов в опросе среди капитанов и тренеров национальных сборных, а также представителей международных СМИ, выбранных журналом France Football.\n",
            "Трио футболистов «Барсы» набрало наибольшее количество голосов в опросе среди капитанов и тренеров национальных сборных.\n",
            "\n"
          ]
        },
        {
          "output_type": "stream",
          "name": "stderr",
          "text": [
            "Setting `pad_token_id` to `eos_token_id`:50256 for open-end generation.\n"
          ]
        },
        {
          "output_type": "stream",
          "name": "stdout",
          "text": [
            "Что же касается женского футбола, то тут двух номинанток на звание лучшей футболистки года делегировала Германия.\n",
            "Что же касается женского футбола, то тут двух номинанток на звание лучшей футболистки года делегировала Германия.\n",
            "\n"
          ]
        },
        {
          "output_type": "stream",
          "name": "stderr",
          "text": [
            "Setting `pad_token_id` to `eos_token_id`:50256 for open-end generation.\n"
          ]
        },
        {
          "output_type": "stream",
          "name": "stdout",
          "text": [
            "Ими стали форвард «Франкфурта» Биргит Принц, признававшаяся лучшей в 2003, 2004 и 2005 годах, а также хавбек «Турбине» Фатмире Байрамай, победившая в мае с потсдамским клубом в женской Лиге чемпионов УЕФА.\n",
            "Ими стали форвард «Франкфурта» Биргит Принц, признанная лучшей в 2003, 2004 и 2005 годах.\n",
            "\n"
          ]
        },
        {
          "output_type": "stream",
          "name": "stderr",
          "text": [
            "Setting `pad_token_id` to `eos_token_id`:50256 for open-end generation.\n"
          ]
        },
        {
          "output_type": "stream",
          "name": "stdout",
          "text": [
            "Третьим кандидатом стала бразильянка Марта, которую постоянно признавали сильнейшей начиная с 2006 года.\n",
            "Марта - третья по силе женщина в мире после Марии и Наоми.\n",
            "\n"
          ]
        },
        {
          "output_type": "stream",
          "name": "stderr",
          "text": [
            "Setting `pad_token_id` to `eos_token_id`:50256 for open-end generation.\n"
          ]
        },
        {
          "output_type": "stream",
          "name": "stdout",
          "text": [
            "На титул лучшего тренера женской команды по итогам года претендуют работающая с немецкой сборной Сильвия Найд, Марен Майнерт, выигравшая с командой Германии чемпионат мира среди девушек до 20 лет, а также шведка Пиа Сундхаге, ныне возглавляющая сборную США.\n",
            "Сильвия Найд, Марен Майнерт, выигравшая чемпионат мира среди юниоров до 20 лет, а также шведка Пиа Сундхаге, ныне возглавляющий сборную США.\n",
            "\n",
            "\n",
            "14 baseline \n"
          ]
        },
        {
          "output_type": "stream",
          "name": "stderr",
          "text": [
            "Setting `pad_token_id` to `eos_token_id`:50256 for open-end generation.\n"
          ]
        },
        {
          "output_type": "stream",
          "name": "stdout",
          "text": [
            "Рауль Кастро Председатель Госсовета и Совета министров Кубы Рауль Кастро объявил, что покинет свой пост в апреле 2018 года.\n",
            "Рауль Кастро Председатель Госсовета и Совета министров Кубы Рауль Кастро объявил, что уйдет в апреле.\n",
            "\n"
          ]
        },
        {
          "output_type": "stream",
          "name": "stderr",
          "text": [
            "Setting `pad_token_id` to `eos_token_id`:50256 for open-end generation.\n"
          ]
        },
        {
          "output_type": "stream",
          "name": "stdout",
          "text": [
            "Заявление он сделал 21 декабря 2017 года на заседании Национальной ассамблеи народной власти: Когда 19 апреля будет сформирован новый состав Национальной ассамблеи народной власти, завершится мой второй и последний срок на посту главы государства и правительства.\n",
            "Когда будет сформирован новый состав Национальной ассамблеи народной власти, завершится мой второй и последний срок на посту главы государства и правительства.\n",
            "\n"
          ]
        },
        {
          "output_type": "stream",
          "name": "stderr",
          "text": [
            "Setting `pad_token_id` to `eos_token_id`:50256 for open-end generation.\n"
          ]
        },
        {
          "output_type": "stream",
          "name": "stdout",
          "text": [
            "У Кубы появится новый председатель.\n",
            "У Кубы появится новый председатель.\n",
            "\n"
          ]
        },
        {
          "output_type": "stream",
          "name": "stderr",
          "text": [
            "Setting `pad_token_id` to `eos_token_id`:50256 for open-end generation.\n"
          ]
        },
        {
          "output_type": "stream",
          "name": "stdout",
          "text": [
            "86-летний Рауль Кастро возглавляет страну с 2008 года, когда с должности ушел его старший брат Фидель, правивший Кубой на протяжении 50 лет.\n",
            "С 2008 года он возглавляет страну с момента его смерти.\n",
            "\n",
            "\n",
            "15 baseline \n"
          ]
        },
        {
          "output_type": "stream",
          "name": "stderr",
          "text": [
            "Setting `pad_token_id` to `eos_token_id`:50256 for open-end generation.\n"
          ]
        },
        {
          "output_type": "stream",
          "name": "stdout",
          "text": [
            "Вадим Ампелонский на встрече в честь 15-летия Википедии в Москве Официального представителя Роскомнадзора Вадима Ампелонского и ещё двоих чиновников ведомства подозревают в мошенничестве в особо крупном размере, однако суд отказался их арестовывать.\n",
            "В Москве официальный представитель Роскомнадзора Вадим Ампелонский и ещё двое чиновников ведомства подозреваются в мошенничестве в особо крупном размере.\n",
            "\n"
          ]
        },
        {
          "output_type": "stream",
          "name": "stderr",
          "text": [
            "Setting `pad_token_id` to `eos_token_id`:50256 for open-end generation.\n"
          ]
        },
        {
          "output_type": "stream",
          "name": "stdout",
          "text": [
            "Власти и правоохранительные органы скрывают обстоятельства дела.\n",
            "Власти и правоохранительные органы скрывают обстоятельства дела.\n",
            "\n"
          ]
        },
        {
          "output_type": "stream",
          "name": "stderr",
          "text": [
            "Setting `pad_token_id` to `eos_token_id`:50256 for open-end generation.\n"
          ]
        },
        {
          "output_type": "stream",
          "name": "stdout",
          "text": [
            "Как стало известно сегодня, Чертановский суд Москвы ещё 5 октября 2017 года рассмотрел ходатайства следствия об избрании меры пресечения для пресс-секретаря Роскомнадзора Вадима Ампелонского, руководителя правового отдела ведомства Бориса Едидина и главы его аппарата Александра Весельчакова (п. 1 ч. 2 ст. 29 УПК России, ст. 108 УПК России).\n",
            "5 октября 2017 года суд Москвы рассмотрел ходатайства следствия об избрании меры пресечения для пресс-секретаря Роскомнадзора Вадима Ампелонского, руководителя правового отдела ведомства Бориса Едидина и главы его аппарата Александра Весельчакова (п. 1 ч. 2 ст. 29 УПК России, ст. 108 УПК России).\n",
            "\n"
          ]
        },
        {
          "output_type": "stream",
          "name": "stderr",
          "text": [
            "Setting `pad_token_id` to `eos_token_id`:50256 for open-end generation.\n"
          ]
        },
        {
          "output_type": "stream",
          "name": "stdout",
          "text": [
            "Все они проходят по делу о «мошенничестве, совершенном организованной группой либо в особо крупном размере или повлекшим лишение права гражданина на жилое помещение» (часть 4 статьи 159 УК РФ).\n",
            "Все они были связаны с «мошенничеством, совершенным организованной группой либо в особо крупном размере, либо в особо крупном размере».\n",
            "\n"
          ]
        },
        {
          "output_type": "stream",
          "name": "stderr",
          "text": [
            "Setting `pad_token_id` to `eos_token_id`:50256 for open-end generation.\n"
          ]
        },
        {
          "output_type": "stream",
          "name": "stdout",
          "text": [
            "Пр данным Lenta.ru, дело возбуждено Чертановским межрайонным следственным отделом Следственного комитета России в Москве.\n",
            "Следователь Чертановского межрайонного следственного отдела Следственного комитета России в Москве возбудил уголовное дело по статье 286 часть 2.\n",
            "\n"
          ]
        },
        {
          "output_type": "stream",
          "name": "stderr",
          "text": [
            "Setting `pad_token_id` to `eos_token_id`:50256 for open-end generation.\n"
          ]
        },
        {
          "output_type": "stream",
          "name": "stdout",
          "text": [
            "Позже его передали в центральный аппарат СК РФ.\n",
            "Позже его передали в центральный аппарат Следственного комитета РФ.\n",
            "\n"
          ]
        },
        {
          "output_type": "stream",
          "name": "stderr",
          "text": [
            "Setting `pad_token_id` to `eos_token_id`:50256 for open-end generation.\n"
          ]
        },
        {
          "output_type": "stream",
          "name": "stdout",
          "text": [
            "Следователи просили отправить Ампелонского и Едидина в СИЗО, а Весельчакова под домашний арест.\n",
            "Следователи попросили отправить Ампелонского и Едидина в тюрьму.\n",
            "\n"
          ]
        },
        {
          "output_type": "stream",
          "name": "stderr",
          "text": [
            "Setting `pad_token_id` to `eos_token_id`:50256 for open-end generation.\n"
          ]
        },
        {
          "output_type": "stream",
          "name": "stdout",
          "text": [
            "Однако суд отказался отправить чиновников под стражу.\n",
            "Однако суд не позволил чиновникам арестовать себя.\n",
            "\n"
          ]
        },
        {
          "output_type": "stream",
          "name": "stderr",
          "text": [
            "Setting `pad_token_id` to `eos_token_id`:50256 for open-end generation.\n"
          ]
        },
        {
          "output_type": "stream",
          "name": "stdout",
          "text": [
            "Сейчас Ампелонский и Едидин находится под подпиской о невыезде, а Весельчаков под домашним арестом.\n",
            "Сейчас Ампелонский и Едидин находятся под подпиской о невыезде.\n",
            "\n"
          ]
        },
        {
          "output_type": "stream",
          "name": "stderr",
          "text": [
            "Setting `pad_token_id` to `eos_token_id`:50256 for open-end generation.\n"
          ]
        },
        {
          "output_type": "stream",
          "name": "stdout",
          "text": [
            "Никакой дополнительной информации органы следствия не распространяют.\n",
            "Никакой дополнительной информации органы следствия не сообщают.\n",
            "\n"
          ]
        },
        {
          "output_type": "stream",
          "name": "stderr",
          "text": [
            "Setting `pad_token_id` to `eos_token_id`:50256 for open-end generation.\n"
          ]
        },
        {
          "output_type": "stream",
          "name": "stdout",
          "text": [
            "Власти также отказываются от комментариев.\n",
            "Власти также не комментируют.\n",
            "\n"
          ]
        },
        {
          "output_type": "stream",
          "name": "stderr",
          "text": [
            "Setting `pad_token_id` to `eos_token_id`:50256 for open-end generation.\n"
          ]
        },
        {
          "output_type": "stream",
          "name": "stdout",
          "text": [
            "Руководитель Роскомнадзора Александр Жаров вообще заявил «Ведомостям», что ему ничего не известно об уголовных делах, в которых фигурируют его сотрудники, и отказался отвечать на другие вопросы.\n",
            "уководитель Роскомнадзора Александр Жаров вообще ничего не знает об уголовных делах, в которых фигурируют его сотрудники.\n",
            "\n"
          ]
        },
        {
          "output_type": "stream",
          "name": "stderr",
          "text": [
            "Setting `pad_token_id` to `eos_token_id`:50256 for open-end generation.\n"
          ]
        },
        {
          "output_type": "stream",
          "name": "stdout",
          "text": [
            "Вадим Ампелонский не отвечает на запросы нашего корреспондента и журналистов других СМИ.\n",
            "Вадим Ампелонский не отвечает на запросы корреспондента и журналистов других СМИ.\n",
            "\n"
          ]
        },
        {
          "output_type": "stream",
          "name": "stderr",
          "text": [
            "Setting `pad_token_id` to `eos_token_id`:50256 for open-end generation.\n"
          ]
        },
        {
          "output_type": "stream",
          "name": "stdout",
          "text": [
            "По словам собеседника vc.ru, Ампелонский и Весельчаков не появлялись на работе неделю.\n",
            "По словам собеседника vc.ru, Ампелонский и Весельчаков не появлялись на работе.\n",
            "\n"
          ]
        },
        {
          "output_type": "stream",
          "name": "stderr",
          "text": [
            "Setting `pad_token_id` to `eos_token_id`:50256 for open-end generation.\n"
          ]
        },
        {
          "output_type": "stream",
          "name": "stdout",
          "text": [
            "Ранее 10 октября телеграм-канал «Опер слил» сообщал об обысках в подведомственном Роскомнадзору ФГУП «Главный радиочастотный центр», который якобы должен был возглавить Едидин.\n",
            "10 октября теле- и радиоканал «Опер слил» сообщил об обысках в подведомственном Роскомнадзору ФГУП «Главный радиочастотный центр».\n",
            "\n"
          ]
        },
        {
          "output_type": "stream",
          "name": "stderr",
          "text": [
            "Setting `pad_token_id` to `eos_token_id`:50256 for open-end generation.\n"
          ]
        },
        {
          "output_type": "stream",
          "name": "stdout",
          "text": [
            "Источник РБК также сообщает, что дело может быть связано с оформлением фиктивных сотрудников в одно из подразделений Роскомнадзора, возможно им как раз и является ФГУП «Главный радиочастотный центр».\n",
            "Источники РБК также сообщают, что дело может быть связано с оформлением фиктивных сотрудников в одно из подразделений Роскомнадзора.\n",
            "\n"
          ]
        },
        {
          "output_type": "stream",
          "name": "stderr",
          "text": [
            "Setting `pad_token_id` to `eos_token_id`:50256 for open-end generation.\n"
          ]
        },
        {
          "output_type": "stream",
          "name": "stdout",
          "text": [
            "Источник «Ведомостей» также связывает дело с ФГУП «Главный радиочастотный центр», который занимался распределением частот для операторов связи и несколько раз оказывался в центре скандалов и гражданских исков.\n",
            "Источники «Ведомостей» также связывают дело с ФГУП «ГРЧЦ», которое занималось распределением частот для операторов связи.\n",
            "\n",
            "\n",
            "16 baseline \n"
          ]
        },
        {
          "output_type": "stream",
          "name": "stderr",
          "text": [
            "Setting `pad_token_id` to `eos_token_id`:50256 for open-end generation.\n"
          ]
        },
        {
          "output_type": "stream",
          "name": "stdout",
          "text": [
            "Власти США арестовали 27-летнюю жительницу Нью-Йорка по обвинению в финансировании Исламского государства (ИГ) биткоинами.\n",
            "Власти США арестовали 27-летнюю жительницу Нью-Йорка по обвинению в финансировании Исламского государства (ИГ).\n",
            "\n"
          ]
        },
        {
          "output_type": "stream",
          "name": "stderr",
          "text": [
            "Setting `pad_token_id` to `eos_token_id`:50256 for open-end generation.\n"
          ]
        },
        {
          "output_type": "stream",
          "name": "stdout",
          "text": [
            "Власти считают, что женщина давно интересовалась и поддерживала ИГ.\n",
            "Власти считают, что женщина давно интересовалась и поддерживала ИГ.\n",
            "\n"
          ]
        },
        {
          "output_type": "stream",
          "name": "stderr",
          "text": [
            "Setting `pad_token_id` to `eos_token_id`:50256 for open-end generation.\n"
          ]
        },
        {
          "output_type": "stream",
          "name": "stdout",
          "text": [
            "Министерство юстиции заявляет, что арестованная гражданка США Зубия Шахназ (Zoobia Shahnaz) незаконно получила кредит в банке и обналичила кредитные карты на общую сумму около 85 тысяч долларов.\n",
            "Министерство юстиции заявляет, что арестованная гражданка США Зубия Шахназ (Zoobia Shahnaz) незаконно получила кредит в банке и обналичила кредитные карты на общую сумму около 85 тысяч долларов.\n",
            "\n"
          ]
        },
        {
          "output_type": "stream",
          "name": "stderr",
          "text": [
            "Setting `pad_token_id` to `eos_token_id`:50256 for open-end generation.\n"
          ]
        },
        {
          "output_type": "stream",
          "name": "stdout",
          "text": [
            "На эти деньги она купила биткоины и другие криптовалюты, пожертвовав затем средства в пользу ИГ.\n",
            "На эти деньги она купила биткоины и другие криптовалюты.\n",
            "\n"
          ]
        },
        {
          "output_type": "stream",
          "name": "stderr",
          "text": [
            "Setting `pad_token_id` to `eos_token_id`:50256 for open-end generation.\n"
          ]
        },
        {
          "output_type": "stream",
          "name": "stdout",
          "text": [
            "Среди пострадавших финансовых учреждений — American Express Bank, Chase Bank, Discover Bank.\n",
            "Среди пострадавших финансовых учреждений - American Express Bank, Chase Bank, Discover Bank.\n",
            "\n"
          ]
        },
        {
          "output_type": "stream",
          "name": "stderr",
          "text": [
            "Setting `pad_token_id` to `eos_token_id`:50256 for open-end generation.\n"
          ]
        },
        {
          "output_type": "stream",
          "name": "stdout",
          "text": [
            "Она пыталась выехать из США в Пакистан, но была задержана в июле в аэропорту Джона Кеннеди в Нью-Йорке.\n",
            "Она пыталась покинуть США в Пакистан, но была задержанной в аэропорту Джона Кеннеди в Нью-Йорке.\n",
            "\n"
          ]
        },
        {
          "output_type": "stream",
          "name": "stderr",
          "text": [
            "Setting `pad_token_id` to `eos_token_id`:50256 for open-end generation.\n"
          ]
        },
        {
          "output_type": "stream",
          "name": "stdout",
          "text": [
            "Власти считают, что она хотела попасть через Турцию в Сирию, чтобы присоединиться к ИГ.\n",
            "Власти считают, что она хотела попасть в Сирию, чтобы присоединиться к ИГ.\n",
            "\n"
          ]
        },
        {
          "output_type": "stream",
          "name": "stderr",
          "text": [
            "Setting `pad_token_id` to `eos_token_id`:50256 for open-end generation.\n"
          ]
        },
        {
          "output_type": "stream",
          "name": "stdout",
          "text": [
            "Женщина работала в больнице Манхэттена, зарабатывая около 70 тысяч долларов в год.  В 2016 году Шахназ была в Иордании в качестве волонтёра «Сирийско-американского медицинского общества».\n",
            "Шахназ работала в больнице Манхэттена, зарабатывая около 70 тысяч долларов в год.\n",
            "\n"
          ]
        },
        {
          "output_type": "stream",
          "name": "stderr",
          "text": [
            "Setting `pad_token_id` to `eos_token_id`:50256 for open-end generation.\n"
          ]
        },
        {
          "output_type": "stream",
          "name": "stdout",
          "text": [
            "Там она оказывала медицинскую помощь сирийским беженцам.\n",
            "Там она оказывала медицинскую помощь сирийским беженцам.\n",
            "\n"
          ]
        },
        {
          "output_type": "stream",
          "name": "stderr",
          "text": [
            "Setting `pad_token_id` to `eos_token_id`:50256 for open-end generation.\n"
          ]
        },
        {
          "output_type": "stream",
          "name": "stdout",
          "text": [
            "По мнению властей, ИГ имело большое влияние в лагере беженцев, где женщина общалась со сторонниками ИГ.\n",
            "Власти считают, что ИГ оказало большое влияние в лагере беженцев, где женщина общалась с людьми, которые были против ИГ.\n",
            "\n"
          ]
        },
        {
          "output_type": "stream",
          "name": "stderr",
          "text": [
            "Setting `pad_token_id` to `eos_token_id`:50256 for open-end generation.\n"
          ]
        },
        {
          "output_type": "stream",
          "name": "stdout",
          "text": [
            "ФБР изучило деятельность Шахназ в интернете — с 2015 года женщина задумывалась о переезде («хиджре») в ИГ и посещала страницы пропагандистов ИГ, в том числе тех, кто призывал нападать на цели в США.\n",
            "ФБР изучило деятельность Шахназ в интернете с 2015 года. Женщина посещала страницы пропагандистов ИГ, в том числе тех, кто призывал нападать на цели в США.\n",
            "\n",
            "\n",
            "17 baseline \n"
          ]
        },
        {
          "output_type": "stream",
          "name": "stderr",
          "text": [
            "Setting `pad_token_id` to `eos_token_id`:50256 for open-end generation.\n"
          ]
        },
        {
          "output_type": "stream",
          "name": "stdout",
          "text": [
            "Криштиану Роналду В понедельник, 23 октября 2017 года, в лондонском эстрадном театре «Палладиум» прошла церемония вручения наград ФИФА.\n",
            "В понедельник, 23 октября, в лондонском эстрадном театре «Палладиум» состоялась церемония вручения наград ФИФА.\n",
            "\n"
          ]
        },
        {
          "output_type": "stream",
          "name": "stderr",
          "text": [
            "Setting `pad_token_id` to `eos_token_id`:50256 for open-end generation.\n"
          ]
        },
        {
          "output_type": "stream",
          "name": "stdout",
          "text": [
            "Нападающий «Реала» и сборной Португалии Криштиану Роналду признан лучшим футболистом 2017 года.\n",
            "Криштиану Роналду - футболист года Португалии.\n",
            "\n"
          ]
        },
        {
          "output_type": "stream",
          "name": "stderr",
          "text": [
            "Setting `pad_token_id` to `eos_token_id`:50256 for open-end generation.\n"
          ]
        },
        {
          "output_type": "stream",
          "name": "stdout",
          "text": [
            "Он опередил в споре за это звание Лионеля Месси («Барселона») и Неймара («Барселона»/«ПСЖ»).\n",
            "Месси и Неймар были первыми, кто выиграл титул.\n",
            "\n"
          ]
        },
        {
          "output_type": "stream",
          "name": "stderr",
          "text": [
            "Setting `pad_token_id` to `eos_token_id`:50256 for open-end generation.\n"
          ]
        },
        {
          "output_type": "stream",
          "name": "stdout",
          "text": [
            "Роналду является действующим обладателем награды.\n",
            "Роналду - действующий обладатель награды.\n",
            "\n"
          ]
        },
        {
          "output_type": "stream",
          "name": "stderr",
          "text": [
            "Setting `pad_token_id` to `eos_token_id`:50256 for open-end generation.\n"
          ]
        },
        {
          "output_type": "stream",
          "name": "stdout",
          "text": [
            "В 2017 году в составе «Реала» он выиграл чемпионат Испании и Лигу чемпионов, став лучшим бомбардиром турнира.\n",
            "В составе «Реала» он выиграл чемпионат Испании и Лигу чемпионов.\n",
            "\n"
          ]
        },
        {
          "output_type": "stream",
          "name": "stderr",
          "text": [
            "Setting `pad_token_id` to `eos_token_id`:50256 for open-end generation.\n"
          ]
        },
        {
          "output_type": "stream",
          "name": "stdout",
          "text": [
            "Зинедин Зидан Главный тренер мадридского «Реала» Зинедин Зидан стал лучшим тренером 2017 года.\n",
            "Зинедин Зидан - лучший тренер года по версии Forbes.\n",
            "\n"
          ]
        },
        {
          "output_type": "stream",
          "name": "stderr",
          "text": [
            "Setting `pad_token_id` to `eos_token_id`:50256 for open-end generation.\n"
          ]
        },
        {
          "output_type": "stream",
          "name": "stdout",
          "text": [
            "В споре за это звание он опередил главного тренера «Челси» Антонио Конте и рулевого «Ювентуса» Массимилиано Аллегри.\n",
            "В споре за это звание он опередил главного тренера «Челси» Антонио Конте и рулевого «Ювентуса» Массимилиано Аллегри.\n",
            "\n"
          ]
        },
        {
          "output_type": "stream",
          "name": "stderr",
          "text": [
            "Setting `pad_token_id` to `eos_token_id`:50256 for open-end generation.\n"
          ]
        },
        {
          "output_type": "stream",
          "name": "stdout",
          "text": [
            "Джанлуиджи Буффон Итальянский голкипер Джанлуиджи Буффон (Ювентус) признан ФИФА лучшим вратарём года и стал первым обладателем этой награды.\n",
            "Джанлуиджи Буффон (Ювентус) - итальянский вратарь.\n",
            "\n"
          ]
        },
        {
          "output_type": "stream",
          "name": "stderr",
          "text": [
            "Setting `pad_token_id` to `eos_token_id`:50256 for open-end generation.\n"
          ]
        },
        {
          "output_type": "stream",
          "name": "stdout",
          "text": [
            "Получив приз, голкипер, которому в январе исполнится 40 лет, сказал, что он польщен получить столь почетное признание в таком почтенном возрасте.\n",
            "Голкипер, которому в январе исполнится 40 лет, сказал, что он польщен получить такое признание в таком почтенном возрасте.\n",
            "\n"
          ]
        },
        {
          "output_type": "stream",
          "name": "stderr",
          "text": [
            "Setting `pad_token_id` to `eos_token_id`:50256 for open-end generation.\n"
          ]
        },
        {
          "output_type": "stream",
          "name": "stdout",
          "text": [
            "Лауреатом приза за честную игру от FIFA стал нападающий чешского клуба «Словацко» (1.\n",
            "Лучшим игроком года по версии FIFA стал нападающий словацкого клуба «Словацко» (1).\n",
            "\n"
          ]
        },
        {
          "output_type": "stream",
          "name": "stderr",
          "text": [
            "Setting `pad_token_id` to `eos_token_id`:50256 for open-end generation.\n"
          ]
        },
        {
          "output_type": "stream",
          "name": "stdout",
          "text": [
            "FC Slovácko) Франсис Коне (Francis Koné), который во время матча с «Богемиансом» спас жизнь вратарю соперника Мартину Берковецу (Martin Berkovec).\n",
            "Франсис Коне (Франсис Коне) спас жизнь вратарю соперника Мартину Берковецу (Martin Berkovec).\n",
            "\n"
          ]
        },
        {
          "output_type": "stream",
          "name": "stderr",
          "text": [
            "Setting `pad_token_id` to `eos_token_id`:50256 for open-end generation.\n"
          ]
        },
        {
          "output_type": "stream",
          "name": "stdout",
          "text": [
            "Голкипер врезался в своего защитника и потерял сознание.\n",
            "Голкипер врезался в своего защитника и потерял сознание.\n",
            "\n"
          ]
        },
        {
          "output_type": "stream",
          "name": "stderr",
          "text": [
            "Setting `pad_token_id` to `eos_token_id`:50256 for open-end generation.\n"
          ]
        },
        {
          "output_type": "stream",
          "name": "stdout",
          "text": [
            "У Берковеца запал язык, и Коне оказал ему первую помощь.\n",
            "Берковеца за язык схватил Коне.\n",
            "\n"
          ]
        },
        {
          "output_type": "stream",
          "name": "stderr",
          "text": [
            "Setting `pad_token_id` to `eos_token_id`:50256 for open-end generation.\n"
          ]
        },
        {
          "output_type": "stream",
          "name": "stdout",
          "text": [
            "Полузащитник испанской «Барселоны» и сборной Нидерландов Лике Мартенс признана лучшей футболисткой года.\n",
            "Полузащитник испанской «Барселоны» и сборной Нидерландов Лике Мартенс признана лучшей футболисткой года.\n",
            "\n"
          ]
        },
        {
          "output_type": "stream",
          "name": "stderr",
          "text": [
            "Setting `pad_token_id` to `eos_token_id`:50256 for open-end generation.\n"
          ]
        },
        {
          "output_type": "stream",
          "name": "stdout",
          "text": [
            "В составе сборной Нидерландов она стала чемпионкой Европы 2017 года.\n",
            "В составе сборной Нидерландов она стала чемпионкой Европы.\n",
            "\n"
          ]
        },
        {
          "output_type": "stream",
          "name": "stderr",
          "text": [
            "Setting `pad_token_id` to `eos_token_id`:50256 for open-end generation.\n"
          ]
        },
        {
          "output_type": "stream",
          "name": "stdout",
          "text": [
            "Мартенс забила три мяча, сделала две голевые передачи и получила звание лучшего игрока турнира.\n",
            "Мартенс забил три мяча и сделал две передачи.\n",
            "\n"
          ]
        },
        {
          "output_type": "stream",
          "name": "stderr",
          "text": [
            "Setting `pad_token_id` to `eos_token_id`:50256 for open-end generation.\n"
          ]
        },
        {
          "output_type": "stream",
          "name": "stdout",
          "text": [
            "Лучшими болельщиками года стали фанаты «Селтика».\n",
            "Лучшими болельщиками года стали фанаты «Селтика».\n",
            "\n"
          ]
        },
        {
          "output_type": "stream",
          "name": "stderr",
          "text": [
            "Setting `pad_token_id` to `eos_token_id`:50256 for open-end generation.\n"
          ]
        },
        {
          "output_type": "stream",
          "name": "stdout",
          "text": [
            "На протяжении шести лет ФИФА вручала лучшему игроку планеты «Золотой мяч» совместно с редакцией журнала ''France Football'', однако с 2016 года французское издание, учредившее свой приз в 1956 году, и ФИФА вновь вручают награды по отдельности.\n",
            "На протяжении шести лет ФИФА вручала лучшему игроку планеты «Золотой мяч» вместе с редакцией журнала ''France Football'.\n",
            "\n",
            "\n",
            "18 baseline \n"
          ]
        },
        {
          "output_type": "stream",
          "name": "stderr",
          "text": [
            "Setting `pad_token_id` to `eos_token_id`:50256 for open-end generation.\n"
          ]
        },
        {
          "output_type": "stream",
          "name": "stdout",
          "text": [
            "Первез Мушарраф Специальный суд Пакистана вынес бывшему президенту и военному лидеру страны Первезу Мушаррафу смертный приговор.\n",
            "Первез Мушарраф приговорен к смертной казни.\n",
            "\n"
          ]
        },
        {
          "output_type": "stream",
          "name": "stderr",
          "text": [
            "Setting `pad_token_id` to `eos_token_id`:50256 for open-end generation.\n"
          ]
        },
        {
          "output_type": "stream",
          "name": "stdout",
          "text": [
            "Вердикт был вынесен судебной коллегией из трех судей под председательством главы Высокого суда Пешавара Вакара Ахмада Сэтха: Мушарраф признан виновным в соответствии с шестой статьей Конституции Пакистана.\n",
            "Мушарраф признан виновным в соответствии с шестой статьей Конституции Пакистана.\n",
            "\n"
          ]
        },
        {
          "output_type": "stream",
          "name": "stderr",
          "text": [
            "Setting `pad_token_id` to `eos_token_id`:50256 for open-end generation.\n"
          ]
        },
        {
          "output_type": "stream",
          "name": "stdout",
          "text": [
            "28 ноября Высокий суд Исламабада постановил отложить объявление приговора Специальным судом после рассмотрения соответствующей петиции, поданной Министерством внутренних дел Пакистана, которое попросило отсрочку для повторного анализа аргументов по делу.\n",
            "28 ноября Высокий суд Исламабада постановил отложить оглашение приговора Специальному суду после рассмотрения петиции, поданной Министерством внутренних дел Пакистана.\n",
            "\n"
          ]
        },
        {
          "output_type": "stream",
          "name": "stderr",
          "text": [
            "Setting `pad_token_id` to `eos_token_id`:50256 for open-end generation.\n"
          ]
        },
        {
          "output_type": "stream",
          "name": "stdout",
          "text": [
            "19 ноября Специальный суд завершил судебное разбирательство по делу от 2014 года о госизмене Мушаррафа и постановил, что приговор будет объявлен 28 ноября.\n",
            "19 ноября Специальный суд завершил судебное разбирательство по делу от 2014 года о госизмене Мушаррафа.\n",
            "\n"
          ]
        },
        {
          "output_type": "stream",
          "name": "stderr",
          "text": [
            "Setting `pad_token_id` to `eos_token_id`:50256 for open-end generation.\n"
          ]
        },
        {
          "output_type": "stream",
          "name": "stdout",
          "text": [
            "Обвинения в отношении 76-летнего Мушаррафа, который занимал пост президента с 2001 по 2008 год, связаны с приостановлением им действия конституции и введением в стране чрезвычайного положения в 2007 году.\n",
            "Обвинения в отношении 76-летнего Мушаррафа, который занимал пост президента с 2001 по 2008 год, связаны с приостановлением им действия конституции и введением в стране чрезвычайного положения в 2007 году.\n",
            "\n"
          ]
        },
        {
          "output_type": "stream",
          "name": "stderr",
          "text": [
            "Setting `pad_token_id` to `eos_token_id`:50256 for open-end generation.\n"
          ]
        },
        {
          "output_type": "stream",
          "name": "stdout",
          "text": [
            "Он также издал Указ о национальном примирении, который предусматривал снятие обвинения в коррупции со всех политических деятелей Пакистана, находившихся у власти с 1988 по 1999 год. Из-за противодействия оппозиционных партий Мушарраф был вынужден уйти в отставку в 2008 году.\n",
            "Он также издал Указ о национальном примирении, который предусматривал снятие обвинений в коррупции со всех политических деятелей Пакистана, находившихся у власти с 1988 по 1999 год.\n",
            "\n"
          ]
        },
        {
          "output_type": "stream",
          "name": "stderr",
          "text": [
            "Setting `pad_token_id` to `eos_token_id`:50256 for open-end generation.\n"
          ]
        },
        {
          "output_type": "stream",
          "name": "stdout",
          "text": [
            "В настоящее время бывший глава государства находится в ОАЭ, куда он отправился на лечение в 2016 году.\n",
            "Бывший глава государства находится в ОАЭ, куда он отправился на лечение в 2016 году.\n",
            "\n",
            "\n",
            "19 baseline \n"
          ]
        },
        {
          "output_type": "stream",
          "name": "stderr",
          "text": [
            "Setting `pad_token_id` to `eos_token_id`:50256 for open-end generation.\n"
          ]
        },
        {
          "output_type": "stream",
          "name": "stdout",
          "text": [
            "Имре Кертес 30 марта 2016 года в Будапеште, Венгрия, после долгой борьбы с болезнью скончался венгерский 86-летний писатель Имре Кертес.\n",
            "Имре Кертес 30 марта 2016 года в Будапеште, Венгрия, после долгой борьбы с болезнью скончался венгерский 86-летний писатель Имре Кертес.\n",
            "\n"
          ]
        },
        {
          "output_type": "stream",
          "name": "stderr",
          "text": [
            "Setting `pad_token_id` to `eos_token_id`:50256 for open-end generation.\n"
          ]
        },
        {
          "output_type": "stream",
          "name": "stdout",
          "text": [
            "В 15 лет Кертес попал в Освенцим, после чего в Бухенвальд.\n",
            "В 15 лет Кертес попал в Освенцим.\n",
            "\n"
          ]
        },
        {
          "output_type": "stream",
          "name": "stderr",
          "text": [
            "Setting `pad_token_id` to `eos_token_id`:50256 for open-end generation.\n"
          ]
        },
        {
          "output_type": "stream",
          "name": "stdout",
          "text": [
            "Личный опыт, полученный в концентрационных лагерях, отразился в дальнейшем в его трудах.\n",
            "Личный опыт, полученный в концентрационных лагерях, отразился в его трудах.\n",
            "\n"
          ]
        },
        {
          "output_type": "stream",
          "name": "stderr",
          "text": [
            "Setting `pad_token_id` to `eos_token_id`:50256 for open-end generation.\n"
          ]
        },
        {
          "output_type": "stream",
          "name": "stdout",
          "text": [
            "Он известен как автор романов о немецких концентрационных лагерях.\n",
            "Он известен как автор романов о немецких концлагерях.\n",
            "\n"
          ]
        },
        {
          "output_type": "stream",
          "name": "stderr",
          "text": [
            "Setting `pad_token_id` to `eos_token_id`:50256 for open-end generation.\n"
          ]
        },
        {
          "output_type": "stream",
          "name": "stdout",
          "text": [
            "В 2002 году Имре Кертес награждён Нобелевской премией по литературе «за творчество, в котором хрупкость личности противопоставлена варварскому деспотизму истории».\n",
            "В 2002 году Имре Кертес был удостоен Нобелевской премии по литературе «за творчество, в котором хрупкость личности противостоит варварскому деспотизму истории».\n",
            "\n"
          ]
        },
        {
          "output_type": "stream",
          "name": "stderr",
          "text": [
            "Setting `pad_token_id` to `eos_token_id`:50256 for open-end generation.\n"
          ]
        },
        {
          "output_type": "stream",
          "name": "stdout",
          "text": [
            "Самые известные работы писателя: «Без судьбы», «Кадиш по нерожденному ребенку».\n",
            "Самые известные его работы - «Без судьбы», «Кадиш по нерожденному ребенку».\n",
            "\n",
            "\n",
            "20 baseline \n"
          ]
        },
        {
          "output_type": "stream",
          "name": "stderr",
          "text": [
            "Setting `pad_token_id` to `eos_token_id`:50256 for open-end generation.\n"
          ]
        },
        {
          "output_type": "stream",
          "name": "stdout",
          "text": [
            "Президент США Барак Обама назначит в состав высшей судебной инстанции судью федерального апелляционного суда Соню Сотомайор (Sonia Sotomayor), сообщает Associated Press.\n",
            "Президент США Барак Обама назначит Соню Сотомайор судьей федерального апелляционного суда.\n",
            "\n"
          ]
        },
        {
          "output_type": "stream",
          "name": "stderr",
          "text": [
            "Setting `pad_token_id` to `eos_token_id`:50256 for open-end generation.\n"
          ]
        },
        {
          "output_type": "stream",
          "name": "stdout",
          "text": [
            "В случае утверждения ее кандидатуры Сенатом, Сотомайор станет первым судьей латиноамериканского происхождения в истории Верховного суда США.\n",
            "В случае утверждения ее кандидатуры Сенатом, Сотомайор станет первым судьей латиноамериканского происхождения в истории Верховного суда США.\n",
            "\n"
          ]
        },
        {
          "output_type": "stream",
          "name": "stderr",
          "text": [
            "Setting `pad_token_id` to `eos_token_id`:50256 for open-end generation.\n"
          ]
        },
        {
          "output_type": "stream",
          "name": "stdout",
          "text": [
            "О грядущем назначении на условиях анонимности сообщили представители администрации.\n",
            "О грядущем назначении на условиях анонимности сообщили представители администрации.\n",
            "\n"
          ]
        },
        {
          "output_type": "stream",
          "name": "stderr",
          "text": [
            "Setting `pad_token_id` to `eos_token_id`:50256 for open-end generation.\n"
          ]
        },
        {
          "output_type": "stream",
          "name": "stdout",
          "text": [
            "54-летняя Сотомайор будет назначена на одно из девяти мест в Верховном суде, которое после 19 лет работы покидает Дэвид Саутер (David Souter).\n",
            "54-летняя Сотомайор будет назначена на одно из девяти мест в Верховном суде, которое после 19 лет работы покидает Дэвид Саутер (David Souter).\n",
            "\n"
          ]
        },
        {
          "output_type": "stream",
          "name": "stderr",
          "text": [
            "Setting `pad_token_id` to `eos_token_id`:50256 for open-end generation.\n"
          ]
        },
        {
          "output_type": "stream",
          "name": "stdout",
          "text": [
            "Официальное заявление Обамы ожидается позднее во вторник.\n",
            "Официальное заявление Обамы ожидается позже во вторник.\n",
            "\n"
          ]
        },
        {
          "output_type": "stream",
          "name": "stderr",
          "text": [
            "Setting `pad_token_id` to `eos_token_id`:50256 for open-end generation.\n"
          ]
        },
        {
          "output_type": "stream",
          "name": "stdout",
          "text": [
            "В настоящее время товарищи президента по Демократической партии имеют в Сенате значительное большинство, и утверждение кандидатуры Сотомайор не должно вызвать сложностей.\n",
            "В настоящее время товарищи президента по Демократической партии имеют в Сенате значительное большинство.\n",
            "\n"
          ]
        },
        {
          "output_type": "stream",
          "name": "stderr",
          "text": [
            "Setting `pad_token_id` to `eos_token_id`:50256 for open-end generation.\n"
          ]
        },
        {
          "output_type": "stream",
          "name": "stdout",
          "text": [
            "Сотомайор родилась и выросла в малообеспеченной пуэрториканской семье в Нью-Йорке, окончила Принстонский университет и школу права в Йеле.\n",
            "Сотомайор родилась и выросла в Нью-Йорке, штат Нью-Йорк.\n",
            "\n"
          ]
        },
        {
          "output_type": "stream",
          "name": "stderr",
          "text": [
            "Setting `pad_token_id` to `eos_token_id`:50256 for open-end generation.\n"
          ]
        },
        {
          "output_type": "stream",
          "name": "stdout",
          "text": [
            "Работала прокурором, занималась частной юридической практикой, а в 1992 году стала федеральным судьей в Южном округе Нью-Йорка.\n",
            "В 1992 году стала федеральным судьей в Южном округе Нью-Йорка.\n",
            "\n"
          ]
        },
        {
          "output_type": "stream",
          "name": "stderr",
          "text": [
            "Setting `pad_token_id` to `eos_token_id`:50256 for open-end generation.\n"
          ]
        },
        {
          "output_type": "stream",
          "name": "stdout",
          "text": [
            "На это место ее выдвинул президент-республиканец Джордж Буш-старший, а его преемник-демократ Билл Клинтон назначил Сотомайор в федеральный апелляционный суд.  AP отмечает, что в случае благополучного утверждения Сотомайор станет самым опытным юристом, пришедшим в Верховный суд за последние 70 лет.\n",
            "На это место ее выдвинул президент-республиканец Джордж Буш-старший, а его преемник-демократ Билл Клинтон назначил Сотомайор в федеральный апелляционный суд.\n",
            "\n",
            "Кроме нее, в числе претендентов на место Саутера называли высшего чиновника министерства юстиции Елену Каган (Elena Kagan) и судью апелляционного суда Дайан Вуд (Diane Wood).\n",
            "Кроме нее, в списке претендентов на место Саутера называли высшее чиновничество министерства юстиции Елену Каган (Elena Kagan) и судью апелляционного суда Дайан Вуд (Diane Wood).\n",
            "\n",
            "\n"
          ]
        }
      ]
    },
    {
      "cell_type": "code",
      "source": [
        "# generating simplifications for random 200 files from the dataset using proposed models\n",
        "sample_size = 100 #200\n",
        "sample_file_list = txt_file_list[:sample_size]\n",
        "print(sample_file_list)\n",
        "\n",
        "generate_simplifications(sample_file_list, models[1:])"
      ],
      "metadata": {
        "colab": {
          "base_uri": "https://localhost:8080/"
        },
        "id": "8jANVUsxnoYS",
        "outputId": "c43f9a59-db18-4831-f27d-44302c56fdce"
      },
      "execution_count": null,
      "outputs": [
        {
          "output_type": "stream",
          "name": "stdout",
          "text": [
            "\u001b[1;30;43mВыходные данные были обрезаны до нескольких последних строк (5000).\u001b[0m\n",
            "Об этом объявлено утром в понедельник, 26 ноября, сообщил Regnum Центр источник в обладминистрации.\n",
            "\n",
            "После череды отставок в администрации Брянской области, которые произвёл губернатор Николай Денин (своих постов лишились три его заместителя и трое начальников департаментов), с понедельника, 26 ноября начала появляться информация о новых назначениях.\n",
            "После череды отставок в администрации Брянской области, которые произвёл губернатор Николай Денин (своих постов лишились три его заместителя и трое начальников департаментов), с понедельника, 26 ноября начала появляться информация о новых назначениях.\n",
            "\n",
            "Самое неожиданное назначение - приход на место заместителя губернатора по экономике бывшего конкурента Николая Денина на губернаторских выборах 14 октября Андрея Пономарёва.\n",
            "Самое неожиданное назначение - приход на место заместителя губернатора по экономике бывшего конкурента Николая Денина на губернаторских выборах 14 октября Андрея Пономарёва.\n",
            "\n",
            "Напомним, что Пономарёв баллотировался от партии \"Яблоко\", региональное отделение которой возглавлял 17 лет, но за неделю до голосования снял свою кандидатуру в пользу Денина.\n",
            "Напомним, что Пономарёв баллотировался от партии \"Яблоко\", региональное отделение которой возглавлял 17 лет, но за неделю до голосования снял свою кандидатуру в пользу Денина.\n",
            "\n",
            "За это центральное бюро \"Яблока\" исключило его из партии.\n",
            "За это центральное бюро \"Яблока\" исключило его из партии.\n",
            "\n",
            "Андрей Пономарёв, в соответствии с должностными обязанностями будет \"осуществлять координацию и регулирование деятельности органов власти в сфере экономики, курировать работу областных департаментов комитета экономического развития и государственных закупок, комитета по науке, управления информационных технологий, руководить координационными советами по инвестиционной и выставочно-ярмарочной деятельности\".\n",
            "Андрей Пономарёв, в соответствии с должностными обязанностями будет \"осуществлять координацию и регулирование деятельности органов власти в сфере экономики, осуществлять надзор работу областных департаментов комитета экономического развития и государственных закупок, комитета по науке, управления информационных технологий, руководить координационными советами по инвестиционной и выставочно-ярмарочной деятельности\".\n",
            "\n",
            "58-летний Андрей Пономарёв - ветеран брянской политики.\n",
            "58-летний Андрей Пономарёв - ветеран брянской политики.\n",
            "\n",
            "Он успел поработать во власти.\n",
            "Он успел запустить во власти.\n",
            "\n",
            "В 1993-1996 годах - член Коллегии администрации Брянской области, член экономического Совета при главе администрации Брянской области.\n",
            "В 1993-1996 годах - член Коллегии администрации Брянской области, член экономического Совета при главе администрации Брянской области.\n",
            "\n",
            "В декабре 1996 года был избран депутатом Брянского городского Совета народных депутатов, где организовал и возглавил депутатскую фракцию \"Независимые депутаты Брянска\".\n",
            "В декабре 1996 года был избран депутатом Брянского городского Совета народных депутатов, где организовал и возглавил депутатскую фракцию \"Независимые депутаты Брянска\".\n",
            "\n",
            "С детства занимался музыкой и спортом.\n",
            "С детства занимался музыкой и спортом.\n",
            "\n",
            "Был членом сборной области по плаванию.\n",
            "Был членом сборной области по плаванию.\n",
            "\n",
            "Как гитарист-вокалист играл в самом популярном в области вокально-инструментальном ансамбле \"Стожары\", вместе со своими коллегами возродил ансамбль и до недавнего времени основное место его работы было именно в ансамбле.\n",
            "Как гитарист-вокалист играл в самом популярном в области вокально-инструментальномансамблее \"Стожары\", вместе со своими коллегами возродил секстет и до недавнего времени основное место его работы было именно в ансамбле.\n",
            "\n",
            "Кроме того, 26 ноября на должность возглавлявшего аппарат администрации области Рашита Габдулвалеева назначен Иван Тимохин.\n",
            "Кроме того, 26 ноября на должность возглавлявшего аппарат администрации области Рашита Габдулвалеева назначен Иван Тимохин.\n",
            "\n",
            "Rambler-Новости      Заключенные прекратили акцию протеста в Копейске     Медведев не исключил возвращения на пост президента     Шойгу вытаскивает из запасов проверенных генералов и офицеров  68-летний Иван Тимохин - также не новичок в органах власти.\n",
            "Rambler-Новости      Заключенные прекратили акцию протеста в Копейске     Медведев не исключил возвращения на пост президента     Шойгу вытаскивает из запасов проверенных генералов и офицеров  68-летний Иван Тимохин - также не новичок в органах власти.\n",
            "\n",
            "Мало того, это его третий приход в обладминистрацию - в 1994 года он работал в администрации Брянской области председателем комитета по внешним и межрегиональным экономическим связям, а с 2006 по 2008 год работал на посту заместителя губернатора Брянской области.\n",
            "Мало того, это его третий приход в обладминистрацию - в 1994 года он работал в администрации Брянской области председателем комитета по внешним и межрегиональным экономическим связям, а с 2006 по 2008 год работал на посту заместителя губернатора Брянской области.\n",
            "\n",
            "С 2002 года был депутатом Брянского горсовета и занимал должность первого заместителя председателя горсовета.\n",
            "С 2002 года был депутатом Брянского горсовета и занимал должность первого заместителя председателя горсовета.\n",
            "\n",
            "В его задачу на новом месте работы, согласно должностному расписанию, будет входить организация финансового, документального и технического обеспечения деятельности администрации, координация работы ряда государственных автономных учреждений, осуществление оперативного руководства несколькими отделами, в частности писем и приема граждан.\n",
            "В его задачу на новом месте работы, согласно должностному расписанию, будет входить организация финансового, документального и технического обеспечения деятельности администрации, увязывание работы ряда государственных автономных учреждений, осуществление оперативного руководства несколькими отделами, в частности писем и приема граждан.\n",
            "\n",
            "Оба назначенца имеют приставку \"и.о.\" к своей должности - их кандидатуры должны быть согласованы Брянской областной думой.\n",
            "Оба назначенца имеют приставку \"и.о.\" к своей должности - их кандидатуры должны быть согласованы Брянской областной думой.\n",
            "\n",
            "Подробности: http://www.regnum.ru/news/polit/1597362.html#ixzz2DKmadXDx Любое использование материалов допускается только при наличии гиперссылки на ИА REGNUM\n",
            "Подробности: http://www.regnum.ru/news/polit/1597362.html#ixzz2DKmadXDx Любое использование материалов допускается только при наличии гиперссылки на ИА REGNUM\n",
            "\n",
            "\n",
            "70 bert len\n",
            "Нельсон Мандела в 2000 году Граса Машел в 2010 году Власти ЮАР сообщили, что бывший президент страны Нельсон Мандела вновь госпитализирован 8 июня 2013 года с лёгочной инфекцией.\n",
            "Нельсон Мандела в 2000 году Граса Машел в 2010 году Власти ЮАР считают, что бывший президент страны Нельсон Мандела вновь госпитализирован 8 июня 2013 года с лёгочной инфекцией.\n",
            "\n",
            "Состояние политика оценивается как тяжёлое.\n",
            "Эта политика - как тяжёлое.\n",
            "\n",
            "Канцелярия президента Джейкоба Зумы распространила заявление, в котором говорится, что состояние здоровье Манделы резко ухудшилось ночью, и ранним утром он был доставлен в одну из больниц Претории.\n",
            "Канцелярия президента Джейкоба Зумы опубликовал письмо, в котором заявил, что « принца Манделы резко резко ночью, и ранним утром он был ранен в одну из улиц Претории.\n",
            "\n",
            "Указывается, что состояние Манделы «тяжелое, но стабильное», однако сейчас он дышит самостоятельно.\n",
            "Также, что тело Манделы «тяжелое, но слабо», однако сейчас он дышит времени.\n",
            "\n",
            "Тем не менее, из Лондона в ЮАР срочно вылетела жена Манделы Граса Машел, которая отменила своё выступление на форуме и на митинге в Гайд-парке, чтобы находиться с мужем в больнице.\n",
            "Тем не менее, из Лондона в ЮАР срочно вылетела жена Манделы Граса Машел, которая начала своё время на форуме и на митинге в Гайд-парке, чтобы быть с мужем в Лондоне.\n",
            "\n",
            "94-летний Нельсон Мандела, герой борьбы с режимом Апартеида, в апреле 2013 года провёл 10 дней в госпитале из-за пневмонии.\n",
            "94-летний Нельсон Мандела, герой борьбы с режимом Апартеида, в апреле 2013 года на 10 дней в городе из-за пневмонии.\n",
            "\n",
            "Медики утверждают, что респираторные заболевания Манделы обусловлены его 27-летним пребыванием в тюремных камерах.\n",
            "Медики показали, что респираторные заболевания Манделы с его 27-летним пребыванием в тюремных камерах.\n",
            "\n",
            "В последние годы Нельсон Мандела редко появлялся на публике.\n",
            "В последние годы Нельсон Мандела редко играл на публике.\n",
            "\n",
            "\n",
            "70 bert frequency\n",
            "Нельсон Мандела в 2000 году Граса Машел в 2010 году Власти ЮАР сообщили, что бывший президент страны Нельсон Мандела вновь госпитализирован 8 июня 2013 года с лёгочной инфекцией.\n",
            "Нельсон Мандела в 2000 году Граса Машел в 2010 году Власти ЮАР сообщили, что бывший президент страны Нельсон Мандела вновь госпитализирован 8 июня 2013 года с лёгочной инфекцией.\n",
            "\n",
            "Состояние политика оценивается как тяжёлое.\n",
            "Состояние политика оценивается как тяжёлое.\n",
            "\n",
            "Канцелярия президента Джейкоба Зумы распространила заявление, в котором говорится, что состояние здоровье Манделы резко ухудшилось ночью, и ранним утром он был доставлен в одну из больниц Претории.\n",
            "Канцелярия президента Джейкоба Зумы распространила заявление, в котором говорится, что состояние здоровье Манделы резко ухудшилось ночью, и ранним утром он был доставлен в одну из больниц Претории.\n",
            "\n",
            "Указывается, что состояние Манделы «тяжелое, но стабильное», однако сейчас он дышит самостоятельно.\n",
            "Указывается, что состояние Манделы «тяжелое, но стабильное», однако сейчас он дышит самостоятельно.\n",
            "\n",
            "Тем не менее, из Лондона в ЮАР срочно вылетела жена Манделы Граса Машел, которая отменила своё выступление на форуме и на митинге в Гайд-парке, чтобы находиться с мужем в больнице.\n",
            "Тем не менее, из Лондона в ЮАР срочно вылетела жена Манделы Граса Машел, которая отменила своё выступление на форуме и на митинге в Гайд-парке, чтобы находиться с мужем в больнице.\n",
            "\n",
            "94-летний Нельсон Мандела, герой борьбы с режимом Апартеида, в апреле 2013 года провёл 10 дней в госпитале из-за пневмонии.\n",
            "94-летний Нельсон Мандела, герой борьбы с режимом Апартеида, в апреле 2013 года провёл 10 дней в госпитале из-за пневмонии.\n",
            "\n",
            "Медики утверждают, что респираторные заболевания Манделы обусловлены его 27-летним пребыванием в тюремных камерах.\n",
            "Медики утверждают, что респираторные заболевания Манделы обусловлены его 27-летним пребыванием в тюремных камерах.\n",
            "\n",
            "В последние годы Нельсон Мандела редко появлялся на публике.\n",
            "В последние годы Нельсон Мандела редко появлялся на публике.\n",
            "\n",
            "\n",
            "70 synonym len\n",
            "Нельсон Мандела в 2000 году Граса Машел в 2010 году Власти ЮАР сообщили, что бывший президент страны Нельсон Мандела вновь госпитализирован 8 июня 2013 года с лёгочной инфекцией.\n",
            "Нельсон Мандела в 2000 году Граса Машел в 2010 году Власти ЮАР изрекли, что бывший президент страны Нельсон Мандела вновь госпитализирован 8 июня 2013 года с лёгочной инфекцией.\n",
            "\n",
            "Состояние политика оценивается как тяжёлое.\n",
            "Срез политика оценивается как тяжёлое.\n",
            "\n",
            "Канцелярия президента Джейкоба Зумы распространила заявление, в котором говорится, что состояние здоровье Манделы резко ухудшилось ночью, и ранним утром он был доставлен в одну из больниц Претории.\n",
            "Канцелярия президента Джейкоба Зумы излила иск, в котором говорится, что срез здравие Манделы резко скатилось ночью, и ранним утром он был данный в одну из хосписов Претории.\n",
            "\n",
            "Указывается, что состояние Манделы «тяжелое, но стабильное», однако сейчас он дышит самостоятельно.\n",
            "Указывается, что срез Манделы «тяжелое, но прочное», однако сейчас он дышит самостоятельно.\n",
            "\n",
            "Тем не менее, из Лондона в ЮАР срочно вылетела жена Манделы Граса Машел, которая отменила своё выступление на форуме и на митинге в Гайд-парке, чтобы находиться с мужем в больнице.\n",
            "Тем не менее, из Лондона в ЮАР срочно вылетела жена Манделы Граса Машел, которая сняла своё игра на форуме и на митинге в Гайд-парке, чтобы быть с мужем в хосписе.\n",
            "\n",
            "94-летний Нельсон Мандела, герой борьбы с режимом Апартеида, в апреле 2013 года провёл 10 дней в госпитале из-за пневмонии.\n",
            "94-летний Нельсон Мандела, герой борьбы с режимом Апартеида, в апреле 2013 года провёл 10 дней в лазарете из-за пневмонии.\n",
            "\n",
            "Медики утверждают, что респираторные заболевания Манделы обусловлены его 27-летним пребыванием в тюремных камерах.\n",
            "Медики спорят, что респираторные заболевания Манделы рождённые его 27-летним пребыванием в тюремных камерах.\n",
            "\n",
            "В последние годы Нельсон Мандела редко появлялся на публике.\n",
            "В последние годы Нельсон Мандела редко брался на публике.\n",
            "\n",
            "\n",
            "70 synonym frequency\n",
            "Нельсон Мандела в 2000 году Граса Машел в 2010 году Власти ЮАР сообщили, что бывший президент страны Нельсон Мандела вновь госпитализирован 8 июня 2013 года с лёгочной инфекцией.\n",
            "Нельсон Мандела в 2000 году Граса Машел в 2010 году Власти ЮАР сообщили, что бывший президент страны Нельсон Мандела вновь госпитализирован 8 июня 2013 года с лёгочной инфекцией.\n",
            "\n",
            "Состояние политика оценивается как тяжёлое.\n",
            "Состояние политика оценивается как тяжёлое.\n",
            "\n",
            "Канцелярия президента Джейкоба Зумы распространила заявление, в котором говорится, что состояние здоровье Манделы резко ухудшилось ночью, и ранним утром он был доставлен в одну из больниц Претории.\n",
            "Канцелярия президента Джейкоба Зумы распространила заявление, в котором говорится, что состояние здоровье Манделы резко ухудшилось ночью, и ранним утром он был доставлен в одну из больниц Претории.\n",
            "\n",
            "Указывается, что состояние Манделы «тяжелое, но стабильное», однако сейчас он дышит самостоятельно.\n",
            "Указывается, что состояние Манделы «тяжелое, но стабильное», однако сейчас он дышит самостоятельно.\n",
            "\n",
            "Тем не менее, из Лондона в ЮАР срочно вылетела жена Манделы Граса Машел, которая отменила своё выступление на форуме и на митинге в Гайд-парке, чтобы находиться с мужем в больнице.\n",
            "Тем не менее, из Лондона в ЮАР срочно вылетела жена Манделы Граса Машел, которая отменила своё выступление на форуме и на митинге в Гайд-парке, чтобы находиться с мужем в больнице.\n",
            "\n",
            "94-летний Нельсон Мандела, герой борьбы с режимом Апартеида, в апреле 2013 года провёл 10 дней в госпитале из-за пневмонии.\n",
            "94-летний Нельсон Мандела, герой борьбы с режимом Апартеида, в апреле 2013 года провёл 10 дней в госпитале из-за пневмонии.\n",
            "\n",
            "Медики утверждают, что респираторные заболевания Манделы обусловлены его 27-летним пребыванием в тюремных камерах.\n",
            "Медики утверждают, что респираторные заболевания Манделы обусловлены его 27-летним пребыванием в тюремных камерах.\n",
            "\n",
            "В последние годы Нельсон Мандела редко появлялся на публике.\n",
            "В последние годы Нельсон Мандела редко появлялся на публике.\n",
            "\n",
            "\n",
            "71 bert len\n",
            "Департамент жилищно-коммунального хозяйства и благоустройства столицы подготовил проект постановления «Об установлении заданий по ремонту и разметке дорог на 2011 год», в котором говорится о гарантийных обязательствах подрядчиков, занимающихся ремонтом московских дорог, сообщает РБК.\n",
            "Департамент жилищно-коммунального хозяйства и благоустройства столицы - проект развития «Об установлении заданий по ремонту и разметке дорог на 2011 год», в котором , о « условиях лиц, за ремонтом московских дорог, и РБК.\n",
            "\n",
            "Согласно документу, начиная с 2011 года планируется включать в госконтракты на выполнение работ по ремонту асфальтобетонных покрытий объектов улично-дорожной сети города следующие обязательства: гарантийные обязательства по устранению любых дефектов дорожных покрытий за собственный счёт (отдельные просадки, выбоины, выкрашивание, шелушение, заливка трещин, колейность, пластические деформации, просадки колодцев и водоприёмных решёток и т.д.) независимо от причин их возникновения, по проведению ремонтных работ в круглосуточном режиме (в том числе в ночное время) в максимально короткие сроки.\n",
            "По закону, а с 2011 года следуеиь в право на время работ по ремонту и и объектов речной сети гвидыиды: Основные обязательства по контролю любых дефектов таких покрытий за работыт (например работы, выбоины, работы, ремонт, заливка трещин, стены, изменения установки, просадки колодцев и их решёток и т.д.) , от причин их применения, по ##ведение этих работ в круглосуточном режиме (в том числе в ночное время) в достаточно большие сроки.\n",
            "\n",
            "Помимо этого в госконтракты будут включаться обязательства по оснащению машин, используемых для работ, системой спутникового позиционирования ГЛОНАСС и по предоставлению гарантии сроком не менее двух лет на эксплуатацию дорожного покрытия объектов, отремонтированных с применением прогрессивных материалов и технологий.\n",
            "Помимо этого в них будут иметь работы по ##крытия машин, систем для работ, системой системы выхода ГЛОНАСС и по причине условий сроком не менее двух лет на возможность и состава объектов, либо с помощью новых средств и т.\n",
            "\n",
            "\n",
            "71 bert frequency\n",
            "Департамент жилищно-коммунального хозяйства и благоустройства столицы подготовил проект постановления «Об установлении заданий по ремонту и разметке дорог на 2011 год», в котором говорится о гарантийных обязательствах подрядчиков, занимающихся ремонтом московских дорог, сообщает РБК.\n",
            "Департамент жилищно-коммунального хозяйства и благоустройства столицы подготовил проект постановления «Об установлении заданий по ремонту и разметке дорог на 2011 год», в котором говорится о гарантийных обязательствах подрядчиков, занимающихся ремонтом московских дорог, сообщает РБК.\n",
            "\n",
            "Согласно документу, начиная с 2011 года планируется включать в госконтракты на выполнение работ по ремонту асфальтобетонных покрытий объектов улично-дорожной сети города следующие обязательства: гарантийные обязательства по устранению любых дефектов дорожных покрытий за собственный счёт (отдельные просадки, выбоины, выкрашивание, шелушение, заливка трещин, колейность, пластические деформации, просадки колодцев и водоприёмных решёток и т.д.) независимо от причин их возникновения, по проведению ремонтных работ в круглосуточном режиме (в том числе в ночное время) в максимально короткие сроки.\n",
            "Согласно документу, начиная с 2011 года планируется включать в госконтракты на выполнение работ по ремонту асфальтобетонных покрытий объектов улично-дорожной сети города следующие обязательства: гарантийные обязательства по устранению любых дефектов дорожных покрытий за собственный счёт (отдельные прпросадкивыбоины, выкрашивание, шелушение, изменения трещин, колейность, пластические деформации, просадки колодцев и водоприёмных решёток и т.д.) независимо от причин их возникновения, по проведению ремонтных работ в круглосуточном режиме (в том числе в ночное время) в достаточно короткие сроки.\n",
            "\n",
            "Помимо этого в госконтракты будут включаться обязательства по оснащению машин, используемых для работ, системой спутникового позиционирования ГЛОНАСС и по предоставлению гарантии сроком не менее двух лет на эксплуатацию дорожного покрытия объектов, отремонтированных с применением прогрессивных материалов и технологий.\n",
            "Помимо этого в госконтракты будут установлены обязательства по оснащению машин, используемых для работ, системой спутникового позиционирования ГЛОНАСС и по предоставлению гарантии сроком не менее двух лет на эксплуатацию дорожного покрытия объектов, отремонтированных с применением прогрессивных материалов и технологий.\n",
            "\n",
            "\n",
            "71 synonym len\n",
            "Департамент жилищно-коммунального хозяйства и благоустройства столицы подготовил проект постановления «Об установлении заданий по ремонту и разметке дорог на 2011 год», в котором говорится о гарантийных обязательствах подрядчиков, занимающихся ремонтом московских дорог, сообщает РБК.\n",
            "Департамент жилищно-коммунального хозяйства и благоустройства столицы сварил проект указа «Об установлении заданий по ремонту и разметке дорог на 2011 год», в котором говорится о гарантийных гко рядчиков, горящих ремонтом московских дорог, пишет РБК.\n",
            "\n",
            "Согласно документу, начиная с 2011 года планируется включать в госконтракты на выполнение работ по ремонту асфальтобетонных покрытий объектов улично-дорожной сети города следующие обязательства: гарантийные обязательства по устранению любых дефектов дорожных покрытий за собственный счёт (отдельные просадки, выбоины, выкрашивание, шелушение, заливка трещин, колейность, пластические деформации, просадки колодцев и водоприёмных решёток и т.д.) независимо от причин их возникновения, по проведению ремонтных работ в круглосуточном режиме (в том числе в ночное время) в максимально короткие сроки.\n",
            "По чеку, начиная с 2011 года планируется вводить в госконтракты на деланиеслоёво ремонту битумных слоёв объектов улично-дорожной сети города гко: гарантийные обязательства по отходу любых дефектов дорожных покрытий за собственный счёт (отдельныепросадкии, выбоины, выкрашивание, шелушение, заливка трещин, колейность, пластические искажения, просадки колодцев и водоприёмных решёток и т.д.) вольно от причин их начала, по ведению ремонтных работ в круглосуточном режиме (в том числе в ночное время) в всемерно короткие сроки.\n",
            "\n",
            "Помимо этого в госконтракты будут включаться обязательства по оснащению машин, используемых для работ, системой спутникового позиционирования ГЛОНАСС и по предоставлению гарантии сроком не менее двух лет на эксплуатацию дорожного покрытия объектов, отремонтированных с применением прогрессивных материалов и технологий.\n",
            "Помимо этого в госконтракты будут включаться гко по оснащению машин, деваемых для работ, системой спутникового позиционирования ГЛОНАСС и по предоставлению бонд сроком не менее двух лет на уход дорожного слоя объектов, починенных с применением передовых материалов и технологий.\n",
            "\n",
            "\n",
            "71 synonym frequency\n",
            "Департамент жилищно-коммунального хозяйства и благоустройства столицы подготовил проект постановления «Об установлении заданий по ремонту и разметке дорог на 2011 год», в котором говорится о гарантийных обязательствах подрядчиков, занимающихся ремонтом московских дорог, сообщает РБК.\n",
            "Департамент жилищно-коммунального хозяйства и благоустройства столицы подготовил проект постановления «Об установлении заданий по ремонту и разметке дорог на 2011 год», в котором говорится о гарантийных обязательствах подрядчиков, занимающихся ремонтом московских дорог, сообщает РБК.\n",
            "\n",
            "Согласно документу, начиная с 2011 года планируется включать в госконтракты на выполнение работ по ремонту асфальтобетонных покрытий объектов улично-дорожной сети города следующие обязательства: гарантийные обязательства по устранению любых дефектов дорожных покрытий за собственный счёт (отдельные просадки, выбоины, выкрашивание, шелушение, заливка трещин, колейность, пластические деформации, просадки колодцев и водоприёмных решёток и т.д.) независимо от причин их возникновения, по проведению ремонтных работ в круглосуточном режиме (в том числе в ночное время) в максимально короткие сроки.\n",
            "Согласно документу, начиная с 2011 года планируется включать в госконтракты на выполнение работ по ремонту асфальтобетонных покрытий объектов улично-дорожной сети города следующие обязательства: гарантийные обязательства по устранению любых дефектов дорожных покрытий за собственный счёт (отдельныпросадкики, выбоины, выкрашивание, шелушение, залив трещин, колейность, пластические деформации, просадки колодцев и водоприёмных решёток и т.д.) независимо от причин их возникновения, по проведению ремонтных работ в круглосуточном режиме (в том числе в ночное время) в максимально короткие сроки.\n",
            "\n",
            "Помимо этого в госконтракты будут включаться обязательства по оснащению машин, используемых для работ, системой спутникового позиционирования ГЛОНАСС и по предоставлению гарантии сроком не менее двух лет на эксплуатацию дорожного покрытия объектов, отремонтированных с применением прогрессивных материалов и технологий.\n",
            "Помимо этого в госконтракты будут включаться обязательства по оснащению машин, используемых для работ, системой спутникового позиционирования ГЛОНАСС и по предоставлению гарантии сроком не менее двух лет на эксплуатацию дорожного покрытия объектов, отремонтированных с применением прогрессивных материалов и технологий.\n",
            "\n",
            "\n",
            "72 bert len\n",
            "В. В. Путин с Министром М. Ю. Лесиным 6 ноября 2015 года в Вашингтоне в возрасте 57 лет скончался Михаил Лесин, бывший глава холдинга «Газпром медиа».\n",
            "В. В. Путин с Министром М. Ю. Лесиным 6 ноября 2015 года в Вашингтоне в возрасте 57 лет скончался Михаил Лесин, бывший глава холдинга «Газпром медиа».\n",
            "\n",
            "По сообщениям Интерфакса, Лесин обнаружен мёртвым в четверг в гостиннице Вашингтона.\n",
            "По данным Интерфакса, Лесин обнаружен мёртвым в четверг в гостиннице Вашингтона.\n",
            "\n",
            "Признаков насильственной смерти, по предварительным данным, не обнаружено.\n",
            "Признаков до смерти, по другим данным, не было.\n",
            "\n",
            "Российские издания сообщают, что Михаил Лесин умер вероятно от сердечного приступа.\n",
            "Российские издания считают, что Михаил Лесин умер ##ет от сердечного приступа.\n",
            "\n",
            "Официальный представитель посольства России в США заявил: Сотрудники нашего консульства смогли подтвердить, что гражданин России, скончавшийся в Вашингтоне, это Михаил Лесин.\n",
            "Официальный представитель посольства России в США заявил: У нашего рода смогли то, что гражданин России, скончавшийся в Вашингтоне, это Михаил Лесин.\n",
            "\n",
            "Из уважения к приватности и деликатности вопроса мы не имеем права разглашать другую информацию, и просим вас со всеми следующими вопросами обратиться к его семье и сотрудникам правоохранительных органов.\n",
            "Из - к нему и этого вопроса мы не имеем права на другую жизнь, и просим вас со всеми другими вопросами : к его семье и его государственных органов.\n",
            "\n",
            "С 2013 года по январь 2015 года он был главой «Газпром медиа».\n",
            "С 2013 года по январь 2015 года он был главой «Газпром медиа».\n",
            "\n",
            "При нём холдинг купил активы компании «ПрофМедиа», телеканалы ТВ-3, «2×2» и кинокомпанию «Централ Партнершип».\n",
            "При нём холдинг купил активы : «ПрофМедиа», « ТВ-3, «2×2» и компании «Централ Партнершип».\n",
            "\n",
            "Соболезнования семье и близким господина Лесина уже выразил президент России Владимир Путин, в пресс-службе которого сообщили: ''«Президент высоко ценит огромный вклад, который внес Михаил Лесин в становление современных российских средств массовой информации»''.\n",
            "О семье и близким другом Лесина уже выразил президент России Владимир Путин, в интервью которого сказал: ''«Президент высоко ценит за вклад, который внес Михаил Лесин в развитие новых российских СМИ - средства»''.\n",
            "\n",
            "Михаил Юрьевич Лесин родился 11 июля 1958 года в Москве.\n",
            "Михаил Юрьевич Лесин родился 11 июля 1958 года в Москве.\n",
            "\n",
            "Он основал компанию «Видео Интернешнл», инициатор создания телеканала Russia Today.\n",
            "Он основал ООО «Видео Интернешнл», для ##а сайта Russia Today.\n",
            "\n",
            "С 1999 года по 2004 года Лесин занимал пост министра печати России.\n",
            "С 1999 года по 2004 года Лесин занял пост министра печати России.\n",
            "\n",
            "До этого он — заместитель председателя ВГТРК и руководителя управления президента РФ по связям с общественностью.\n",
            "До этого он — заместитель председателя ВГТРК и руководителя управления президента РФ по связям с общественностью.\n",
            "\n",
            "\n",
            "72 bert frequency\n",
            "В. В. Путин с Министром М. Ю. Лесиным 6 ноября 2015 года в Вашингтоне в возрасте 57 лет скончался Михаил Лесин, бывший глава холдинга «Газпром медиа».\n",
            "В. В. Путин с Министром М. Ю. Лесиным 6 ноября 2015 года в Вашингтоне в возрасте 57 лет скончался Михаил Лесин, бывший глава холдинга «Газпром медиа».\n",
            "\n",
            "По сообщениям Интерфакса, Лесин обнаружен мёртвым в четверг в гостиннице Вашингтона.\n",
            "По сообщениям Интерфакса, Лесин обнаружен мёртвым в четверг в гостиннице Вашингтона.\n",
            "\n",
            "Признаков насильственной смерти, по предварительным данным, не обнаружено.\n",
            "Признаков насильственной смерти, по предварительным данным, не обнаружено.\n",
            "\n",
            "Российские издания сообщают, что Михаил Лесин умер вероятно от сердечного приступа.\n",
            "Российские издания сообщают, что Михаил Лесин умер вероятно от сердечного приступа.\n",
            "\n",
            "Официальный представитель посольства России в США заявил: Сотрудники нашего консульства смогли подтвердить, что гражданин России, скончавшийся в Вашингтоне, это Михаил Лесин.\n",
            "Официальный представитель посольства России в США заявил: Сотрудники нашего консульства смогли подтвердить, что гражданин России, скончавшийся в Вашингтоне, это Михаил Лесин.\n",
            "\n",
            "Из уважения к приватности и деликатности вопроса мы не имеем права разглашать другую информацию, и просим вас со всеми следующими вопросами обратиться к его семье и сотрудникам правоохранительных органов.\n",
            "Из уважения к приватности и деликатности вопроса мы не имеем права на другую информацию, и просим вас со всеми следующими вопросами обратиться к его семье и сотрудникам правоохранительных органов.\n",
            "\n",
            "С 2013 года по январь 2015 года он был главой «Газпром медиа».\n",
            "С 2013 года по январь 2015 года он был главой «Газпром медиа».\n",
            "\n",
            "При нём холдинг купил активы компании «ПрофМедиа», телеканалы ТВ-3, «2×2» и кинокомпанию «Централ Партнершип».\n",
            "При нём он купил активы компании «ПрофМедиа», телеканалы ТВ-3, «2×2» и кинокомпанию «Централ Партнершип».\n",
            "\n",
            "Соболезнования семье и близким господина Лесина уже выразил президент России Владимир Путин, в пресс-службе которого сообщили: ''«Президент высоко ценит огромный вклад, который внес Михаил Лесин в становление современных российских средств массовой информации»''.\n",
            "Соболезнования семье и близким господина Лесина уже выразил президент России Владимир Путин, в пресс-службе которого сообщили: ''«Президент высоко ценит огромный вклад, который внес Михаил Лесин в развитие современных российских средств массовой информации»''.\n",
            "\n",
            "Михаил Юрьевич Лесин родился 11 июля 1958 года в Москве.\n",
            "Михаил Юрьевич Лесин родился 11 июля 1958 года в Москве.\n",
            "\n",
            "Он основал компанию «Видео Интернешнл», инициатор создания телеканала Russia Today.\n",
            "Он основал компанию «Видео Интернешнл», для создания телеканала Russia Today.\n",
            "\n",
            "С 1999 года по 2004 года Лесин занимал пост министра печати России.\n",
            "С 1999 года по 2004 года Лесин занимал пост министра печати России.\n",
            "\n",
            "До этого он — заместитель председателя ВГТРК и руководителя управления президента РФ по связям с общественностью.\n",
            "До этого он — заместитель председателя ВГТРК и руководителя управления президента РФ по связям с общественностью.\n",
            "\n",
            "\n",
            "72 synonym len\n",
            "В. В. Путин с Министром М. Ю. Лесиным 6 ноября 2015 года в Вашингтоне в возрасте 57 лет скончался Михаил Лесин, бывший глава холдинга «Газпром медиа».\n",
            "В. В. Путин с Министром М. Ю. Лесиным 6 ноября 2015 года в Вашингтоне в возрасте 57 лет скончался Михаил Лесин, бывший глава холдинга «Газпром медиа».\n",
            "\n",
            "По сообщениям Интерфакса, Лесин обнаружен мёртвым в четверг в гостиннице Вашингтона.\n",
            "По слухам Интерфакса, Лесин обнаружен мёртвым в четверг в гостиннице Вашингтона.\n",
            "\n",
            "Признаков насильственной смерти, по предварительным данным, не обнаружено.\n",
            "Признаков силовой смерти, по предварительным данным, не найденное.\n",
            "\n",
            "Российские издания сообщают, что Михаил Лесин умер вероятно от сердечного приступа.\n",
            "Российские издания пишут, что Михаил Лесин умер вероятно от сердечного приступа.\n",
            "\n",
            "Официальный представитель посольства России в США заявил: Сотрудники нашего консульства смогли подтвердить, что гражданин России, скончавшийся в Вашингтоне, это Михаил Лесин.\n",
            "Официальный представитель посольства России в США заявил: Члены нашего консульства смогли указать, что гражданин России, скончавшийся в Вашингтоне, это Михаил Лесин.\n",
            "\n",
            "Из уважения к приватности и деликатности вопроса мы не имеем права разглашать другую информацию, и просим вас со всеми следующими вопросами обратиться к его семье и сотрудникам правоохранительных органов.\n",
            "Из почёта к частности и такта вопроса мы не имеем права трубить другую инфо, и просим вас со всеми следующими вопросами стать к его семье и членам правоохранительных органов.\n",
            "\n",
            "С 2013 года по январь 2015 года он был главой «Газпром медиа».\n",
            "С 2013 года по январь 2015 года он был главой «Газпром медиа».\n",
            "\n",
            "При нём холдинг купил активы компании «ПрофМедиа», телеканалы ТВ-3, «2×2» и кинокомпанию «Централ Партнершип».\n",
            "При нём холдинг купил активы компании «ПрофМедиа», телеканалы ТВ-3, «2×2» и кинокомпанию «Централ Партнершип».\n",
            "\n",
            "Соболезнования семье и близким господина Лесина уже выразил президент России Владимир Путин, в пресс-службе которого сообщили: ''«Президент высоко ценит огромный вклад, который внес Михаил Лесин в становление современных российских средств массовой информации»''.\n",
            "Печали семье и близким пана Лесина уже явил президент России Владимир Путин, в пресс-службе которого изрекли: ''«Президент высоко ценит крупный вклад, который внес Михаил Лесин в развитие современных российских средств широкой инфо»''.\n",
            "\n",
            "Михаил Юрьевич Лесин родился 11 июля 1958 года в Москве.\n",
            "Михаил Юрьевич Лесин родился 11 июля 1958 года в Москве.\n",
            "\n",
            "Он основал компанию «Видео Интернешнл», инициатор создания телеканала Russia Today.\n",
            "Он начал компанию «Видео Интернешнл», инициатор сбора телеканала Russia Today.\n",
            "\n",
            "С 1999 года по 2004 года Лесин занимал пост министра печати России.\n",
            "С 1999 года по 2004 года Лесин брал пост министра печати России.\n",
            "\n",
            "До этого он — заместитель председателя ВГТРК и руководителя управления президента РФ по связям с общественностью.\n",
            "До этого он — заместитель председателя ВГТРК и руководителя управления президента РФ по связям с общественностью.\n",
            "\n",
            "\n",
            "72 synonym frequency\n",
            "В. В. Путин с Министром М. Ю. Лесиным 6 ноября 2015 года в Вашингтоне в возрасте 57 лет скончался Михаил Лесин, бывший глава холдинга «Газпром медиа».\n",
            "В. В. Путин с Министром М. Ю. Лесиным 6 ноября 2015 года в Вашингтоне в возрасте 57 лет скончался Михаил Лесин, бывший глава холдинга «Газпром медиа».\n",
            "\n",
            "По сообщениям Интерфакса, Лесин обнаружен мёртвым в четверг в гостиннице Вашингтона.\n",
            "По сообщениям Интерфакса, Лесин обнаружен мёртвым в четверг в гостиннице Вашингтона.\n",
            "\n",
            "Признаков насильственной смерти, по предварительным данным, не обнаружено.\n",
            "Признаков насильственной смерти, по предварительным данным, не обнаружено.\n",
            "\n",
            "Российские издания сообщают, что Михаил Лесин умер вероятно от сердечного приступа.\n",
            "Российские издания сообщают, что Михаил Лесин умер вероятно от сердечного приступа.\n",
            "\n",
            "Официальный представитель посольства России в США заявил: Сотрудники нашего консульства смогли подтвердить, что гражданин России, скончавшийся в Вашингтоне, это Михаил Лесин.\n",
            "Официальный представитель посольства России в США заявил: Сотрудники нашего консульства смогли подтвердить, что гражданин России, скончавшийся в Вашингтоне, это Михаил Лесин.\n",
            "\n",
            "Из уважения к приватности и деликатности вопроса мы не имеем права разглашать другую информацию, и просим вас со всеми следующими вопросами обратиться к его семье и сотрудникам правоохранительных органов.\n",
            "Из уважения к приватности и деликатности вопроса мы не имеем права разбалтывать другую информацию, и просим вас со всеми следующими вопросами обратиться к его семье и сотрудникам правоохранительных органов.\n",
            "\n",
            "С 2013 года по январь 2015 года он был главой «Газпром медиа».\n",
            "С 2013 года по январь 2015 года он был главой «Газпром медиа».\n",
            "\n",
            "При нём холдинг купил активы компании «ПрофМедиа», телеканалы ТВ-3, «2×2» и кинокомпанию «Централ Партнершип».\n",
            "При нём медиахолдинг купил активы компании «ПрофМедиа», телеканалы ТВ-3, «2×2» и кинокомпанию «Централ Партнершип».\n",
            "\n",
            "Соболезнования семье и близким господина Лесина уже выразил президент России Владимир Путин, в пресс-службе которого сообщили: ''«Президент высоко ценит огромный вклад, который внес Михаил Лесин в становление современных российских средств массовой информации»''.\n",
            "Соболезнования семье и близким господина Лесина уже выразил президент России Владимир Путин, в пресс-службе которого сообщили: ''«Президент высоко ценит огромный вклад, который внес Михаил Лесин в устанавливание современных российских средств массовой информации»''.\n",
            "\n",
            "Михаил Юрьевич Лесин родился 11 июля 1958 года в Москве.\n",
            "Михаил Юрьевич Лесин родился 11 июля 1958 года в Москве.\n",
            "\n",
            "Он основал компанию «Видео Интернешнл», инициатор создания телеканала Russia Today.\n",
            "Он основал компанию «Видео Интернешнл», инициатор создания телеканала Russia Today.\n",
            "\n",
            "С 1999 года по 2004 года Лесин занимал пост министра печати России.\n",
            "С 1999 года по 2004 года Лесин занимал пост министра печати России.\n",
            "\n",
            "До этого он — заместитель председателя ВГТРК и руководителя управления президента РФ по связям с общественностью.\n",
            "До этого он — заместитель председателя ВГТРК и руководителя управления президента РФ по связям с общественностью.\n",
            "\n",
            "\n",
            "73 bert len\n",
            "Главный бухгалтер одного из сельских советов в Косовском районе Ивано-Франковской области Украины перечисляла более 17 тысяч гривен на свой расчетный банковский счет.\n",
            "Главный бухгалтер одного из местных советов в Косовском районе Ивано-Франковской области Украины - более 17 тысяч гривен на свой большой за счет.\n",
            "\n",
            "Избыточные средства образовались в результате экономии средств, предназначенных для выплаты зарплатной платы работникам сельского совета.\n",
            "Эти районы - в результате экономии сресредствченных для вы##латылатной оттместногоьског,а.\n",
            "\n",
            "Прокуратура района с привлечением соответствующих специалистов провела ревизию правильности начисления и выплаты заработной платы.\n",
            "население района с участием из органов - ревизию , оценки и выплаты о платы.\n",
            "\n",
            "По ее результатом установлено, что главный бухгалтер в нарушение Закона Украины «О бухгалтерском учете и финансовой отчетности в Украине» осуществляла за 2007-2010 годы начисление и выплату заработной платы на свой счет в большем размере, чем указано в книгах начисления зарплаты сельского совета.\n",
            "По ее инициативе следует, что главный бухгалтер в рамках Закона Украины «О бухгалтерском учете и финансовой отчетности в Украине» получил за 2007-2010 годы начисление и выплату заработной платы на свой счет в большем размере, чем указано в книгах о членов местного совета.\n",
            "\n",
            "Таким образом, путем злоупотребления властью и своим служебным положением главным бухгалтером незаконно присвоила денежные средства в сумме 17739,10 гривен (69770,71 руб.).\n",
            "Таким образом, путем злоупотребления властью и своим служебным положением главным бухгалтером незаконно присвоила денежные средства в сумме 17739,10 гривен (69770,71 руб.).\n",
            "\n",
            "Прокуратурой Косовского района возбуждено уголовное дело по части 2 статьи 191 Уголовного Кодекса Украины - сообщил Прокурор Косовского района Василий Кричун.\n",
            "Прокуратурой Косовского района возбуждено уголовное дело по части 2 статьи 191 Уголовного Кодекса Украины - Первый Прокурор Косовского района Василий Кричун.\n",
            "\n",
            "\n",
            "73 bert frequency\n",
            "Главный бухгалтер одного из сельских советов в Косовском районе Ивано-Франковской области Украины перечисляла более 17 тысяч гривен на свой расчетный банковский счет.\n",
            "Главный бухгалтер одного из сельских советов в Косовском районе Ивано-Франковской области Украины перечисляла более 17 тысяч гривен на свой расчетный банковский счет.\n",
            "\n",
            "Избыточные средства образовались в результате экономии средств, предназначенных для выплаты зарплатной платы работникам сельского совета.\n",
            "Избыточные средства образовались в результате экономии средств, предназначенных для выплаты зарплатной платы работникам сельского совета.\n",
            "\n",
            "Прокуратура района с привлечением соответствующих специалистов провела ревизию правильности начисления и выплаты заработной платы.\n",
            "Прокуратура района с привлечением соответствующих специалистов провела ревизию правильности начисления и выплаты заработной платы.\n",
            "\n",
            "По ее результатом установлено, что главный бухгалтер в нарушение Закона Украины «О бухгалтерском учете и финансовой отчетности в Украине» осуществляла за 2007-2010 годы начисление и выплату заработной платы на свой счет в большем размере, чем указано в книгах начисления зарплаты сельского совета.\n",
            "По ее результатом установлено, что главный бухгалтер в нарушение Закона Украины «О бухгалтерском учете и финансовой отчетности в Украине» осуществляла за 2007-2010 годы начисление и выплату заработной платы на свой счет в большем размере, чем указано в книгах начисления зарплаты сельского совета.\n",
            "\n",
            "Таким образом, путем злоупотребления властью и своим служебным положением главным бухгалтером незаконно присвоила денежные средства в сумме 17739,10 гривен (69770,71 руб.).\n",
            "Таким образом, путем злоупотребления властью и своим служебным положением главным бухгалтером незаконно присвоила денежные средства в сумме 17739,10 гривен (69770,71 руб.).\n",
            "\n",
            "Прокуратурой Косовского района возбуждено уголовное дело по части 2 статьи 191 Уголовного Кодекса Украины - сообщил Прокурор Косовского района Василий Кричун.\n",
            "Прокуратурой Косовского района возбуждено уголовное дело по части 2 статьи 191 Уголовного Кодекса Украины - сообщил Прокурор Косовского района Василий Кричун.\n",
            "\n",
            "\n",
            "73 synonym len\n",
            "Главный бухгалтер одного из сельских советов в Косовском районе Ивано-Франковской области Украины перечисляла более 17 тысяч гривен на свой расчетный банковский счет.\n",
            "Главный бухгалтер одного из сельских советов в Косовском районе Ивано-Франковской области Украины называла более 17 тысяч гривен на свой расчётный банковский счет.\n",
            "\n",
            "Избыточные средства образовались в результате экономии средств, предназначенных для выплаты зарплатной платы работникам сельского совета.\n",
            "Лишние средства обходились в итоге расчёта средств, обречённых для выплаты зарплатной платы итр аграрного советасредств средства обходились в итоге расчёта средств, предназначенных для выплаты зарплатной платы работникам сельского совета.\n",
            "\n",
            "Прокуратура района с привлечением соответствующих специалистов провела ревизию правильности начисления и выплаты заработной платы.\n",
            "Обвинение района с призывом соответствующих ас обошла ревизию чистоте сбора и выплаты заработной платы.\n",
            "\n",
            "По ее результатом установлено, что главный бухгалтер в нарушение Закона Украины «О бухгалтерском учете и финансовой отчетности в Украине» осуществляла за 2007-2010 годы начисление и выплату заработной платы на свой счет в большем размере, чем указано в книгах начисления зарплаты сельского совета.\n",
            "По ее итогом найденное, что главный бухгалтер в фол Закона Украины «О бухгалтерском учете и финансовой отчетности в Украине» несла за 2007-2010 годы начисление и выплату заработной платы на свой счет в большем размере, чем указано в книгах сбора оклада аграрного совета.\n",
            "\n",
            "Таким образом, путем злоупотребления властью и своим служебным положением главным бухгалтером незаконно присвоила денежные средства в сумме 17739,10 гривен (69770,71 руб.).\n",
            "Таким образом, путем злоупотребления властью и своим служебным положением главным бухгалтером незаконно присвоила денежные средства в сумме 17739,10 гривен (69770,71 руб.).\n",
            "\n",
            "Прокуратурой Косовского района возбуждено уголовное дело по части 2 статьи 191 Уголовного Кодекса Украины - сообщил Прокурор Косовского района Василий Кричун.\n",
            "Прокуратурой Косовского района возбуждено уголовное дело по части 2 статьи 191 Уголовного Кодекса Украины - изрёк Прокурор Косовского района Василий Кричун.\n",
            "\n",
            "\n",
            "73 synonym frequency\n",
            "Главный бухгалтер одного из сельских советов в Косовском районе Ивано-Франковской области Украины перечисляла более 17 тысяч гривен на свой расчетный банковский счет.\n",
            "Главный бухгалтер одного из сельских советов в Косовском районе Ивано-Франковской области Украины перечисляла более 17 тысяч гривен на свой расчетный банковский счет.\n",
            "\n",
            "Избыточные средства образовались в результате экономии средств, предназначенных для выплаты зарплатной платы работникам сельского совета.\n",
            "Избыточные средства образовались в результате экономии средств, предназначенных для выплаты зарплатной платы работникам сельского совета.\n",
            "\n",
            "Прокуратура района с привлечением соответствующих специалистов провела ревизию правильности начисления и выплаты заработной платы.\n",
            "Прокуратура района с привлечением соответствующих специалистов провела ревизию правильности начисления и выплаты заработной платы.\n",
            "\n",
            "По ее результатом установлено, что главный бухгалтер в нарушение Закона Украины «О бухгалтерском учете и финансовой отчетности в Украине» осуществляла за 2007-2010 годы начисление и выплату заработной платы на свой счет в большем размере, чем указано в книгах начисления зарплаты сельского совета.\n",
            "По ее результатом установлено, что главный бухгалтер в нарушение Закона Украины «О бухгалтерском учете и финансовой отчетности в Украине» осуществляла за 2007-2010 годы начисление и выплату заработной платы на свой счет в большем размере, чем указано в книгах начисления зарплаты сельского совета.\n",
            "\n",
            "Таким образом, путем злоупотребления властью и своим служебным положением главным бухгалтером незаконно присвоила денежные средства в сумме 17739,10 гривен (69770,71 руб.).\n",
            "Таким образом, путем злоупотребления властью и своим служебным положением главным бухгалтером незаконно присвоила денежные средства в сумме 17739,10 гривен (69770,71 руб.).\n",
            "\n",
            "Прокуратурой Косовского района возбуждено уголовное дело по части 2 статьи 191 Уголовного Кодекса Украины - сообщил Прокурор Косовского района Василий Кричун.\n",
            "Прокуратурой Косовского района возбуждено уголовное дело по части 2 статьи 191 Уголовного Кодекса Украины - сообщил Прокурор Косовского района Василий Кричун.\n",
            "\n",
            "\n",
            "74 bert len\n",
            "Бывший чемпион мира по боксу в тяжёлом весе Виталий Кличко в марте будет баллотироваться на пост мэра столицы Украины Киева.\n",
            "Бывший чемпион мира по боксу в тяжёлом весе Виталий Кличко в марте будет назначен на пост мэра столицы Украины Киева.\n",
            "\n",
            "«Я хочу стать мэром Киева, так как я очень люблю этот город и хочу улучшить жизнь в нём.\n",
            "«Я хочу стать мэром Киева, так как я очень люблю этот город и хочу сделать жизнь в нём.\n",
            "\n",
            "Я готов к этому шагу и сознаю огромную ответственность в этом деле», так сказал 34-хлетний Кличко на пресс-конференции в четверг.\n",
            "Я готов к этому шагу и имеет свою поддержку в этом деле», так сказал 34-хлетний Кличко на пресс-конференции в четверг.\n",
            "\n",
            "Виталий Кличко был чемпионом мира по версии WBC.\n",
            "Виталий Кличко был чемпионом мира по версии WBC.\n",
            "\n",
            "Из-за преследовавших его травм, в ноябре 2005 года он закончил свою боксёрскую карьеру.\n",
            "Из-за второго его травм, в ноябре 2005 года он начал свою боксёрскую карьеру.\n",
            "\n",
            "На выборы мэра Кличко будет идти от демократического блока сформированного вокруг молодёжного движения «Пора».\n",
            "На выборы мэра Кличко будет идти от демократического блока , вокруг этого клуба «Пора».\n",
            "\n",
            "В случае победы, Кличко обещает бороться с коррупцией и способствовать экономическому росту Киева.\n",
            "В случае победы, Кличко обещает борьбы с коррупцией и с такому росту Киева.\n",
            "\n",
            "В ноябре 2004 года Виталий Кличко и его брат Владимир поддержали «оранжевую революцию» и Президента Виктора Ющенко.\n",
            "В ноябре 2004 года Виталий Кличко и его брат Владимир провели «оранжевую революцию» и Президента Виктора Ющенко.\n",
            "\n",
            "\n",
            "74 bert frequency\n",
            "Бывший чемпион мира по боксу в тяжёлом весе Виталий Кличко в марте будет баллотироваться на пост мэра столицы Украины Киева.\n",
            "Бывший чемпион мира по боксу в тяжёлом весе Виталий Кличко в марте будет назначен на пост мэра столицы Украины Киева.\n",
            "\n",
            "«Я хочу стать мэром Киева, так как я очень люблю этот город и хочу улучшить жизнь в нём.\n",
            "«Я хочу стать мэром Киева, так как я очень люблю этот город и хочу сделать жизнь в нём.\n",
            "\n",
            "Я готов к этому шагу и сознаю огромную ответственность в этом деле», так сказал 34-хлетний Кличко на пресс-конференции в четверг.\n",
            "Я готов к этому шагу и сознаю огромную ответственность в этом деле», так сказал 34-хлетний Кличко на пресс-конференции в четверг.\n",
            "\n",
            "Виталий Кличко был чемпионом мира по версии WBC.\n",
            "Виталий Кличко был чемпионом мира по версии WBC.\n",
            "\n",
            "Из-за преследовавших его травм, в ноябре 2005 года он закончил свою боксёрскую карьеру.\n",
            "Из-за преследовавших его травм, в ноябре 2005 года он закончил свою боксёрскую карьеру.\n",
            "\n",
            "На выборы мэра Кличко будет идти от демократического блока сформированного вокруг молодёжного движения «Пора».\n",
            "На выборы мэра Кличко будет идти от демократического блока сформированного вокруг молодёжного движения «Пора».\n",
            "\n",
            "В случае победы, Кличко обещает бороться с коррупцией и способствовать экономическому росту Киева.\n",
            "В случае победы, Кличко обещает бороться с коррупцией и способствовать экономическому росту Киева.\n",
            "\n",
            "В ноябре 2004 года Виталий Кличко и его брат Владимир поддержали «оранжевую революцию» и Президента Виктора Ющенко.\n",
            "В ноябре 2004 года Виталий Кличко и его брат Владимир поддержали «оранжевую революцию» и Президента Виктора Ющенко.\n",
            "\n",
            "\n",
            "74 synonym len\n",
            "Бывший чемпион мира по боксу в тяжёлом весе Виталий Кличко в марте будет баллотироваться на пост мэра столицы Украины Киева.\n",
            "Бывший чемпион мира по боксу в тяжёлом весе Виталий Кличко в марте будет баллотироваться на пост мэра столицы Украины Киева.\n",
            "\n",
            "«Я хочу стать мэром Киева, так как я очень люблю этот город и хочу улучшить жизнь в нём.\n",
            "«Я хочу стать мэром Киева, так как я очень люблю этот город и хочу усилить жизнь в нём.\n",
            "\n",
            "Я готов к этому шагу и сознаю огромную ответственность в этом деле», так сказал 34-хлетний Кличко на пресс-конференции в четверг.\n",
            "Я готов к этому шагу и сознаю крупную ответ в этом деле», так сказал 34-хлетний Кличко на пресс-конференции в четверг.\n",
            "\n",
            "Виталий Кличко был чемпионом мира по версии WBC.\n",
            "Виталий Кличко был чемпионом мира по версии WBC.\n",
            "\n",
            "Из-за преследовавших его травм, в ноябре 2005 года он закончил свою боксёрскую карьеру.\n",
            "Из-за гнавших его травм, в ноябре 2005 года он добил свою боксёрскую карьеру.\n",
            "\n",
            "На выборы мэра Кличко будет идти от демократического блока сформированного вокруг молодёжного движения «Пора».\n",
            "На выборы мэра Кличко будет идти от демократического блока созданного вокруг молодёжного движения «Пора».\n",
            "\n",
            "В случае победы, Кличко обещает бороться с коррупцией и способствовать экономическому росту Киева.\n",
            "В случае победы, Кличко обещает биться с коррупцией и помогать научному росту Киева.\n",
            "\n",
            "В ноябре 2004 года Виталий Кличко и его брат Владимир поддержали «оранжевую революцию» и Президента Виктора Ющенко.\n",
            "В ноябре 2004 года Виталий Кличко и его брат Владимир помогли «оранжевую революцию» и Президента Виктора Ющенко.\n",
            "\n",
            "\n",
            "74 synonym frequency\n",
            "Бывший чемпион мира по боксу в тяжёлом весе Виталий Кличко в марте будет баллотироваться на пост мэра столицы Украины Киева.\n",
            "Бывший чемпион мира по боксу в тяжёлом весе Виталий Кличко в марте будет баллотироваться на пост мэра столицы Украины Киева.\n",
            "\n",
            "«Я хочу стать мэром Киева, так как я очень люблю этот город и хочу улучшить жизнь в нём.\n",
            "«Я хочу стать мэром Киева, так как я очень люблю этот город и хочу повысить качество жизнь в нём.\n",
            "\n",
            "Я готов к этому шагу и сознаю огромную ответственность в этом деле», так сказал 34-хлетний Кличко на пресс-конференции в четверг.\n",
            "Я готов к этому шагу и сознаю огромную ответственность в этом деле», так сказал 34-хлетний Кличко на пресс-конференции в четверг.\n",
            "\n",
            "Виталий Кличко был чемпионом мира по версии WBC.\n",
            "Виталий Кличко был чемпионом мира по версии WBC.\n",
            "\n",
            "Из-за преследовавших его травм, в ноябре 2005 года он закончил свою боксёрскую карьеру.\n",
            "Из-за преследовавших его травм, в ноябре 2005 года он закончил свою боксёрскую карьеру.\n",
            "\n",
            "На выборы мэра Кличко будет идти от демократического блока сформированного вокруг молодёжного движения «Пора».\n",
            "На выборы мэра Кличко будет идти от демократического блока сформированного вокруг молодёжного движения «Пора».\n",
            "\n",
            "В случае победы, Кличко обещает бороться с коррупцией и способствовать экономическому росту Киева.\n",
            "В случае победы, Кличко обещает бороться с коррупцией и способствовать экономическому росту Киева.\n",
            "\n",
            "В ноябре 2004 года Виталий Кличко и его брат Владимир поддержали «оранжевую революцию» и Президента Виктора Ющенко.\n",
            "В ноябре 2004 года Виталий Кличко и его брат Владимир поддержали «оранжевую революцию» и Президента Виктора Ющенко.\n",
            "\n",
            "\n",
            "75 bert len\n",
            "Уэнтуорт Миллер Американский актёр и сценарист Уэнтуорт Миллер отказался от участия в Санкт-Петербургском международном кинофестивале, объяснив своё решение вступлением в силу закона о запрете «пропаганды гомосексуализма» и в целом враждебным отношением к геям в России.\n",
            "Уэнтуорт Миллер Американский актёр и сценарист Уэнтуорт Миллер отказался от участия в Санкт-Петербургском международном кинофестивале, в своё решение , в силу закона о запрете «пропаганды гомосексуализма» и в целом его отношению к геям в России.\n",
            "\n",
            "В письме директору фестиваля 41-летний герой сериала «Побег» (Prison Break) заявил:   Миллер добавил, что он «глубоко встревожен» отношением к геям и лесбиянкам со стороны нынешних российских властей.\n",
            "В письме директору фестиваля 41-летний герой сериала «Побег» (Prison Break) заявил:   Миллер пишет, что он «глубоко ##м» отношение к геям и сериала со стороны против российских властей.\n",
            "\n",
            "В июне президент России Владимир Путин подписал закон, запрещающий публичное проявление гомосексуальных отношений в присутствии несовершеннолетних.\n",
            "В июне президент России Владимир Путин подписал закон, запрещающий публичное проявление гомосексуальных отношений в присутствии несовершеннолетних.\n",
            "\n",
            "Документ также предусматривает запрет на усыновление детей однополыми парами или людьми, проживающими в странах, где в любой форме легализованы однополые браки.\n",
            "Закон также содержит запрет на детей детей , парами или людьми, как в странах, где в любой форме есть такие браки.\n",
            "\n",
            "Также запрещено обсуждение гомосексуальности или прав сексуальных меньшинств в местах, где такие дискуссии могут услышать несовершеннолетние.\n",
            "Также возможно права прав или прав прав женщин в местах, где такие события могут быть ##ся.\n",
            "\n",
            "Кроме того, закон допускает задержание и арест на срок до двух недель с последующей высылкой иностранцев, которые принадлежат к сексуальным меньшинствам или выступают в их защиту.\n",
            "Кроме того, закон ##чив задержание и арест на срок до двух недель с последующей высылкой лиц, которые относятся к другим ##м или входят в их защиту.\n",
            "\n",
            "Правозащитные организации утверждают, что нечеткие формулировки закона носят дискриминационный характер, и в связи с этим ряд звезд шоу-бизнеса призвали к бойкоту зимней Олимпиады в Сочи в 2014 году.\n",
            "Некоторые органы считают, что такие статьи закона носят политический право, и в связи с этим ряд звезд шоу-бизнеса к к бойкоту зимней Олимпиады в Сочи в 2014 году.\n",
            "\n",
            "«Я не могу с чистой совестью участвовать в фестивале, который проводится в стране, где таким людям, как я, систематически отказывают в праве жить и любить открыто, — написал Миллер.\n",
            "«Я не могу с чистой совестью » в фестивале, который проходит в стране, где таким людям, как я, не нет в праве жить и любить открыто, — [UNK] Миллер.\n",
            "\n",
            "— Возможно, когда ситуация улучшится, я приму другое решение.\n",
            "— [UNK], когда он может, я приму другое решение.\n",
            "\n",
            "Но пока нет».\n",
            "Но пока нет».\n",
            "\n",
            "После выхода заявления Миллера несколько знаменитостей выступили в поддержку звезды «Другого мира» (Underworld).\n",
            "После выхода игры Миллера много групп получили в качестве звезды «Другого мира» (Underworld).\n",
            "\n",
            "«Я горжусь тем, что Вентворт Миллер выступил в поддержку равенства.\n",
            "«Я с тем, что Вентворт Миллер - в качестве него.\n",
            "\n",
            "В России не понимают, что они теряют», — сказала комедиантка и телеведущая Эллен Дедженерес.\n",
            "В России не такое, что они теряют», — сказала комедиантка и телеведущая Эллен Дедженерес.\n",
            "\n",
            "«Вентворт Миллер — молодец.\n",
            "«Вентворт Миллер — молодец.\n",
            "\n",
            "Браво», — заявил актер, продюсер и директор Нейл Патрик Харрис, известный своими ролями в сериалах «Доктор Дуги Хаузер» (Doogie Howser, M.D.)\n",
            "Браво», — заявил актер, продюсер и директор Нейл Патрик Харрис, со своими ролями в сериалах «Доктор Дуги Хаузер» (Doogie Howser, M.D.)\n",
            "\n",
            "и «Как я встретил вашу маму» (How I Met Your Mother).\n",
            "и «Как я встретил вашу маму» (How I Met Your Mother).\n",
            "\n",
            "Среди других звезд, выразивших свой протест против пресловутого закона — американский шоумен с телеканала Bravo Энди Коэн, который ранее вел конкурсы «Мисс Вселенная».\n",
            "Среди других звезд, на свой протест против этого закона — американский шоумен с Bravo Bravo Энди Коэн, который ранее вел конкурсы «Мисс Вселенная».\n",
            "\n",
            "В этом году «Мисс Вселенная» проходит в России, но Коэн решил бойкотировать его.\n",
            "В этом году «Мисс Вселенная» стала в России, но Коэн решил бойкотировать его.\n",
            "\n",
            "В интервью E!\n",
            "В . E!\n",
            "\n",
            "News он объяснил это тем, что «из-за дискриминационной политики геи, проживающие в России или приезжающие в эту страну по делам или в качестве туристов, не могут чувствовать себя в безопасности».\n",
            "News он назвал это тем, что «из-за политики системы геи, жив в России или входят в эту страну по делам или в роли туристов, не могут вести себя в России».\n",
            "\n",
            "По словам Коэна, как гей, он считает, что для него «было бы неправильно приезжать в Россию».\n",
            "По словам Коэна, как гей, он считает, что для него «было бы бы играть в Россию».\n",
            "\n",
            "\n",
            "75 bert frequency\n",
            "Уэнтуорт Миллер Американский актёр и сценарист Уэнтуорт Миллер отказался от участия в Санкт-Петербургском международном кинофестивале, объяснив своё решение вступлением в силу закона о запрете «пропаганды гомосексуализма» и в целом враждебным отношением к геям в России.\n",
            "Уэнтуорт Миллер Американский актёр и сценарист Уэнтуорт Миллер отказался от участия в Санкт-Петербургском международном кинофестивале, объяснив своё решение вступлением в силу закона о запрете «пропаганды гомосексуализма» и в целом враждебным отношением к геям в России.\n",
            "\n",
            "В письме директору фестиваля 41-летний герой сериала «Побег» (Prison Break) заявил:   Миллер добавил, что он «глубоко встревожен» отношением к геям и лесбиянкам со стороны нынешних российских властей.\n",
            "В письме директору фестиваля 41-летний герой сериала «Побег» (Prison Break) заявил:   Миллер добавил, что он «глубоко встревожен» отношением к геям и лесбиянкам со стороны нынешних российских властей.\n",
            "\n",
            "В июне президент России Владимир Путин подписал закон, запрещающий публичное проявление гомосексуальных отношений в присутствии несовершеннолетних.\n",
            "В июне президент России Владимир Путин подписал закон, запрещающий публичное проявление гомосексуальных отношений в присутствии несовершеннолетних.\n",
            "\n",
            "Документ также предусматривает запрет на усыновление детей однополыми парами или людьми, проживающими в странах, где в любой форме легализованы однополые браки.\n",
            "Документ также предусматривает право на детей детей однополыми парами или людьми, проживающими в странах, где в любой форме легализованы однополые браки.\n",
            "\n",
            "Также запрещено обсуждение гомосексуальности или прав сексуальных меньшинств в местах, где такие дискуссии могут услышать несовершеннолетние.\n",
            "Также запрещено обсуждение гомосексуальности или прав сексуальных меньшинств в местах, где такие дискуссии могут услышать несовершеннолетние.\n",
            "\n",
            "Кроме того, закон допускает задержание и арест на срок до двух недель с последующей высылкой иностранцев, которые принадлежат к сексуальным меньшинствам или выступают в их защиту.\n",
            "Кроме того, закон допускает задержание и арест на срок до двух недель с последующей высылкой иностранцев, которые принадлежат к сексуальным меньшинствам или выступают в их защиту.\n",
            "\n",
            "Правозащитные организации утверждают, что нечеткие формулировки закона носят дискриминационный характер, и в связи с этим ряд звезд шоу-бизнеса призвали к бойкоту зимней Олимпиады в Сочи в 2014 году.\n",
            "Правозащитные организации утверждают, что нечеткие формулировки закона носят политический характер, и в связи с этим ряд звезд шоу-бизнеса призвали к бойкоту зимней Олимпиады в Сочи в 2014 году.\n",
            "\n",
            "«Я не могу с чистой совестью участвовать в фестивале, который проводится в стране, где таким людям, как я, систематически отказывают в праве жить и любить открыто, — написал Миллер.\n",
            "«Я не могу с чистой совестью участвовать в фестивале, который проводится в стране, где таким людям, как я, не отказывают в праве жить и любить », — написал Миллер.\n",
            "\n",
            "— Возможно, когда ситуация улучшится, я приму другое решение.\n",
            "— Возможно, когда ситуация улучшится, я приму другое решение.\n",
            "\n",
            "Но пока нет».\n",
            "Но пока нет».\n",
            "\n",
            "После выхода заявления Миллера несколько знаменитостей выступили в поддержку звезды «Другого мира» (Underworld).\n",
            "После выхода заявления Миллера несколько знаменитостей выступили в поддержку звезды «Другого мира» (Underworld).\n",
            "\n",
            "«Я горжусь тем, что Вентворт Миллер выступил в поддержку равенства.\n",
            "«Я горжусь тем, что Вентворт Миллер выступил в поддержку равенства.\n",
            "\n",
            "В России не понимают, что они теряют», — сказала комедиантка и телеведущая Эллен Дедженерес.\n",
            "В России не понимают, что они теряют», — сказала комедиантка и телеведущая Эллен Дедженерес.\n",
            "\n",
            "«Вентворт Миллер — молодец.\n",
            "«Вентворт Миллер — молодец.\n",
            "\n",
            "Браво», — заявил актер, продюсер и директор Нейл Патрик Харрис, известный своими ролями в сериалах «Доктор Дуги Хаузер» (Doogie Howser, M.D.)\n",
            "Браво», — заявил актер, продюсер и директор Нейл Патрик Харрис, известный своими ролями в сериалах «Доктор Дуги Хаузер» (Doogie Howser, M.D.)\n",
            "\n",
            "и «Как я встретил вашу маму» (How I Met Your Mother).\n",
            "и «Как я встретил вашу маму» (How I Met Your Mother).\n",
            "\n",
            "Среди других звезд, выразивших свой протест против пресловутого закона — американский шоумен с телеканала Bravo Энди Коэн, который ранее вел конкурсы «Мисс Вселенная».\n",
            "Среди других звезд, выразивших свой ответ против пресловутого закона — американский шоумен с телеканала Bravo Энди Коэн, который ранее вел конкурсы «Мисс Вселенная».\n",
            "\n",
            "В этом году «Мисс Вселенная» проходит в России, но Коэн решил бойкотировать его.\n",
            "В этом году «Мисс Вселенная» проходит в России, но Коэн решил бойкотировать его.\n",
            "\n",
            "В интервью E!\n",
            "В интервью E!\n",
            "\n",
            "News он объяснил это тем, что «из-за дискриминационной политики геи, проживающие в России или приезжающие в эту страну по делам или в качестве туристов, не могут чувствовать себя в безопасности».\n",
            "News он объяснил это тем, что «из-за дискриминационной политики геи, проживающие в России или приезжающие в эту страну по делам или в качестве туристов, не могут чувствовать себя в безопасности».\n",
            "\n",
            "По словам Коэна, как гей, он считает, что для него «было бы неправильно приезжать в Россию».\n",
            "По словам Коэна, как правило, он считает, что для него «было бы бы приезжать в Россию».\n",
            "\n",
            "\n",
            "75 synonym len\n",
            "Уэнтуорт Миллер Американский актёр и сценарист Уэнтуорт Миллер отказался от участия в Санкт-Петербургском международном кинофестивале, объяснив своё решение вступлением в силу закона о запрете «пропаганды гомосексуализма» и в целом враждебным отношением к геям в России.\n",
            "Уэнтуорт Миллер Американский актёр и сценарист Уэнтуорт Миллер отказался от участия в Санкт-Петербургском международном кинофестивале, вбив своё решение входом в силу закона о запрете «пропаганды гомосексуализма» и в целом злым дробью к геям в России.\n",
            "\n",
            "В письме директору фестиваля 41-летний герой сериала «Побег» (Prison Break) заявил:   Миллер добавил, что он «глубоко встревожен» отношением к геям и лесбиянкам со стороны нынешних российских властей.\n",
            "В письме директору фестиваля 41-летний герой сериала «Побег» (Prison Break) заявил:   Миллер добавил, что он «глубоко смущённый» дробью к геям и лесбиянкам со стороны нынешних российских властей.\n",
            "\n",
            "В июне президент России Владимир Путин подписал закон, запрещающий публичное проявление гомосексуальных отношений в присутствии несовершеннолетних.\n",
            "В июне президент России Владимир Путин подписал закон, запрещающий публичное проявление гомосексуальных отношений в присутствии несовершеннолетних.\n",
            "\n",
            "Документ также предусматривает запрет на усыновление детей однополыми парами или людьми, проживающими в странах, где в любой форме легализованы однополые браки.\n",
            "Чек также предвидит запрет на адоптацию детей однополыми парами или людьми, живущими в странах, где в любой форме легализованы однополые браки.\n",
            "\n",
            "Также запрещено обсуждение гомосексуальности или прав сексуальных меньшинств в местах, где такие дискуссии могут услышать несовершеннолетние.\n",
            "Также запрещено шум гомосексуальности или прав сексуальных меньшинств в местах, где такие спора могут внять несовершеннолетние.\n",
            "\n",
            "Кроме того, закон допускает задержание и арест на срок до двух недель с последующей высылкой иностранцев, которые принадлежат к сексуальным меньшинствам или выступают в их защиту.\n",
            "Кроме того, закон мнит задержание и арест на срок до двух недель с последующей высылкой чужаков, которые состоят к сексуальным меньшинствам или идут в их защиту.\n",
            "\n",
            "Правозащитные организации утверждают, что нечеткие формулировки закона носят дискриминационный характер, и в связи с этим ряд звезд шоу-бизнеса призвали к бойкоту зимней Олимпиады в Сочи в 2014 году.\n",
            "Правозащитные организации спорят, что смутные мысли закона носят дискриминационный характер, и в связи с этим ряд звезд шоу-бизнеса позвали к бойкоту зимней Олимпиады в Сочи в 2014 году.\n",
            "\n",
            "«Я не могу с чистой совестью участвовать в фестивале, который проводится в стране, где таким людям, как я, систематически отказывают в праве жить и любить открыто, — написал Миллер.\n",
            "«Я не могу с чистой совестью делить в фестивале, который проводится в стране, где таким людям, как я, методично дарят в праве жить и любить открыто, — написал Миллер.\n",
            "\n",
            "— Возможно, когда ситуация улучшится, я приму другое решение.\n",
            "— Возможно, когда вещь улучшится, я приму другое решение.\n",
            "\n",
            "Но пока нет».\n",
            "Но пока нет».\n",
            "\n",
            "После выхода заявления Миллера несколько знаменитостей выступили в поддержку звезды «Другого мира» (Underworld).\n",
            "После выхода иска Миллера несколько имён вышли в опору звезды «Другого мира» (Underworld).\n",
            "\n",
            "«Я горжусь тем, что Вентворт Миллер выступил в поддержку равенства.\n",
            "«Я горжусь тем, что Вентворт Миллер вышел в опору паритета.\n",
            "\n",
            "В России не понимают, что они теряют», — сказала комедиантка и телеведущая Эллен Дедженерес.\n",
            "В России не чтят, что они теряют», — сказала комедиантка и телеведущая Эллен Дедженерес.\n",
            "\n",
            "«Вентворт Миллер — молодец.\n",
            "«Вентворт Миллер — молодец.\n",
            "\n",
            "Браво», — заявил актер, продюсер и директор Нейл Патрик Харрис, известный своими ролями в сериалах «Доктор Дуги Хаузер» (Doogie Howser, M.D.)\n",
            "Браво», — заявил актер, продюсер и директор Нейл Патрик Харрис, известный своими ролями в сериалах «Доктор Дуги Хаузер» (Doogie Howser, M.D.)\n",
            "\n",
            "и «Как я встретил вашу маму» (How I Met Your Mother).\n",
            "и «Как я встретил вашу маму» (How I Met Your Mother).\n",
            "\n",
            "Среди других звезд, выразивших свой протест против пресловутого закона — американский шоумен с телеканала Bravo Энди Коэн, который ранее вел конкурсы «Мисс Вселенная».\n",
            "Среди других звезд, явивших свой протест против пресловутого закона — американский шоумен с телеканала Bravo Энди Коэн, который ранее вел конкурсы «Мисс Вселенная».\n",
            "\n",
            "В этом году «Мисс Вселенная» проходит в России, но Коэн решил бойкотировать его.\n",
            "В этом году «Мисс Вселенная» идёт в России, но Коэн решил бойкотировать его.\n",
            "\n",
            "В интервью E!\n",
            "В опросе E!\n",
            "\n",
            "News он объяснил это тем, что «из-за дискриминационной политики геи, проживающие в России или приезжающие в эту страну по делам или в качестве туристов, не могут чувствовать себя в безопасности».\n",
            "News он вбил это тем, что «из-за дискриминационной политики геи, живущие в России или идущие в эту страну по делам или в родившемся туристов, не могут чуять себя в защиты».\n",
            "\n",
            "По словам Коэна, как гей, он считает, что для него «было бы неправильно приезжать в Россию».\n",
            "По словам Коэна, как гей, он считает, что для него «было бы неправильно идти в Россию».\n",
            "\n",
            "\n",
            "75 synonym frequency\n",
            "Уэнтуорт Миллер Американский актёр и сценарист Уэнтуорт Миллер отказался от участия в Санкт-Петербургском международном кинофестивале, объяснив своё решение вступлением в силу закона о запрете «пропаганды гомосексуализма» и в целом враждебным отношением к геям в России.\n",
            "Уэнтуорт Миллер Американский актёр и сценарист Уэнтуорт Миллер отказался от участия в Санкт-Петербургском международном кинофестивале, объяснив своё решение вступлением в силу закона о запрете «пропаганды гомосексуализма» и в целом враждебным отношением к геям в России.\n",
            "\n",
            "В письме директору фестиваля 41-летний герой сериала «Побег» (Prison Break) заявил:   Миллер добавил, что он «глубоко встревожен» отношением к геям и лесбиянкам со стороны нынешних российских властей.\n",
            "В письме директору фестиваля 41-летний герой сериала «Побег» (Prison Break) заявил:   Миллер добавил, что он «глубоко встревожен» отношением к геям и лесбиянкам со стороны нынешних российских властей.\n",
            "\n",
            "В июне президент России Владимир Путин подписал закон, запрещающий публичное проявление гомосексуальных отношений в присутствии несовершеннолетних.\n",
            "В июне президент России Владимир Путин подписал закон, запрещающий публичное проявление гомосексуальных отношений в присутствии несовершеннолетних.\n",
            "\n",
            "Документ также предусматривает запрет на усыновление детей однополыми парами или людьми, проживающими в странах, где в любой форме легализованы однополые браки.\n",
            "Документ также предусматривает запрет на адоптацию детей однополыми парами или людьми, проживающими в странах, где в любой форме легализованы однополые браки.\n",
            "\n",
            "Также запрещено обсуждение гомосексуальности или прав сексуальных меньшинств в местах, где такие дискуссии могут услышать несовершеннолетние.\n",
            "Также запрещено обсуждение гомосексуальности или прав сексуальных меньшинств в местах, где такие дискуссии могут услышать несовершеннолетние.\n",
            "\n",
            "Кроме того, закон допускает задержание и арест на срок до двух недель с последующей высылкой иностранцев, которые принадлежат к сексуальным меньшинствам или выступают в их защиту.\n",
            "Кроме того, закон допускает задержание и арест на срок до двух недель с последующей высылкой иностранцев, которые принадлежат к сексуальным меньшинствам или выступают в их защиту.\n",
            "\n",
            "Правозащитные организации утверждают, что нечеткие формулировки закона носят дискриминационный характер, и в связи с этим ряд звезд шоу-бизнеса призвали к бойкоту зимней Олимпиады в Сочи в 2014 году.\n",
            "Правозащитные организации утверждают, что нечеткие формулировки закона носят дискриминационный характер, и в связи с этим ряд звезд шоу-бизнеса призвали к бойкоту зимней Олимпиады в Сочи в 2014 году.\n",
            "\n",
            "«Я не могу с чистой совестью участвовать в фестивале, который проводится в стране, где таким людям, как я, систематически отказывают в праве жить и любить открыто, — написал Миллер.\n",
            "«Я не могу с чистой совестью участвовать в фестивале, который проводится в стране, где таким людям, как я, постепенно отказывают в праве жить и любить открыто, — написал Миллер.\n",
            "\n",
            "— Возможно, когда ситуация улучшится, я приму другое решение.\n",
            "— Возможно, когда ситуация улучшится, я приму другое решение.\n",
            "\n",
            "Но пока нет».\n",
            "Но пока нет».\n",
            "\n",
            "После выхода заявления Миллера несколько знаменитостей выступили в поддержку звезды «Другого мира» (Underworld).\n",
            "После выхода заявления Миллера несколько знаменитостей выступили в поддержку звезды «Другого мира» (Underworld).\n",
            "\n",
            "«Я горжусь тем, что Вентворт Миллер выступил в поддержку равенства.\n",
            "«Я горжусь тем, что Вентворт Миллер выступил в поддержку равенства.\n",
            "\n",
            "В России не понимают, что они теряют», — сказала комедиантка и телеведущая Эллен Дедженерес.\n",
            "В России не понимают, что они теряют», — сказала комедиантка и телеведущая Эллен Дедженерес.\n",
            "\n",
            "«Вентворт Миллер — молодец.\n",
            "«Вентворт Миллер — молодец.\n",
            "\n",
            "Браво», — заявил актер, продюсер и директор Нейл Патрик Харрис, известный своими ролями в сериалах «Доктор Дуги Хаузер» (Doogie Howser, M.D.)\n",
            "Браво», — заявил актер, продюсер и директор Нейл Патрик Харрис, известный своими ролями в сериалах «Доктор Дуги Хаузер» (Doogie Howser, M.D.)\n",
            "\n",
            "и «Как я встретил вашу маму» (How I Met Your Mother).\n",
            "и «Как я встретил вашу маму» (How I Met Your Mother).\n",
            "\n",
            "Среди других звезд, выразивших свой протест против пресловутого закона — американский шоумен с телеканала Bravo Энди Коэн, который ранее вел конкурсы «Мисс Вселенная».\n",
            "Среди других звезд, выразивших свой опротестование против пресловутого закона — американский шоумен с телеканала Bravo Энди Коэн, который ранее вел конкурсы «Мисс Вселенная».\n",
            "\n",
            "В этом году «Мисс Вселенная» проходит в России, но Коэн решил бойкотировать его.\n",
            "В этом году «Мисс Вселенная» проходит в России, но Коэн решил бойкотировать его.\n",
            "\n",
            "В интервью E!\n",
            "В интервью E!\n",
            "\n",
            "News он объяснил это тем, что «из-за дискриминационной политики геи, проживающие в России или приезжающие в эту страну по делам или в качестве туристов, не могут чувствовать себя в безопасности».\n",
            "News он объяснил это тем, что «из-за дискриминационной политики геи, проживающие в России или приезжающие в эту страну по делам или в качестве туристов, не могут чувствовать себя в безопасности».\n",
            "\n",
            "По словам Коэна, как гей, он считает, что для него «было бы неправильно приезжать в Россию».\n",
            "По словам Коэна, как педрила, он считает, что для него «было бы неправильно приезжать в Россию».\n",
            "\n",
            "\n",
            "76 bert len\n",
            "22-летний житель Аризоны, открывший стрельбу, в результате которой пострадали 20 человек, и попытавшийся убить члена Конгресса США, впервые предстал перед судом по обвинению в совершении федерального преступления.\n",
            "22-летний житель Аризоны, открывший стрельбу, в результате которой пострадали 20 человек, и тем убить члена Конгресса США, впервые впервые перед судом по делу в совершении федерального преступления.\n",
            "\n",
            "В понедельник Джаред Лофнер в наручниках и в сопровождении нескольких охранников доставлен в суд в города Феникс.\n",
            "В понедельник Джаред Лофнер в суд и в числе других охранников идёт в суд в города Феникс.\n",
            "\n",
            "Побритый наголо и одетый в тюремную форму, он сказал, что знает свои права.\n",
            "Побритый наголо и одетый в ##ую форму, он сказал, что знает свои права.\n",
            "\n",
            "Лофнер предстал перед судом через два дня после стрельбы в Тусоне.\n",
            "Лофнер умер перед судом через два дня после стрельбы в Тусоне.\n",
            "\n",
            "Тогда были убиты шесть человек, а член Палаты представителей Конгресса США от штата Аризона Гэбриэль Гиффордс получила ранение и в настоящее время находится в критическом состоянии.\n",
            "Тогда были убиты шесть человек, а член Палаты представителей Конгресса США от штата Аризона Гэбриэль Гиффордс принял ранение и в то время - в критическом состоянии.\n",
            "\n",
            "Были ранены еще 13 человек.\n",
            "Были ранены еще 13 человек.\n",
            "\n",
            "В этот же день президент США Барак Обама заявил, что страна и народ до сих пор скорбят и не могут оправиться от шока, вызванного тем, что произошло в субботу.\n",
            "В этот же день президент США Барак Обама заявил, что страна и народ до сих пор как и не могут - от шока, вызванного тем, что они в субботу.\n",
            "\n",
            "Обама выступал в Белом доме через несколько часов после того, как по всей стране прошла минута молчания в память о жертвах этого преступления.\n",
            "Обама выступал в Белом доме через несколько часов после того, как по всей стране прошла минута молчания в память о жертвах этого события.\n",
            "\n",
            "Президент и первая леди Мишель Обама задержались в Белом доме, а персонал и посетители собрались на ступенях Капитолия.\n",
            "Президент и первая леди Мишель Обама были в Белом доме, а власти и президент - на ступенях Капитолия.\n",
            "\n",
            "Нью-йоркская фондовая биржа и государственные учреждения также почтили память погибших.\n",
            "Нью-йоркская фондовая биржа и другие власти также почтили память ##м.\n",
            "\n",
            "Врачи, прооперировавшие и лечащие 40-летнюю Гиффордс, говорят, что они настроены немного более оптимистично.\n",
            "Врачи, как и лечащие 40-летнюю Гиффордс, говорят, что они были немного более чем.\n",
            "\n",
            "По сообщениям докторов, она реагирует на простые команды.\n",
            "По мнению докторов, она играет на простые команды.\n",
            "\n",
            "Вместе с тем, они предупреждают, что опасность еще не миновала, хотя состояние их пациентки стабилизировалось.\n",
            "Вместе с тем, они показали, что она еще не велика, хотя на их сил -.\n",
            "\n",
            "В субботу во время встречи с избирателями возле одного из супермаркетов Гиффордс получила пулевое ранение в голову.\n",
            "В субботу во время встречи с избирателями возле одного из округов Гиффордс имел пулевое ранение в голову.\n",
            "\n",
            "Лофнеру предъявлено обвинение, состоящее из нескольких пунктов.\n",
            "Лофнеру - село, состоит из 11 пунктов.\n",
            "\n",
            "Один из них – покушение на политическое убийство члена Конгресса, два пункта – покушение на убийство сотрудника федерального правительства и еще два пункта – покушение на убийство сотрудника федерального учреждения.\n",
            "Один из них – покушение на политическое убийство члена Конгресса, два пункта – покушение на убийство сотрудника федерального правительства и еще два пункта – покушение на убийство сотрудника федерального учреждения.\n",
            "\n",
            "\n",
            "76 bert frequency\n",
            "22-летний житель Аризоны, открывший стрельбу, в результате которой пострадали 20 человек, и попытавшийся убить члена Конгресса США, впервые предстал перед судом по обвинению в совершении федерального преступления.\n",
            "22-летний житель Аризоны, открывший стрельбу, в результате которой пострадали 20 человек, и попытавшийся убить члена Конгресса США, впервые предстал перед судом по обвинению в совершении федерального преступления.\n",
            "\n",
            "В понедельник Джаред Лофнер в наручниках и в сопровождении нескольких охранников доставлен в суд в города Феникс.\n",
            "В понедельник Джаред Лофнер в наручниках и в сопровождении нескольких охранников доставлен в суд в города Феникс.\n",
            "\n",
            "Побритый наголо и одетый в тюремную форму, он сказал, что знает свои права.\n",
            "Побритый , и попал в тюремную форму, он сказал, что знает свои права.\n",
            "\n",
            "Лофнер предстал перед судом через два дня после стрельбы в Тусоне.\n",
            "Лофнер предстал перед судом через два дня после стрельбы в Тусоне.\n",
            "\n",
            "Тогда были убиты шесть человек, а член Палаты представителей Конгресса США от штата Аризона Гэбриэль Гиффордс получила ранение и в настоящее время находится в критическом состоянии.\n",
            "Тогда были убиты шесть человек, а член Палаты представителей Конгресса США от штата Аризона Гэбриэль Гиффордс получила ранение и в настоящее время находится в критическом состоянии.\n",
            "\n",
            "Были ранены еще 13 человек.\n",
            "Были ранены еще 13 человек.\n",
            "\n",
            "В этот же день президент США Барак Обама заявил, что страна и народ до сих пор скорбят и не могут оправиться от шока, вызванного тем, что произошло в субботу.\n",
            "В этот же день президент США Барак Обама заявил, что страна и народ до сих пор скорбят и не могут - от шока, вызванного тем, что произошло в субботу.\n",
            "\n",
            "Обама выступал в Белом доме через несколько часов после того, как по всей стране прошла минута молчания в память о жертвах этого преступления.\n",
            "Обама выступал в Белом доме через несколько часов после того, как по всей стране прошла минута молчания в память о жертвах этого преступления.\n",
            "\n",
            "Президент и первая леди Мишель Обама задержались в Белом доме, а персонал и посетители собрались на ступенях Капитолия.\n",
            "Президент и первая леди Мишель Обама задержались в Белом доме, а персонал и посетители собрались на ступенях Капитолия.\n",
            "\n",
            "Нью-йоркская фондовая биржа и государственные учреждения также почтили память погибших.\n",
            "Нью-йоркская фондовая биржа и государственные учреждения также почтили память погибших.\n",
            "\n",
            "Врачи, прооперировавшие и лечащие 40-летнюю Гиффордс, говорят, что они настроены немного более оптимистично.\n",
            "Врачи, прооперировавшие и лечащие 40-летнюю Гиффордс, говорят, что они настроены немного более чем.\n",
            "\n",
            "По сообщениям докторов, она реагирует на простые команды.\n",
            "По сообщениям докторов, она реагирует на простые команды.\n",
            "\n",
            "Вместе с тем, они предупреждают, что опасность еще не миновала, хотя состояние их пациентки стабилизировалось.\n",
            "Вместе с тем, они предупреждают, что опасность еще не миновала, хотя состояние их пациентки стабилизировалось.\n",
            "\n",
            "В субботу во время встречи с избирателями возле одного из супермаркетов Гиффордс получила пулевое ранение в голову.\n",
            "В субботу во время встречи с избирателями возле одного из супермаркетов Гиффордс получила пулевое ранение в голову.\n",
            "\n",
            "Лофнеру предъявлено обвинение, состоящее из нескольких пунктов.\n",
            "Лофнеру предъявлено обвинение, состоящее из нескольких пунктов.\n",
            "\n",
            "Один из них – покушение на политическое убийство члена Конгресса, два пункта – покушение на убийство сотрудника федерального правительства и еще два пункта – покушение на убийство сотрудника федерального учреждения.\n",
            "Один из них – покушение на политическое убийство члена Конгресса, два пункта – покушение на убийство сотрудника федерального правительства и еще два пункта – покушение на убийство сотрудника федерального учреждения.\n",
            "\n",
            "\n",
            "76 synonym len\n",
            "22-летний житель Аризоны, открывший стрельбу, в результате которой пострадали 20 человек, и попытавшийся убить члена Конгресса США, впервые предстал перед судом по обвинению в совершении федерального преступления.\n",
            "22-летний житель Аризоны, открывший стрельбу, в итоге которой пострадали 20 человек, и рискнувший убить члена Конгресса США, впервые вырос перед судом по иску в совершении федерального преступления.\n",
            "\n",
            "В понедельник Джаред Лофнер в наручниках и в сопровождении нескольких охранников доставлен в суд в города Феникс.\n",
            "В понедельник Джаред Лофнер в наручниках и в сопровождении нескольких охранников данный в суд в города Феникс.\n",
            "\n",
            "Побритый наголо и одетый в тюремную форму, он сказал, что знает свои права.\n",
            "Побритый наголо и одетый в тюремную форму, он сказал, что знает свои права.\n",
            "\n",
            "Лофнер предстал перед судом через два дня после стрельбы в Тусоне.\n",
            "Лофнер вырос перед судом через два дня после стрельбы в Тусоне.\n",
            "\n",
            "Тогда были убиты шесть человек, а член Палаты представителей Конгресса США от штата Аризона Гэбриэль Гиффордс получила ранение и в настоящее время находится в критическом состоянии.\n",
            "Тогда были убиты шесть человек, а член Палаты представителей Конгресса США от штата Аризона Гэбриэль Гиффордс сняла ранение и в настоящее время есть в критическом состоянии.\n",
            "\n",
            "Были ранены еще 13 человек.\n",
            "Были ранены еще 13 человек.\n",
            "\n",
            "В этот же день президент США Барак Обама заявил, что страна и народ до сих пор скорбят и не могут оправиться от шока, вызванного тем, что произошло в субботу.\n",
            "В этот же день президент США Барак Обама заявил, что страна и народ до сих пор тужат и не могут встать от шока, вызванного тем, что вышло в субботу.\n",
            "\n",
            "Обама выступал в Белом доме через несколько часов после того, как по всей стране прошла минута молчания в память о жертвах этого преступления.\n",
            "Обама выступал в Белом доме через несколько часов после того, как по всей стране прошла минута молчания в память о жертвах этого греха.\n",
            "\n",
            "Президент и первая леди Мишель Обама задержались в Белом доме, а персонал и посетители собрались на ступенях Капитолия.\n",
            "Президент и первая леди Мишель Обама засели в Белом доме, а штат и гости пошли на ступенях Капитолия.\n",
            "\n",
            "Нью-йоркская фондовая биржа и государственные учреждения также почтили память погибших.\n",
            "Нью-йоркская фондовая биржа и народные учреждения также почтили память погибших.\n",
            "\n",
            "Врачи, прооперировавшие и лечащие 40-летнюю Гиффордс, говорят, что они настроены немного более оптимистично.\n",
            "Врачи, прооперировавшие и лечащие 40-летнюю Гиффордс, вещают, что они заданные немного более бодро.\n",
            "\n",
            "По сообщениям докторов, она реагирует на простые команды.\n",
            "По слухам докторов, она отвечает на простые команды.\n",
            "\n",
            "Вместе с тем, они предупреждают, что опасность еще не миновала, хотя состояние их пациентки стабилизировалось.\n",
            "Вместе с тем, они грозят, что опасность еще не плыла, хотя срез их пациентки стабилизировалось.\n",
            "\n",
            "В субботу во время встречи с избирателями возле одного из супермаркетов Гиффордс получила пулевое ранение в голову.\n",
            "В субботу во время встречи с избирателями возле одного из лавок Гиффордс сняла пулевое ранение в голову.\n",
            "\n",
            "Лофнеру предъявлено обвинение, состоящее из нескольких пунктов.\n",
            "Лофнеру предъявлено иск, в из нескольких пунктов.\n",
            "\n",
            "Один из них – покушение на политическое убийство члена Конгресса, два пункта – покушение на убийство сотрудника федерального правительства и еще два пункта – покушение на убийство сотрудника федерального учреждения.\n",
            "Один из них – покушение на политическое убийство члена Конгресса, два пункта – покушение на убийство сотрудника федерального правительства и еще два пункта – покушение на убийство сотрудника федерального учреждения.\n",
            "\n",
            "\n",
            "76 synonym frequency\n",
            "22-летний житель Аризоны, открывший стрельбу, в результате которой пострадали 20 человек, и попытавшийся убить члена Конгресса США, впервые предстал перед судом по обвинению в совершении федерального преступления.\n",
            "22-летний житель Аризоны, открывший стрельбу, в результате которой пострадали 20 человек, и попытавшийся убить члена Конгресса США, впервые предстал перед судом по обвинению в совершении федерального преступления.\n",
            "\n",
            "В понедельник Джаред Лофнер в наручниках и в сопровождении нескольких охранников доставлен в суд в города Феникс.\n",
            "В понедельник Джаред Лофнер в наручниках и в сопровождении нескольких охранников доставлен в суд в города Феникс.\n",
            "\n",
            "Побритый наголо и одетый в тюремную форму, он сказал, что знает свои права.\n",
            "Побритый наголо и одетый в тюремную форму, он сказал, что знает свои права.\n",
            "\n",
            "Лофнер предстал перед судом через два дня после стрельбы в Тусоне.\n",
            "Лофнер предстал перед судом через два дня после стрельбы в Тусоне.\n",
            "\n",
            "Тогда были убиты шесть человек, а член Палаты представителей Конгресса США от штата Аризона Гэбриэль Гиффордс получила ранение и в настоящее время находится в критическом состоянии.\n",
            "Тогда были убиты шесть человек, а член Палаты представителей Конгресса США от штата Аризона Гэбриэль Гиффордс получила ранение и в настоящее время находится в критическом состоянии.\n",
            "\n",
            "Были ранены еще 13 человек.\n",
            "Были ранены еще 13 человек.\n",
            "\n",
            "В этот же день президент США Барак Обама заявил, что страна и народ до сих пор скорбят и не могут оправиться от шока, вызванного тем, что произошло в субботу.\n",
            "В этот же день президент США Барак Обама заявил, что страна и народ до сих пор скорбят и не могут вернуться к жизни от шока, вызванного тем, что произошло в субботу.\n",
            "\n",
            "Обама выступал в Белом доме через несколько часов после того, как по всей стране прошла минута молчания в память о жертвах этого преступления.\n",
            "Обама выступал в Белом доме через несколько часов после того, как по всей стране прошла минута молчания в память о жертвах этого преступления.\n",
            "\n",
            "Президент и первая леди Мишель Обама задержались в Белом доме, а персонал и посетители собрались на ступенях Капитолия.\n",
            "Президент и первая леди Мишель Обама задержались в Белом доме, а персонал и посетители собрались на ступенях Капитолия.\n",
            "\n",
            "Нью-йоркская фондовая биржа и государственные учреждения также почтили память погибших.\n",
            "Нью-йоркская фондовая биржа и государственные учреждения также почтили память погибших.\n",
            "\n",
            "Врачи, прооперировавшие и лечащие 40-летнюю Гиффордс, говорят, что они настроены немного более оптимистично.\n",
            "Врачи, прооперировавшие и лечащие 40-летнюю Гиффордс, говорят, что они настроены немного более весело.\n",
            "\n",
            "По сообщениям докторов, она реагирует на простые команды.\n",
            "По сообщениям докторов, она реагирует на простые команды.\n",
            "\n",
            "Вместе с тем, они предупреждают, что опасность еще не миновала, хотя состояние их пациентки стабилизировалось.\n",
            "Вместе с тем, они предупреждают, что опасность еще не миновала, хотя состояние их пациентки стабилизировалось.\n",
            "\n",
            "В субботу во время встречи с избирателями возле одного из супермаркетов Гиффордс получила пулевое ранение в голову.\n",
            "В субботу во время встречи с избирателями возле одного из супермаркетов Гиффордс получила пулевое ранение в голову.\n",
            "\n",
            "Лофнеру предъявлено обвинение, состоящее из нескольких пунктов.\n",
            "Лофнеру предъявлено обвинение, состоящее из нескольких пунктов.\n",
            "\n",
            "Один из них – покушение на политическое убийство члена Конгресса, два пункта – покушение на убийство сотрудника федерального правительства и еще два пункта – покушение на убийство сотрудника федерального учреждения.\n",
            "Один из них – покушение на политическое убийство члена Конгресса, два пункта – покушение на убийство сотрудника федерального правительства и еще два пункта – покушение на убийство сотрудника федерального учреждения.\n",
            "\n",
            "\n",
            "77 bert len\n",
            "Жерар Депардьё.\n",
            "Жерар Депардьё.\n",
            "\n",
            "Жан-Марк Эро.\n",
            "Жан-Марк Эро.\n",
            "\n",
            "Актёр французского происхождения, лауреат премии «Золотой глобус», двукратный лауреат премии «Сезар» и номинант на премию «Оскар» в номинации «Лучший актёр», кавалер ордена Почётного легиона и ордена «За заслуги», ресторатор, винодел, один из «популярнейших и любимейших актёров не только во Франции, но и далеко за её пределами» 63-летний Жерар Депардьё решил отказаться от французского гражданства.\n",
            "Актёр французского кино, лауреат премии «Золотой глобус», двукратный лауреат премии «Сезар» и номинант на премию «Оскар» в роли «Лучший актёр», кавалер ордена Почётного легиона и ордена «За заслуги», ресторатор, винодел, один из «лучших и любимейших актёров не только во Франции, но и далеко за её пределами» 63-летний Жерар Депардьё решил ##аться от французского кино.\n",
            "\n",
            "Кабинет Франсуа Олланда после прихода к власти принял законодательную инициативу, которая начиная с 2013 года вводит во Франции «налог для богачей», облагающий 75&nbsp;% ставкой годовой доход граждан, превышающий 1 миллион евро.\n",
            "Кабинет Франсуа Олланда после прихода к власти принял новую программу, которая также с 2013 года вводит во Франции «налог для богачей», с 75&nbsp;% ставкой годовой доход ##а, на 1 миллион евро.\n",
            "\n",
            "Этот закон входит в обширный пакет фискальных программ, призванный увеличить доходы государства более чем на 13 миллиардов евро за 2012—2013 годы.\n",
            "Этот закон входит в первый пакет основных закон, чтобы ##вести доходы до более чем на 13 миллиардов евро за 2012—2013 годы.\n",
            "\n",
            "Некоторые граждане Франции с высоками доходами предпочли сменить своё место жительства, посчитав подобные меры драконовскими и несправедливыми.\n",
            "Поэтому во Франции с высоками доходами стали сменить своё место граждан, а меры меры так и др.\n",
            "\n",
            "В сентябре 2012 года с прошением о предоставлении гражданства к властям Бельгии обратился совладелец крупнейшего в мире производителя предметов роскоши Louis Vuitton Moet Hennessy миллиардер Бернар Арно.\n",
            "В сентябре 2012 года с вопрос о право марки к властям Бельгии стал к крупнейшего в мире марки предметов роскоши Louis Vuitton Moet Hennessy , Бернар Арно.\n",
            "\n",
            "Президент совета директоров крупной французской машиностроительной компании Schneider Electric Жан-Паскаль Трикуар переехал в Гонконг, а почётный президент одного из мировых лидеров парфюмерии и косметики L’Oréal Линдси Оуэн-Джонс с лета 2012 года живёт в Лугано в Швейцарии.\n",
            "Президент совета директоров крупной французской машиностроительной компании Schneider Electric Жан-Паскаль Трикуар переехал в Гонконг, а почётный президент одного из мировых лидеров парфюмерии и косметики L’Oréal Линдси Оуэн-Джонс с лета 2012 года живёт в Лугано в Швейцарии.\n",
            "\n",
            "В ноябре 2012 года Жерар Депардьё приобрёл недвижимость в бельгийской деревне Нешэн и зарегистрировался по этому месту жительства.\n",
            "В ноябре 2012 года Жерар Депардьё приобрёл недвижимость в бельгийской деревне Нешэн и переехал по этому месту в.\n",
            "\n",
            "Этот шаг актёра вызвал негативную реакцию французских политиков.\n",
            "Этот шаг актёра вызвал на реакцию французских политиков.\n",
            "\n",
            "В частности премьер-министр Франции Жан-Марк Эро назвал решение Депардье о переезде в Бельгию «жалким поступком».\n",
            "В 2010 премьер-министр Франции Жан-Марк Эро назвал решение Депардье о переезде в Бельгию «жалким делом».\n",
            "\n",
            "Подобные высказывания обидели актёра и он направил в адес премьер министра открытое письмо, в котором возмутился словами чиновника: ''\"«Я не прошу одобрения моего поступка, но, по крайней мере, уважайте его!\n",
            "Эти действия обидели актёра и он дал в адес премьер министра театра письмо, в котором со словами чиновника: ''\"«Я не прошу ##те моего », но, по крайней мере, уважайте его!\n",
            "\n",
            "Никто, из покидавших страну, не был оскорблен так, как я»''.\n",
            "Никто, из ##менить страну, не был « так, как я»''.\n",
            "\n",
            "В своём послании Депардьё не стеснялся в высказываниях и фактически отказался от французского гражданства: Кто вы такой, чтобы судить меня, господин Эйро, я вас спрашиваю, кто вы?\n",
            "В своём переводе Депардьё не участие в себя и не умер от французского :: Кто вы такой, чтобы судить меня, - Эйро, я вас такой, кто вы?\n",
            "\n",
            "Я отдаю Вам свой паспорт и номер социального страхования, которым я никогда не пользовался.\n",
            "Я . Вам свой паспорт и номер из статуса, которым я никогда не был.\n",
            "\n",
            "У нас с вами больше нет общей родины.\n",
            "У нас с вами больше нет общей родины.\n",
            "\n",
            "Я настоящий европеец и гражданин мира, как учил меня мой отец.\n",
            "Я - европеец и всего мира, как учил меня мой отец.\n",
            "\n",
            "\n",
            "77 bert frequency\n",
            "Жерар Депардьё.\n",
            "Жерар Депардьё.\n",
            "\n",
            "Жан-Марк Эро.\n",
            "Жан-Марк Эро.\n",
            "\n",
            "Актёр французского происхождения, лауреат премии «Золотой глобус», двукратный лауреат премии «Сезар» и номинант на премию «Оскар» в номинации «Лучший актёр», кавалер ордена Почётного легиона и ордена «За заслуги», ресторатор, винодел, один из «популярнейших и любимейших актёров не только во Франции, но и далеко за её пределами» 63-летний Жерар Депардьё решил отказаться от французского гражданства.\n",
            "Актёр французского происхожденияактёр премии «Золотой глобус», двукратный лауреат премии «Сезар» и номинант на премию «Оскар» в номинации «Лучший актёр», офицер ордена Почётного легиона и ордена «За заслуги», ресторатор, винодел, один из «популярнейших и любимейших актёров не только во Франции, но и далеко за её пределами» 63-летний Жерар Депардьё решил отказаться от французского гражданства.\n",
            "\n",
            "Кабинет Франсуа Олланда после прихода к власти принял законодательную инициативу, которая начиная с 2013 года вводит во Франции «налог для богачей», облагающий 75&nbsp;% ставкой годовой доход граждан, превышающий 1 миллион евро.\n",
            "Кабинет Франсуа Олланда после прихода к власти принял законодательную инициативу, которая начиная с 2013 года вводит во Франции «налог для богачей», облагающий 75&nbsp;% ставкой на доход граждан, превышающий 1 миллион евро.\n",
            "\n",
            "Этот закон входит в обширный пакет фискальных программ, призванный увеличить доходы государства более чем на 13 миллиардов евро за 2012—2013 годы.\n",
            "Этот закон входит в государственный пакет фискальных программ, призванный увеличить доходы государства более чем на 13 миллиардов евро за 2012—2013 годы.\n",
            "\n",
            "Некоторые граждане Франции с высоками доходами предпочли сменить своё место жительства, посчитав подобные меры драконовскими и несправедливыми.\n",
            "Некоторые граждане Франции с высоками доходами предпочли сменить своё место жительства, посчитав подобные меры драконовскими и несправедливыми.\n",
            "\n",
            "В сентябре 2012 года с прошением о предоставлении гражданства к властям Бельгии обратился совладелец крупнейшего в мире производителя предметов роскоши Louis Vuitton Moet Hennessy миллиардер Бернар Арно.\n",
            "В сентябре 2012 года с прошением о предоставлении гражданства к властям Бельгии обратился к крупнейшего в мире производителя предметов роскоши Louis Vuitton Moet Hennessy , Бернар Арно.\n",
            "\n",
            "Президент совета директоров крупной французской машиностроительной компании Schneider Electric Жан-Паскаль Трикуар переехал в Гонконг, а почётный президент одного из мировых лидеров парфюмерии и косметики L’Oréal Линдси Оуэн-Джонс с лета 2012 года живёт в Лугано в Швейцарии.\n",
            "Президент совета директоров крупной французской машиностроительной компании Schneider Electric Жан-Паскаль Трикуар переехал в Гонконг, а почётный президент одного из мировых лидеров парфюмерии и косметики L’Oréal Линдси Оуэн-Джонс с лета 2012 года живёт в Лугано в Швейцарии.\n",
            "\n",
            "В ноябре 2012 года Жерар Депардьё приобрёл недвижимость в бельгийской деревне Нешэн и зарегистрировался по этому месту жительства.\n",
            "В ноябре 2012 года Жерар Депардьё приобрёл недвижимость в бельгийской деревне Нешэн и зарегистрировался по этому месту жительства.\n",
            "\n",
            "Этот шаг актёра вызвал негативную реакцию французских политиков.\n",
            "Этот шаг актёра вызвал негативную реакцию французских политиков.\n",
            "\n",
            "В частности премьер-министр Франции Жан-Марк Эро назвал решение Депардье о переезде в Бельгию «жалким поступком».\n",
            "В частности премьер-министр Франции Жан-Марк Эро назвал решение Депардье о переезде в Бельгию «жалким поступком».\n",
            "\n",
            "Подобные высказывания обидели актёра и он направил в адес премьер министра открытое письмо, в котором возмутился словами чиновника: ''\"«Я не прошу одобрения моего поступка, но, по крайней мере, уважайте его!\n",
            "Подобные высказывания обидели актёра и он направил в адес премьер министра открытое письмо, в котором возмутился словами чиновника: ''\"«Я не прошу одобрения моего поступка, но, по крайней мере, уважайте его!\n",
            "\n",
            "Никто, из покидавших страну, не был оскорблен так, как я»''.\n",
            "Никто, из покидавших страну, не был оскорблен так, как я»''.\n",
            "\n",
            "В своём послании Депардьё не стеснялся в высказываниях и фактически отказался от французского гражданства: Кто вы такой, чтобы судить меня, господин Эйро, я вас спрашиваю, кто вы?\n",
            "В своём послании Депардьё не стеснялся в высказываниях и фактически отказался от французского гражданства: Кто вы такой, чтобы судить меня, господин Эйро, я вас спрашиваю, кто вы?\n",
            "\n",
            "Я отдаю Вам свой паспорт и номер социального страхования, которым я никогда не пользовался.\n",
            "Я отдаю Вам свой паспорт и номер социального страхования, которым я никогда не пользовался.\n",
            "\n",
            "У нас с вами больше нет общей родины.\n",
            "У нас с вами больше нет общей родины.\n",
            "\n",
            "Я настоящий европеец и гражданин мира, как учил меня мой отец.\n",
            "Я настоящий европеец и гражданин мира, как учил меня мой отец.\n",
            "\n",
            "\n",
            "77 synonym len\n",
            "Жерар Депардьё.\n",
            "Жерар Депардьё.\n",
            "\n",
            "Жан-Марк Эро.\n",
            "Жан-Марк Эро.\n",
            "\n",
            "Актёр французского происхождения, лауреат премии «Золотой глобус», двукратный лауреат премии «Сезар» и номинант на премию «Оскар» в номинации «Лучший актёр», кавалер ордена Почётного легиона и ордена «За заслуги», ресторатор, винодел, один из «популярнейших и любимейших актёров не только во Франции, но и далеко за её пределами» 63-летний Жерар Депардьё решил отказаться от французского гражданства.\n",
            "Актёр французского родившегося, лауреат премии «Золотой глобус», двукратный лауреат премии «Сезар» и номинант на премию «Оскар» в номинации «Лучший актёр», кавалер ордена Почётного легиона и ордена «За заслуги», ресторатор, винодел, один из «популярнейших и любимейших актёров не только во Франции, но и далеко за её пределами» 63-летний Жерар Депардьё решил отдать от французского подданства.\n",
            "\n",
            "Кабинет Франсуа Олланда после прихода к власти принял законодательную инициативу, которая начиная с 2013 года вводит во Франции «налог для богачей», облагающий 75&nbsp;% ставкой годовой доход граждан, превышающий 1 миллион евро.\n",
            "Кабинет Франсуа Олланда после прихода к власти принял правовую почин, которая начиная с 2013 года вводит во Франции «налог для богачей», взимающий 75&nbsp;% ставкой годовой доход граждан, побеждающий 1 миллион евро.\n",
            "\n",
            "Этот закон входит в обширный пакет фискальных программ, призванный увеличить доходы государства более чем на 13 миллиардов евро за 2012—2013 годы.\n",
            "Этот закон входит в ёмкий пакет фискальных программ, позванный поднять доходы рейха более чем на 13 миллиардов евро за 2012—2013 годы.\n",
            "\n",
            "Некоторые граждане Франции с высоками доходами предпочли сменить своё место жительства, посчитав подобные меры драконовскими и несправедливыми.\n",
            "Иные мещане Франции с высоками доходами избрали сменить своё место жилья, посчитав подобные меры жёсткими и ложными.\n",
            "\n",
            "В сентябре 2012 года с прошением о предоставлении гражданства к властям Бельгии обратился совладелец крупнейшего в мире производителя предметов роскоши Louis Vuitton Moet Hennessy миллиардер Бернар Арно.\n",
            "В сентябре 2012 года с жалобой о предоставлении подданства к властям Бельгии стал партнёр крупнейшего в мире самца предметов роскоши Louis Vuitton Moet Hennessy богач Бернар Арно.\n",
            "\n",
            "Президент совета директоров крупной французской машиностроительной компании Schneider Electric Жан-Паскаль Трикуар переехал в Гонконг, а почётный президент одного из мировых лидеров парфюмерии и косметики L’Oréal Линдси Оуэн-Джонс с лета 2012 года живёт в Лугано в Швейцарии.\n",
            "Президент совета директоров крупной французской машиностроительной компании Schneider Electric Жан-Паскаль Трикуар переехал в Гонконг, а почётный президент одного из мировых лидеров парфюмерии и косметики L’Oréal Линдси Оуэн-Джонс с лета 2012 года живёт в Лугано в Швейцарии.\n",
            "\n",
            "В ноябре 2012 года Жерар Депардьё приобрёл недвижимость в бельгийской деревне Нешэн и зарегистрировался по этому месту жительства.\n",
            "В ноябре 2012 года Жерар Депардьё приобрёл недвижимость в бельгийской деревне Нешэн и вышел по этому месту жилья.\n",
            "\n",
            "Этот шаг актёра вызвал негативную реакцию французских политиков.\n",
            "Этот шаг актёра вызвал негативную реакцию французских политиков.\n",
            "\n",
            "В частности премьер-министр Франции Жан-Марк Эро назвал решение Депардье о переезде в Бельгию «жалким поступком».\n",
            "В частности премьер-министр Франции Жан-Марк Эро назвал решение Депардье о переезде в Бельгию «жалким актом».\n",
            "\n",
            "Подобные высказывания обидели актёра и он направил в адес премьер министра открытое письмо, в котором возмутился словами чиновника: ''\"«Я не прошу одобрения моего поступка, но, по крайней мере, уважайте его!\n",
            "Подобные фразы обидели актёра и он ткнул в адес премьер министра открытое письмо, в котором поднял словами чиновника: ''\"«Я не прошу хвалы моего акта, но, по крайней мере, уважайте его!\n",
            "\n",
            "Никто, из покидавших страну, не был оскорблен так, как я»''.\n",
            "Никто, из кидавших страну, не был задетый так, как я»''.\n",
            "\n",
            "В своём послании Депардьё не стеснялся в высказываниях и фактически отказался от французского гражданства: Кто вы такой, чтобы судить меня, господин Эйро, я вас спрашиваю, кто вы?\n",
            "В своём миссии Депардьё не робел в фразах и фактически отдал от французского подданства: Кто вы такой, чтобы судить меня, пан Эйро, я вас пытаю, кто вы?\n",
            "\n",
            "Я отдаю Вам свой паспорт и номер социального страхования, которым я никогда не пользовался.\n",
            "Я отдаю Вам свой паспорт и номер светского страхования, которым я никогда не имел.\n",
            "\n",
            "У нас с вами больше нет общей родины.\n",
            "У нас с вами больше нет общей родины.\n",
            "\n",
            "Я настоящий европеец и гражданин мира, как учил меня мой отец.\n",
            "Я настоящий европеец и мещанин мира, как учил меня мой отец.\n",
            "\n",
            "\n",
            "77 synonym frequency\n",
            "Жерар Депардьё.\n",
            "Жерар Депардьё.\n",
            "\n",
            "Жан-Марк Эро.\n",
            "Жан-Марк Эро.\n",
            "\n",
            "Актёр французского происхождения, лауреат премии «Золотой глобус», двукратный лауреат премии «Сезар» и номинант на премию «Оскар» в номинации «Лучший актёр», кавалер ордена Почётного легиона и ордена «За заслуги», ресторатор, винодел, один из «популярнейших и любимейших актёров не только во Франции, но и далеко за её пределами» 63-летний Жерар Депардьё решил отказаться от французского гражданства.\n",
            "Актёр французского происхождения, побпобедитель премии «Золотой глобус», двукратный лауреат премии «Сезар» и номинант на премию «Оскар» в номинации «Лучший актёр», кавалер ордена Почётного легиона и ордена «За заслуги», ресторатор, винодел, один из «популярнейших и любимейших актёров не только во Франции, но и далеко за её пределами» 63-летний Жерар Депардьё решил отказаться от французского гражданства.\n",
            "\n",
            "Кабинет Франсуа Олланда после прихода к власти принял законодательную инициативу, которая начиная с 2013 года вводит во Франции «налог для богачей», облагающий 75&nbsp;% ставкой годовой доход граждан, превышающий 1 миллион евро.\n",
            "Кабинет Франсуа Олланда после прихода к власти принял законодательную инициативу, которая начиная с 2013 года вводит во Франции «налог для богачей», облагающий 75&nbsp;% ставкой одногодичный доход граждан, превышающий 1 миллион евро.\n",
            "\n",
            "Этот закон входит в обширный пакет фискальных программ, призванный увеличить доходы государства более чем на 13 миллиардов евро за 2012—2013 годы.\n",
            "Этот закон входит в вполне достаточный пакет фискальных программ, призванный увеличить доходы государства более чем на 13 миллиардов евро за 2012—2013 годы.\n",
            "\n",
            "Некоторые граждане Франции с высоками доходами предпочли сменить своё место жительства, посчитав подобные меры драконовскими и несправедливыми.\n",
            "Некоторые граждане Франции с высоками доходами предпочли сменить своё место жительства, посчитав подобные меры драконовскими и несправедливыми.\n",
            "\n",
            "В сентябре 2012 года с прошением о предоставлении гражданства к властям Бельгии обратился совладелец крупнейшего в мире производителя предметов роскоши Louis Vuitton Moet Hennessy миллиардер Бернар Арно.\n",
            "В сентябре 2012 года с прошением о предоставлении гражданства к властям Бельгии обратился партнёр крупнейшего в мире производителя предметов роскоши Louis Vuitton Moet Hennessy богач Бернар Арно.\n",
            "\n",
            "Президент совета директоров крупной французской машиностроительной компании Schneider Electric Жан-Паскаль Трикуар переехал в Гонконг, а почётный президент одного из мировых лидеров парфюмерии и косметики L’Oréal Линдси Оуэн-Джонс с лета 2012 года живёт в Лугано в Швейцарии.\n",
            "Президент совета директоров крупной французской машиностроительной компании Schneider Electric Жан-Паскаль Трикуар переехал в Гонконг, а почётный президент одного из мировых лидеров парфюмерии и косметики L’Oréal Линдси Оуэн-Джонс с лета 2012 года живёт в Лугано в Швейцарии.\n",
            "\n",
            "В ноябре 2012 года Жерар Депардьё приобрёл недвижимость в бельгийской деревне Нешэн и зарегистрировался по этому месту жительства.\n",
            "В ноябре 2012 года Жерар Депардьё приобрёл недвижимость в бельгийской деревне Нешэн и зарегистрировался по этому месту жительства.\n",
            "\n",
            "Этот шаг актёра вызвал негативную реакцию французских политиков.\n",
            "Этот шаг актёра вызвал негативную реакцию французских политиков.\n",
            "\n",
            "В частности премьер-министр Франции Жан-Марк Эро назвал решение Депардье о переезде в Бельгию «жалким поступком».\n",
            "В частности премьер-министр Франции Жан-Марк Эро назвал решение Депардье о переезде в Бельгию «жалким поступком».\n",
            "\n",
            "Подобные высказывания обидели актёра и он направил в адес премьер министра открытое письмо, в котором возмутился словами чиновника: ''\"«Я не прошу одобрения моего поступка, но, по крайней мере, уважайте его!\n",
            "Подобные высказывания обидели актёра и он направил в адес премьер министра открытое письмо, в котором возмутился словами чиновника: ''\"«Я не прошу одобрения моего поступка, но, по крайней мере, уважайте его!\n",
            "\n",
            "Никто, из покидавших страну, не был оскорблен так, как я»''.\n",
            "Никто, из покидавших страну, не был оскорблён так, как я»''.\n",
            "\n",
            "В своём послании Депардьё не стеснялся в высказываниях и фактически отказался от французского гражданства: Кто вы такой, чтобы судить меня, господин Эйро, я вас спрашиваю, кто вы?\n",
            "В своём послании Депардьё не стеснялся в высказываниях и фактически отказался от французского гражданства: Кто вы такой, чтобы судить меня, господин Эйро, я вас спрашиваю, кто вы?\n",
            "\n",
            "Я отдаю Вам свой паспорт и номер социального страхования, которым я никогда не пользовался.\n",
            "Я отдаю Вам свой паспорт и номер социального страхования, которым я никогда не пользовался.\n",
            "\n",
            "У нас с вами больше нет общей родины.\n",
            "У нас с вами больше нет общей родины.\n",
            "\n",
            "Я настоящий европеец и гражданин мира, как учил меня мой отец.\n",
            "Я настоящий европеец и гражданин мира, как учил меня мой отец.\n",
            "\n",
            "\n",
            "78 bert len\n",
            "Сын американского медиамагната Руперта Мердока, Джеймс Мердок, переизбран главой совета директоров британского оператора спутникового и кабельного телевидения British Sky Broadcasting Group PLC (BSkyB), передает Reuters.\n",
            "Сын американского медиамагната Руперта Мердока, Джеймс Мердок, переизбран главой совета директоров британского канала ##щания и ##щания связи British Sky Broadcasting Group PLC (BSkyB), Thomson Reuters.\n",
            "\n",
            "Против нового срока 38-летнего топ-менеджера проголосовали около четверти акционеров.\n",
            "Против нового срока 38-летнего топ-менеджера - около четверти голосов.\n",
            "\n",
            "По их мнению, продолжение работы Д.Мердока в BSkyB несет риски для корпорации, поскольку он был причастен к громкому скандалу о незаконном прослушивании подконтрольным американской News Corp.\n",
            "По их мнению, результат работы Д.Мердока в BSkyB несет риски для того, и он был близ к громкому скандалу о незаконном прослушивании в американской News Corp.\n",
            "\n",
            "британским изданием телефонных разговоров публичных деятелей королевства.\n",
            "британским изданием для и с деятелей г.\n",
            "\n",
            "Отметим, что Д.Мердок до сих пор занимает должность главы правления News Corp.\n",
            "то, что Д.Мердок до сих пор имеет пост главы правления News Corp.\n",
            "\n",
            "News Corp.\n",
            "News Corp.\n",
            "\n",
            "принадлежит 39% акций BSkyB.\n",
            "- 39% акций BSkyB.\n",
            "\n",
            "В июле с.г. News Corp.\n",
            "В июле с.г. News Corp.\n",
            "\n",
            "отказалась от поглощения BSkyB за 12 млрд долл.\n",
            "- от политики BSkyB за 12 млрд долл.\n",
            "\n",
            "\n",
            "78 bert frequency\n",
            "Сын американского медиамагната Руперта Мердока, Джеймс Мердок, переизбран главой совета директоров британского оператора спутникового и кабельного телевидения British Sky Broadcasting Group PLC (BSkyB), передает Reuters.\n",
            "Сын американского медиамагната Руперта Мердока, Джеймс Мердок, переизбран главой совета директоров британского оператора спутникового и кабельного телевидения British Sky Broadcasting Group PLC (BSkyB), передает Reuters.\n",
            "\n",
            "Против нового срока 38-летнего топ-менеджера проголосовали около четверти акционеров.\n",
            "Против нового срока 38-летнего топ-менеджера проголосовали около четверти акционеров.\n",
            "\n",
            "По их мнению, продолжение работы Д.Мердока в BSkyB несет риски для корпорации, поскольку он был причастен к громкому скандалу о незаконном прослушивании подконтрольным американской News Corp.\n",
            "По их мнению, продолжение работы Д.Мердока в BSkyB несет риски для корпорации, поскольку он был причастен к громкому скандалу о незаконном прослушивании подконтрольным американской News Corp.\n",
            "\n",
            "британским изданием телефонных разговоров публичных деятелей королевства.\n",
            "британским изданием телефонных разговоров публичных деятелей королевства.\n",
            "\n",
            "Отметим, что Д.Мердок до сих пор занимает должность главы правления News Corp.\n",
            "Отметим, что Д.Мердок до сих пор занимает должность главы правления News Corp.\n",
            "\n",
            "News Corp.\n",
            "News Corp.\n",
            "\n",
            "принадлежит 39% акций BSkyB.\n",
            "принадлежит 39% акций BSkyB.\n",
            "\n",
            "В июле с.г. News Corp.\n",
            "В июле с.г. News Corp.\n",
            "\n",
            "отказалась от поглощения BSkyB за 12 млрд долл.\n",
            "отказалась от поглощения BSkyB за 12 млрд долл.\n",
            "\n",
            "\n",
            "78 synonym len\n",
            "Сын американского медиамагната Руперта Мердока, Джеймс Мердок, переизбран главой совета директоров британского оператора спутникового и кабельного телевидения British Sky Broadcasting Group PLC (BSkyB), передает Reuters.\n",
            "Сын американского медиамагната Руперта Мердока, Джеймс Мердок, переизбран главой совета директоров британского хирурга спутникового и кабельного телевидения British Sky Broadcasting Group PLC (BSkyB), шлёт Reuters.\n",
            "\n",
            "Против нового срока 38-летнего топ-менеджера проголосовали около четверти акционеров.\n",
            "Против нового срока 38-летнего топ-менеджера проголосовали около четверти акционеров.\n",
            "\n",
            "По их мнению, продолжение работы Д.Мердока в BSkyB несет риски для корпорации, поскольку он был причастен к громкому скандалу о незаконном прослушивании подконтрольным американской News Corp.\n",
            "По их мнению, развитие работы Д.Мердока в BSkyB несет риски для блока, поскольку он был причастен к громкому скандалу о незаконном прослушивании подконтрольным американской News Corp.\n",
            "\n",
            "британским изданием телефонных разговоров публичных деятелей королевства.\n",
            "британским изданием связных чатов публичных деятелей империи.\n",
            "\n",
            "Отметим, что Д.Мердок до сих пор занимает должность главы правления News Corp.\n",
            "Обмоем, что Д.Мердок до сих пор берёт должность главы правления News Corp.\n",
            "\n",
            "News Corp.\n",
            "News Corp.\n",
            "\n",
            "принадлежит 39% акций BSkyB.\n",
            "состоит 39% акций BSkyB.\n",
            "\n",
            "В июле с.г. News Corp.\n",
            "В июле с.г. News Corp.\n",
            "\n",
            "отказалась от поглощения BSkyB за 12 млрд долл.\n",
            "отдала от слияния BSkyB за 12 млрд долл.\n",
            "\n",
            "\n",
            "78 synonym frequency\n",
            "Сын американского медиамагната Руперта Мердока, Джеймс Мердок, переизбран главой совета директоров британского оператора спутникового и кабельного телевидения British Sky Broadcasting Group PLC (BSkyB), передает Reuters.\n",
            "Сын американского медиамагната Руперта Мердока, Джеймс Мердок, переизбран главой совета директоров британского оператора спутникового и кабельного телевидения British Sky Broadcasting Group PLC (BSkyB), передает Reuters.\n",
            "\n",
            "Против нового срока 38-летнего топ-менеджера проголосовали около четверти акционеров.\n",
            "Против нового срока 38-летнего топ-менеджера проголосовали около четверти акционеров.\n",
            "\n",
            "По их мнению, продолжение работы Д.Мердока в BSkyB несет риски для корпорации, поскольку он был причастен к громкому скандалу о незаконном прослушивании подконтрольным американской News Corp.\n",
            "По их мнению, продолжение работы Д.Мердока в BSkyB несет риски для корпорации, поскольку он был причастен к громкому скандалу о незаконном прослушивании подконтрольным американской News Corp.\n",
            "\n",
            "британским изданием телефонных разговоров публичных деятелей королевства.\n",
            "британским изданием телефонных разговоров публичных деятелей королевства.\n",
            "\n",
            "Отметим, что Д.Мердок до сих пор занимает должность главы правления News Corp.\n",
            "Отметим, что Д.Мердок до сих пор занимает должность главы правления News Corp.\n",
            "\n",
            "News Corp.\n",
            "News Corp.\n",
            "\n",
            "принадлежит 39% акций BSkyB.\n",
            "принадлежит 39% акций BSkyB.\n",
            "\n",
            "В июле с.г. News Corp.\n",
            "В июле с.г. News Corp.\n",
            "\n",
            "отказалась от поглощения BSkyB за 12 млрд долл.\n",
            "отказалась от поглощения BSkyB за 12 млрд долл.\n",
            "\n",
            "\n",
            "79 bert len\n",
            "Антидопинговое агентство США (USADA) лишит знаменитого велогонщика Лэнса Армстронга всех его титулов и запретит ему участвовать в соревнованиях.\n",
            "Антидопинговое агентство США (USADA) лишит известного велогонщика Лэнса Армстронга всех его титулов и права ему выступать в соревнованиях.\n",
            "\n",
            "USADA объявило об этом в четверг, после того как Армстронг заявил, что больше не будет оспаривать обвинения агентства в применении допинга.\n",
            "USADA заявил об этом в четверг, после того как Армстронг заявил, что больше не будет больше своего США в применении допинга.\n",
            "\n",
            "Спортсмен принял это решение после того, как федеральный суд отклонил его иск против агентства.\n",
            "Спортсмен принял это решение после того, как его суд принял его иск против него.\n",
            "\n",
            "С 1999 по 2005 год Армстронг семь раз становился победителем гонки «Тур де Франс».\n",
            "С 1999 по 2005 год Армстронг семь раз стал победителем гонки «Тур де Франс».\n",
            "\n",
            "В своем заявлении велогонщик подчеркнул, что «нет никаких физических свидетельств», которые подкрепляли бы обвинения в допинге.\n",
            "В своем интервью велогонщик заявил, что «нет никаких бы проблем», которые показали бы бы в допинге.\n",
            "\n",
            "По его словам, тесты на допинг у него брали «в любое время суток и в разных местах мира».\n",
            "По его словам, тесты на допинг у него брали «в любое время суток и в разных местах мира».\n",
            "\n",
            "USADA утверждает, что Армстронг в течение многих лет использует запрещенные препараты для повышения работоспособности.\n",
            "USADA считает, что Армстронг в течение многих лет имел различные методы для оценки роста.\n",
            "\n",
            "40-летний Армстронг ушел из профессионального спорта в прошлом году.\n",
            "40-летний Армстронг ушел из большого спорта в прошлом году.\n",
            "\n",
            "Многие восхищаются им как человеком, которому удалось справиться с раком яичка.\n",
            "Многие называют им как человеком, которому удалось только с раком яичка.\n",
            "\n",
            "Кроме того, Армстронг основал фонд по борьбе с раком.\n",
            "Кроме того, Армстронг имеет фонд по борьбе с раком.\n",
            "\n",
            "\n",
            "79 bert frequency\n",
            "Антидопинговое агентство США (USADA) лишит знаменитого велогонщика Лэнса Армстронга всех его титулов и запретит ему участвовать в соревнованиях.\n",
            "Антидопинговое агентство США (USADA) лишит знаменитого велогонщика Лэнса Армстронга всех его титулов и запретит ему участвовать в соревнованиях.\n",
            "\n",
            "USADA объявило об этом в четверг, после того как Армстронг заявил, что больше не будет оспаривать обвинения агентства в применении допинга.\n",
            "USADA объявило об этом в четверг, после того как Армстронг заявил, что больше не будет больше обвинения агентства в применении допинга.\n",
            "\n",
            "Спортсмен принял это решение после того, как федеральный суд отклонил его иск против агентства.\n",
            "Спортсмен принял это решение после того, как федеральный суд отклонил его иск против агентства.\n",
            "\n",
            "С 1999 по 2005 год Армстронг семь раз становился победителем гонки «Тур де Франс».\n",
            "С 1999 по 2005 год Армстронг семь раз становился победителем гонки «Тур де Франс».\n",
            "\n",
            "В своем заявлении велогонщик подчеркнул, что «нет никаких физических свидетельств», которые подкрепляли бы обвинения в допинге.\n",
            "В своем заявлении велогонщик подчеркнул, что «нет никаких физических свидетельств», которые подкрепляли бы обвинения в допинге.\n",
            "\n",
            "По его словам, тесты на допинг у него брали «в любое время суток и в разных местах мира».\n",
            "По его словам, тесты на время у него брали «в любое время суток и в разных местах мира».\n",
            "\n",
            "USADA утверждает, что Армстронг в течение многих лет использует запрещенные препараты для повышения работоспособности.\n",
            "USADA утверждает, что Армстронг в течение многих лет использует запрещенные препараты для повышения работоспособности.\n",
            "\n",
            "40-летний Армстронг ушел из профессионального спорта в прошлом году.\n",
            "40-летний Армстронг ушел из профессионального спорта в прошлом году.\n",
            "\n",
            "Многие восхищаются им как человеком, которому удалось справиться с раком яичка.\n",
            "Многие восхищаются им как человеком, которому удалось справиться с раком яичка.\n",
            "\n",
            "Кроме того, Армстронг основал фонд по борьбе с раком.\n",
            "Кроме того, Армстронг основал фонд по борьбе с раком.\n",
            "\n",
            "\n",
            "79 synonym len\n",
            "Антидопинговое агентство США (USADA) лишит знаменитого велогонщика Лэнса Армстронга всех его титулов и запретит ему участвовать в соревнованиях.\n",
            "Антидопинговое агентство США (USADA) лишит знаменитого велогонщика Лэнса Армстронга всех его титулов и запретит ему делить в матчах.\n",
            "\n",
            "USADA объявило об этом в четверг, после того как Армстронг заявил, что больше не будет оспаривать обвинения агентства в применении допинга.\n",
            "USADA нарекло об этом в четверг, после того как Армстронг заявил, что больше не будет отвечать иски агенства в применении допинга.\n",
            "\n",
            "Спортсмен принял это решение после того, как федеральный суд отклонил его иск против агентства.\n",
            "Спортсмен принял это решение после того, как федеральный суд отвёл его иск против агенства.\n",
            "\n",
            "С 1999 по 2005 год Армстронг семь раз становился победителем гонки «Тур де Франс».\n",
            "С 1999 по 2005 год Армстронг семь раз был победителем гонки «Тур де Франс».\n",
            "\n",
            "В своем заявлении велогонщик подчеркнул, что «нет никаких физических свидетельств», которые подкрепляли бы обвинения в допинге.\n",
            "В своем иске велогонщик указал, что «нет никаких научных полисов», которые армировали бы иски в допинге.\n",
            "\n",
            "По его словам, тесты на допинг у него брали «в любое время суток и в разных местах мира».\n",
            "По его словам, тесты на допинг у него брали «в любое время суток и в разных местах мира».\n",
            "\n",
            "USADA утверждает, что Армстронг в течение многих лет использует запрещенные препараты для повышения работоспособности.\n",
            "USADA спорит, что Армстронг в течение многих лет девает запрещённые препараты для роста умелости.\n",
            "\n",
            "40-летний Армстронг ушел из профессионального спорта в прошлом году.\n",
            "40-летний Армстронг ушел из кадрового спорта в прошлом году.\n",
            "\n",
            "Многие восхищаются им как человеком, которому удалось справиться с раком яичка.\n",
            "Многие падают им как человеком, которому удалось узнать с раком яичка.\n",
            "\n",
            "Кроме того, Армстронг основал фонд по борьбе с раком.\n",
            "Кроме того, Армстронг начал фонд по борьбе с раком.\n",
            "\n",
            "\n",
            "79 synonym frequency\n",
            "Антидопинговое агентство США (USADA) лишит знаменитого велогонщика Лэнса Армстронга всех его титулов и запретит ему участвовать в соревнованиях.\n",
            "Антидопинговое агентство США (USADA) лишит знаменитого велогонщика Лэнса Армстронга всех его титулов и запретит ему участвовать в соревнованиях.\n",
            "\n",
            "USADA объявило об этом в четверг, после того как Армстронг заявил, что больше не будет оспаривать обвинения агентства в применении допинга.\n",
            "USADA объявило об этом в четверг, после того как Армстронг заявил, что больше не будет бросать вызов обвинения агентства в применении допинга.\n",
            "\n",
            "Спортсмен принял это решение после того, как федеральный суд отклонил его иск против агентства.\n",
            "Спортсмен принял это решение после того, как федеральный суд отклонил его иск против агентства.\n",
            "\n",
            "С 1999 по 2005 год Армстронг семь раз становился победителем гонки «Тур де Франс».\n",
            "С 1999 по 2005 год Армстронг семь раз становился победителем гонки «Тур де Франс».\n",
            "\n",
            "В своем заявлении велогонщик подчеркнул, что «нет никаких физических свидетельств», которые подкрепляли бы обвинения в допинге.\n",
            "В своем заявлении велогонщик подчеркнул, что «нет никаких физических свидетельств», которые подкрепляли бы обвинения в допинге.\n",
            "\n",
            "По его словам, тесты на допинг у него брали «в любое время суток и в разных местах мира».\n",
            "По его словам, тесты на средство у него брали «в любое время суток и в разных местах мира».\n",
            "\n",
            "USADA утверждает, что Армстронг в течение многих лет использует запрещенные препараты для повышения работоспособности.\n",
            "USADA утверждает, что Армстронг в течение многих лет использует запрещенные препараты для повышения работоспособности.\n",
            "\n",
            "40-летний Армстронг ушел из профессионального спорта в прошлом году.\n",
            "40-летний Армстронг ушел из профессионального спорта в прошлом году.\n",
            "\n",
            "Многие восхищаются им как человеком, которому удалось справиться с раком яичка.\n",
            "Многие восхищаются им как человеком, которому удалось справиться с раком яичка.\n",
            "\n",
            "Кроме того, Армстронг основал фонд по борьбе с раком.\n",
            "Кроме того, Армстронг основал фонд по борьбе с раком.\n",
            "\n",
            "\n",
            "80 bert len\n",
            "Решение о дальнейшем содержании братьев Х. под стражей будет принято в субботу.\n",
            "Решение о новом ##лении братьев Х. под стражей будет принято в субботу.\n",
            "\n",
            "Как сообщила федеральная прокуратура Бельгии, бельгийская полиция арестовала двух человек по подозрению в подготовке теракта.\n",
            "Как и федеральная прокуратура Бельгии, бельгийская полиция арестовала двух человек по делу в подготовке теракта.\n",
            "\n",
            "По словам официальных лиц, Нуреддин Х. И его брат Хамза Х. были арестованы в пятницу в результате обысков, проведенных в Монсе и Льеже.\n",
            "По словам других лиц, Нуреддин Х. И его брат Хамза Х. были арестованы в пятницу в результате обысков, как в Монсе и Льеже.\n",
            "\n",
            "Как уточнили представители прокуратуры, оба арестованных подозреваются в том, что планировали совершить теракт на территории Бельгии.\n",
            "Как и органы полиции, оба отряда - в том, что планировали совершить теракт на востоке Бельгии.\n",
            "\n",
            "Оружие и взрывчатые вещества при обыске не обнаружены.\n",
            "Оружие и вещества части при обыске не имеют.\n",
            "\n",
            "Ожидается, что в субботу арестованные братья Х. предстанут перед судьей, который примет решение о целесообразности их дальнейшего содержания под стражей.\n",
            "То, что в субботу , братья Х. - перед судьей, который примет решение о необходимости их для содержания под стражей.\n",
            "\n",
            "После приведших к человеческим жертвам мартовских терактов в Брюсселе, ответственность за которые взяло на себя «Исламское государство», а также серии терактов во Франции и Германии, в Бельгии действуют усиленные меры безопасности.\n",
            "После к к власти жертвам мартовских терактов в Брюсселе, ответ за которые взяло на себя «Исламское государство», а также серии терактов во Франции и Германии, в Бельгии начались военные меры ООН.\n",
            "\n",
            "Напомним, что в бельгийской столице расположены штаб-квартиры Евросоюза и НАТО.\n",
            "То, что в бельгийской столице находятся здания Евросоюза и НАТО.\n",
            "\n",
            "\n",
            "80 bert frequency\n",
            "Решение о дальнейшем содержании братьев Х. под стражей будет принято в субботу.\n",
            "Решение о дальнейшем содержании братьев Х. под стражей будет принято в субботу.\n",
            "\n",
            "Как сообщила федеральная прокуратура Бельгии, бельгийская полиция арестовала двух человек по подозрению в подготовке теракта.\n",
            "Как сообщила федеральная прокуратура Бельгии, бельгийская полиция арестовала двух человек по подозрению в подготовке теракта.\n",
            "\n",
            "По словам официальных лиц, Нуреддин Х. И его брат Хамза Х. были арестованы в пятницу в результате обысков, проведенных в Монсе и Льеже.\n",
            "По словам официальных лиц, Нуреддин Х. И его брат Хамза Х. были арестованы в пятницу в результате обысков, проведенных в Монсе и Льеже.\n",
            "\n",
            "Как уточнили представители прокуратуры, оба арестованных подозреваются в том, что планировали совершить теракт на территории Бельгии.\n",
            "Как уточнили представители прокуратуры, оба арестованных подозреваются в том, что планировали совершить теракт на территории Бельгии.\n",
            "\n",
            "Оружие и взрывчатые вещества при обыске не обнаружены.\n",
            "Оружие и взрывчатые вещества при обыске не обнаружены.\n",
            "\n",
            "Ожидается, что в субботу арестованные братья Х. предстанут перед судьей, который примет решение о целесообразности их дальнейшего содержания под стражей.\n",
            "Ожидается, что в субботу арестованные братья Х. предстанут перед судьей, который примет решение о целесообразности их дальнейшего содержания под стражей.\n",
            "\n",
            "После приведших к человеческим жертвам мартовских терактов в Брюсселе, ответственность за которые взяло на себя «Исламское государство», а также серии терактов во Франции и Германии, в Бельгии действуют усиленные меры безопасности.\n",
            "После приведших к человеческим жертвам мартовских терактов в Брюсселе, ответственность за которые взяло на себя «Исламское государство», а также серии терактов во Франции и Германии, в Бельгии действуют усиленные меры безопасности.\n",
            "\n",
            "Напомним, что в бельгийской столице расположены штаб-квартиры Евросоюза и НАТО.\n",
            "Напомним, что в бельгийской столице расположены штаб-квартиры Евросоюза и НАТО.\n",
            "\n",
            "\n",
            "80 synonym len\n",
            "Решение о дальнейшем содержании братьев Х. под стражей будет принято в субботу.\n",
            "Решение о будущем содержании братьев Х. под стражей будет принято в субботу.\n",
            "\n",
            "Как сообщила федеральная прокуратура Бельгии, бельгийская полиция арестовала двух человек по подозрению в подготовке теракта.\n",
            "Как изрекла федеральная прокуратура Бельгии, бельгийская полиция арестовала двух человек по тени в подготовке теракта.\n",
            "\n",
            "По словам официальных лиц, Нуреддин Х. И его брат Хамза Х. были арестованы в пятницу в результате обысков, проведенных в Монсе и Льеже.\n",
            "По словам официальных лиц, Нуреддин Х. И его брат Хамза Х. были арестованы в пятницу в итоге обысков, обойдённых в Монсе и Льеже.\n",
            "\n",
            "Как уточнили представители прокуратуры, оба арестованных подозреваются в том, что планировали совершить теракт на территории Бельгии.\n",
            "Как задали представители обвинения, оба взятых подозреваются в том, что планировали совершить теракт на зоне Бельгии.\n",
            "\n",
            "Оружие и взрывчатые вещества при обыске не обнаружены.\n",
            "Оружие и взрывчатые бывшего при обыске не найденные.\n",
            "\n",
            "Ожидается, что в субботу арестованные братья Х. предстанут перед судьей, который примет решение о целесообразности их дальнейшего содержания под стражей.\n",
            "Ожидается, что в субботу взятые братья Х. вырастут перед судьей, который примет решение о трезвости их будущего содержания под стражей.\n",
            "\n",
            "После приведших к человеческим жертвам мартовских терактов в Брюсселе, ответственность за которые взяло на себя «Исламское государство», а также серии терактов во Франции и Германии, в Бельгии действуют усиленные меры безопасности.\n",
            "После давших к людским жертвам мартовских терактов в Брюсселе, ответ за которые взяло на себя «Исламское государство», а также серии терактов во Франции и Германии, в Бельгии ведут усиленные меры защиты.\n",
            "\n",
            "Напомним, что в бельгийской столице расположены штаб-квартиры Евросоюза и НАТО.\n",
            "Напомним, что в бельгийской столице помещённые штаб-квартиры Евросоюза и НАТО.\n",
            "\n",
            "\n",
            "80 synonym frequency\n",
            "Решение о дальнейшем содержании братьев Х. под стражей будет принято в субботу.\n",
            "Решение о дальнейшем содержании братьев Х. под стражей будет принято в субботу.\n",
            "\n",
            "Как сообщила федеральная прокуратура Бельгии, бельгийская полиция арестовала двух человек по подозрению в подготовке теракта.\n",
            "Как сообщила федеральная прокуратура Бельгии, бельгийская полиция арестовала двух человек по подозрению в подготовке теракта.\n",
            "\n",
            "По словам официальных лиц, Нуреддин Х. И его брат Хамза Х. были арестованы в пятницу в результате обысков, проведенных в Монсе и Льеже.\n",
            "По словам официальных лиц, Нуреддин Х. И его брат Хамза Х. были арестованы в пятницу в результате обысков, проведенных в Монсе и Льеже.\n",
            "\n",
            "Как уточнили представители прокуратуры, оба арестованных подозреваются в том, что планировали совершить теракт на территории Бельгии.\n",
            "Как уточнили представители прокуратуры, оба арестованных подозреваются в том, что планировали совершить теракт на территории Бельгии.\n",
            "\n",
            "Оружие и взрывчатые вещества при обыске не обнаружены.\n",
            "Оружие и взрывчатые вещества при обыске не обнаружены.\n",
            "\n",
            "Ожидается, что в субботу арестованные братья Х. предстанут перед судьей, который примет решение о целесообразности их дальнейшего содержания под стражей.\n",
            "Ожидается, что в субботу арестованные братья Х. предстанут перед судьей, который примет решение о целесообразности их дальнейшего содержания под стражей.\n",
            "\n",
            "После приведших к человеческим жертвам мартовских терактов в Брюсселе, ответственность за которые взяло на себя «Исламское государство», а также серии терактов во Франции и Германии, в Бельгии действуют усиленные меры безопасности.\n",
            "После приведших к человеческим жертвам мартовских терактов в Брюсселе, ответственность за которые взяло на себя «Исламское государство», а также серии терактов во Франции и Германии, в Бельгии действуют усиленные меры безопасности.\n",
            "\n",
            "Напомним, что в бельгийской столице расположены штаб-квартиры Евросоюза и НАТО.\n",
            "Напомним, что в бельгийской столице расположены штаб-квартиры Евросоюза и НАТО.\n",
            "\n",
            "\n",
            "81 bert len\n",
            "05/08/2008 10:35  БИШКЕК, 5 августа /Новости-Грузия/.\n",
            "05/08/2008 10:35  БИШКЕК, 5 августа 2012.\n",
            "\n",
            "Правоохранительные органы Киргизии обнаружили в доме, арендуемом гражданами США в Бишкеке, пулеметы, автоматы и снайперские винтовки, сообщает во вторник пресс-служба МВД Киргизии.\n",
            "Правоохранительные органы Киргизии , в доме, дом гражданами США в Бишкеке, пулеметы, автоматы и две оружие, - во вторник пресс-служба МВД Киргизии.\n",
            "\n",
            "\"В ходе проведения оперативно-профилактического мероприятия под кодовым названием \"Арсенал\" в новостройке Ынтымак, в доме, принадлежащем 66-летнему гражданину Киргизии и арендуемом гражданами США, обнаружены и изъяты: шесть крупнокалиберных пулеметов с оптическим прицелом и с приборами ночного видения, 26 автоматов калибра 5,56 миллиметра, два винчестера марки МОСВЕГА 12-го калибра, четыре ствола от крупнокалиберного пулемета, два подствольных гранатомета, четыре снайперские винтовки с оптическим прицелом защитного цвета, шесть пистолетов калибра 9 миллиметров марки Беретта, одна винтовка\", - говорится в сообщении МВД.\n",
            "\"В ходе военного общественного комплекса под кодовым именем \"Арсенал\" в городе Ынтымак, в доме, принадлежит 66-летнему гражданину Киргизии и двумя гражданами США, обнаруженодним: шесть боевых пулеметов с одним прицелом и с приборами ночного видения, 26 автоматов калибра 5,56 миллиметра, два орудия марки МОСВЕГА 12-го калибра, четыре ствола от ##ного пулемета, два боевых оружия, четыре военной орудия с оптическим прицелом первого цвета, шесть орудий калибра 9 миллиметров марки Беретта, одна другие\", - МВД в МВД МВД.\n",
            "\n",
            "Пресс-служба отмечает, что на момент обыска \"в доме находились несколько сотрудников посольства США, обладающих дипломатическим иммунитетом, и 10 военнослужащих, якобы прибывших из США для проведения тренинга с сотрудниками спецподразделения одной из силовых структур республики, личности которых в настоящее время устанавливаются\".\n",
            "Он заявил, что на момент обыска \"в доме было 10 сотрудников посольства США, с большим статусом, и 10 военнослужащих, якобы прибывших из США для их тренинга с сотрудниками спецподразделения одной из силовых сил США, правила которых в то время известны\".\n",
            "\n",
            "Согласно сообщению, в доме было обнаружено и значительное количество боеприпасов.\n",
            "По данным, в доме было оружие и большое число женщин.\n",
            "\n",
            "\"Два ножа, 2920 штук патронов калибра 5,56 миллиметра, 10556 штук патронов калибра 9 миллиметров, два ящика патронов калибра 50 миллиметров, в каждом 350 штук, патроны калибра 12 миллиметров в количестве 478 штук, маркировочные (трассирующие) патроны (красного цвета) 1000 штук, 66 штук пустых магазинов от автоматического оружия, 57 штук пустых магазинов от пистолета Беретта\", - говорится в пресс-релизе.\n",
            "\"Два ножа, 2920 штук патронов калибра 5,56 миллиметра, 10556 штук патронов калибра 9 миллиметров, два ящика патронов калибра 50 миллиметров, в каждом 350 штук, патроны калибра 12 миллиметров в каждом 478 штук, две (...) патроны (красного цвета) 1000 штук, 66 штук пустых магазинов от стрелкового оружия, 57 штук пустых магазинов от оружия Беретта\", - - в г.\n",
            "\n",
            "Пресс-служба МВД сообщила, что расследование по данному факту проводит прокуратура Бишкека.\n",
            "Пресс-служба МВД заявил, что дело по данному факту - прокуратура Бишкека.\n",
            "\n",
            "Сейчас выясняется, кому именно принадлежит изъятое оружие, передает РИА Новости.\n",
            "Сейчас то, кому именно , изъятое оружие, - РИА Новости.\n",
            "\n",
            "Оружие, изъятое у граждан США правоохранительными органами Киргизии, находилось в республике с ведома правительства Киргизии, сообщил во вторник представитель пресс-службы посольства США.\n",
            "Оружие, изъятое у граждан США правоохранительными органами Киргизии, и в связи с ведома правительства Киргизии, а во вторник представитель пресс-службы посольства США.\n",
            "\n",
            "\"Все оборудование находилось на территории Киргизии с ведома и разрешения киргизских властей\", - сказал собеседник агентства.\n",
            "\"Все это - на службе Киргизии с ведома и с киргизских властей\", - сказал агент Т.\n",
            "\n",
            "Военнослужащие и оружие \"прибыли в республику по приглашению правительства с целью обеспечения антитеррористических учений для министерств\", заявило американское дипломатическое ведомство.\n",
            "Военнослужащие и оружие \"прибыли в США по инициативе правительства с целью проведения \" учений для министерств\", заявило американское дипломатическое ведомство.\n",
            "\n",
            "\"Дом и оборудование находились под защитой киргизских властей\", - отмечает пресс-служба.\n",
            "\"Дом и церковь - под защитой киргизских властей\", - - пресс-служба.\n",
            "\n",
            "Посольство США считает случившееся \"неприятным инцидентом\" и выражает надежду что \"США и Киргизия могли бы продолжить усилия по улучшению антитеррористических возможностей Киргизии\".\n",
            "Посольство США считает это \"НАТО НАТО\" и имеет надежду что \"США и Киргизия могли бы иметь усилия по поводу военных сил Киргизии\".\n",
            "\n",
            "Пресс-служба американской военной базы расположенной в международном аэропорту \"Манас\" столицы Киргизии отказалась комментировать данный инцидент с участием американских военных.\n",
            "Пресс-служба американской военной базы базы в районе районе \"Манас\" столицы Киргизии начала от данный вопрос с участием американских военных.\n",
            "\n",
            "\"Всеми вопросами, связанными с данным случаем, занимается посольство США\", - сообщили РИА Новости в пресс-службе базы.\n",
            "\"Всеми вопросами, наряду с данным случаем, является посольство США\", - в РИА Новости в области базы.\n",
            "\n",
            "\n",
            "81 bert frequency\n",
            "05/08/2008 10:35  БИШКЕК, 5 августа /Новости-Грузия/.\n",
            "05/08/2008 10:35  БИШКЕК, 5 августа /Новости-Грузия/.\n",
            "\n",
            "Правоохранительные органы Киргизии обнаружили в доме, арендуемом гражданами США в Бишкеке, пулеметы, автоматы и снайперские винтовки, сообщает во вторник пресс-служба МВД Киргизии.\n",
            "Правоохранительные органы Киргизии обнаружили в доме, арендуемом гражданами США в Бишкеке, пулеметы, автоматы и снайперские винтовки, сообщает во вторник пресс-служба МВД Киргизии.\n",
            "\n",
            "\"В ходе проведения оперативно-профилактического мероприятия под кодовым названием \"Арсенал\" в новостройке Ынтымак, в доме, принадлежащем 66-летнему гражданину Киргизии и арендуемом гражданами США, обнаружены и изъяты: шесть крупнокалиберных пулеметов с оптическим прицелом и с приборами ночного видения, 26 автоматов калибра 5,56 миллиметра, два винчестера марки МОСВЕГА 12-го калибра, четыре ствола от крупнокалиберного пулемета, два подствольных гранатомета, четыре снайперские винтовки с оптическим прицелом защитного цвета, шесть пистолетов калибра 9 миллиметров марки Беретта, одна винтовка\", - говорится в сообщении МВД.\n",
            "\"В ходе проведения оперативно-профилактического мероприятия под кодовым названием \"Арсенал\" в новостройке Ынтымак, в доме, принадлежащем 66-летнему гражданину Киргизии и арендуемом гражданами США, обнаружены и изъяты: шесть крупнокалиберных пулеметов с оптическим прицелом и с приборами ночного видения, 26 автоматов калибра 5,56 миллиметра, два винчестера марки МОСВЕГА 12-го калибра, четыре ствола от крупнокалиберного пулемета, два подствольных гранатомета, четыре снайперские винтовки с оптическим прицелом защитного цвета, шесть пистолетов калибра 9 миллиметров марки Беретта, одна другие\", - говорится в сообщении МВД.\n",
            "\n",
            "Пресс-служба отмечает, что на момент обыска \"в доме находились несколько сотрудников посольства США, обладающих дипломатическим иммунитетом, и 10 военнослужащих, якобы прибывших из США для проведения тренинга с сотрудниками спецподразделения одной из силовых структур республики, личности которых в настоящее время устанавливаются\".\n",
            "Пресс-служба отмечает, что на момент обыска \"в доме находились несколько сотрудников посольства США, обладающих дипломатическим иммунитетом, и 10 военнослужащих, якобы прибывших из США для проведения тренинга с сотрудниками спецподразделения одной из силовых структур республики, личности которых в настоящее время устанавливаются\".\n",
            "\n",
            "Согласно сообщению, в доме было обнаружено и значительное количество боеприпасов.\n",
            "Согласно сообщению, в доме было обнаружено и значительное количество боеприпасов.\n",
            "\n",
            "\"Два ножа, 2920 штук патронов калибра 5,56 миллиметра, 10556 штук патронов калибра 9 миллиметров, два ящика патронов калибра 50 миллиметров, в каждом 350 штук, патроны калибра 12 миллиметров в количестве 478 штук, маркировочные (трассирующие) патроны (красного цвета) 1000 штук, 66 штук пустых магазинов от автоматического оружия, 57 штук пустых магазинов от пистолета Беретта\", - говорится в пресс-релизе.\n",
            "\"Два ножа, 2920 штук патронов калибра 5,56 миллиметра, 10556 штук патронов калибра 9 миллиметров, два ящика патронов калибра 50 миллиметров, в каждом 350 штук, патроны калибра 12 миллиметров в количестве 478 штук, маркировочные (трассирующие) патроны (красного цвета) 1000 штук, 66 штук пустых магазинов от автоматического оружия, 57 штук пустых магазинов от пистолета Беретта\", - говорится в пресс-релизе.\n",
            "\n",
            "Пресс-служба МВД сообщила, что расследование по данному факту проводит прокуратура Бишкека.\n",
            "Пресс-служба МВД сообщила, что дело по данному факту проводит прокуратура Бишкека.\n",
            "\n",
            "Сейчас выясняется, кому именно принадлежит изъятое оружие, передает РИА Новости.\n",
            "Сейчас выясняется, кому именно принадлежит изъятое оружие, передает РИА Новости.\n",
            "\n",
            "Оружие, изъятое у граждан США правоохранительными органами Киргизии, находилось в республике с ведома правительства Киргизии, сообщил во вторник представитель пресс-службы посольства США.\n",
            "Оружие, изъятое у граждан США правоохранительными органами Киргизии, находилось в республике с ведома правительства Киргизии, сообщил во вторник представитель пресс-службы посольства США.\n",
            "\n",
            "\"Все оборудование находилось на территории Киргизии с ведома и разрешения киргизских властей\", - сказал собеседник агентства.\n",
            "\"Все оборудование находилось на территории Киргизии с ведома и разрешения киргизских властей\", - сказал собеседник агентства.\n",
            "\n",
            "Военнослужащие и оружие \"прибыли в республику по приглашению правительства с целью обеспечения антитеррористических учений для министерств\", заявило американское дипломатическое ведомство.\n",
            "Военнослужащие и оружие \"прибыли в республику по приглашению правительства с целью обеспечения антитеррористических учений для министерств\", заявило американское дипломатическое ведомство.\n",
            "\n",
            "\"Дом и оборудование находились под защитой киргизских властей\", - отмечает пресс-служба.\n",
            "\"Дом и оборудование находились под защитой киргизских властей\", - отмечает пресс-служба.\n",
            "\n",
            "Посольство США считает случившееся \"неприятным инцидентом\" и выражает надежду что \"США и Киргизия могли бы продолжить усилия по улучшению антитеррористических возможностей Киргизии\".\n",
            "Посольство США считает случившееся \"неприятным инцидентом\" и выражает надежду что \"США и Киргизия могли бы продолжить усилия по улучшению антитеррористических возможностей Киргизии\".\n",
            "\n",
            "Пресс-служба американской военной базы расположенной в международном аэропорту \"Манас\" столицы Киргизии отказалась комментировать данный инцидент с участием американских военных.\n",
            "Пресс-служба американской военной базы расположенной в международном аэропорту \"Манас\" столицы Киргизии отказалась от данный вопрос с участием американских военных.\n",
            "\n",
            "\"Всеми вопросами, связанными с данным случаем, занимается посольство США\", - сообщили РИА Новости в пресс-службе базы.\n",
            "\"Всеми вопросами, связанными с данным ##и, занимается посольство США\", - сообщили РИА Новости в пресс-службе базы.\n",
            "\n",
            "\n",
            "81 synonym len\n",
            "05/08/2008 10:35  БИШКЕК, 5 августа /Новости-Грузия/.\n",
            "05/08/2008 10:35  БИШКЕК, 5 августа /новости-грузия/.\n",
            "\n",
            "Правоохранительные органы Киргизии обнаружили в доме, арендуемом гражданами США в Бишкеке, пулеметы, автоматы и снайперские винтовки, сообщает во вторник пресс-служба МВД Киргизии.\n",
            "Правоохранительные органы Киргизии нашли в доме, снимаемом гражданами США в Бишкеке, пулеметы, автоматы и снайперские обреза, пишет во вторник пресс-служба МВД Киргизии.\n",
            "\n",
            "\"В ходе проведения оперативно-профилактического мероприятия под кодовым названием \"Арсенал\" в новостройке Ынтымак, в доме, принадлежащем 66-летнему гражданину Киргизии и арендуемом гражданами США, обнаружены и изъяты: шесть крупнокалиберных пулеметов с оптическим прицелом и с приборами ночного видения, 26 автоматов калибра 5,56 миллиметра, два винчестера марки МОСВЕГА 12-го калибра, четыре ствола от крупнокалиберного пулемета, два подствольных гранатомета, четыре снайперские винтовки с оптическим прицелом защитного цвета, шесть пистолетов калибра 9 миллиметров марки Беретта, одна винтовка\", - говорится в сообщении МВД.\n",
            "\"В ходе ведения оперативно-профилактического мероприятия под кодовым названием \"Арсенал\" в новодевшей Ынтымак, в доме, состоящем 66-летнему гражданину Киргизии и снимаемом гражданами США, обнаружены и изъяты: шесть крупнокалибернысветовымв с световым прицелом и с приборами ночного видения, 26 автоматов калибра 5,56 миллиметра, два диска марки МОСВЕГА 12-го калибра, четыре ствола от крупнокалиберного пулемета, два подствольных базуки, четыре снайперские обреза с оптическим прицелом защитного цвета, шесть пистолетов калибра 9 миллиметров марки Беретта, одна обрез\", - говорится в слухе МВД.\n",
            "\n",
            "Пресс-служба отмечает, что на момент обыска \"в доме находились несколько сотрудников посольства США, обладающих дипломатическим иммунитетом, и 10 военнослужащих, якобы прибывших из США для проведения тренинга с сотрудниками спецподразделения одной из силовых структур республики, личности которых в настоящее время устанавливаются\".\n",
            "Пресс-служба метит, что на момент обыска \"в доме были несколько сотрудников посольства США, имеющих дипломатическим иммунитетом, и 10 военнослужащих, якобы прибывших из США для ведения тренинга с сотрудниками спецподразделения одной из силовых строёв республики, личности которых в настоящее время устанавливаются\".\n",
            "\n",
            "Согласно сообщению, в доме было обнаружено и значительное количество боеприпасов.\n",
            "По слуху, в доме было найденное и целое число патронов.\n",
            "\n",
            "\"Два ножа, 2920 штук патронов калибра 5,56 миллиметра, 10556 штук патронов калибра 9 миллиметров, два ящика патронов калибра 50 миллиметров, в каждом 350 штук, патроны калибра 12 миллиметров в количестве 478 штук, маркировочные (трассирующие) патроны (красного цвета) 1000 штук, 66 штук пустых магазинов от автоматического оружия, 57 штук пустых магазинов от пистолета Беретта\", - говорится в пресс-релизе.\n",
            "\"Два ножа, 2920 штук патронов калибра 5,56 миллиметра, 10556 штук патронов калибра 9 миллиметров, два ящика патронов калибра 50 миллиметров, в каждом 350 штук, патроны калибра 12 миллиметров в числе 478 штук, маркировочные (трассирующие) патроны (красного цвета) 1000 штук, 66 штук пустых магазинов от автоматического оружия, 57 штук пустых магазинов от пистолета Беретта\", - говорится в пресс-релизе.\n",
            "\n",
            "Пресс-служба МВД сообщила, что расследование по данному факту проводит прокуратура Бишкека.\n",
            "Пресс-служба МВД изрекла, что розыск по данному факту живёт прокуратура Бишкека.\n",
            "\n",
            "Сейчас выясняется, кому именно принадлежит изъятое оружие, передает РИА Новости.\n",
            "Сейчас выплывает, кому именно состоит изъятое оружие, шлёт РИА Новости.\n",
            "\n",
            "Оружие, изъятое у граждан США правоохранительными органами Киргизии, находилось в республике с ведома правительства Киргизии, сообщил во вторник представитель пресс-службы посольства США.\n",
            "Оружие, изъятое у граждан США правоохранительными органами Киргизии, было в республике с ведома правительства Киргизии, изрёк во вторник представитель пресс-службы посольства США.\n",
            "\n",
            "\"Все оборудование находилось на территории Киргизии с ведома и разрешения киргизских властей\", - сказал собеседник агентства.\n",
            "\"Все оборудование было на зоне Киргизии с ведома и визы киргизских властей\", - сказал собеседник агенства.\n",
            "\n",
            "Военнослужащие и оружие \"прибыли в республику по приглашению правительства с целью обеспечения антитеррористических учений для министерств\", заявило американское дипломатическое ведомство.\n",
            "Военнослужащие и оружие \"прибыли в республику по зову правительства с целью залога антитеррористических учений для министерств\", заявило американское дипломатическое ведомство.\n",
            "\n",
            "\"Дом и оборудование находились под защитой киргизских властей\", - отмечает пресс-служба.\n",
            "\"Дом и оборудование были под защитой киргизских властей\", - метит пресс-служба.\n",
            "\n",
            "Посольство США считает случившееся \"неприятным инцидентом\" и выражает надежду что \"США и Киргизия могли бы продолжить усилия по улучшению антитеррористических возможностей Киргизии\".\n",
            "Посольство США считает ставшее \"неприятным фактом\" и являет надежду что \"США и Киргизия могли бы пойти усилия по сдвигу антитеррористических возможностей Киргизии\".\n",
            "\n",
            "Пресс-служба американской военной базы расположенной в международном аэропорту \"Манас\" столицы Киргизии отказалась комментировать данный инцидент с участием американских военных.\n",
            "Пресс-служба американской военной базы помещённой в мировом районе \"Манас\" столицы Киргизии отдала комментировать данный факт с участием американских военных.\n",
            "\n",
            "\"Всеми вопросами, связанными с данным случаем, занимается посольство США\", - сообщили РИА Новости в пресс-службе базы.\n",
            "\"Всеми вопросами, связанными с данным случаем, горит посольство США\", - изрекли РИА Новости в пресс-службе базы.\n",
            "\n",
            "\n",
            "81 synonym frequency\n",
            "05/08/2008 10:35  БИШКЕК, 5 августа /Новости-Грузия/.\n",
            "05/08/2008 10:35  БИШКЕК, 5 августа /Новости-Грузия/.\n",
            "\n",
            "Правоохранительные органы Киргизии обнаружили в доме, арендуемом гражданами США в Бишкеке, пулеметы, автоматы и снайперские винтовки, сообщает во вторник пресс-служба МВД Киргизии.\n",
            "Правоохранительные органы Киргизии обнаружили в доме, арендуемом гражданами США в Бишкеке, пулеметы, автоматы и снайперские винтовки, сообщает во вторник пресс-служба МВД Киргизии.\n",
            "\n",
            "\"В ходе проведения оперативно-профилактического мероприятия под кодовым названием \"Арсенал\" в новостройке Ынтымак, в доме, принадлежащем 66-летнему гражданину Киргизии и арендуемом гражданами США, обнаружены и изъяты: шесть крупнокалиберных пулеметов с оптическим прицелом и с приборами ночного видения, 26 автоматов калибра 5,56 миллиметра, два винчестера марки МОСВЕГА 12-го калибра, четыре ствола от крупнокалиберного пулемета, два подствольных гранатомета, четыре снайперские винтовки с оптическим прицелом защитного цвета, шесть пистолетов калибра 9 миллиметров марки Беретта, одна винтовка\", - говорится в сообщении МВД.\n",
            "\"В ходе проведения оперативно-профилактического мероприятия под кодовым названием \"Арсенал\" в новостройке Ынтымак, в доме, принадлежащем 66-летнему гражданину Киргизии и арендуемом гражданами США, обнаружены и изъяты: шесть крупнокалиберных пулеметов с оптическим прицелом и с приборами ночного видения, 26 автоматов калибра 5,56 миллиметра, два винчестера марки МОСВЕГА 12-го калибра, четыре ствола от крупнокалиберного пулемета, два подствольных гранатомета, четыре снайперские винтовки с оптическим прицелом защитного цвета, шесть пистолетов калибра 9 миллиметров марки Беретта, одна трёхлинейка\", - говорится в сообщении МВД.\n",
            "\n",
            "Пресс-служба отмечает, что на момент обыска \"в доме находились несколько сотрудников посольства США, обладающих дипломатическим иммунитетом, и 10 военнослужащих, якобы прибывших из США для проведения тренинга с сотрудниками спецподразделения одной из силовых структур республики, личности которых в настоящее время устанавливаются\".\n",
            "Пресс-служба отмечает, что на момент обыска \"в доме находились несколько сотрудников посольства США, обладающих дипломатическим иммунитетом, и 10 военнослужащих, якобы прибывших из США для проведения тренинга с сотрудниками спецподразделения одной из силовых структур республики, личности которых в настоящее время устанавливаются\".\n",
            "\n",
            "Согласно сообщению, в доме было обнаружено и значительное количество боеприпасов.\n",
            "Согласно сообщению, в доме было обнаружено и значительное количество боеприпасов.\n",
            "\n",
            "\"Два ножа, 2920 штук патронов калибра 5,56 миллиметра, 10556 штук патронов калибра 9 миллиметров, два ящика патронов калибра 50 миллиметров, в каждом 350 штук, патроны калибра 12 миллиметров в количестве 478 штук, маркировочные (трассирующие) патроны (красного цвета) 1000 штук, 66 штук пустых магазинов от автоматического оружия, 57 штук пустых магазинов от пистолета Беретта\", - говорится в пресс-релизе.\n",
            "\"Два ножа, 2920 штук патронов калибра 5,56 миллиметра, 10556 штук патронов калибра 9 миллиметров, два ящика патронов калибра 50 миллиметров, в каждом 350 штук, патроны калибра 12 миллиметров в количестве 478 штук, маркировочные (трассирующие) патроны (красного цвета) 1000 штук, 66 штук пустых магазинов от автоматического оружия, 57 штук пустых магазинов от пистолета Беретта\", - говорится в пресс-релизе.\n",
            "\n",
            "Пресс-служба МВД сообщила, что расследование по данному факту проводит прокуратура Бишкека.\n",
            "Пресс-служба МВД сообщила, что анализирование по данному факту проводит прокуратура Бишкека.\n",
            "\n",
            "Сейчас выясняется, кому именно принадлежит изъятое оружие, передает РИА Новости.\n",
            "Сейчас выясняется, кому именно принадлежит изъятое оружие, передает РИА Новости.\n",
            "\n",
            "Оружие, изъятое у граждан США правоохранительными органами Киргизии, находилось в республике с ведома правительства Киргизии, сообщил во вторник представитель пресс-службы посольства США.\n",
            "Оружие, изъятое у граждан США правоохранительными органами Киргизии, находилось в республике с ведома правительства Киргизии, сообщил во вторник представитель пресс-службы посольства США.\n",
            "\n",
            "\"Все оборудование находилось на территории Киргизии с ведома и разрешения киргизских властей\", - сказал собеседник агентства.\n",
            "\"Все оборудование находилось на территории Киргизии с ведома и разрешения киргизских властей\", - сказал собеседник агентства.\n",
            "\n",
            "Военнослужащие и оружие \"прибыли в республику по приглашению правительства с целью обеспечения антитеррористических учений для министерств\", заявило американское дипломатическое ведомство.\n",
            "Военнослужащие и оружие \"прибыли в республику по приглашению правительства с целью обеспечения антитеррористических учений для министерств\", заявило американское дипломатическое ведомство.\n",
            "\n",
            "\"Дом и оборудование находились под защитой киргизских властей\", - отмечает пресс-служба.\n",
            "\"Дом и оборудование находились под защитой киргизских властей\", - отмечает пресс-служба.\n",
            "\n",
            "Посольство США считает случившееся \"неприятным инцидентом\" и выражает надежду что \"США и Киргизия могли бы продолжить усилия по улучшению антитеррористических возможностей Киргизии\".\n",
            "Посольство США считает случившееся \"неприятным инцидентом\" и выражает надежду что \"США и Киргизия могли бы продолжить усилия по улучшению антитеррористических возможностей Киргизии\".\n",
            "\n",
            "Пресс-служба американской военной базы расположенной в международном аэропорту \"Манас\" столицы Киргизии отказалась комментировать данный инцидент с участием американских военных.\n",
            "Пресс-служба американской военной базы расположенной в международном аэропорту \"Манас\" столицы Киргизии отказалась комментировать данный дело с участием американских военных.\n",
            "\n",
            "\"Всеми вопросами, связанными с данным случаем, занимается посольство США\", - сообщили РИА Новости в пресс-службе базы.\n",
            "\"Всеми вопросами, связанными с данным случайно, занимается посольство США\", - сообщили РИА Новости в пресс-службе базы.\n",
            "\n",
            "\n",
            "82 bert len\n",
            "Эрин Эндрюс Жюри присяжных в Теннесси в понедельник, 7 марта 2016 года, обязало отель Nashville Marriott и  Майкла Дэвида Баретта выплатить компенсацию в размере 55 миллионов долларов США спортивной журналистке Эрин Эндрюс, которую фанат снял на видео в обнажённом видеВидео обнажённой Эрин Эндрюс в отеле Nashville Marriott (архивировано: 1, 2)., выложив ролик в интернет.\n",
            "Эрин Эндрюс Жюри , в Теннесси в понедельник, 7 марта 2016 года, обязало отель Nashville Marriott и  Майкла Дэвида Баретта на компенсацию в размере 55 миллионов долларов США спортивной журналистке Эрин Эндрюс, которую фанат снял на видео в том и . Эрин Эндрюс в отеле Nashville Marriott (1: 1, 2)., и ролик в интернет.\n",
            "\n",
            "Ведущая Эрин Эндрюс (Erin Andrew) потребовала компенсацию в размере 75 миллионов долларов от отеля, его партнёров и Майкла Дэвида Барретта, который признал свою вину в преследовании журналистки в 2009 году.\n",
            "Ведущая Эрин Эндрюс (Erin Andrew) получила передачи в размере 75 миллионов долларов от отеля, его партнёров и Майкла Дэвида Барретта, который признал свою вину в качестве журналистки в 2009 году.\n",
            "\n",
            "Видео обнажённой журналистки американского кабельного спортивного канала ESPN (сейчас журналистка работает в Fox) 48-летний Майкл Дэвид Баретт сделал ещё в сентябре 2008 года в Нэшвилле (Тенесси).\n",
            "Видео для журналистки американского канала канала канала ESPN (сейчас журналистка ESPN в Fox) 48-летний Майкл Дэвид Баретт сделал ещё в сентябре 2008 года в Нэшвилле (Тенесси).\n",
            "\n",
            "Тогда он остановился в одном с Эрин отеле и упросил персонал гостиницы выделить ему номер рядом с номером журналистки.\n",
            "Тогда он появился в одном с Эрин отеле и взял из , дали ему номер рядом с номером журналистки.\n",
            "\n",
            "Свои снимки Баррет сделал через отверстие в замочной скважине двери номера Эрин Эндрюс.\n",
            "Свои снимки Баррет сделал через неделю в первой из двери номера Эрин Эндрюс.\n",
            "\n",
            "Видеоролик с обнажённой журналисткой попал в Интернет и набрал огромное количество просмотров.\n",
            "Вместе с молодой журналисткой попал в Интернет и набрал большое число YouTube.\n",
            "\n",
            "Адвокаты Эндрюс настаивали, что администрация отеля должна была уведомить её о просьбе Барретта выделить ему соседний с ней номер и отказать ему.\n",
            "Адвокаты Эндрюс показали, что от отеля должна была говорить её о просьбе Барретта сделать ему вместе с ней номер и номер ему.\n",
            "\n",
            "Сама Эндрюс дала показания в ходе двухнедельных слушаний, заявив, что появление в Интернете этой видеозаписи вызвало у неё чувство стыда.\n",
            "Сама Эндрюс дала ответ в ходе двухнедельных видео, заявив, что наличие в Интернете этой песни вызвало у неё чувство стыда.\n",
            "\n",
            "Суд согласился с доводами Эндрюс и вынес решение о выплате ей компенсации.\n",
            "Суд выступил с доводами Эндрюс и вынес решение о выплате ей земли.\n",
            "\n",
            "$28 млн должен заплатить журналистке сам обидчик, на $27 млн придётся раскошелиться отелю.\n",
            "$28 млн должен быть журналистке сам обидчик, на $27 млн должен к отелю.\n",
            "\n",
            "Барретта приговорили также к 30 месяцам тюрьмы.\n",
            "Барретта , также к 30 месяцам тюрьмы.\n",
            "\n",
            "После вынесения вердикта Эндрюс  написала в Твиттере благодарность за поддержку семьи, друзей и поклонников: Я была удостоена поддержки со стороны жертв по всему миру.\n",
            "После начала вердикта Эндрюс  сделал в Твиттере письмо за помощь семьи, друзей и детей: Я была центром награды со стороны жертв по всему миру.\n",
            "\n",
            "Она помогла мне встать с колен и привлечь к ответственности тех, чья работа заключается в том, чтобы сохранять конфиденциальность.\n",
            "Она помогла мне встать с колен и к к нему тех, чья работа состоит в том, чтобы получить её.\n",
            "\n",
            "\n",
            "82 bert frequency\n",
            "Эрин Эндрюс Жюри присяжных в Теннесси в понедельник, 7 марта 2016 года, обязало отель Nashville Marriott и  Майкла Дэвида Баретта выплатить компенсацию в размере 55 миллионов долларов США спортивной журналистке Эрин Эндрюс, которую фанат снял на видео в обнажённом видеВидео обнажённой Эрин Эндрюс в отеле Nashville Marriott (архивировано: 1, 2)., выложив ролик в интернет.\n",
            "Эрин Эндрюс Жюри присяжных в Теннесси в понедельник, 7 марта 2016 года, обязало отель Nashville Marriott и  Майкла Дэвида Баретта на компенсацию в размере 55 миллионов долларов США спортивной журналистке Эрин Эндрюс, которую он снял на YouTube в обнажённом видеВидео обнажённой Эрин Эндрюс в отеле Nashville Marriott (архивировано: 1, 2)., выложив её в интернет.\n",
            "\n",
            "Ведущая Эрин Эндрюс (Erin Andrew) потребовала компенсацию в размере 75 миллионов долларов от отеля, его партнёров и Майкла Дэвида Барретта, который признал свою вину в преследовании журналистки в 2009 году.\n",
            "Ведущая Эрин Эндрюс (Erin Andrew) потребовала компенсацию в размере 75 миллионов долларов от отеля, его партнёров и Майкла Дэвида Барретта, который признал свою вину в преследовании журналистки в 2009 году.\n",
            "\n",
            "Видео обнажённой журналистки американского кабельного спортивного канала ESPN (сейчас журналистка работает в Fox) 48-летний Майкл Дэвид Баретт сделал ещё в сентябре 2008 года в Нэшвилле (Тенесси).\n",
            "Видео обнажённой журналистки американского кабельного спортивного канала ESPN (сейчас журналистка работает в Fox) 48-летний Майкл Дэвид Баретт сделал ещё в сентябре 2008 года в Нэшвилле (Тенесси).\n",
            "\n",
            "Тогда он остановился в одном с Эрин отеле и упросил персонал гостиницы выделить ему номер рядом с номером журналистки.\n",
            "Тогда он остановился в одном с Эрин отеле и упросил персонал гостиницы выделить ему номер рядом с номером журналистки.\n",
            "\n",
            "Свои снимки Баррет сделал через отверстие в замочной скважине двери номера Эрин Эндрюс.\n",
            "Свои снимки Баррет сделал через неделю в замочной скважине двери номера Эрин Эндрюс.\n",
            "\n",
            "Видеоролик с обнажённой журналисткой попал в Интернет и набрал огромное количество просмотров.\n",
            "Видеоролик с обнажённой журналисткой попал в Интернет и набрал огромное количество просмотров.\n",
            "\n",
            "Адвокаты Эндрюс настаивали, что администрация отеля должна была уведомить её о просьбе Барретта выделить ему соседний с ней номер и отказать ему.\n",
            "Адвокаты Эндрюс настаивали, что администрация отеля должна была говорить её о просьбе Барретта выделить ему соседний с ней номер и отказать ему.\n",
            "\n",
            "Сама Эндрюс дала показания в ходе двухнедельных слушаний, заявив, что появление в Интернете этой видеозаписи вызвало у неё чувство стыда.\n",
            "Сама Эндрюс дала показания в ходе двухнедельных слушаний, заявив, что появление в Интернете этой видеозаписи вызвало у неё чувство стыда.\n",
            "\n",
            "Суд согласился с доводами Эндрюс и вынес решение о выплате ей компенсации.\n",
            "Суд согласился с доводами Эндрюс и вынес решение о выплате ей компенсации.\n",
            "\n",
            "$28 млн должен заплатить журналистке сам обидчик, на $27 млн придётся раскошелиться отелю.\n",
            "$28 млн может заплатить журналистке сам же, на $27 млн придётся к отелю.\n",
            "\n",
            "Барретта приговорили также к 30 месяцам тюрьмы.\n",
            "Барретта приговорили также к 30 месяцам тюрьмы.\n",
            "\n",
            "После вынесения вердикта Эндрюс  написала в Твиттере благодарность за поддержку семьи, друзей и поклонников: Я была удостоена поддержки со стороны жертв по всему миру.\n",
            "После вынесения вердикта Эндрюс  написала в Твиттере благодарность за поддержку семьи, друзей и поклонников: Я была удостоена поддержки со стороны жертв по всему миру.\n",
            "\n",
            "Она помогла мне встать с колен и привлечь к ответственности тех, чья работа заключается в том, чтобы сохранять конфиденциальность.\n",
            "Она помогла мне встать с колен и привлечь к ответственности тех, чья работа заключается в том, чтобы сохранять её.\n",
            "\n",
            "\n",
            "82 synonym len\n",
            "Эрин Эндрюс Жюри присяжных в Теннесси в понедельник, 7 марта 2016 года, обязало отель Nashville Marriott и  Майкла Дэвида Баретта выплатить компенсацию в размере 55 миллионов долларов США спортивной журналистке Эрин Эндрюс, которую фанат снял на видео в обнажённом видеВидео обнажённой Эрин Эндрюс в отеле Nashville Marriott (архивировано: 1, 2)., выложив ролик в интернет.\n",
            "Эрин Эндрюс Жюри присяжных в Теннесси в понедельник, 7 марта 2016 года, обязало отель Nashville Marriott и  Майкла Дэвида Баретта вложить компенсацию в размере 55 миллионов долларов США спортивной журналистке Эрин Эндрюс, которую фанат снял на видео в нагом видевидео нагой Эрин Эндрюс в отеле Nashville Marriott (архивировано: 1, 2)., излив ролик в интернет.\n",
            "\n",
            "Ведущая Эрин Эндрюс (Erin Andrew) потребовала компенсацию в размере 75 миллионов долларов от отеля, его партнёров и Майкла Дэвида Барретта, который признал свою вину в преследовании журналистки в 2009 году.\n",
            "Ведущая Эрин Эндрюс (Erin Andrew) вызвала сумму в размере 75 миллионов долларов от отеля, его партнёров и Майкла Дэвида Барретта, который узнал свою вину в преследовании журналистки в 2009 году.\n",
            "\n",
            "Видео обнажённой журналистки американского кабельного спортивного канала ESPN (сейчас журналистка работает в Fox) 48-летний Майкл Дэвид Баретт сделал ещё в сентябре 2008 года в Нэшвилле (Тенесси).\n",
            "Видео нагой журналистки американского кабельного спортивного канала ESPN (сейчас журналистка делает в Fox) 48-летний Майкл Дэвид Баретт сделал ещё в сентябре 2008 года в Нэшвилле (Тенесси).\n",
            "\n",
            "Тогда он остановился в одном с Эрин отеле и упросил персонал гостиницы выделить ему номер рядом с номером журналистки.\n",
            "Тогда он остановился в одном с Эрин отеле и упросил штат отеля выбрать ему номер рядом с номером журналистки.\n",
            "\n",
            "Свои снимки Баррет сделал через отверстие в замочной скважине двери номера Эрин Эндрюс.\n",
            "Свои снимки Баррет сделал через люк в замочной пазу двери номера Эрин Эндрюс.\n",
            "\n",
            "Видеоролик с обнажённой журналисткой попал в Интернет и набрал огромное количество просмотров.\n",
            "Клип с нагой журналисткой попал в Интернет и набрал крупное число показов.\n",
            "\n",
            "Адвокаты Эндрюс настаивали, что администрация отеля должна была уведомить её о просьбе Барретта выделить ему соседний с ней номер и отказать ему.\n",
            "Адвокаты Эндрюс гнули, что центр отеля должна была доложить её о просьбе Барретта выбрать ему соседний с ней номер и лишить ему.\n",
            "\n",
            "Сама Эндрюс дала показания в ходе двухнедельных слушаний, заявив, что появление в Интернете этой видеозаписи вызвало у неё чувство стыда.\n",
            "Сама Эндрюс дала ответы в ходе двухнедельных диспутов, заявив, что выход в Интернете этой видео вызвало у неё чувство стыда.\n",
            "\n",
            "Суд согласился с доводами Эндрюс и вынес решение о выплате ей компенсации.\n",
            "Суд пошёл с доводами Эндрюс и вынес решение о выплате ей суммы.\n",
            "\n",
            "$28 млн должен заплатить журналистке сам обидчик, на $27 млн придётся раскошелиться отелю.\n",
            "$28 млн должен отдать журналистке сам обидчик, на $27 млн придётся заплатить отелю.\n",
            "\n",
            "Барретта приговорили также к 30 месяцам тюрьмы.\n",
            "Барретта прибили также к 30 месяцам тюрьмы.\n",
            "\n",
            "После вынесения вердикта Эндрюс  написала в Твиттере благодарность за поддержку семьи, друзей и поклонников: Я была удостоена поддержки со стороны жертв по всему миру.\n",
            "После выноса вердикта Эндрюс  вписала в Твиттере поклон за опору семьи, друзей и фан: Я была удостоена опоры со стороны жертв по всему миру.\n",
            "\n",
            "Она помогла мне встать с колен и привлечь к ответственности тех, чья работа заключается в том, чтобы сохранять конфиденциальность.\n",
            "Она помогла мне встать с колен и увлечь к ответа тех, чья работа есть в том, чтобы беречь тайность.\n",
            "\n",
            "\n",
            "82 synonym frequency\n",
            "Эрин Эндрюс Жюри присяжных в Теннесси в понедельник, 7 марта 2016 года, обязало отель Nashville Marriott и  Майкла Дэвида Баретта выплатить компенсацию в размере 55 миллионов долларов США спортивной журналистке Эрин Эндрюс, которую фанат снял на видео в обнажённом видеВидео обнажённой Эрин Эндрюс в отеле Nashville Marriott (архивировано: 1, 2)., выложив ролик в интернет.\n",
            "Эрин Эндрюс Жюри присяжных в Теннесси в понедельник, 7 марта 2016 года, обязало отель Nashville Marriott и  Майкла Дэвида Баретта отдать деньги компенсацию в размере 55 миллионов долларов США спортивной журналистке Эрин Эндрюс, которую страстный поклонник снял на видео в обнажённом видеВидео обнажённой Эрин Эндрюс в отеле Nashville Marriott (архивировано: 1, 2)., выложив ролик в интернет.\n",
            "\n",
            "Ведущая Эрин Эндрюс (Erin Andrew) потребовала компенсацию в размере 75 миллионов долларов от отеля, его партнёров и Майкла Дэвида Барретта, который признал свою вину в преследовании журналистки в 2009 году.\n",
            "Ведущая Эрин Эндрюс (Erin Andrew) потребовала компенсацию в размере 75 миллионов долларов от отеля, его партнёров и Майкла Дэвида Барретта, который признал свою вину в преследовании журналистки в 2009 году.\n",
            "\n",
            "Видео обнажённой журналистки американского кабельного спортивного канала ESPN (сейчас журналистка работает в Fox) 48-летний Майкл Дэвид Баретт сделал ещё в сентябре 2008 года в Нэшвилле (Тенесси).\n",
            "Видео обнажённой журналистки американского кабельного спортивного канала ESPN (сейчас журналистка работает в Fox) 48-летний Майкл Дэвид Баретт сделал ещё в сентябре 2008 года в Нэшвилле (Тенесси).\n",
            "\n",
            "Тогда он остановился в одном с Эрин отеле и упросил персонал гостиницы выделить ему номер рядом с номером журналистки.\n",
            "Тогда он остановился в одном с Эрин отеле и упросил персонал гостиницы выделить ему номер рядом с номером журналистки.\n",
            "\n",
            "Свои снимки Баррет сделал через отверстие в замочной скважине двери номера Эрин Эндрюс.\n",
            "Свои снимки Баррет сделал через выходной патрубку в замочной скважине двери номера Эрин Эндрюс.\n",
            "\n",
            "Видеоролик с обнажённой журналисткой попал в Интернет и набрал огромное количество просмотров.\n",
            "Видеоролик с обнажённой журналисткой попал в Интернет и набрал огромное количество просмотров.\n",
            "\n",
            "Адвокаты Эндрюс настаивали, что администрация отеля должна была уведомить её о просьбе Барретта выделить ему соседний с ней номер и отказать ему.\n",
            "Адвокаты Эндрюс настаивали, что администрация отеля должна была поставить в известность её о просьбе Барретта выделить ему соседний с ней номер и отказать ему.\n",
            "\n",
            "Сама Эндрюс дала показания в ходе двухнедельных слушаний, заявив, что появление в Интернете этой видеозаписи вызвало у неё чувство стыда.\n",
            "Сама Эндрюс дала показания в ходе двухнедельных слушаний, заявив, что появление в Интернете этой видеозаписи вызвало у неё чувство стыда.\n",
            "\n",
            "Суд согласился с доводами Эндрюс и вынес решение о выплате ей компенсации.\n",
            "Суд согласился с доводами Эндрюс и вынес решение о выплате ей компенсации.\n",
            "\n",
            "$28 млн должен заплатить журналистке сам обидчик, на $27 млн придётся раскошелиться отелю.\n",
            "$28 млн должен заплатить журналистке сам притеснитель, на $27 млн придётся заплатить отелю.\n",
            "\n",
            "Барретта приговорили также к 30 месяцам тюрьмы.\n",
            "Барретта приговорили также к 30 месяцам тюрьмы.\n",
            "\n",
            "После вынесения вердикта Эндрюс  написала в Твиттере благодарность за поддержку семьи, друзей и поклонников: Я была удостоена поддержки со стороны жертв по всему миру.\n",
            "После вынесения вердикта Эндрюс  написала в Твиттере благодарность за поддержку семьи, друзей и поклонников: Я была удостоена поддержки со стороны жертв по всему миру.\n",
            "\n",
            "Она помогла мне встать с колен и привлечь к ответственности тех, чья работа заключается в том, чтобы сохранять конфиденциальность.\n",
            "Она помогла мне встать с колен и привлечь к ответственности тех, чья работа заключается в том, чтобы сохранять засекреченность.\n",
            "\n",
            "\n",
            "83 bert len\n",
            "Ратко Младич в суде В четверг, 22 ноября 2017 года, Гаагский Международный трибунал по бывшей Югославии приговорил бывшего военного командира боснийских сербов 74-летнего генерала Ратко Младича к пожизненному заключению, признав его виновным в геноциде во время Боснийской войны.\n",
            "Ратко Младич в суде В четверг, 22 ноября 2017 года, Гаагский Международный трибунал по бывшей Югославии приговорил бывшего военного командира боснийских сербов 74-летнего генерала Ратко Младича к пожизненному заключению, с его участие в геноциде во время Боснийской войны.\n",
            "\n",
            "Зачитывая приговор, судья Альфонс Ори подчеркнул, что совершенные Младичем преступления «относятся к числу наиболее зловещих в истории человечества».\n",
            "В это, судья Альфонс Ори заявил, что за Младичем ##ы «к к числу самых крупных в истории России».\n",
            "\n",
            "Младич был удален из зала суда в Гааге в связи с проявлением у него вспышки гнева.\n",
            "Младич был из из зала суда в Гааге в связи с началом у него вспышки гнева.\n",
            "\n",
            "Младич командовал армией боснийских сербов во время вооруженного конфликта 1992-1995 годов в Боснии и Герцеговине.\n",
            "Младич с армией боснийских сербов во время вооруженного конфликта 1992-1995 годов в Боснии и Герцеговине.\n",
            "\n",
            "Первое обвинение со стороны международного правосудия против него было выдвинуто в июле 1995 года.\n",
            "Первое право со стороны суда суда против него было основано в июле 1995 года.\n",
            "\n",
            "В 1996 году Младич наряду с другими руководителями Республики Сербской был обвинён Гаагским Международным трибуналом в совершении военных преступлений и геноциде в связи с осадой Сараева, а также в связи с резнёй в Сребренице.\n",
            "В 1996 году Младич наряду с другими руководителями Республики Сербской был обвинён Гаагским Международным трибуналом в отношении военных преступлений и геноциде в связи с осадой Сараева, а также в связи с резнёй в Сребренице.\n",
            "\n",
            "Младича объявили в международный розыск.\n",
            "Младича объявили в международный розыск.\n",
            "\n",
            "Его поимка и выдача трибуналу являлись одними из условий вступления Сербии в Европейский союз; за информацию о местонахождении была назначена награда в 10 млн евро.\n",
            "Его поимка и выдача , были одними из условий передачи Сербии в Европейский союз; за сведения о нём была назначена награда в 10 млн евро.\n",
            "\n",
            "С тех пор он скрывался, став самым разыскиваем подозреваемым военным преступником на территории бывшей Югославии.\n",
            "С тех пор он так, став самым широко и военным министром на востоке бывшей Югославии.\n",
            "\n",
            "В 2011 году сербские власти арестовали его и доставили в Гаагу.\n",
            "В 2011 году сербские власти арестовали его и доставили в Гаагу.\n",
            "\n",
            "Процесс над Младичем начался 16 мая 2012 года.\n",
            "Процесс над Младичем - 16 мая 2012 года.\n",
            "\n",
            "Предъявленное ему обвинение состояло из 11 пунктов, включая геноцид, военные преступления и преступления против человечности, связанные со снайперскими обстрелами в Сараево, которые, как предполагается, он возглавлял, и убийством более восьми тысяч мусульманских мужчин и мальчиков в Сребренице – самой кровавой бойне в Европе после Второй мировой войны.\n",
            "Его ему решение было из 11 пунктов, включая геноцид, военные преступления и преступления против человечности, наряду со снайперскими обстрелами в Сараево, которые, как правило, он получил, и убийством более восьми тысяч мусульманских мужчин и мальчиков в Сребренице – самой первой бойне в Европе после Второй мировой войны.\n",
            "\n",
            "Он обвинён также в захвате сотрудников ООН в 1995 году.\n",
            "Он был также в захвате сотрудников ООН в 1995 году.\n",
            "\n",
            "Младич вину отрицал.\n",
            "Младич вину р.\n",
            "\n",
            "Заседания суда проходили 530 дней, на них выступили более 160 свидетелей обвинения и свыше 200 свидетелей защиты.\n",
            "Основные суда прошли 530 дней, на них было болечеловеквек защиты и свыше 200 свидетелей защиты.\n",
            "\n",
            "На решение суда не повлияли смягчающие обстоятельства, на которые указывала защита.\n",
            "На решение суда не на и положения, на которые права защита.\n",
            "\n",
            "Речь идет о слабом здоровье Младича и его пожилом возрасте.\n",
            "Речь идет о слабом здоровье Младича и его пожилом возрасте.\n",
            "\n",
            "Кроме того, адвокаты обращали внимание на то, что он оказывал помощь некоторым жертвам.\n",
            "Кроме того, адвокаты об его на то, что он на помощь к жертвам.\n",
            "\n",
            "Генерал имеет право обжаловать приговор.\n",
            "Генерал имеет право на его.\n",
            "\n",
            "\n",
            "83 bert frequency\n",
            "Ратко Младич в суде В четверг, 22 ноября 2017 года, Гаагский Международный трибунал по бывшей Югославии приговорил бывшего военного командира боснийских сербов 74-летнего генерала Ратко Младича к пожизненному заключению, признав его виновным в геноциде во время Боснийской войны.\n",
            "Ратко Младич в суде В четверг, 22 ноября 2017 года, Гаагский Международный трибунал по бывшей Югославии приговорил бывшего военного командира боснийских сербов 74-летнего генерала Ратко Младича к пожизненному заключению, признав его виновным в геноциде во время Боснийской войны.\n",
            "\n",
            "Зачитывая приговор, судья Альфонс Ори подчеркнул, что совершенные Младичем преступления «относятся к числу наиболее зловещих в истории человечества».\n",
            "Зачитывая приговор, судья Альфонс Ори подчеркнул, что совершенные Младичем преступления «относятся к числу наиболее зловещих в истории человечества».\n",
            "\n",
            "Младич был удален из зала суда в Гааге в связи с проявлением у него вспышки гнева.\n",
            "Младич был удален из зала суда в Гааге в связи с проявлением у него вспышки гнева.\n",
            "\n",
            "Младич командовал армией боснийских сербов во время вооруженного конфликта 1992-1995 годов в Боснии и Герцеговине.\n",
            "Младич командовал армией боснийских сербов во время вооруженного конфликта 1992-1995 годов в Боснии и Герцеговине.\n",
            "\n",
            "Первое обвинение со стороны международного правосудия против него было выдвинуто в июле 1995 года.\n",
            "Первое обвинение со стороны международного правосудия против него было выдвинуто в июле 1995 года.\n",
            "\n",
            "В 1996 году Младич наряду с другими руководителями Республики Сербской был обвинён Гаагским Международным трибуналом в совершении военных преступлений и геноциде в связи с осадой Сараева, а также в связи с резнёй в Сребренице.\n",
            "В 1996 году Младич вместе с другими руководителями Республики Сербской был обвинён Гаагским Международным трибуналом в совершении военных преступлений и геноциде в связи с осадой Сараева, а также в связи с резнёй в Сребренице.\n",
            "\n",
            "Младича объявили в международный розыск.\n",
            "Младича объявили в международный розыск.\n",
            "\n",
            "Его поимка и выдача трибуналу являлись одними из условий вступления Сербии в Европейский союз; за информацию о местонахождении была назначена награда в 10 млн евро.\n",
            "Его информацию и по трибуналу являлись одними из условий вступления Сербии в Европейский союз; за информацию о местонахождении была назначена награда в 10 млн евро.\n",
            "\n",
            "С тех пор он скрывался, став самым разыскиваем подозреваемым военным преступником на территории бывшей Югославии.\n",
            "С тех пор он скрывался, став самым разыскиваем подозреваемым военным преступником на территории бывшей Югославии.\n",
            "\n",
            "В 2011 году сербские власти арестовали его и доставили в Гаагу.\n",
            "В 2011 году сербские власти арестовали его и доставили в Гаагу.\n",
            "\n",
            "Процесс над Младичем начался 16 мая 2012 года.\n",
            "Процесс над Младичем начался 16 мая 2012 года.\n",
            "\n",
            "Предъявленное ему обвинение состояло из 11 пунктов, включая геноцид, военные преступления и преступления против человечности, связанные со снайперскими обстрелами в Сараево, которые, как предполагается, он возглавлял, и убийством более восьми тысяч мусульманских мужчин и мальчиков в Сребренице – самой кровавой бойне в Европе после Второй мировой войны.\n",
            "Предъявленное ему обвинение состояло из 11 пунктов, включая геноцид, военные преступления и преступления против человечности, связанные со снайперскими обстрелами в Сараево, которые, как предполагается, он возглавлял, и убийством более восьми тысяч мусульманских мужчин и мальчиков в Сребренице – самой кровавой бойне в Европе после Второй мировой войны.\n",
            "\n",
            "Он обвинён также в захвате сотрудников ООН в 1995 году.\n",
            "Он обвинён также в захвате сотрудников ООН в 1995 году.\n",
            "\n",
            "Младич вину отрицал.\n",
            "Младич вину отрицал.\n",
            "\n",
            "Заседания суда проходили 530 дней, на них выступили более 160 свидетелей обвинения и свыше 200 свидетелей защиты.\n",
            "Заседания суда проходили 530 дней, на них выступили более 160 свидетелей обвинения и свыше 200 свидетелей защиты.\n",
            "\n",
            "На решение суда не повлияли смягчающие обстоятельства, на которые указывала защита.\n",
            "На решение суда не повлияли смягчающие обстоятельства, на которые указывала защита.\n",
            "\n",
            "Речь идет о слабом здоровье Младича и его пожилом возрасте.\n",
            "Речь идет о слабом здоровье Младича и его пожилом возрасте.\n",
            "\n",
            "Кроме того, адвокаты обращали внимание на то, что он оказывал помощь некоторым жертвам.\n",
            "Кроме того, адвокаты обращали внимание на то, что он оказывал помощь некоторым жертвам.\n",
            "\n",
            "Генерал имеет право обжаловать приговор.\n",
            "Генерал имеет право на приговор.\n",
            "\n",
            "\n",
            "83 synonym len\n",
            "Ратко Младич в суде В четверг, 22 ноября 2017 года, Гаагский Международный трибунал по бывшей Югославии приговорил бывшего военного командира боснийских сербов 74-летнего генерала Ратко Младича к пожизненному заключению, признав его виновным в геноциде во время Боснийской войны.\n",
            "Ратко Младич в суде В четверг, 22 ноября 2017 года, Гаагский Международный трибунал по бывшей Югославии приговорил бывшего военного командира боснийских сербов 74-летнего генерала Ратко Младича к пожизненному заключению, узнав его виновным в геноциде во время Боснийской войны.\n",
            "\n",
            "Зачитывая приговор, судья Альфонс Ори подчеркнул, что совершенные Младичем преступления «относятся к числу наиболее зловещих в истории человечества».\n",
            "Читая суд, судья Альфонс Ори указал, что совершенные Младичем греха «ставят к числу наиболее зловещих в истории человека».\n",
            "\n",
            "Младич был удален из зала суда в Гааге в связи с проявлением у него вспышки гнева.\n",
            "Младич был удалён из зала суда в Гааге в связи с намёком у него вспышки гнева.\n",
            "\n",
            "Младич командовал армией боснийских сербов во время вооруженного конфликта 1992-1995 годов в Боснии и Герцеговине.\n",
            "Младич велел армией боснийских сербов во время вооруженного конфликта 1992-1995 годов в Боснии и Герцеговине.\n",
            "\n",
            "Первое обвинение со стороны международного правосудия против него было выдвинуто в июле 1995 года.\n",
            "Первое иск со стороны мирового суда против него было двинутое в июле 1995 года.\n",
            "\n",
            "В 1996 году Младич наряду с другими руководителями Республики Сербской был обвинён Гаагским Международным трибуналом в совершении военных преступлений и геноциде в связи с осадой Сараева, а также в связи с резнёй в Сребренице.\n",
            "В 1996 году Младич наряду с другими руководителями Республики Сербской был обвинён Гаагским Международным трибуналом в делании военных преступлений и геноциде в связи с осадой Сараева, а также в связи с резнёй в Сребренице.\n",
            "\n",
            "Младича объявили в международный розыск.\n",
            "Младича объявили в международный розыск.\n",
            "\n",
            "Его поимка и выдача трибуналу являлись одними из условий вступления Сербии в Европейский союз; за информацию о местонахождении была назначена награда в 10 млн евро.\n",
            "Его поимка и выдача суду были одними из условий входа Сербии в Европейский союз; за инфо о адресе была назначена награда в 10 млн евро.\n",
            "\n",
            "С тех пор он скрывался, став самым разыскиваем подозреваемым военным преступником на территории бывшей Югославии.\n",
            "С тех пор он был, став самым шарим чаемым военным жуликом на зоне бывшей Югославии.\n",
            "\n",
            "В 2011 году сербские власти арестовали его и доставили в Гаагу.\n",
            "В 2011 году сербские власти арестовали его и доставили в Гаагу.\n",
            "\n",
            "Процесс над Младичем начался 16 мая 2012 года.\n",
            "Процесс над Младичем пришёл 16 мая 2012 года.\n",
            "\n",
            "Предъявленное ему обвинение состояло из 11 пунктов, включая геноцид, военные преступления и преступления против человечности, связанные со снайперскими обстрелами в Сараево, которые, как предполагается, он возглавлял, и убийством более восьми тысяч мусульманских мужчин и мальчиков в Сребренице – самой кровавой бойне в Европе после Второй мировой войны.\n",
            "Предъявленное ему иск в из 11 пунктов, включая геноцид, военные преступления и преступления против человечности, связанные со снайперскими обстрелами в Сараево, которые, как предполагается, он вёл, и убийством более восьми тысяч мусульманских мужчин и мальчиков в Сребренице – самой алой бойне в Европе после Второй мировой войны.\n",
            "\n",
            "Он обвинён также в захвате сотрудников ООН в 1995 году.\n",
            "Он обвинён также в захвате сотрудников ООН в 1995 году.\n",
            "\n",
            "Младич вину отрицал.\n",
            "Младич вину отрицал.\n",
            "\n",
            "Заседания суда проходили 530 дней, на них выступили более 160 свидетелей обвинения и свыше 200 свидетелей защиты.\n",
            "Съезда суда шли 530 дней, на них вышли болеесвидетелейтелей иски и свыше 200 свидетелей защиты.\n",
            "\n",
            "На решение суда не повлияли смягчающие обстоятельства, на которые указывала защита.\n",
            "На решение суда не повлияли смягчающие факты, на которые кивала защита.\n",
            "\n",
            "Речь идет о слабом здоровье Младича и его пожилом возрасте.\n",
            "Речь идет о слабом здоровье Младича и его пожилом возрасте.\n",
            "\n",
            "Кроме того, адвокаты обращали внимание на то, что он оказывал помощь некоторым жертвам.\n",
            "Кроме того, адвокаты упирали уход на то, что он давал помощь иным жертвам.\n",
            "\n",
            "Генерал имеет право обжаловать приговор.\n",
            "Генерал имеет право обжаловать суд.\n",
            "\n",
            "\n",
            "83 synonym frequency\n",
            "Ратко Младич в суде В четверг, 22 ноября 2017 года, Гаагский Международный трибунал по бывшей Югославии приговорил бывшего военного командира боснийских сербов 74-летнего генерала Ратко Младича к пожизненному заключению, признав его виновным в геноциде во время Боснийской войны.\n",
            "Ратко Младич в суде В четверг, 22 ноября 2017 года, Гаагский Международный трибунал по бывшей Югославии приговорил бывшего военного командира боснийских сербов 74-летнего генерала Ратко Младича к пожизненному заключению, признав его виновным в геноциде во время Боснийской войны.\n",
            "\n",
            "Зачитывая приговор, судья Альфонс Ори подчеркнул, что совершенные Младичем преступления «относятся к числу наиболее зловещих в истории человечества».\n",
            "Зачитывая приговор, судья Альфонс Ори подчеркнул, что совершенные Младичем преступления «относятся к числу наиболее зловещих в истории человечества».\n",
            "\n",
            "Младич был удален из зала суда в Гааге в связи с проявлением у него вспышки гнева.\n",
            "Младич был удален из зала суда в Гааге в связи с проявлением у него вспышки гнева.\n",
            "\n",
            "Младич командовал армией боснийских сербов во время вооруженного конфликта 1992-1995 годов в Боснии и Герцеговине.\n",
            "Младич командовал армией боснийских сербов во время вооруженного конфликта 1992-1995 годов в Боснии и Герцеговине.\n",
            "\n",
            "Первое обвинение со стороны международного правосудия против него было выдвинуто в июле 1995 года.\n",
            "Первое обвинение со стороны международного правосудия против него было выдвинуто в июле 1995 года.\n",
            "\n",
            "В 1996 году Младич наряду с другими руководителями Республики Сербской был обвинён Гаагским Международным трибуналом в совершении военных преступлений и геноциде в связи с осадой Сараева, а также в связи с резнёй в Сребренице.\n",
            "В 1996 году Младич на равных условиях с другими руководителями Республики Сербской был обвинён Гаагским Международным трибуналом в совершении военных преступлений и геноциде в связи с осадой Сараева, а также в связи с резнёй в Сребренице.\n",
            "\n",
            "Младича объявили в международный розыск.\n",
            "Младича объявили в международный розыск.\n",
            "\n",
            "Его поимка и выдача трибуналу являлись одними из условий вступления Сербии в Европейский союз; за информацию о местонахождении была назначена награда в 10 млн евро.\n",
            "Его захват и выдача трибуналу являлись одними из условий вступления Сербии в Европейский союз; за информацию о местонахождении была назначена награда в 10 млн евро.\n",
            "\n",
            "С тех пор он скрывался, став самым разыскиваем подозреваемым военным преступником на территории бывшей Югославии.\n",
            "С тех пор он скрывался, став самым разыскиваем подозреваемым военным преступником на территории бывшей Югославии.\n",
            "\n",
            "В 2011 году сербские власти арестовали его и доставили в Гаагу.\n",
            "В 2011 году сербские власти арестовали его и доставили в Гаагу.\n",
            "\n",
            "Процесс над Младичем начался 16 мая 2012 года.\n",
            "Процесс над Младичем начался 16 мая 2012 года.\n",
            "\n",
            "Предъявленное ему обвинение состояло из 11 пунктов, включая геноцид, военные преступления и преступления против человечности, связанные со снайперскими обстрелами в Сараево, которые, как предполагается, он возглавлял, и убийством более восьми тысяч мусульманских мужчин и мальчиков в Сребренице – самой кровавой бойне в Европе после Второй мировой войны.\n",
            "Предъявленное ему обвинение состояло из 11 пунктов, включая геноцид, военные преступления и преступления против человечности, связанные со снайперскими обстрелами в Сараево, которые, как предполагается, он возглавлял, и убийством более восьми тысяч мусульманских мужчин и мальчиков в Сребренице – самой кровавой бойне в Европе после Второй мировой войны.\n",
            "\n",
            "Он обвинён также в захвате сотрудников ООН в 1995 году.\n",
            "Он обвинён также в захвате сотрудников ООН в 1995 году.\n",
            "\n",
            "Младич вину отрицал.\n",
            "Младич вину отрицал.\n",
            "\n",
            "Заседания суда проходили 530 дней, на них выступили более 160 свидетелей обвинения и свыше 200 свидетелей защиты.\n",
            "Заседания суда проходили 530 дней, на них выступили более 160 свидетелей обвинения и свыше 200 свидетелей защиты.\n",
            "\n",
            "На решение суда не повлияли смягчающие обстоятельства, на которые указывала защита.\n",
            "На решение суда не повлияли смягчающие обстоятельства, на которые указывала защита.\n",
            "\n",
            "Речь идет о слабом здоровье Младича и его пожилом возрасте.\n",
            "Речь идет о слабом здоровье Младича и его пожилом возрасте.\n",
            "\n",
            "Кроме того, адвокаты обращали внимание на то, что он оказывал помощь некоторым жертвам.\n",
            "Кроме того, адвокаты обращали внимание на то, что он оказывал помощь некоторым жертвам.\n",
            "\n",
            "Генерал имеет право обжаловать приговор.\n",
            "Генерал имеет право опротестовывать приговор.\n",
            "\n",
            "\n",
            "84 bert len\n",
            "В пятницу 31 августа 2012 года писатель Ричард Бах был доставлен в больницу в тяжёлом состоянии, после того, как управляемый им самолёт потерпел крушение.\n",
            "В пятницу 31 августа 2012 года писатель Ричард Бах был доставлен в больницу в тяжёлом состоянии, после того, как на им самолёт потерпел крушение.\n",
            "\n",
            "При попытке совершить посадку на взлётно-посадочную полосу покрытую травой, одномоторный самолёт опытного пилота и автора бестселлеров Easton Gilbert G Searey задел линию электропередач и рухнул на землю.\n",
            "При попытке на посадку на одну полосу покрытую травой, то самолёт опытного пилота и автора бестселлеров Easton Gilbert G Searey задел линию самолёта и рухнул на землю.\n",
            "\n",
            "Случайно оказавшиеся рядом туристы извлекли 76-летнего писателя из под обломков зажав кровоточащую рану на голове курткой и вызвали оперативные службы, которые доставили его в клинику «Харборвью» в Сиэттле.\n",
            "Так с рядом туристы извлекли 76-летнего писателя из под обломков зажав кровоточащую рану на голове курткой и вызвали сотрудников службы, которые взяли его в клинику «Харборвью» в Сиэттле.\n",
            "\n",
            "По словам врачей Ричард Бах в момент поступления в больницу находился в тяжёлом состоянии, которое постепенно улучшается.\n",
            "По словам врачей Ричард Бах в момент выхода в школу был в тяжёлом состоянии, которое не начал.\n",
            "\n",
            "Сын автора бестселлеров Джеймс Бах добавил, что у отца, помимо многочисленных ушибов, тяжёлая травма головы и сломано плечо.\n",
            "Сын автора бестселлеров Джеймс Бах писал, что у отца, помимо других ушибов, тяжёлая травма головы и сломано плечо.\n",
            "\n",
            "Катастрофа произошла на одном островов архипелага Сан-Хуан, вблизи тихоокеанского побережья штата Вашингтон, где писатель проживает последние 20 лет.\n",
            "Катастрофа - на одном островов , Сан-Хуан, вблизи тихоокеанского побережья штата Вашингтон, где писатель жил последние 20 лет.\n",
            "\n",
            "Самолёт является основным средством передвижения в этом районе.\n",
            "Самолёт был главным способом транспорта в этом районе.\n",
            "\n",
            "Следует отметить, что Ричард Бах в молодости был пилотом американских ВВС и даже после того, как оставил службу продолжал заниматься гражданской авиацией, в том числе выполняя фигуры высшего пилотажа.\n",
            "Не то, что Ричард Бах в прошлом был пилотом американских ВВС и даже после того, как на службу начал служить военной авиацией, в том числе на фигуры высшего пилотажа.\n",
            "\n",
            "\n",
            "84 bert frequency\n",
            "В пятницу 31 августа 2012 года писатель Ричард Бах был доставлен в больницу в тяжёлом состоянии, после того, как управляемый им самолёт потерпел крушение.\n",
            "В пятницу 31 августа 2012 года писатель Ричард Бах был доставлен в больницу в тяжёлом состоянии, после того, как на им самолёт потерпел крушение.\n",
            "\n",
            "При попытке совершить посадку на взлётно-посадочную полосу покрытую травой, одномоторный самолёт опытного пилота и автора бестселлеров Easton Gilbert G Searey задел линию электропередач и рухнул на землю.\n",
            "При попытке совершить посадку на взлётно-посадочную полосу покрытую травой, одномоторный самолёт опытного пилота и автора бестселлеров Easton Gilbert G Searey прошёл линию электропередач и рухнул на землю.\n",
            "\n",
            "Случайно оказавшиеся рядом туристы извлекли 76-летнего писателя из под обломков зажав кровоточащую рану на голове курткой и вызвали оперативные службы, которые доставили его в клинику «Харборвью» в Сиэттле.\n",
            "Случайно оказавшиеся рядом туристы извлекли 76-летнего писателя из под обломков зажав кровоточащую рану на голове курткой и вызвали оперативные службы, которые доставили его в клинику «Харборвью» в Сиэттле.\n",
            "\n",
            "По словам врачей Ричард Бах в момент поступления в больницу находился в тяжёлом состоянии, которое постепенно улучшается.\n",
            "По словам врачей Ричард Бах в момент поступления в больницу находился в тяжёлом состоянии, которое постепенно улучшается.\n",
            "\n",
            "Сын автора бестселлеров Джеймс Бах добавил, что у отца, помимо многочисленных ушибов, тяжёлая травма головы и сломано плечо.\n",
            "Сын автора бестселлеров Джеймс Бах добавил, что у отца, помимо многочисленных ушибов, тяжёлая травма головы и сломано плечо.\n",
            "\n",
            "Катастрофа произошла на одном островов архипелага Сан-Хуан, вблизи тихоокеанского побережья штата Вашингтон, где писатель проживает последние 20 лет.\n",
            "Катастрофа произошла на одном островов архипелага Сан-Хуан, у тихоокеанского побережья штата Вашингтон, где писатель проживает последние 20 лет.\n",
            "\n",
            "Самолёт является основным средством передвижения в этом районе.\n",
            "Самолёт является основным средством передвижения в этом районе.\n",
            "\n",
            "Следует отметить, что Ричард Бах в молодости был пилотом американских ВВС и даже после того, как оставил службу продолжал заниматься гражданской авиацией, в том числе выполняя фигуры высшего пилотажа.\n",
            "Следует отметить, что Ричард Бах в молодости был пилотом американских ВВС и даже после того, как оставил службу продолжал заниматься гражданской авиацией, в том числе выполняя фигуры высшего пилотажа.\n",
            "\n",
            "\n",
            "84 synonym len\n",
            "В пятницу 31 августа 2012 года писатель Ричард Бах был доставлен в больницу в тяжёлом состоянии, после того, как управляемый им самолёт потерпел крушение.\n",
            "В пятницу 31 августа 2012 года писатель Ричард Бах был доставлен в больницу в тяжёлом состоянии, после того, как управляемый им самолёт потерпел крушение.\n",
            "\n",
            "При попытке совершить посадку на взлётно-посадочную полосу покрытую травой, одномоторный самолёт опытного пилота и автора бестселлеров Easton Gilbert G Searey задел линию электропередач и рухнул на землю.\n",
            "При попытке сделать посадку на взлётно-посадочную полосу покрытую травой, моторный самолёт опытного пилота и автора бестселлеров Easton Gilbert G Searey задел линию лэп и рухнул на землю.\n",
            "\n",
            "Случайно оказавшиеся рядом туристы извлекли 76-летнего писателя из под обломков зажав кровоточащую рану на голове курткой и вызвали оперативные службы, которые доставили его в клинику «Харборвью» в Сиэттле.\n",
            "Случайно ставшие рядом туристы извлекли 76-летнего писателя из под обломков зажав кровоточащую рану на голове курткой и вызвали оперативные службы, которые дали его в клинику «Харборвью» в Сиэттле.\n",
            "\n",
            "По словам врачей Ричард Бах в момент поступления в больницу находился в тяжёлом состоянии, которое постепенно улучшается.\n",
            "По словам врачей Ричард Бах в момент приёма в хоспис был в тяжёлом состоянии, которое вдруг улучшается.\n",
            "\n",
            "Сын автора бестселлеров Джеймс Бах добавил, что у отца, помимо многочисленных ушибов, тяжёлая травма головы и сломано плечо.\n",
            "Сын автора бестселлеров Джеймс Бах добавил, что у отца, помимо мощных ушибов, тяжёлая травма головы и сломано плечо.\n",
            "\n",
            "Катастрофа произошла на одном островов архипелага Сан-Хуан, вблизи тихоокеанского побережья штата Вашингтон, где писатель проживает последние 20 лет.\n",
            "Катастрофа вышла на одном островов архипелага Сан-Хуан, вблизи тихоокеанского побережья штата Вашингтон, где писатель живёт последние 20 лет.\n",
            "\n",
            "Самолёт является основным средством передвижения в этом районе.\n",
            "Самолёт есть основным средством хода в этом районе.\n",
            "\n",
            "Следует отметить, что Ричард Бах в молодости был пилотом американских ВВС и даже после того, как оставил службу продолжал заниматься гражданской авиацией, в том числе выполняя фигуры высшего пилотажа.\n",
            "Идёт обмыть, что Ричард Бах в весне был пилотом американских ВВС и даже после того, как ушёл службу шёл гореть гражданской авиацией, в том числе неся фигуры высшего пилотажа.\n",
            "\n",
            "\n",
            "84 synonym frequency\n",
            "В пятницу 31 августа 2012 года писатель Ричард Бах был доставлен в больницу в тяжёлом состоянии, после того, как управляемый им самолёт потерпел крушение.\n",
            "В пятницу 31 августа 2012 года писатель Ричард Бах был доставлен в больницу в тяжёлом состоянии, после того, как управляемый им самолёт потерпел крушение.\n",
            "\n",
            "При попытке совершить посадку на взлётно-посадочную полосу покрытую травой, одномоторный самолёт опытного пилота и автора бестселлеров Easton Gilbert G Searey задел линию электропередач и рухнул на землю.\n",
            "При попытке совершить посадку на взлётно-посадочную полосу покрытую травой, одномоторный самолёт опытного пилота и автора бестселлеров Easton Gilbert G Searey задел линию электропередач и рухнул на землю.\n",
            "\n",
            "Случайно оказавшиеся рядом туристы извлекли 76-летнего писателя из под обломков зажав кровоточащую рану на голове курткой и вызвали оперативные службы, которые доставили его в клинику «Харборвью» в Сиэттле.\n",
            "Случайно оказавшиеся рядом туристы извлекли 76-летнего писателя из под обломков зажав кровоточащую рану на голове курткой и вызвали оперативные службы, которые доставили его в клинику «Харборвью» в Сиэттле.\n",
            "\n",
            "По словам врачей Ричард Бах в момент поступления в больницу находился в тяжёлом состоянии, которое постепенно улучшается.\n",
            "По словам врачей Ричард Бах в момент поступления в больницу находился в тяжёлом состоянии, которое постепенно улучшается.\n",
            "\n",
            "Сын автора бестселлеров Джеймс Бах добавил, что у отца, помимо многочисленных ушибов, тяжёлая травма головы и сломано плечо.\n",
            "Сын автора бестселлеров Джеймс Бах добавил, что у отца, помимо многочисленных ушибов, тяжёлая травма головы и сломано плечо.\n",
            "\n",
            "Катастрофа произошла на одном островов архипелага Сан-Хуан, вблизи тихоокеанского побережья штата Вашингтон, где писатель проживает последние 20 лет.\n",
            "Катастрофа произошла на одном островов архипелага Сан-Хуан, вблизи тихоокеанского побережья штата Вашингтон, где писатель проживает последние 20 лет.\n",
            "\n",
            "Самолёт является основным средством передвижения в этом районе.\n",
            "Самолёт является основным средством передвижения в этом районе.\n",
            "\n",
            "Следует отметить, что Ричард Бах в молодости был пилотом американских ВВС и даже после того, как оставил службу продолжал заниматься гражданской авиацией, в том числе выполняя фигуры высшего пилотажа.\n",
            "Следует отметить, что Ричард Бах в молодости был пилотом американских ВВС и даже после того, как оставил службу продолжал заниматься гражданской авиацией, в том числе выполняя фигуры высшего пилотажа.\n",
            "\n",
            "\n",
            "85 bert len\n",
            "Маурисио Макри Ночью 31 июля 2016 года были задержаны два молодых человека, которые используя свои профили на Твитере, угрожали президенту Маурисио Макри, грозили взорвать метро и Розовый дом.\n",
            "Маурисио Макри Ночью 31 июля 2016 года были задержаны два молодых человека, которые получили свои профили на Твитере, по президенту Маурисио Макри, грозили в метро и Розовый дом.\n",
            "\n",
            "Разговоры двух «Твитеров» заинтересовали спец службы Аргентины.\n",
            "То двух «Твитеров» - спец службы Аргентины.\n",
            "\n",
            "Двое неизвестных в своих 10 постах умудрились угрожать президенту и выставили фотографии с изображением взрывчатки .\n",
            "Двое человек в своих 10 постах начали к президенту и получить его с помощью президента .\n",
            "\n",
            "Кроме того в тексте их переговоров были предложения на арабском языке и призывы молиться Аллаху.\n",
            "Кроме того в тексте их также были статьи на арабском языке и призывы к Аллаху.\n",
            "\n",
            "Так же молодые люди выставили фотографии метрополитена ветки В станции Carlos Gardel и Розового дома (Дом правительства).\n",
            "Так же молодые люди имеют в из ветки В станции Carlos Gardel и Розового дома (Дом правительства).\n",
            "\n",
            "Правоохранительные структуры не стали долго гадать насколько эти угрозы являются серьезными и в считанные часы уже знали адреса «террористов».\n",
            "Их органы не стали долго гадать , эти угрозы - , и в считанные часы уже знали адреса «террористов».\n",
            "\n",
            "В 3 часа ночи в их дома ворвались полицейские вместе с антитеррористической службой и службой по обезвреживанию взрывчатых веществ.\n",
            "В 3 часа ночи в их дома вошли полицейские вместе с антитеррористической службой и службой по обезвреживанию взрывчатых веществ.\n",
            "\n",
            "Подозреваемыми оказались два студента, каждому из которых по 21 году.\n",
            "Так являются два студента, каждому из которых по 21 году.\n",
            "\n",
            "Они были немедленно арестованы, а в их домах произведен тщательный обыск.\n",
            "Они были и арестованы, а в их домах начался военный обыск.\n",
            "\n",
            "Ничего подозрительного найдено не было.\n",
            "Ничего , найдено не было.\n",
            "\n",
            "Мать одного из подозреваемых, Нора Донда рассказала СМИ, что ее сын и его друг, который живет поблизости с отцом и бабушкой, это обычные студенты, которые весь день учатся в университете и только по выходным сидят перед компьютерами.\n",
            "Мать одного из них, Нора Донда . СМИ, что ее сын и его друг, который живет вместе с отцом и бабушкой, это обычные студенты, которые весь день учатся в школе и только по выходным сидят перед ними.\n",
            "\n",
            "Она уверяет, что никакие они не террористы, а их поступок можно назвать «безответственной дуростью».\n",
            "Она уверяет, что никакие они не террористы, а их это можно назвать «большой дуростью».\n",
            "\n",
            "Так же она пожаловалась, что набежавшие в ее дом полицейские обращались с ними со всеми очень грубо, разбили и испортили много вещей, а все мобильные телефоны и компьютеры конфисковали.\n",
            "Так же она говорит, что когда в ее дом полицейские вместе с ними со всеми очень грубо, разбили и дали много вещей, а все её телефоны и их нет.\n",
            "\n",
            "В настоящий момент двое задержанных студента находятся на допросе.\n",
            "В тот момент двое студентов студента - на допросе.\n",
            "\n",
            "Даже если выясниться, что ночная шумиха произошла из-за глупой шутки, ребятам все равно не избежать наказания.\n",
            "Даже если то, что ночная шумиха - из-за глупой шутки, ребятам все равно не было этого.\n",
            "\n",
            "В связи с Олимпийскими играми в соседней стране Бразилии, все секретные службы и службы полицейского управления Аргентины находятся в состоянии наивысшей готовности.\n",
            "В связи с Олимпийскими играми в этой стране Бразилии, все секретные службы и службы полицейского управления Аргентины были в зоне наивысшей ситуации.\n",
            "\n",
            "И любые «шутки» на тему терроризма будут расцениваться, как угроза.\n",
            "И любые «шутки» на тему терроризма будут иметь, как угроза.\n",
            "\n",
            "\n",
            "85 bert frequency\n",
            "Маурисио Макри Ночью 31 июля 2016 года были задержаны два молодых человека, которые используя свои профили на Твитере, угрожали президенту Маурисио Макри, грозили взорвать метро и Розовый дом.\n",
            "Маурисио Макри Ночью 31 июля 2016 года были задержаны два молодых человека, которые используя свои профили на Твитере, угрожали президенту Маурисио Макри, грозили в метро и Розовый дом.\n",
            "\n",
            "Разговоры двух «Твитеров» заинтересовали спец службы Аргентины.\n",
            "Разговоры двух «Твитеров» заинтересовали внимание службы Аргентины.\n",
            "\n",
            "Двое неизвестных в своих 10 постах умудрились угрожать президенту и выставили фотографии с изображением взрывчатки .\n",
            "Двое неизвестных в своих 10 постах умудрились к президенту и выставили фотографии с изображением взрывчатки .\n",
            "\n",
            "Кроме того в тексте их переговоров были предложения на арабском языке и призывы молиться Аллаху.\n",
            "Кроме того в тексте их переговоров были предложения на арабском языке и призывы молиться Аллаху.\n",
            "\n",
            "Так же молодые люди выставили фотографии метрополитена ветки В станции Carlos Gardel и Розового дома (Дом правительства).\n",
            "Так же молодые люди выставили фотографии метрополитена ветки В станции Carlos Gardel и Розового дома (Дом правительства).\n",
            "\n",
            "Правоохранительные структуры не стали долго гадать насколько эти угрозы являются серьезными и в считанные часы уже знали адреса «террористов».\n",
            "Правоохранительные структуры не стали долго , насколько эти угрозы являются серьезными и в считанные часы уже знали адреса «террористов».\n",
            "\n",
            "В 3 часа ночи в их дома ворвались полицейские вместе с антитеррористической службой и службой по обезвреживанию взрывчатых веществ.\n",
            "В 3 часа ночи в их дома ворвались полицейские вместе с антитеррористической службой и службой по обезвреживанию взрывчатых веществ.\n",
            "\n",
            "Подозреваемыми оказались два студента, каждому из которых по 21 году.\n",
            "Подозреваемыми оказались два студента, каждому из которых по 21 году.\n",
            "\n",
            "Они были немедленно арестованы, а в их домах произведен тщательный обыск.\n",
            "Они были немедленно арестованы, а в их домах произведен военный обыск.\n",
            "\n",
            "Ничего подозрительного найдено не было.\n",
            "Ничего подозрительного найдено не было.\n",
            "\n",
            "Мать одного из подозреваемых, Нора Донда рассказала СМИ, что ее сын и его друг, который живет поблизости с отцом и бабушкой, это обычные студенты, которые весь день учатся в университете и только по выходным сидят перед компьютерами.\n",
            "Мать одного из подозреваемых, Нора Донда рассказала СМИ, что ее сын и его друг, который живет вместе с отцом и бабушкой, это обычные студенты, которые весь день учатся в университете и только по выходным сидят перед компьютерами.\n",
            "\n",
            "Она уверяет, что никакие они не террористы, а их поступок можно назвать «безответственной дуростью».\n",
            "Она уверяет, что никакие они не террористы, а их поступок можно назвать «безответственной дуростью».\n",
            "\n",
            "Так же она пожаловалась, что набежавшие в ее дом полицейские обращались с ними со всеми очень грубо, разбили и испортили много вещей, а все мобильные телефоны и компьютеры конфисковали.\n",
            "Так же она пожаловалась, что набежавшие в ее дом полицейские обращались с ними со всеми очень быстро, разбили и испортили много вещей, а все мобильные телефоны и компьютеры конфисковали.\n",
            "\n",
            "В настоящий момент двое задержанных студента находятся на допросе.\n",
            "В настоящий момент двое задержанных студента находятся на допросе.\n",
            "\n",
            "Даже если выясниться, что ночная шумиха произошла из-за глупой шутки, ребятам все равно не избежать наказания.\n",
            "Даже если выясниться, что ночная ночь произошла из-за глупой шутки, ребятам все и не избежать наказания.\n",
            "\n",
            "В связи с Олимпийскими играми в соседней стране Бразилии, все секретные службы и службы полицейского управления Аргентины находятся в состоянии наивысшей готовности.\n",
            "В связи с Олимпийскими играми в соседней стране Бразилии, все секретные службы и службы полицейского управления Аргентины находятся в состоянии наивысшей готовности.\n",
            "\n",
            "И любые «шутки» на тему терроризма будут расцениваться, как угроза.\n",
            "И любые «шутки» на тему терроризма будут иметь, как угроза.\n",
            "\n",
            "\n",
            "85 synonym len\n",
            "Маурисио Макри Ночью 31 июля 2016 года были задержаны два молодых человека, которые используя свои профили на Твитере, угрожали президенту Маурисио Макри, грозили взорвать метро и Розовый дом.\n",
            "Маурисио Макри Ночью 31 июля 2016 года были задержаны два молодых человека, которые девая свои профили на Твитере, висели президенту Маурисио Макри, грозили взорвать метро и Розовый дом.\n",
            "\n",
            "Разговоры двух «Твитеров» заинтересовали спец службы Аргентины.\n",
            "Чаты двух «Твитеров» увлекли спец службы Аргентины.\n",
            "\n",
            "Двое неизвестных в своих 10 постах умудрились угрожать президенту и выставили фотографии с изображением взрывчатки .\n",
            "Двое неизвестных в своих 10 постах сумели висеть президенту и вынули фото с ню тола .\n",
            "\n",
            "Кроме того в тексте их переговоров были предложения на арабском языке и призывы молиться Аллаху.\n",
            "Кроме того в тексте их диалогов были предложения на арабском языке и призывы чтить Аллаху.\n",
            "\n",
            "Так же молодые люди выставили фотографии метрополитена ветки В станции Carlos Gardel и Розового дома (Дом правительства).\n",
            "Так же молодые люди вынули фото метро ветки В станции Carlos Gardel и Розового дома (Дом правительства).\n",
            "\n",
            "Правоохранительные структуры не стали долго гадать насколько эти угрозы являются серьезными и в считанные часы уже знали адреса «террористов».\n",
            "Правоохранительные строя не стали долго гадать насколько эти угрозы есть серьёзными и в считанные часы уже знали адреса «террористов».\n",
            "\n",
            "В 3 часа ночи в их дома ворвались полицейские вместе с антитеррористической службой и службой по обезвреживанию взрывчатых веществ.\n",
            "В 3 часа ночи в их дома вошли полицейские вместе с антитеррористической службой и службой по обезвреживанию взрывчатых веществ.\n",
            "\n",
            "Подозреваемыми оказались два студента, каждому из которых по 21 году.\n",
            "Чаемыми стали два студента, каждому из которых по 21 году.\n",
            "\n",
            "Они были немедленно арестованы, а в их домах произведен тщательный обыск.\n",
            "Они были немедленно арестованы, а в их домах выданный тщательный обыск.\n",
            "\n",
            "Ничего подозрительного найдено не было.\n",
            "Ничего подозрительного найдено не было.\n",
            "\n",
            "Мать одного из подозреваемых, Нора Донда рассказала СМИ, что ее сын и его друг, который живет поблизости с отцом и бабушкой, это обычные студенты, которые весь день учатся в университете и только по выходным сидят перед компьютерами.\n",
            "Мать одного из чаемых, Нора Донда выдала СМИ, что ее сын и его друг, который живет возле с отцом и бабушкой, это обычные студенты, которые весь день учатся в вузе и только по выходным сидят перед компьютерами.\n",
            "\n",
            "Она уверяет, что никакие они не террористы, а их поступок можно назвать «безответственной дуростью».\n",
            "Она уверяет, что никакие они не террористы, а их акт можно назвать «бесшабашной дуростью».\n",
            "\n",
            "Так же она пожаловалась, что набежавшие в ее дом полицейские обращались с ними со всеми очень грубо, разбили и испортили много вещей, а все мобильные телефоны и компьютеры конфисковали.\n",
            "Так же она возопила, что налетевшие в ее дом полицейские писали с ними со всеми очень грубо, разбили и сгубили много вещей, а все сотовых телефоны и компьютеры конфисковали.\n",
            "\n",
            "В настоящий момент двое задержанных студента находятся на допросе.\n",
            "В настоящий момент двое взятых студента есть на допросе.\n",
            "\n",
            "Даже если выясниться, что ночная шумиха произошла из-за глупой шутки, ребятам все равно не избежать наказания.\n",
            "Даже если выясниться, что ночная шумиха вышла из-за глупой шутки, ребятам все равно не обойти бича.\n",
            "\n",
            "В связи с Олимпийскими играми в соседней стране Бразилии, все секретные службы и службы полицейского управления Аргентины находятся в состоянии наивысшей готовности.\n",
            "В связи с Олимпийскими играми в соседней стране Бразилии, все секретные службы и службы полицейского управления Аргентины есть в срезе наивысшей охоты.\n",
            "\n",
            "И любые «шутки» на тему терроризма будут расцениваться, как угроза.\n",
            "И любые «шутки» на тему терроризма будут расцениваться, как угроза.\n",
            "\n",
            "\n",
            "85 synonym frequency\n",
            "Маурисио Макри Ночью 31 июля 2016 года были задержаны два молодых человека, которые используя свои профили на Твитере, угрожали президенту Маурисио Макри, грозили взорвать метро и Розовый дом.\n",
            "Маурисио Макри Ночью 31 июля 2016 года были задержаны два молодых человека, которые используя свои профили на Твитере, угрожали президенту Маурисио Макри, грозили взлететь на воздух метро и Розовый дом.\n",
            "\n",
            "Разговоры двух «Твитеров» заинтересовали спец службы Аргентины.\n",
            "Разговоры двух «Твитеров» заинтересовали искусник службы Аргентины.\n",
            "\n",
            "Двое неизвестных в своих 10 постах умудрились угрожать президенту и выставили фотографии с изображением взрывчатки .\n",
            "Двое неизвестных в своих 10 постах умудрились ставить под удар президенту и выставили фотографии с изображением взрывчатки .\n",
            "\n",
            "Кроме того в тексте их переговоров были предложения на арабском языке и призывы молиться Аллаху.\n",
            "Кроме того в тексте их переговоров были предложения на арабском языке и призывы молиться Аллаху.\n",
            "\n",
            "Так же молодые люди выставили фотографии метрополитена ветки В станции Carlos Gardel и Розового дома (Дом правительства).\n",
            "Так же молодые люди выставили фотографии метрополитена ветки В станции Carlos Gardel и Розового дома (Дом правительства).\n",
            "\n",
            "Правоохранительные структуры не стали долго гадать насколько эти угрозы являются серьезными и в считанные часы уже знали адреса «террористов».\n",
            "Правоохранительные структуры не стали долго строить предположения насколько эти угрозы являются серьезными и в считанные часы уже знали адреса «террористов».\n",
            "\n",
            "В 3 часа ночи в их дома ворвались полицейские вместе с антитеррористической службой и службой по обезвреживанию взрывчатых веществ.\n",
            "В 3 часа ночи в их дома ворвались полицейские вместе с антитеррористической службой и службой по обезвреживанию взрывчатых веществ.\n",
            "\n",
            "Подозреваемыми оказались два студента, каждому из которых по 21 году.\n",
            "Подозреваемыми оказались два студента, каждому из которых по 21 году.\n",
            "\n",
            "Они были немедленно арестованы, а в их домах произведен тщательный обыск.\n",
            "Они были немедленно арестованы, а в их домах произведен тщательный обыск.\n",
            "\n",
            "Ничего подозрительного найдено не было.\n",
            "Ничего подозрительного найдено не было.\n",
            "\n",
            "Мать одного из подозреваемых, Нора Донда рассказала СМИ, что ее сын и его друг, который живет поблизости с отцом и бабушкой, это обычные студенты, которые весь день учатся в университете и только по выходным сидят перед компьютерами.\n",
            "Мать одного из подозреваемых, Нора Донда рассказала СМИ, что ее сын и его друг, который живет недалече с отцом и бабушкой, это обычные студенты, которые весь день учатся в университете и только по выходным сидят перед компьютерами.\n",
            "\n",
            "Она уверяет, что никакие они не террористы, а их поступок можно назвать «безответственной дуростью».\n",
            "Она уверяет, что никакие они не террористы, а их поступок можно назвать «безответственной дуростью».\n",
            "\n",
            "Так же она пожаловалась, что набежавшие в ее дом полицейские обращались с ними со всеми очень грубо, разбили и испортили много вещей, а все мобильные телефоны и компьютеры конфисковали.\n",
            "Так же она пожаловалась, что набежавшие в ее дом полицейские обращались с ними со всеми очень грубо, разбили и испортили много вещей, а все мобильные телефоны и компьютеры конфисковали.\n",
            "\n",
            "В настоящий момент двое задержанных студента находятся на допросе.\n",
            "В настоящий момент двое задержанных студента находятся на допросе.\n",
            "\n",
            "Даже если выясниться, что ночная шумиха произошла из-за глупой шутки, ребятам все равно не избежать наказания.\n",
            "Даже если выясниться, что ночная толк произошла из-за глупой шутки, ребятам все так же не избежать наказания.\n",
            "\n",
            "В связи с Олимпийскими играми в соседней стране Бразилии, все секретные службы и службы полицейского управления Аргентины находятся в состоянии наивысшей готовности.\n",
            "В связи с Олимпийскими играми в соседней стране Бразилии, все секретные службы и службы полицейского управления Аргентины находятся в состоянии наивысшей готовности.\n",
            "\n",
            "И любые «шутки» на тему терроризма будут расцениваться, как угроза.\n",
            "И любые «шутки» на тему терроризма будут расцениваться, как угроза.\n",
            "\n",
            "\n",
            "86 bert len\n",
            "Стивен Спилберг «Золотая пальмовая ветвь» — самым почётный приз Каннского кинофестиваля Известный американский режиссёр и продюсер Стивен Спилберг возглавит жюри 66-го Каннского кинофестиваля, который пройдёт с 15 по 26 мая 2013 года.\n",
            "Стивен Спилберг «Золотая пальмовая ветвь» — самым же приз Каннского кинофестиваля . американский режиссёр и продюсер Стивен Спилберг в жюри 66-го Каннского кинофестиваля, который пройдёт с 15 по 26 мая 2013 года.\n",
            "\n",
            "Об этом 28 февраля 2013 года сообщили организаторы международного кинофорума.\n",
            "Об этом 28 февраля 2013 года . руководство международного кинофорума.\n",
            "\n",
            "Стивен Спилберг отметил: Для меня это большая честь и привилегия — возглавлять жюри фестиваля, который продолжает неустанно доказывать, что кино — это язык мира.\n",
            "Стивен Спилберг пишет: Для меня это большая честь и он — от жюри фестиваля, который должен [UNK] то, что кино — это язык мира.\n",
            "\n",
            "В 2012 году главой жюри основного конкурса был известный итальянский режиссер, актёр, продюсер и сценарист Нанни Моретти.\n",
            "В 2012 году главой жюри конкурса конкурса был избран итальянский режиссер, актёр, продюсер и сценарист Нанни Моретти.\n",
            "\n",
            "До этого два года подряд председателями выступали американские режиссёры и продюсеры.\n",
            "До этого два года подряд , являются американские режиссёры и продюсеры.\n",
            "\n",
            "В 2011 году этот пост занимал Роберт Де Ниро, а годом ранее на кинофоруме председательствовал Тим Бёртон.\n",
            "В 2011 году этот пост занял Роберт Де Ниро, а годом ранее на кинофоруме - Тим Бёртон.\n",
            "\n",
            "За свою карьеру 66-летний Спилберг стал продюсером более 130 фильмов, был режиссёром почти полусотни картин.\n",
            "За свою карьеру 66-летний Спилберг стал продюсером более 130 фильмов, был режиссёром почти полусотни картин.\n",
            "\n",
            "В 1994 году его фильм «Список Шиндлера» получил «Оскара» как лучший фильм, сам Спилберг был признан лучшим режиссёром того года.\n",
            "В 1994 году его фильм «Список Шиндлера» стал «Оскара» как лучший фильм, сам Спилберг был также лучшим режиссёром того года.\n",
            "\n",
            "Награда Американский академии киноискусств была ему присуждена за лучшую режиссуру в фильме «Спасти рядового Райана» в 1999 году.\n",
            "Награда Американский академии киноискусств была ему , за лучшую режиссуру в фильме «Спасти рядового Райана» в 1999 году.\n",
            "\n",
            "Его новый фильм «Линкольн» о выдающемся президенте США также боролся за звание лучшей кинокартины 2012 года на церемонии вручения премии «Оскар».\n",
            "Его новый фильм «Линкольн» о о президенте США также боролся за звание лучшей кинокартины 2012 года на церемонии вручения премии «Оскар».\n",
            "\n",
            "\n",
            "86 bert frequency\n",
            "Стивен Спилберг «Золотая пальмовая ветвь» — самым почётный приз Каннского кинофестиваля Известный американский режиссёр и продюсер Стивен Спилберг возглавит жюри 66-го Каннского кинофестиваля, который пройдёт с 15 по 26 мая 2013 года.\n",
            "Стивен Спилберг «Золотая пальмовая ветвь» — самым почётный фильм Каннского кинофестиваля Известный американский режиссёр и продюсер Стивен Спилберг возглавит режиссёр 66-го Каннского кинофестиваля, который пройдёт с 15 по 26 мая 2013 года.\n",
            "\n",
            "Об этом 28 февраля 2013 года сообщили организаторы международного кинофорума.\n",
            "Об этом 28 февраля 2013 года сообщили организаторы международного кинофорума.\n",
            "\n",
            "Стивен Спилберг отметил: Для меня это большая честь и привилегия — возглавлять жюри фестиваля, который продолжает неустанно доказывать, что кино — это язык мира.\n",
            "Стивен Спилберг отметил: Для меня это большая честь и он — возглавлять фестиваль фестиваля, который продолжает [UNK] доказывать, что кино — это язык мира.\n",
            "\n",
            "В 2012 году главой жюри основного конкурса был известный итальянский режиссер, актёр, продюсер и сценарист Нанни Моретти.\n",
            "В 2012 году главой самого основного конкурса был известный итальянский режиссер, актёр, продюсер и сценарист Нанни Моретти.\n",
            "\n",
            "До этого два года подряд председателями выступали американские режиссёры и продюсеры.\n",
            "До этого два года подряд председателями выступали американские режиссёры и продюсеры.\n",
            "\n",
            "В 2011 году этот пост занимал Роберт Де Ниро, а годом ранее на кинофоруме председательствовал Тим Бёртон.\n",
            "В 2011 году этот пост занимал Роберт Де Ниро, а годом ранее на кинофоруме председательствовал Тим Бёртон.\n",
            "\n",
            "За свою карьеру 66-летний Спилберг стал продюсером более 130 фильмов, был режиссёром почти полусотни картин.\n",
            "За свою карьеру 66-летний Спилберг стал продюсером более 130 фильмов, был режиссёром почти полусотни картин.\n",
            "\n",
            "В 1994 году его фильм «Список Шиндлера» получил «Оскара» как лучший фильм, сам Спилберг был признан лучшим режиссёром того года.\n",
            "В 1994 году его фильм «Список Шиндлера» получил «Оскара» как лучший фильм, сам Спилберг был признан лучшим режиссёром того года.\n",
            "\n",
            "Награда Американский академии киноискусств была ему присуждена за лучшую режиссуру в фильме «Спасти рядового Райана» в 1999 году.\n",
            "Награда Американский академии киноискусств была ему присуждена за лучшую режиссуру в фильме «Спасти рядового Райана» в 1999 году.\n",
            "\n",
            "Его новый фильм «Линкольн» о выдающемся президенте США также боролся за звание лучшей кинокартины 2012 года на церемонии вручения премии «Оскар».\n",
            "Его новый фильм «Линкольн» о выдающемся президенте США также боролся за звание лучшей кинокартины 2012 года на церемонии вручения премии «Оскар».\n",
            "\n",
            "\n",
            "86 synonym len\n",
            "Стивен Спилберг «Золотая пальмовая ветвь» — самым почётный приз Каннского кинофестиваля Известный американский режиссёр и продюсер Стивен Спилберг возглавит жюри 66-го Каннского кинофестиваля, который пройдёт с 15 по 26 мая 2013 года.\n",
            "Стивен Спилберг «Золотая пальмовая ветвь» — самым почётный приз Каннского кинофестиваля Известный американский режиссёр и продюсер Стивен Спилберг возглавит жюри 66-го Каннского кинофестиваля, который пройдёт с 15 по 26 мая 2013 года.\n",
            "\n",
            "Об этом 28 февраля 2013 года сообщили организаторы международного кинофорума.\n",
            "Об этом 28 февраля 2013 года изрекли спонсоры международного кинофорума.\n",
            "\n",
            "Стивен Спилберг отметил: Для меня это большая честь и привилегия — возглавлять жюри фестиваля, который продолжает неустанно доказывать, что кино — это язык мира.\n",
            "Стивен Спилберг обмыл: Для меня это большая честь и право — вести жюри фестиваля, который идёт усердно спорить, что кино — это язык мира.\n",
            "\n",
            "В 2012 году главой жюри основного конкурса был известный итальянский режиссер, актёр, продюсер и сценарист Нанни Моретти.\n",
            "В 2012 году главой жюри основного конкурса был известный итальянский режиссер, актёр, продюсер и сценарист Нанни Моретти.\n",
            "\n",
            "До этого два года подряд председателями выступали американские режиссёры и продюсеры.\n",
            "До этого два года подряд председателями шли американские режиссёры и продюсеры.\n",
            "\n",
            "В 2011 году этот пост занимал Роберт Де Ниро, а годом ранее на кинофоруме председательствовал Тим Бёртон.\n",
            "В 2011 году этот пост брал Роберт Де Ниро, а годом ранее на кинофоруме возглавлял Тим Бёртон.\n",
            "\n",
            "За свою карьеру 66-летний Спилберг стал продюсером более 130 фильмов, был режиссёром почти полусотни картин.\n",
            "За свою карьеру 66-летний Спилберг стал продюсером более 130 фильмов, был режиссёром почти полусотни картин.\n",
            "\n",
            "В 1994 году его фильм «Список Шиндлера» получил «Оскара» как лучший фильм, сам Спилберг был признан лучшим режиссёром того года.\n",
            "В 1994 году его фильм «Список Шиндлера» снял «Оскара» как лучший фильм, сам Спилберг был узнанный лучшим режиссёром того года.\n",
            "\n",
            "Награда Американский академии киноискусств была ему присуждена за лучшую режиссуру в фильме «Спасти рядового Райана» в 1999 году.\n",
            "Награда Американский академии киноискусств была ему осуждённая за лучшую режиссуру в фильме «Спасти рядового Райана» в 1999 году.\n",
            "\n",
            "Его новый фильм «Линкольн» о выдающемся президенте США также боролся за звание лучшей кинокартины 2012 года на церемонии вручения премии «Оскар».\n",
            "Его новый фильм «Линкольн» о выдающемся президенте США также боролся за звание лучшей кинокартины 2012 года на церемонии вручения премии «Оскар».\n",
            "\n",
            "\n",
            "86 synonym frequency\n",
            "Стивен Спилберг «Золотая пальмовая ветвь» — самым почётный приз Каннского кинофестиваля Известный американский режиссёр и продюсер Стивен Спилберг возглавит жюри 66-го Каннского кинофестиваля, который пройдёт с 15 по 26 мая 2013 года.\n",
            "Стивен Спилберг «Золотая пальмовая ветвь» — самым почётный суперприз Каннского кинофестиваля Известный американский режиссёр и продюсер Стивен Спилберг возглавит жюри 66-го Каннского кинофестиваля, который пройдёт с 15 по 26 мая 2013 года.\n",
            "\n",
            "Об этом 28 февраля 2013 года сообщили организаторы международного кинофорума.\n",
            "Об этом 28 февраля 2013 года сообщили организаторы международного кинофорума.\n",
            "\n",
            "Стивен Спилберг отметил: Для меня это большая честь и привилегия — возглавлять жюри фестиваля, который продолжает неустанно доказывать, что кино — это язык мира.\n",
            "Стивен Спилберг отметил: Для меня это большая честь и преимущественное право — возглавлять жюри фестиваля, который продолжает безустанно доказывать, что кино — это язык мира.\n",
            "\n",
            "В 2012 году главой жюри основного конкурса был известный итальянский режиссер, актёр, продюсер и сценарист Нанни Моретти.\n",
            "В 2012 году главой жюри основного конкурса был известный итальянский режиссер, актёр, продюсер и сценарист Нанни Моретти.\n",
            "\n",
            "До этого два года подряд председателями выступали американские режиссёры и продюсеры.\n",
            "До этого два года подряд председателями выступали американские режиссёры и продюсеры.\n",
            "\n",
            "В 2011 году этот пост занимал Роберт Де Ниро, а годом ранее на кинофоруме председательствовал Тим Бёртон.\n",
            "В 2011 году этот пост занимал Роберт Де Ниро, а годом ранее на кинофоруме председательствовал Тим Бёртон.\n",
            "\n",
            "За свою карьеру 66-летний Спилберг стал продюсером более 130 фильмов, был режиссёром почти полусотни картин.\n",
            "За свою карьеру 66-летний Спилберг стал продюсером более 130 фильмов, был режиссёром почти полусотни картин.\n",
            "\n",
            "В 1994 году его фильм «Список Шиндлера» получил «Оскара» как лучший фильм, сам Спилберг был признан лучшим режиссёром того года.\n",
            "В 1994 году его фильм «Список Шиндлера» получил «Оскара» как лучший фильм, сам Спилберг был признан лучшим режиссёром того года.\n",
            "\n",
            "Награда Американский академии киноискусств была ему присуждена за лучшую режиссуру в фильме «Спасти рядового Райана» в 1999 году.\n",
            "Награда Американский академии киноискусств была ему присуждена за лучшую режиссуру в фильме «Спасти рядового Райана» в 1999 году.\n",
            "\n",
            "Его новый фильм «Линкольн» о выдающемся президенте США также боролся за звание лучшей кинокартины 2012 года на церемонии вручения премии «Оскар».\n",
            "Его новый фильм «Линкольн» о выдающемся президенте США также боролся за звание лучшей кинокартины 2012 года на церемонии вручения премии «Оскар».\n",
            "\n",
            "\n",
            "87 bert len\n",
            "Полицейские штата Миссури в Фергюсоне, готовые применить спецсредства, 22 сентября 2014 Как сообщила полиция штата Миссури, утром в среду 24 декабря сотрудник полиции застрелил вооруженного афроамериканца.\n",
            "Полицейские штата Миссури в Фергюсоне, готовые для порядок, 22 сентября 2014 Как и полиция штата Миссури, утром в среду 24 декабря сотрудник полиции застрелил вооруженного афроамериканца.\n",
            "\n",
            "По сообщению официального представителя полицейского управления Беркли (пригород Сент-Луиса), офицер столкнулся с двумя мужчинами во время плановой проверки на заправочной станции.\n",
            "По данным официального представителя полицейского управления Беркли (пригород Сент-Луиса), офицер был с двумя мужчинами во время боевой работы на железной станции.\n",
            "\n",
            "Один из них направил на полицейского оружие, из-за чего тот открыл огонь.\n",
            "Один из них попал на полицейского оружие, из-за чего тот открыл огонь.\n",
            "\n",
            "Второй мужчина скрылся с места происшествия.\n",
            "Второй мужчина , с места места.\n",
            "\n",
            "Несколько десятков местных жителей собрались на месте происшествия и вступили в столкновение с полицией.\n",
            "Несколько десятков местных жителей были на месте ##чка и вышли в столкновение с полицией.\n",
            "\n",
            "В толпу было брошено, как минимум, два горящих предмета, один из которых взорвался.\n",
            "В толпу было брошено, как минимум, два горящих предмета, один из которых был.\n",
            "\n",
            "Газета St.\n",
            "Газета St.\n",
            "\n",
            "Louis Post-Dispatch опознала убитого как 18-летнего Антонио Мартина.\n",
            "Louis Post-Dispatch о убитого как 18-летнего Антонио Мартина.\n",
            "\n",
            "Женщина, назвавшаяся матерью Мартина, рассказала репортерам, что девушка ее сына изложила иную версию событий.\n",
            "Женщина, с матерью Мартина, дала репортерам, что девушка ее сына - иную версию событий.\n",
            "\n",
            "По ее словам, молодые люди просто зашли в магазин на заправке, а полиция, увидев их, открыла огонь.\n",
            "По ее словам, молодые люди просто зашли в магазин на ночь, а полиция, увидев их, открыла огонь.\n",
            "\n",
            "Город Беркли расположен по соседству с Фергюсоном, где ранее в этом году при столкновении с белым офицером полиции был убит 18-летний безоружный афроамериканец Майкл Браун.\n",
            "Город Беркли известен по шоссе с Фергюсоном, где ранее в этом году при этом с белым офицером полиции был убит 18-летний известный афроамериканец Майкл Браун.\n",
            "\n",
            "Смерть Брауна и ряд других инцидентов подобного рода вызвали массовые протесты по всей Америке против агрессивного отношения полиции к афроамериканцам.\n",
            "Смерть Брауна и ряд других людей своего рода вызвали массовые протесты по всей Америке против отношения к полиции к афроамериканцам.\n",
            "\n",
            "Общественность также была возмущена решениями местных судов присяжных, не выдвинувших обвинения против полицейских, причастных к гибели Брауна и Эрика Гарнера, смерть которого на улице Нью-Йорка была заснята на видео.\n",
            "СМИ также была с решениями местных судов США, не имели решения против полицейских, привело к гибели Брауна и Эрика Гарнера, смерть которого на улице Нью-Йорка была заснята на видео.\n",
            "\n",
            "Несколько сот человек вышли во вторник вечером на улицы Нью-Йорка, несмотря на призыв мэра Билла де Блазио прекратить демонстрации после трагического инцидента на прошлой неделе, в ходе которого были убиты двое нью-йоркских полицейских.\n",
            "Несколько сот человек вышли во вторник вечером на улицы Нью-Йорка, как на призыв мэра Билла де Блазио к их после этого инцидента на прошлой неделе, в ходе которого были убиты двое нью-йоркских полицейских.\n",
            "\n",
            "\n",
            "87 bert frequency\n",
            "Полицейские штата Миссури в Фергюсоне, готовые применить спецсредства, 22 сентября 2014 Как сообщила полиция штата Миссури, утром в среду 24 декабря сотрудник полиции застрелил вооруженного афроамериканца.\n",
            "Полицейские штата Миссури в Фергюсоне, готовые для спецсредства, 22 сентября 2014 Как сообщила полиция штата Миссури, утром в среду 24 декабря сотрудник полиции застрелил вооруженного афроамериканца.\n",
            "\n",
            "По сообщению официального представителя полицейского управления Беркли (пригород Сент-Луиса), офицер столкнулся с двумя мужчинами во время плановой проверки на заправочной станции.\n",
            "По сообщению официального представителя полицейского управления Беркли (пригород Сент-Луиса), офицер столкнулся с двумя мужчинами во время плановой проверки на заправочной станции.\n",
            "\n",
            "Один из них направил на полицейского оружие, из-за чего тот открыл огонь.\n",
            "Один из них направил на полицейского оружие, из-за чего тот открыл огонь.\n",
            "\n",
            "Второй мужчина скрылся с места происшествия.\n",
            "Второй мужчина скрылся с места происшествия.\n",
            "\n",
            "Несколько десятков местных жителей собрались на месте происшествия и вступили в столкновение с полицией.\n",
            "Несколько десятков местных жителей собрались на месте происшествия и вступили в столкновение с полицией.\n",
            "\n",
            "В толпу было брошено, как минимум, два горящих предмета, один из которых взорвался.\n",
            "В толпу было брошено, как минимум, два горящих предмета, один из которых взорвался.\n",
            "\n",
            "Газета St.\n",
            "Газета St.\n",
            "\n",
            "Louis Post-Dispatch опознала убитого как 18-летнего Антонио Мартина.\n",
            "Louis Post-Dispatch опознала убитого как 18-летнего Антонио Мартина.\n",
            "\n",
            "Женщина, назвавшаяся матерью Мартина, рассказала репортерам, что девушка ее сына изложила иную версию событий.\n",
            "Женщина, назвавшаяся матерью Мартина, рассказала репортерам, что девушка ее сына изложила иную версию событий.\n",
            "\n",
            "По ее словам, молодые люди просто зашли в магазин на заправке, а полиция, увидев их, открыла огонь.\n",
            "По ее словам, молодые люди просто зашли в магазин на заправке, а полиция, увидев их, открыла огонь.\n",
            "\n",
            "Город Беркли расположен по соседству с Фергюсоном, где ранее в этом году при столкновении с белым офицером полиции был убит 18-летний безоружный афроамериканец Майкл Браун.\n",
            "Город Беркли расположен по соседству с Фергюсоном, где ранее в этом году при столкновении с белым офицером полиции был убит 18-летний американский афроамериканец Майкл Браун.\n",
            "\n",
            "Смерть Брауна и ряд других инцидентов подобного рода вызвали массовые протесты по всей Америке против агрессивного отношения полиции к афроамериканцам.\n",
            "Смерть Брауна и ряд других инцидентов подобного рода вызвали массовые протесты по всей Америке против агрессивного отношения полиции к афроамериканцам.\n",
            "\n",
            "Общественность также была возмущена решениями местных судов присяжных, не выдвинувших обвинения против полицейских, причастных к гибели Брауна и Эрика Гарнера, смерть которого на улице Нью-Йорка была заснята на видео.\n",
            "Общественность также была возмущена решениями местных судов присяжных, не выдвинувших обвинения против полицейских, причастных к гибели Брауна и Эрика Гарнера, смерть которого на улице Нью-Йорка была заснята на улице.\n",
            "\n",
            "Несколько сот человек вышли во вторник вечером на улицы Нью-Йорка, несмотря на призыв мэра Билла де Блазио прекратить демонстрации после трагического инцидента на прошлой неделе, в ходе которого были убиты двое нью-йоркских полицейских.\n",
            "Несколько сот человек вышли во вторник вечером на улицы Нью-Йорка, несмотря на призыв мэра Билла де Блазио прекратить демонстрации после трагического инцидента на прошлой неделе, в ходе которого были убиты двое нью-йоркских полицейских.\n",
            "\n",
            "\n",
            "87 synonym len\n",
            "Полицейские штата Миссури в Фергюсоне, готовые применить спецсредства, 22 сентября 2014 Как сообщила полиция штата Миссури, утром в среду 24 декабря сотрудник полиции застрелил вооруженного афроамериканца.\n",
            "Полицейские штата Миссури в Фергюсоне, готовые наносить спецсредства, 22 сентября 2014 Как изрекла полиция штата Миссури, утром в среду 24 декабря сотрудник полиции застрелил вооруженного афроамериканца.\n",
            "\n",
            "По сообщению официального представителя полицейского управления Беркли (пригород Сент-Луиса), офицер столкнулся с двумя мужчинами во время плановой проверки на заправочной станции.\n",
            "По слуху официального представителя полицейского управления Беркли (пригород Сент-Луиса), офицер сошёлся с двумя мужчинами во время плановой теста на зарядной станции.\n",
            "\n",
            "Один из них направил на полицейского оружие, из-за чего тот открыл огонь.\n",
            "Один из них ткнул на полицейского оружие, из-за чего тот открыл огонь.\n",
            "\n",
            "Второй мужчина скрылся с места происшествия.\n",
            "Второй мужчина скрылся с места дтп.\n",
            "\n",
            "Несколько десятков местных жителей собрались на месте происшествия и вступили в столкновение с полицией.\n",
            "Несколько десятков местных жителей пошли на месте дтп и зашли в столкновение с полицией.\n",
            "\n",
            "В толпу было брошено, как минимум, два горящих предмета, один из которых взорвался.\n",
            "В толпу было брошено, как минимум, два горящих предмета, один из которых лопнул.\n",
            "\n",
            "Газета St.\n",
            "Газета St.\n",
            "\n",
            "Louis Post-Dispatch опознала убитого как 18-летнего Антонио Мартина.\n",
            "Louis Post-Dispatch узнала убитого как 18-летнего Антонио Мартина.\n",
            "\n",
            "Женщина, назвавшаяся матерью Мартина, рассказала репортерам, что девушка ее сына изложила иную версию событий.\n",
            "Женщина, назвавшаяся матерью Мартина, выдала репортерам, что девушка ее сына описала иную версию событий.\n",
            "\n",
            "По ее словам, молодые люди просто зашли в магазин на заправке, а полиция, увидев их, открыла огонь.\n",
            "По ее словам, молодые люди просто зашли в магазин на заправке, а полиция, увидев их, открыла огонь.\n",
            "\n",
            "Город Беркли расположен по соседству с Фергюсоном, где ранее в этом году при столкновении с белым офицером полиции был убит 18-летний безоружный афроамериканец Майкл Браун.\n",
            "Город Беркли помещённый по близости с Фергюсоном, где ранее в этом году при бое с белым офицером полиции был убит 18-летний безоружный афроамериканец Майкл Браун.\n",
            "\n",
            "Смерть Брауна и ряд других инцидентов подобного рода вызвали массовые протесты по всей Америке против агрессивного отношения полиции к афроамериканцам.\n",
            "Смерть Брауна и ряд других фактов подобного рода вызвали массовые протесты по всей Америке против агрессивного дроби полиции к афроамериканцам.\n",
            "\n",
            "Общественность также была возмущена решениями местных судов присяжных, не выдвинувших обвинения против полицейских, причастных к гибели Брауна и Эрика Гарнера, смерть которого на улице Нью-Йорка была заснята на видео.\n",
            "Публику также была возмущена решениями местных судов присяжных, не двинувших иски против полицейских, причастных к гибели Брауна и Эрика Гарнера, смерть которого на улице Нью-Йорка была заснята на видео.\n",
            "\n",
            "Несколько сот человек вышли во вторник вечером на улицы Нью-Йорка, несмотря на призыв мэра Билла де Блазио прекратить демонстрации после трагического инцидента на прошлой неделе, в ходе которого были убиты двое нью-йоркских полицейских.\n",
            "Несколько сот человек вышли во вторник вечером на улицы Нью-Йорка, несмотря на призыв мэра Билла де Блазио прекратить марш после трагического инцидента на прошлой неделе, в ходе которого были убиты двое нью-йоркских полицейских.\n",
            "\n",
            "\n",
            "87 synonym frequency\n",
            "Полицейские штата Миссури в Фергюсоне, готовые применить спецсредства, 22 сентября 2014 Как сообщила полиция штата Миссури, утром в среду 24 декабря сотрудник полиции застрелил вооруженного афроамериканца.\n",
            "Полицейские штата Миссури в Фергюсоне, готовые найти применение спецсредства, 22 сентября 2014 Как сообщила полиция штата Миссури, утром в среду 24 декабря сотрудник полиции застрелил вооруженного афроамериканца.\n",
            "\n",
            "По сообщению официального представителя полицейского управления Беркли (пригород Сент-Луиса), офицер столкнулся с двумя мужчинами во время плановой проверки на заправочной станции.\n",
            "По сообщению официального представителя полицейского управления Беркли (пригород Сент-Луиса), офицер столкнулся с двумя мужчинами во время плановой проверки на заправочной станции.\n",
            "\n",
            "Один из них направил на полицейского оружие, из-за чего тот открыл огонь.\n",
            "Один из них направил на полицейского оружие, из-за чего тот открыл огонь.\n",
            "\n",
            "Второй мужчина скрылся с места происшествия.\n",
            "Второй мужчина скрылся с места происшествия.\n",
            "\n",
            "Несколько десятков местных жителей собрались на месте происшествия и вступили в столкновение с полицией.\n",
            "Несколько десятков местных жителей собрались на месте происшествия и вступили в столкновение с полицией.\n",
            "\n",
            "В толпу было брошено, как минимум, два горящих предмета, один из которых взорвался.\n",
            "В толпу было брошено, как минимум, два горящих предмета, один из которых взорвался.\n",
            "\n",
            "Газета St.\n",
            "Газета St.\n",
            "\n",
            "Louis Post-Dispatch опознала убитого как 18-летнего Антонио Мартина.\n",
            "Louis Post-Dispatch опознала убитого как 18-летнего Антонио Мартина.\n",
            "\n",
            "Женщина, назвавшаяся матерью Мартина, рассказала репортерам, что девушка ее сына изложила иную версию событий.\n",
            "Женщина, назвавшаяся матерью Мартина, рассказала репортерам, что девушка ее сына изложила иную версию событий.\n",
            "\n",
            "По ее словам, молодые люди просто зашли в магазин на заправке, а полиция, увидев их, открыла огонь.\n",
            "По ее словам, молодые люди просто зашли в магазин на заправке, а полиция, увидев их, открыла огонь.\n",
            "\n",
            "Город Беркли расположен по соседству с Фергюсоном, где ранее в этом году при столкновении с белым офицером полиции был убит 18-летний безоружный афроамериканец Майкл Браун.\n",
            "Город Беркли расположен по соседству с Фергюсоном, где ранее в этом году при столкновении с белым офицером полиции был убит 18-летний беззащитный афроамериканец Майкл Браун.\n",
            "\n",
            "Смерть Брауна и ряд других инцидентов подобного рода вызвали массовые протесты по всей Америке против агрессивного отношения полиции к афроамериканцам.\n",
            "Смерть Брауна и ряд других инцидентов подобного рода вызвали массовые протесты по всей Америке против агрессивного отношения полиции к афроамериканцам.\n",
            "\n",
            "Общественность также была возмущена решениями местных судов присяжных, не выдвинувших обвинения против полицейских, причастных к гибели Брауна и Эрика Гарнера, смерть которого на улице Нью-Йорка была заснята на видео.\n",
            "Общественность также была возмущена решениями местных судов присяжных, не выдвинувших обвинения против полицейских, причастных к гибели Брауна и Эрика Гарнера, смерть которого на улице Нью-Йорка была заснята на видео.\n",
            "\n",
            "Несколько сот человек вышли во вторник вечером на улицы Нью-Йорка, несмотря на призыв мэра Билла де Блазио прекратить демонстрации после трагического инцидента на прошлой неделе, в ходе которого были убиты двое нью-йоркских полицейских.\n",
            "Несколько сот человек вышли во вторник вечером на улицы Нью-Йорка, несмотря на призыв мэра Билла де Блазио прекратить демонстрации после трагического инцидента на прошлой неделе, в ходе которого были убиты двое нью-йоркских полицейских.\n",
            "\n",
            "\n",
            "88 bert len\n",
            "Уоррен Баффет 2 мая 2013 года Уоррен Баффет — крупнейший в мире и один из наиболее известных инвесторов, состояние которого оценивается в 46,5 млрд долларов США, завёл себе микроблог в Твиттере @Warren Buffet.\n",
            "Уоррен Баффет 2 мая 2013 года Уоррен Баффет — крупнейший в мире и один из самых крупных инвесторов, доход которого [UNK] в 46,5 млрд долларов США, завёл себе имя в Твиттере @Warren Buffet.\n",
            "\n",
            "В течение десяти минут после его регистрации на него подписались 10 тысяч человек, а через три часа эта цифра достигла 140 тысяч.\n",
            "В течение десяти минут после его публикации на него было 10 тысяч человек, а через три часа эта цифра - 140 тысяч.\n",
            "\n",
            "На момент написания статьи микроблог насчитывал 342 900 фолловеров.\n",
            "На момент первой статьи флот имеет 342 900 человек.\n",
            "\n",
            "Сам инвестор пока ни на кого не подписан.\n",
            "Сам инвестор пока ни на кого не е.\n",
            "\n",
            "Аккаунт @Warren Buffet официально верифицирован, чем подтверждается то, что его обладатель — тот самый человек, за которого себя выдаёт.\n",
            "Аккаунт @Warren Buffet ##t официально, чем на то, что его имя — тот самый человек, за которого себя [UNK].\n",
            "\n",
            "Сейчас микроблог содержит только две записи, и обе они не имеют отношения к профессиональной деятельности Баффета.\n",
            "Сейчас альбом имеет только две записи, и обе они не имеют к к научной записи Баффета.\n",
            "\n",
            "Первая гласит «Пришёл Уоррен» (Warren is in the house).\n",
            "Первая гласит «Пришёл Уоррен» (Warren is in the house).\n",
            "\n",
            "Во второй «Оракул из Омахи» (Oracle of Omaha) рекламирует своё эссе в CNN Money: «Читайте моё новое эссе о том, почему женщины являются ключевыми для процветания Америки http://cnnmon.ie/18eXfik» (Read my new essay on why women are key to America's prosperity: http://cnnmon.ie/18eXfik.)\n",
            "Во второй «Оракул из Омахи» (Oracle of Omaha) пишет своё эссе в CNN Money: «Читайте моё новое эссе о том, почему женщины были целью для :tp::» (Read my new essay on why women are key to America's future: http://cnnmon.ie/18eXfik.)\n",
            "\n",
            "В интервью CNN Баффет заявил, что теперь его семья не сможет говорить, что «он застрял в XX веке».\n",
            "В шоу CNN Баффет заявил, что теперь его семья не сможет того, что «он жив в XX веке».\n",
            "\n",
            "82-летний Уоррен Баффет, являющийся председателем правления и управляющим компании Berkshire Hathaway, которой принадлежат примерно 80 компаний по всему миру, специализация которых варьируется от железнодорожных перевозок и пошива одежды до производства мебели и ювелирных изделий.\n",
            "82-летний Уоррен Баффет, является председателем правления и управляющим компании Berkshire Hathaway, которой входят примерно 80 стран по всему миру, деятельность которых - от производства дорог и пошива одежды до развития мебели и других изделий.\n",
            "\n",
            "Он считается одним из самых богатых людей в мире и вторым по размеру состояния жителем США.\n",
            "Он был одним из самых богатых людей в мире и вторым по размеру по жителем США.\n",
            "\n",
            "\n",
            "88 bert frequency\n",
            "Уоррен Баффет 2 мая 2013 года Уоррен Баффет — крупнейший в мире и один из наиболее известных инвесторов, состояние которого оценивается в 46,5 млрд долларов США, завёл себе микроблог в Твиттере @Warren Buffet.\n",
            "Уоррен Баффет 2 мая 2013 года Уоррен Баффет — крупнейший в мире и один из наиболее известных инвесторов, состояние которого оценивается в 46,5 млрд долларов США, завёл себе микроблог в Твиттере @Warren Buffet.\n",
            "\n",
            "В течение десяти минут после его регистрации на него подписались 10 тысяч человек, а через три часа эта цифра достигла 140 тысяч.\n",
            "В течение десяти минут после его регистрации на него подписались 10 тысяч человек, а через три часа эта цифра достигла 140 тысяч.\n",
            "\n",
            "На момент написания статьи микроблог насчитывал 342 900 фолловеров.\n",
            "На момент написания статьи микроблог насчитывал 342 900 фолловеров.\n",
            "\n",
            "Сам инвестор пока ни на кого не подписан.\n",
            "Сам инвестор пока ни на кого не подписан.\n",
            "\n",
            "Аккаунт @Warren Buffet официально верифицирован, чем подтверждается то, что его обладатель — тот самый человек, за которого себя выдаёт.\n",
            "Аккаунт @Warren Buffet ##t верифицирован, чем подтверждается то, что его имя — тот самый человек, за которого себя выдаёт.\n",
            "\n",
            "Сейчас микроблог содержит только две записи, и обе они не имеют отношения к профессиональной деятельности Баффета.\n",
            "Сейчас микроблог содержит только две записи, и обе они не имеют отношения к профессиональной деятельности Баффета.\n",
            "\n",
            "Первая гласит «Пришёл Уоррен» (Warren is in the house).\n",
            "Первая гласит «Пришёл Уоррен» (Warren is in the house).\n",
            "\n",
            "Во второй «Оракул из Омахи» (Oracle of Omaha) рекламирует своё эссе в CNN Money: «Читайте моё новое эссе о том, почему женщины являются ключевыми для процветания Америки http://cnnmon.ie/18eXfik» (Read my new essay on why women are key to America's prosperity: http://cnnmon.ie/18eXfik.)\n",
            "Во второй «Оракул из Омахи» (Oracle of Omaha) рекламирует своёимя в CNN Money: «Читайте моё новое эссе о том, почему женщины являются ключевыми для процветания Америки http://cnnmon.ie/18eXfik» (Read my new essay on why women are key to America's prosperity: http://cnnmon.ie/18eXfik.)\n",
            "\n",
            "В интервью CNN Баффет заявил, что теперь его семья не сможет говорить, что «он застрял в XX веке».\n",
            "В интервью CNN Баффет заявил, что теперь его семья не сможет говорить, что «он застрял в XX веке».\n",
            "\n",
            "82-летний Уоррен Баффет, являющийся председателем правления и управляющим компании Berkshire Hathaway, которой принадлежат примерно 80 компаний по всему миру, специализация которых варьируется от железнодорожных перевозок и пошива одежды до производства мебели и ювелирных изделий.\n",
            "82-летний Уоррен Баффет, являющийся председателем правления и управляющим компании Berkshire Hathaway, которой принадлежат примерно 80 компаний по всему миру, деятельность которых варьируется от железнодорожных перевозок и пошива одежды до производства мебели и ювелирных изделий.\n",
            "\n",
            "Он считается одним из самых богатых людей в мире и вторым по размеру состояния жителем США.\n",
            "Он считается одним из самых богатых людей в мире и вторым по размеру состояния жителем США.\n",
            "\n",
            "\n",
            "88 synonym len\n",
            "Уоррен Баффет 2 мая 2013 года Уоррен Баффет — крупнейший в мире и один из наиболее известных инвесторов, состояние которого оценивается в 46,5 млрд долларов США, завёл себе микроблог в Твиттере @Warren Buffet.\n",
            "Уоррен Баффет 2 мая 2013 года Уоррен Баффет — крупнейший в мире и один из наиболее известных инвесторов, срез которого оценивается в 46,5 млрд долларов США, завёл себе микроблог в Твиттере @Warren Buffet.\n",
            "\n",
            "В течение десяти минут после его регистрации на него подписались 10 тысяч человек, а через три часа эта цифра достигла 140 тысяч.\n",
            "В течение десяти минут после его учёта на него подписались 10 тысяч человек, а через три часа эта цифра дошла 140 тысяч.\n",
            "\n",
            "На момент написания статьи микроблог насчитывал 342 900 фолловеров.\n",
            "На момент сложения статьи микроблог имел 342 900 фолловеров.\n",
            "\n",
            "Сам инвестор пока ни на кого не подписан.\n",
            "Сам инвестор пока ни на кого не подписан.\n",
            "\n",
            "Аккаунт @Warren Buffet официально верифицирован, чем подтверждается то, что его обладатель — тот самый человек, за которого себя выдаёт.\n",
            "Аккаунт @Warren Buffet публично следил, чем подтверждается то, что его хозяин — тот самый человек, за которого себя выдаёт.\n",
            "\n",
            "Сейчас микроблог содержит только две записи, и обе они не имеют отношения к профессиональной деятельности Баффета.\n",
            "Сейчас микроблог имеет только две записи, и обе они не имеют дроби к кадровой труда Баффета.\n",
            "\n",
            "Первая гласит «Пришёл Уоррен» (Warren is in the house).\n",
            "Первая гласит «Пришёл Уоррен» (Warren is in the house).\n",
            "\n",
            "Во второй «Оракул из Омахи» (Oracle of Omaha) рекламирует своё эссе в CNN Money: «Читайте моё новое эссе о том, почему женщины являются ключевыми для процветания Америки http://cnnmon.ie/18eXfik» (Read my new essay on why women are key to America's prosperity: http://cnnmon.ie/18eXfik.)\n",
            "Во второй «Оракул из Омахи» (Oracle of Omaha) хвалит своё эссе в CNN Money: «Читайте моё новое эссе о том, почему женщины есть ключевыми для блага Америки http://cnnmon.ie/18exfik» (Read my new essay on why women are key to America's prosperity: http://cnnmon.ie/18eXfik.)\n",
            "\n",
            "В интервью CNN Баффет заявил, что теперь его семья не сможет говорить, что «он застрял в XX веке».\n",
            "В опросе CNN Баффет заявил, что теперь его семья не сможет вещать, что «он заел в XX веке».\n",
            "\n",
            "82-летний Уоррен Баффет, являющийся председателем правления и управляющим компании Berkshire Hathaway, которой принадлежат примерно 80 компаний по всему миру, специализация которых варьируется от железнодорожных перевозок и пошива одежды до производства мебели и ювелирных изделий.\n",
            "82-летний Уоррен Баффет, бывший председателем правления и управляющим компании Berkshire Hathaway, которой состоят примерно 80 компаний по всему миру, типизация которых меняется от железнодорожных перевозок и пошива одежды до выпуска мебели и ювелирных изделий.\n",
            "\n",
            "Он считается одним из самых богатых людей в мире и вторым по размеру состояния жителем США.\n",
            "Он есть одним из самых богатых людей в мире и вторым по размеру среза жителем США.\n",
            "\n",
            "\n",
            "88 synonym frequency\n",
            "Уоррен Баффет 2 мая 2013 года Уоррен Баффет — крупнейший в мире и один из наиболее известных инвесторов, состояние которого оценивается в 46,5 млрд долларов США, завёл себе микроблог в Твиттере @Warren Buffet.\n",
            "Уоррен Баффет 2 мая 2013 года Уоррен Баффет — крупнейший в мире и один из наиболее известных инвесторов, состояние которого оценивается в 46,5 млрд долларов США, завёл себе микроблог в Твиттере @Warren Buffet.\n",
            "\n",
            "В течение десяти минут после его регистрации на него подписались 10 тысяч человек, а через три часа эта цифра достигла 140 тысяч.\n",
            "В течение десяти минут после его регистрации на него подписались 10 тысяч человек, а через три часа эта цифра достигла 140 тысяч.\n",
            "\n",
            "На момент написания статьи микроблог насчитывал 342 900 фолловеров.\n",
            "На момент написания статьи микроблог насчитывал 342 900 фолловеров.\n",
            "\n",
            "Сам инвестор пока ни на кого не подписан.\n",
            "Сам инвестор пока ни на кого не подписан.\n",
            "\n",
            "Аккаунт @Warren Buffet официально верифицирован, чем подтверждается то, что его обладатель — тот самый человек, за которого себя выдаёт.\n",
            "Аккаунт @Warren Buffet официально верифицирован, чем подтверждается то, что его владетель — тот самый человек, за которого себя выдаёт.\n",
            "\n",
            "Сейчас микроблог содержит только две записи, и обе они не имеют отношения к профессиональной деятельности Баффета.\n",
            "Сейчас микроблог содержит только две записи, и обе они не имеют отношения к профессиональной деятельности Баффета.\n",
            "\n",
            "Первая гласит «Пришёл Уоррен» (Warren is in the house).\n",
            "Первая гласит «Пришёл Уоррен» (Warren is in the house).\n",
            "\n",
            "Во второй «Оракул из Омахи» (Oracle of Omaha) рекламирует своё эссе в CNN Money: «Читайте моё новое эссе о том, почему женщины являются ключевыми для процветания Америки http://cnnmon.ie/18eXfik» (Read my new essay on why women are key to America's prosperity: http://cnnmon.ie/18eXfik.)\n",
            "Во второй «Оракул из Омахи» (Oracle of Omaha) рекламирует своё сочинсочинений в CNN Money: «Читайте моё новое эссе о том, почему женщины являются ключевыми для процветания Америки http://cnnmon.ie/18eXfik» (Read my new essay on why women are key to America's prosperity: http://cnnmon.ie/18eXfik.)\n",
            "\n",
            "В интервью CNN Баффет заявил, что теперь его семья не сможет говорить, что «он застрял в XX веке».\n",
            "В интервью CNN Баффет заявил, что теперь его семья не сможет говорить, что «он застрял в XX веке».\n",
            "\n",
            "82-летний Уоррен Баффет, являющийся председателем правления и управляющим компании Berkshire Hathaway, которой принадлежат примерно 80 компаний по всему миру, специализация которых варьируется от железнодорожных перевозок и пошива одежды до производства мебели и ювелирных изделий.\n",
            "82-летний Уоррен Баффет, являющийся председателем правления и управляющим компании Berkshire Hathaway, которой принадлежат примерно 80 компаний по всему миру, подготовка которых варьируется от железнодорожных перевозок и пошива одежды до производства мебели и ювелирных изделий.\n",
            "\n",
            "Он считается одним из самых богатых людей в мире и вторым по размеру состояния жителем США.\n",
            "Он считается одним из самых богатых людей в мире и вторым по размеру состояния жителем США.\n",
            "\n",
            "\n",
            "89 bert len\n",
            "Новый закон «О следственных полномочиях» позволяет государственному секретарю выдавать телекоммуникационным операторам «уведомления о технических характеристиках», устанавливая ряд обязательств.\n",
            "Новый закон «О следственных полномочиях» дал государственному секретарю и по ##м «приказ о их технических», на ряд ##ов.\n",
            "\n",
            "Одно из таких обязательств, найденных в разделе (4) (с) статьи 217, относится к удалению «электронной защиты» при запросе:   Это означает, что при получении запроса телекоммуникационная компания должна удалить всё шифрование, чтобы обеспечить правительственным агентам доступ к любым каналам связи.\n",
            "Одно из таких случаев, найденных в разделе (4) (с) статьи 217, к к типу «прямой защиты» при запросе:   Это то, что при при запроса , система должна удалить всё то, чтобы получить правительственным агентам доступ к любым каналам связи.\n",
            "\n",
            "Это указывает на обязательство сохранять возможность доступа для сотрудников правоохранительных органов к зашифрованным устройствам и услугам, прекращая на этом законное использование шифрования end-to-end.\n",
            "Это право на право на режим доступа для сотрудников правоохранительных органов к таким документов и услугам, и на этом право право режима DNS.\n",
            "\n",
            "Действие решения относительно обхода шифрования проводится в рамках закона о следственных полномочиях, что позволяет осуществлять беспрецедентный надзор за гражданами Великобритании .\n",
            "Новые решения проблемы обхода граждан - в рамках закона о некоторых правах, что должно вести военный надзор за счёт Великобритании .\n",
            "\n",
            "Вся интернет-активность клиента должна регистрироваться технологическими компаниями, такими как интернет-провайдеры, на срок в один год, и предоставляться правоохранительным органам по запросу, без судебного ордера.\n",
            "Вся интернет-активность клиента должна быть такими людьми, такими как интернет-провайдеры, на срок в один год, и по также органам по запросу, без защиты ордера.\n",
            "\n",
            "Это означает, что любая компания в Великобритании, имеющая доступ к средствам связи и информации, по закону обязана сделать эти данные открытыми для правоохранительных органов, когда они сочтут это необходимым, и ни одна компания не имеет право создавать технологию, которая препятствует сбору этих данных.\n",
            "Эстранау, что любая страна в Великобритании, имеющая доступ к данным связи и связи, по закону обязана сделать эти данные только для государственных органов, когда они сочтут это данные, и ни одна компания не имеет право на сеть, которая по сбору этих данных.\n",
            "\n",
            "Это серьёзно ставит под сомнение конфиденциальность граждан Великобритании.\n",
            "Это также ставит под вопрос граждан в Великобритании.\n",
            "\n",
            "В ноябре 2016 года Великобритания приняла закон о слежке за абонентами, который некоторые средства массовой информации сравнивают с «пакетом Яровой», принятым в России в июле 2016.\n",
            "В ноябре 2016 года Великобритания приняла закон о слежке за абонентами, который многие органы , защиты связано с «пакетом Яровой», принятым в России в июле 2016.\n",
            "\n",
            "Он обязывает операторов связи хранить в течение года данные обо всех сайтах, посещаемых их пользователями, и услугах связи, которыми воспользовались их абоненты.\n",
            "Он также услуги связи хранить в течение года данные обо всех сайтах, с их сети, и услугах связи, которыми являются их абоненты.\n",
            "\n",
            "Он также получил одобрение британской королевы, то есть стал законом.\n",
            "Он также имел от британской королевы, то есть стал законом.\n",
            "\n",
            "Занимающая с июня 2016 года пост премьер-министра Великобритании Тереза Мэй, которую ещё иногда в прессе называют «британская Яровая» из-за её симпатии к законом о массовой слежке в Интернете, изначально выражала свою поддержку законопроекту «О следственных полномочиях».\n",
            "Начиная с июня 2016 года пост премьер-министра Великобритании Тереза Мэй, которую ещё иногда в прессе назвали «британская Яровая» из-за её интерес к законом о первой слежке в Интернете, также имела свою позицию закону «О следственных полномочиях».\n",
            "\n",
            "В российской прессе практически сразу же этот закон стали сравнивать с «пакетом Яровой», а поддержавшие все инициативы по контролю над Интернетом в Государственной думе политики ссылались на точно такой же опыт «наших западных партнёров».\n",
            "В российской прессе почти сразу же этот закон стали рядом с «пакетом Яровой», а же все функции по то над Интернетом в Государственной думе политики - на точно такой же опыт «наших наших партнёров».\n",
            "\n",
            "Но Институт исследования интернета (ИИИ) сделал перевод закона, который имеет существенные различия от некоторых трактовок в российской прессе.\n",
            "Но Институт исследования интернета (ИИИ) сделал перевод закона, который имеет некоторые отличие от закона закона в российской прессе.\n",
            "\n",
            "Один из экспертов ИИИ Ирина Леовая объяснила:\n",
            "Один из экспертов ИИИ Ирина Леовая писал:\n",
            "\n",
            "\n",
            "89 bert frequency\n",
            "Новый закон «О следственных полномочиях» позволяет государственному секретарю выдавать телекоммуникационным операторам «уведомления о технических характеристиках», устанавливая ряд обязательств.\n",
            "Новый закон «О следственных полномочиях» позволяет государственному секретарю выдавать телекоммуникационным операторам «уведомления о технических характеристиках», устанавливая ряд обязательств.\n",
            "\n",
            "Одно из таких обязательств, найденных в разделе (4) (с) статьи 217, относится к удалению «электронной защиты» при запросе:   Это означает, что при получении запроса телекоммуникационная компания должна удалить всё шифрование, чтобы обеспечить правительственным агентам доступ к любым каналам связи.\n",
            "Одно из таких обязательств, найденных в разделе (4) (с) статьи 217, относится к удалению «электронной защиты» при запросе:   Это означает, что при получении запроса телекоммуникационная компания должна использовать всё то, чтобы обеспечить правительственным агентам доступ к любым каналам связи.\n",
            "\n",
            "Это указывает на обязательство сохранять возможность доступа для сотрудников правоохранительных органов к зашифрованным устройствам и услугам, прекращая на этом законное использование шифрования end-to-end.\n",
            "Это указывает на обязательство сохранять возможность доступа для сотрудников правоохранительных органов к зашифрованным устройствам и услугам, прекращая на этом законное использование шифрования end-to-end.\n",
            "\n",
            "Действие решения относительно обхода шифрования проводится в рамках закона о следственных полномочиях, что позволяет осуществлять беспрецедентный надзор за гражданами Великобритании .\n",
            "Действие решения относительно обхода шифрования проводится в рамках закона о следственных полномочиях, что позволяет осуществлять государственный след за гражданами Великобритании .\n",
            "\n",
            "Вся интернет-активность клиента должна регистрироваться технологическими компаниями, такими как интернет-провайдеры, на срок в один год, и предоставляться правоохранительным органам по запросу, без судебного ордера.\n",
            "Вся интернет-активность клиента должна быть технологическими компаниями, такими как интернет-провайдеры, на срок в один год, и по правоохранительным органам по запросу, без судебного ордера.\n",
            "\n",
            "Это означает, что любая компания в Великобритании, имеющая доступ к средствам связи и информации, по закону обязана сделать эти данные открытыми для правоохранительных органов, когда они сочтут это необходимым, и ни одна компания не имеет право создавать технологию, которая препятствует сбору этих данных.\n",
            "Это означает, что любая компания в Великобритании, имеющая доступ к средствам связи и информации, по закону обязана сделать эти данные открытыми для правоохранительных органов, когда они сочтут это необходимым, и ни одна компания не имеет право создавать технологию, которая препятствует сбору этих данных.\n",
            "\n",
            "Это серьёзно ставит под сомнение конфиденциальность граждан Великобритании.\n",
            "Это серьёзно ставит под сомнение граждан граждан Великобритании.\n",
            "\n",
            "В ноябре 2016 года Великобритания приняла закон о слежке за абонентами, который некоторые средства массовой информации сравнивают с «пакетом Яровой», принятым в России в июле 2016.\n",
            "В ноябре 2016 года Великобритания приняла закон о слежке за абонентами, который некоторые средства массовой информации сравнивают с «пакетом Яровой», принятым в России в июле 2016.\n",
            "\n",
            "Он обязывает операторов связи хранить в течение года данные обо всех сайтах, посещаемых их пользователями, и услугах связи, которыми воспользовались их абоненты.\n",
            "Он обязывает операторов связи хранить в течение года данные обо всех сайтах, посещаемых их пользователями, и услугах связи, которыми воспользовались их абоненты.\n",
            "\n",
            "Он также получил одобрение британской королевы, то есть стал законом.\n",
            "Он также получил от британской королевы, то есть стал законом.\n",
            "\n",
            "Занимающая с июня 2016 года пост премьер-министра Великобритании Тереза Мэй, которую ещё иногда в прессе называют «британская Яровая» из-за её симпатии к законом о массовой слежке в Интернете, изначально выражала свою поддержку законопроекту «О следственных полномочиях».\n",
            "Занимающая с июня 2016 года пост премьер-министра Великобритании Тереза Мэй, которую ещё иногда в прессе называют «британская Яровая» из-за её симпатии к законом о массовой слежке в Интернете, также выражала свою поддержку законопроекту «О следственных полномочиях».\n",
            "\n",
            "В российской прессе практически сразу же этот закон стали сравнивать с «пакетом Яровой», а поддержавшие все инициативы по контролю над Интернетом в Государственной думе политики ссылались на точно такой же опыт «наших западных партнёров».\n",
            "В российской прессе практически сразу же этот закон стали рядом с «пакетом Яровой», а поддержавшие все инициативы по контролю над Интернетом в Государственной думе политики ссылались на точно такой же опыт «наших западных партнёров».\n",
            "\n",
            "Но Институт исследования интернета (ИИИ) сделал перевод закона, который имеет существенные различия от некоторых трактовок в российской прессе.\n",
            "Но Институт исследования интернета (ИИИ) сделал перевод закона, который имеет существенные различия от некоторых трактовок в российской прессе.\n",
            "\n",
            "Один из экспертов ИИИ Ирина Леовая объяснила:\n",
            "Один из экспертов ИИИ Ирина Леовая объяснила:\n",
            "\n",
            "\n",
            "89 synonym len\n",
            "Новый закон «О следственных полномочиях» позволяет государственному секретарю выдавать телекоммуникационным операторам «уведомления о технических характеристиках», устанавливая ряд обязательств.\n",
            "Новый закон «О следственных полномочиях» даёт государственному секретарю делать телекоммуникационным хирургам «нотиса о технических ярлыках», вводя ряд гко.\n",
            "\n",
            "Одно из таких обязательств, найденных в разделе (4) (с) статьи 217, относится к удалению «электронной защиты» при запросе:   Это означает, что при получении запроса телекоммуникационная компания должна удалить всё шифрование, чтобы обеспечить правительственным агентам доступ к любым каналам связи.\n",
            "Одно из таких гко, найденных в разделе (4) (с) статьи 217, ставит к уводу «электронной защиты» при запросе:   Это метит, что при сборе запроса телекоммуникационная компания должна удалить всё шифрование, чтобы оказать правительственным агентам доступ к любым каналам связи.\n",
            "\n",
            "Это указывает на обязательство сохранять возможность доступа для сотрудников правоохранительных органов к зашифрованным устройствам и услугам, прекращая на этом законное использование шифрования end-to-end.\n",
            "Это кивает на гко беречь возможность доступа для сотрудников правоохранительных органов к кодированным устройствам и услугам, рвя на этом законное расход шифрования end-to-end.\n",
            "\n",
            "Действие решения относительно обхода шифрования проводится в рамках закона о следственных полномочиях, что позволяет осуществлять беспрецедентный надзор за гражданами Великобритании .\n",
            "Акт решения про обхода шифрования проводится в рамках закона о следственных мандатах, что даёт нести небывалый надзор за мещанами Великобритании .\n",
            "\n",
            "Вся интернет-активность клиента должна регистрироваться технологическими компаниями, такими как интернет-провайдеры, на срок в один год, и предоставляться правоохранительным органам по запросу, без судебного ордера.\n",
            "Вся интернет-активность клиента должна регистрироваться технологическими компаниями, такими как интернет-провайдеры, на срок в один год, и предоставляться правоохранительным органам по запросу, без судебного ордера.\n",
            "\n",
            "Это означает, что любая компания в Великобритании, имеющая доступ к средствам связи и информации, по закону обязана сделать эти данные открытыми для правоохранительных органов, когда они сочтут это необходимым, и ни одна компания не имеет право создавать технологию, которая препятствует сбору этих данных.\n",
            "Это метит, что компаниямпания в Великобритании, имеющая доступ к средствам связи и инфо, по закону обязана сделать эти данные открытыми для правоохранительных органов, когда они сочтут это необходимым, и ни одна компания не имеет право сеять технологию, которая гадит сбору этих данных.\n",
            "\n",
            "Это серьёзно ставит под сомнение конфиденциальность граждан Великобритании.\n",
            "Это тяжко ставит под шатание тайность граждан Великобритании.\n",
            "\n",
            "В ноябре 2016 года Великобритания приняла закон о слежке за абонентами, который некоторые средства массовой информации сравнивают с «пакетом Яровой», принятым в России в июле 2016.\n",
            "В ноябре 2016 года Великобритания приняла закон о слежке за абонентами, который иные средства широкой инфо сравнивают с «пакетом Яровой», принятым в России в июле 2016.\n",
            "\n",
            "Он обязывает операторов связи хранить в течение года данные обо всех сайтах, посещаемых их пользователями, и услугах связи, которыми воспользовались их абоненты.\n",
            "Он обязывает хирургов связи хранить в течение года данные обо всех сайтах, идущих их юзерами, и услугах связи, которыми взяли их абоненты.\n",
            "\n",
            "Он также получил одобрение британской королевы, то есть стал законом.\n",
            "Он также снял хвалу британской королевы, то есть стал законом.\n",
            "\n",
            "Занимающая с июня 2016 года пост премьер-министра Великобритании Тереза Мэй, которую ещё иногда в прессе называют «британская Яровая» из-за её симпатии к законом о массовой слежке в Интернете, изначально выражала свою поддержку законопроекту «О следственных полномочиях».\n",
            "Берущая с июня 2016 года пост премьер-министра Великобритании Тереза Мэй, которую ещё иногда в прессе зовут «британская Яровая» из-за её симпатии к законом о широкой слежке в Интернете, вначале являла свою опору биллю «О следственных полномочиях».\n",
            "\n",
            "В российской прессе практически сразу же этот закон стали сравнивать с «пакетом Яровой», а поддержавшие все инициативы по контролю над Интернетом в Государственной думе политики ссылались на точно такой же опыт «наших западных партнёров».\n",
            "В российской прессе практически сразу же этот закон стали сравнивать с «пакетом Яровой», а помогшие все почина по отбору над Интернетом в Государственной думе политики ссылались на точно такой же опыт «наших западных партнёров».\n",
            "\n",
            "Но Институт исследования интернета (ИИИ) сделал перевод закона, который имеет существенные различия от некоторых трактовок в российской прессе.\n",
            "Но Институт исследования интернета (ИИИ) сделал перевод закона, который имеет важные нюансы от иных трактовок в российской прессе.\n",
            "\n",
            "Один из экспертов ИИИ Ирина Леовая объяснила:\n",
            "Один из экспертов ИИИ Ирина Леовая вбила:\n",
            "\n",
            "\n",
            "89 synonym frequency\n",
            "Новый закон «О следственных полномочиях» позволяет государственному секретарю выдавать телекоммуникационным операторам «уведомления о технических характеристиках», устанавливая ряд обязательств.\n",
            "Новый закон «О следственных полномочиях» позволяет государственному секретарю выдавать телекоммуникационным операторам «уведомления о технических характеристиках», устанавливая ряд обязательств.\n",
            "\n",
            "Одно из таких обязательств, найденных в разделе (4) (с) статьи 217, относится к удалению «электронной защиты» при запросе:   Это означает, что при получении запроса телекоммуникационная компания должна удалить всё шифрование, чтобы обеспечить правительственным агентам доступ к любым каналам связи.\n",
            "Одно из таких обязательств, найденных в разделе (4) (с) статьи 217, относится к удалению «электронной защиты» при запросе:   Это означает, что при получении запроса телекоммуникационная компания должна элиминировать всё зашифрование, чтобы обеспечить правительственным агентам доступ к любым каналам связи.\n",
            "\n",
            "Это указывает на обязательство сохранять возможность доступа для сотрудников правоохранительных органов к зашифрованным устройствам и услугам, прекращая на этом законное использование шифрования end-to-end.\n",
            "Это указывает на обязательство сохранять возможность доступа для сотрудников правоохранительных органов к зашифрованным устройствам и услугам, прекращая на этом законное использование шифрования end-to-end.\n",
            "\n",
            "Действие решения относительно обхода шифрования проводится в рамках закона о следственных полномочиях, что позволяет осуществлять беспрецедентный надзор за гражданами Великобритании .\n",
            "Действие решения относительно обхода шифрования проводится в рамках закона о следственных полномочиях, что позволяет осуществлять уникальный технадзор за гражданами Великобритании .\n",
            "\n",
            "Вся интернет-активность клиента должна регистрироваться технологическими компаниями, такими как интернет-провайдеры, на срок в один год, и предоставляться правоохранительным органам по запросу, без судебного ордера.\n",
            "Вся интернет-активность клиента должна регистрироваться технологическими компаниями, такими как интернет-провайдеры, на срок в один год, и предоставляться правоохранительным органам по запросу, без судебного ордера.\n",
            "\n",
            "Это означает, что любая компания в Великобритании, имеющая доступ к средствам связи и информации, по закону обязана сделать эти данные открытыми для правоохранительных органов, когда они сочтут это необходимым, и ни одна компания не имеет право создавать технологию, которая препятствует сбору этих данных.\n",
            "Это означает, что любая компания в Великобритании, имеющая доступ к средствам связи и информации, по закону обязана сделать эти данные открытыми для правоохранительных органов, когда они сочтут это необходимым, и ни одна компания не имеет право создавать технологию, которая препятствует сбору этих данных.\n",
            "\n",
            "Это серьёзно ставит под сомнение конфиденциальность граждан Великобритании.\n",
            "Это серьёзно ставит под сомнение засекреченность граждан Великобритании.\n",
            "\n",
            "В ноябре 2016 года Великобритания приняла закон о слежке за абонентами, который некоторые средства массовой информации сравнивают с «пакетом Яровой», принятым в России в июле 2016.\n",
            "В ноябре 2016 года Великобритания приняла закон о слежке за абонентами, который некоторые средства массовой информации сравнивают с «пакетом Яровой», принятым в России в июле 2016.\n",
            "\n",
            "Он обязывает операторов связи хранить в течение года данные обо всех сайтах, посещаемых их пользователями, и услугах связи, которыми воспользовались их абоненты.\n",
            "Он обязывает операторов связи хранить в течение года данные обо всех сайтах, посещаемых их пользователями, и услугах связи, которыми воспользовались их абоненты.\n",
            "\n",
            "Он также получил одобрение британской королевы, то есть стал законом.\n",
            "Он также получил санкционирование британской королевы, то есть стал законом.\n",
            "\n",
            "Занимающая с июня 2016 года пост премьер-министра Великобритании Тереза Мэй, которую ещё иногда в прессе называют «британская Яровая» из-за её симпатии к законом о массовой слежке в Интернете, изначально выражала свою поддержку законопроекту «О следственных полномочиях».\n",
            "Занимающая с июня 2016 года пост премьер-министра Великобритании Тереза Мэй, которую ещё иногда в прессе называют «британская Яровая» из-за её симпатии к законом о массовой слежке в Интернете, сначала выражала свою поддержку законопроекту «О следственных полномочиях».\n",
            "\n",
            "В российской прессе практически сразу же этот закон стали сравнивать с «пакетом Яровой», а поддержавшие все инициативы по контролю над Интернетом в Государственной думе политики ссылались на точно такой же опыт «наших западных партнёров».\n",
            "В российской прессе практически сразу же этот закон стали сравнивать с «пакетом Яровой», а поддержавшие все инициативы по контролю над Интернетом в Государственной думе политики ссылались на точно такой же опыт «наших западных партнёров».\n",
            "\n",
            "Но Институт исследования интернета (ИИИ) сделал перевод закона, который имеет существенные различия от некоторых трактовок в российской прессе.\n",
            "Но Институт исследования интернета (ИИИ) сделал перевод закона, который имеет существенные различия от некоторых трактовок в российской прессе.\n",
            "\n",
            "Один из экспертов ИИИ Ирина Леовая объяснила:\n",
            "Один из экспертов ИИИ Ирина Леовая объяснила:\n",
            "\n",
            "\n",
            "90 bert len\n",
            "Звезда экрана и множества скандалов Мел Гибсон, судя по всему, договорился с бывшей подругой Оксаной Григорьевой об имущественном урегулировании и совместном воспитании общего ребенка.\n",
            "Звезда экрана и звезда скандалов Мел Гибсон, судя по всему, договорился с бывшей подругой Оксаной Григорьевой об их семье и о виде общего ребенка.\n",
            "\n",
            "Об этом городской суд Лос-Анджелеса сообщил в конце прошлой недели.\n",
            "Об этом городской суд Лос-Анджелеса . в конце прошлой недели.\n",
            "\n",
            "Точные условия объявлены не были, кроме того, что финансовая часть соглашения должна быть подписана в среду.\n",
            "Точные условия должны не были, кроме того, что большая часть не должна быть включена в среду.\n",
            "\n",
            "Вопрос о совместном воспитании дочери, по поводу которого Григорьева предъявила Гибсону иск с уголовными обвинениями, будет решен в закрытом заседании.\n",
            "Вопрос о первом брак дочери, по поводу которого Григорьева дал Гибсону иск с другими суда, будет решен в первом виде.\n",
            "\n",
            "Пресс-агент Гибсона подтвердил эту информацию, отметив, что актер-режиссер высоко оценивает помощь судьи в урегулировании спора.\n",
            "Пресс-агент Гибсона получил эту позицию, том, что актер-режиссер высоко на помощь судьи в области спора.\n",
            "\n",
            "Представитель Григорьевой отказался от комментариев по этому поводу.\n",
            "Представитель Григорьевой от от связи по этому поводу.\n",
            "\n",
            "СМИ напоминают, что тяжба между Гибсоном и Григорьевой продолжалась больше года.\n",
            "СМИ считают, что тяжба между Гибсоном и Григорьевой началась больше года.\n",
            "\n",
            "Сведений о ходе дела просачивалось не много, что давало обильную пищу для догадок и предположений.\n",
            "Так о ходе дела дела не много, что давало ему пищу для догадок и т.\n",
            "\n",
            "В июне 2010 года адвокат Гибсона Стивен Колодни заявил, что его подзащитный предоставил своей бывшей подруге 4-комнатное жилье стоимостью несколько миллионов, автомашину и ежемесячное денежное довольствие в несколько тысяч долларов.\n",
            "В июне 2010 года адвокат Гибсона Стивен Колодни заявил, что его муж для своей бывшей подруге 4-комнатное жилье в несколько миллионов, но и его их состояние в несколько тысяч долларов.\n",
            "\n",
            "За полгода до этого Григорьева обвинила Гибсона в причинении побоев.\n",
            "За полгода до этого Григорьева против Гибсона в причинении побоев.\n",
            "\n",
            "Судья обязал кинозвезду пройти обязательный курс лечения у психотерапевта и отработать определенное время на добровольных началах в благотворительном проекте.\n",
            "Судья обязал кинозвезду пройти второй курс лечения у психотерапевта и провести своё время на всех началах в этом проекте.\n",
            "\n",
            "55-летний Гибсон сделал это в детском доме в Гватемале.\n",
            "55-летний Гибсон сделал это в детском доме в Гватемале.\n",
            "\n",
            "\n",
            "90 bert frequency\n",
            "Звезда экрана и множества скандалов Мел Гибсон, судя по всему, договорился с бывшей подругой Оксаной Григорьевой об имущественном урегулировании и совместном воспитании общего ребенка.\n",
            "Звезда экрана и множества скандалов Мел Гибсон, судя по всему, договорился с бывшей подругой Оксаной Григорьевой об имущественном урегулировании и совместном воспитании общего ребенка.\n",
            "\n",
            "Об этом городской суд Лос-Анджелеса сообщил в конце прошлой недели.\n",
            "Об этом городской суд Лос-Анджелеса сообщил в конце прошлой недели.\n",
            "\n",
            "Точные условия объявлены не были, кроме того, что финансовая часть соглашения должна быть подписана в среду.\n",
            "Точные условия объявлены не были, кроме того, что финансовая часть соглашения должна быть подписана в среду.\n",
            "\n",
            "Вопрос о совместном воспитании дочери, по поводу которого Григорьева предъявила Гибсону иск с уголовными обвинениями, будет решен в закрытом заседании.\n",
            "Вопрос о совместном воспитании дочери, по поводу которого Григорьева предъявила Гибсону иск с уголовными обвинениями, будет решен в закрытом заседании.\n",
            "\n",
            "Пресс-агент Гибсона подтвердил эту информацию, отметив, что актер-режиссер высоко оценивает помощь судьи в урегулировании спора.\n",
            "Пресс-агент Гибсона подтвердил эту информацию, отметив, что актер-режиссер высоко оценивает помощь судьи в урегулировании спора.\n",
            "\n",
            "Представитель Григорьевой отказался от комментариев по этому поводу.\n",
            "Представитель Григорьевой отказался от комментариев по этому поводу.\n",
            "\n",
            "СМИ напоминают, что тяжба между Гибсоном и Григорьевой продолжалась больше года.\n",
            "СМИ напоминают, что тяжба между Гибсоном и Григорьевой продолжалась больше года.\n",
            "\n",
            "Сведений о ходе дела просачивалось не много, что давало обильную пищу для догадок и предположений.\n",
            "Сведений о ходе дела просачивалось не много, что давало обильную пищу для догадок и предположений.\n",
            "\n",
            "В июне 2010 года адвокат Гибсона Стивен Колодни заявил, что его подзащитный предоставил своей бывшей подруге 4-комнатное жилье стоимостью несколько миллионов, автомашину и ежемесячное денежное довольствие в несколько тысяч долларов.\n",
            "В июне 2010 года адвокат Гибсона Стивен Колодни заявил, что его муж предоставил своей бывшей подруге 4-комнатное жилье стоимостью несколько миллионов, автомашину и ежемесячное денежное состояние в несколько тысяч долларов.\n",
            "\n",
            "За полгода до этого Григорьева обвинила Гибсона в причинении побоев.\n",
            "За полгода до этого Григорьева обвинила Гибсона в причинении побоев.\n",
            "\n",
            "Судья обязал кинозвезду пройти обязательный курс лечения у психотерапевта и отработать определенное время на добровольных началах в благотворительном проекте.\n",
            "Судья обязал кинозвезду пройти обязательный курс лечения у психотерапевта и провести определенное время на добровольных началах в благотворительном проекте.\n",
            "\n",
            "55-летний Гибсон сделал это в детском доме в Гватемале.\n",
            "55-летний Гибсон сделал это в детском доме в Гватемале.\n",
            "\n",
            "\n",
            "90 synonym len\n",
            "Звезда экрана и множества скандалов Мел Гибсон, судя по всему, договорился с бывшей подругой Оксаной Григорьевой об имущественном урегулировании и совместном воспитании общего ребенка.\n",
            "Звезда экрана и множества скандалов Мел Гибсон, судя по всему, договорился с бывшей подругой Оксаной Григорьевой об имущественном решении и общем воспитании общего ребенка.\n",
            "\n",
            "Об этом городской суд Лос-Анджелеса сообщил в конце прошлой недели.\n",
            "Об этом городской суд Лос-Анджелеса изрёк в конце прошлой недели.\n",
            "\n",
            "Точные условия объявлены не были, кроме того, что финансовая часть соглашения должна быть подписана в среду.\n",
            "Точные условия наречённые не были, кроме того, что денежная часть акта должна быть подписана в среду.\n",
            "\n",
            "Вопрос о совместном воспитании дочери, по поводу которого Григорьева предъявила Гибсону иск с уголовными обвинениями, будет решен в закрытом заседании.\n",
            "Вопрос о общем воспитании дочери, по поводу которого Григорьева предъявила Гибсону иск с уголовными исками, будет решен в закрытом съезде.\n",
            "\n",
            "Пресс-агент Гибсона подтвердил эту информацию, отметив, что актер-режиссер высоко оценивает помощь судьи в урегулировании спора.\n",
            "Пресс-агент Гибсона указал эту инфо, обмыв, что актер-режиссер высоко ценит помощь судьи в решении спора.\n",
            "\n",
            "Представитель Григорьевой отказался от комментариев по этому поводу.\n",
            "Представитель Григорьевой отдал от отзывов по этому поводу.\n",
            "\n",
            "СМИ напоминают, что тяжба между Гибсоном и Григорьевой продолжалась больше года.\n",
            "СМИ тычут, что тяжба между Гибсоном и Григорьевой длилась больше года.\n",
            "\n",
            "Сведений о ходе дела просачивалось не много, что давало обильную пищу для догадок и предположений.\n",
            "Сводов о ходе дела стекало не много, что давало буйную пищу для догадок и планов.\n",
            "\n",
            "В июне 2010 года адвокат Гибсона Стивен Колодни заявил, что его подзащитный предоставил своей бывшей подруге 4-комнатное жилье стоимостью несколько миллионов, автомашину и ежемесячное денежное довольствие в несколько тысяч долларов.\n",
            "В июне 2010 года адвокат Гибсона Стивен Колодни заявил, что его подзащитный дал своей бывшей подруге 4-комнатное жилье курсом несколько миллионов, авто и месячное денежное питание в несколько тысяч долларов.\n",
            "\n",
            "За полгода до этого Григорьева обвинила Гибсона в причинении побоев.\n",
            "За полгода до этого Григорьева уличила Гибсона в причинении побоев.\n",
            "\n",
            "Судья обязал кинозвезду пройти обязательный курс лечения у психотерапевта и отработать определенное время на добровольных началах в благотворительном проекте.\n",
            "Судья обязал кинозвезду пройти вечный курс лечения у психотерапевта и освоить определённое время на добровольных началах в благотворительном проекте.\n",
            "\n",
            "55-летний Гибсон сделал это в детском доме в Гватемале.\n",
            "55-летний Гибсон сделал это в детском доме в Гватемале.\n",
            "\n",
            "\n",
            "90 synonym frequency\n",
            "Звезда экрана и множества скандалов Мел Гибсон, судя по всему, договорился с бывшей подругой Оксаной Григорьевой об имущественном урегулировании и совместном воспитании общего ребенка.\n",
            "Звезда экрана и множества скандалов Мел Гибсон, судя по всему, договорился с бывшей подругой Оксаной Григорьевой об имущественном урегулировании и совместном воспитании общего ребенка.\n",
            "\n",
            "Об этом городской суд Лос-Анджелеса сообщил в конце прошлой недели.\n",
            "Об этом городской суд Лос-Анджелеса сообщил в конце прошлой недели.\n",
            "\n",
            "Точные условия объявлены не были, кроме того, что финансовая часть соглашения должна быть подписана в среду.\n",
            "Точные условия объявлены не были, кроме того, что финансовая часть соглашения должна быть подписана в среду.\n",
            "\n",
            "Вопрос о совместном воспитании дочери, по поводу которого Григорьева предъявила Гибсону иск с уголовными обвинениями, будет решен в закрытом заседании.\n",
            "Вопрос о совместном воспитании дочери, по поводу которого Григорьева предъявила Гибсону иск с уголовными обвинениями, будет решен в закрытом заседании.\n",
            "\n",
            "Пресс-агент Гибсона подтвердил эту информацию, отметив, что актер-режиссер высоко оценивает помощь судьи в урегулировании спора.\n",
            "Пресс-агент Гибсона подтвердил эту информацию, отметив, что актер-режиссер высоко оценивает помощь судьи в урегулировании спора.\n",
            "\n",
            "Представитель Григорьевой отказался от комментариев по этому поводу.\n",
            "Представитель Григорьевой отказался от комментариев по этому поводу.\n",
            "\n",
            "СМИ напоминают, что тяжба между Гибсоном и Григорьевой продолжалась больше года.\n",
            "СМИ напоминают, что тяжба между Гибсоном и Григорьевой продолжалась больше года.\n",
            "\n",
            "Сведений о ходе дела просачивалось не много, что давало обильную пищу для догадок и предположений.\n",
            "Сведений о ходе дела просачивалось не много, что давало обильную пищу для догадок и предположений.\n",
            "\n",
            "В июне 2010 года адвокат Гибсона Стивен Колодни заявил, что его подзащитный предоставил своей бывшей подруге 4-комнатное жилье стоимостью несколько миллионов, автомашину и ежемесячное денежное довольствие в несколько тысяч долларов.\n",
            "В июне 2010 года адвокат Гибсона Стивен Колодни заявил, что его подзащитный предоставил своей бывшей подруге 4-комнатное жилье стоимостью несколько миллионов, автомашину и ежемесячное денежное содержание в несколько тысяч долларов.\n",
            "\n",
            "За полгода до этого Григорьева обвинила Гибсона в причинении побоев.\n",
            "За полгода до этого Григорьева обвинила Гибсона в причинении побоев.\n",
            "\n",
            "Судья обязал кинозвезду пройти обязательный курс лечения у психотерапевта и отработать определенное время на добровольных началах в благотворительном проекте.\n",
            "Судья обязал кинозвезду пройти обязательный курс лечения у психотерапевта и выполнить определенное время на добровольных началах в благотворительном проекте.\n",
            "\n",
            "55-летний Гибсон сделал это в детском доме в Гватемале.\n",
            "55-летний Гибсон сделал это в детском доме в Гватемале.\n",
            "\n",
            "\n",
            "91 bert len\n",
            "В день четырёхлетия принятия закона об однополом браке в Аргентине — 15 июля 2014 года, в Буэнос-Айресе две российские лесбиянки — Марина Миронова и Оксана Тимофеева, воспитывающие 16-летноего сына, поженились и пропросили политического убежища в этой стране.\n",
            "В день четырёхлетия принятия закона об однополом браке в Аргентине — 15 июля 2014 года, в Буэнос-Айресе две российские женщины — Марина Миронова и Оксана Тимофеева, их 16-летноего сына, поженились и пропросили политического убежища в этой стране.\n",
            "\n",
            "Об этом ообщает агентство EFE со ссылкой на Федерацию лесбиянок, геев, бисексуалов и транссексуалов Аргентины (FALGBT).\n",
            "Об этом об EF EFE со ссылкой на Федерацию лесбиянок, геев, бисексуалов и транссексуалов Аргентины (FALGBT).\n",
            "\n",
            "Через четыре года после принятия закона об однополом браке в Аргентине, две русские женщины женились в Буэнос-Айресе, 15 июля 2014 года.\n",
            "Через четыре года после принятия закона об однополом браке в Аргентине, две русские женщины женились в Буэнос-Айресе, 15 июля 2014 года.\n",
            "\n",
            "Источник видео.\n",
            "и видео.\n",
            "\n",
            "Женщины заявили, что дата совпала случайно, а их выбор пал на Аргентину, так как они хотят жить «свободно и в безопасности», и эта страна может предоставить им такую возможность.\n",
            "Женщины заявили, что дата дата ##ст, а их выбор пал на Аргентину, так как они хотят жить «в и в ##ечно», и эта страна может иметь им такую дата.\n",
            "\n",
            "Вице-президент FALGBT Клаудия Кастросин Верду, ставшая свидетелем на свадьбе, пояснила, что пара искала помощи у аргентинской федерации, страдая от преследований гомосексуалистов в России, начавшихся в конце 2012 года, после принятия закона о запрете пропаганды гомосексуализма среди несовершеннолетних: У них есть 16-летний сын, которого они не хотят потерять.\n",
            "Вице-президент FALGBT Клаудия Кастросин Верду, ставшая ##ся на свадьбе, заявил, что пара искала помощи у аргентинской полиции, а от политики действий в России, а в конце 2012 года, после издания закона о запрете пропаганды гомосексуализма среди несовершеннолетних: У них есть 16-летний сын, которого они не хотят иметь.\n",
            "\n",
            "Кастросин Верду также выразила обеспокоенность ущемлением в России прав сексуальных меньшинств.\n",
            "Кастросин Верду также назвал с России в России прав ##ых прав.\n",
            "\n",
            "Женщины 38 и 36 лет приехали в Аргентину месяц назад после того, как узнали о якобы готовящемся законе, по которому у однополых пар смогут отбирать детей.\n",
            "Женщины 38 и 36 лет вошли в Аргентину месяц назад после того, как узнали о якобы ##м законе, по которому у детей пар смогут иметь детей.\n",
            "\n",
            "СМИ отмечают, что они фактически бежали из России в Аргентину, не зная в должной мере ни английского ни испанского языка.\n",
            "СМИ считают, что они не бежали из России в Аргентину, не зная в должной мере ни английского ни испанского языка.\n",
            "\n",
            "Марина Миронова (мать 16-летнего парня) также сообщила изданию Télam, что в России она работала учителем и была уволена, после того как в школе узнали о том, что она живёт с женщиной.\n",
            "Марина Миронова (мать 16-летнего парня) также по изданию Télam, что в России она была учителем и была уволена, после того как в школе узнали о том, что она живёт с женщиной.\n",
            "\n",
            "С конца 2012 года, когда в России был принят «антигейский» закон, давление на лиц «нетрадиционной» ориентации только усиливается.\n",
            "С конца 2012 года, когда в России был принят «антигейский» закон, влияние на лиц «большой» не только лица.\n",
            "\n",
            "Им запрещают проводить акции и шествия в защиту своих прав.  Дикторы российского телевидения допускают оскорбительные и провокационные высказывания в адрес ЛГБТ-сообщества, предлагая сжигать в печах «сердца геев» и их самих.\n",
            "Им могут ##ся акции и шествия в защиту своих прав.  Дикторы российского телевидения - такие и другие передачи в адрес участников, чтобы сжигать в печах «сердца геев» и их самих.\n",
            "\n",
            "В сентябре 2013 года депутат Госдумы РФ от Единой России, председатель политической партии «Родина» Алексей Журавлёв выступил инициатором законопроекта о лишении родительских прав лиц нетрадиционной сексуальной ориентации.\n",
            "В сентябре 2013 года депутат Госдумы РФ от Единой России, председатель политической партии «Родина» Алексей Журавлёв стал против законопроекта о лишении родительских прав лиц нетрадиционной сексуальной ориентации.\n",
            "\n",
            "Докладчик ПАСЕ по правам ЛГБТ Х. Хаугли расценил эту инициативу как проявление гомофобной пропаганды, противоречащее международным обязательствам России.\n",
            "Докладчик ПАСЕ по правам ЛГБТ Х. Хаугли назвал эту позицию как часть гомофобной группы, к к права России.\n",
            "\n",
            "\n",
            "91 bert frequency\n",
            "В день четырёхлетия принятия закона об однополом браке в Аргентине — 15 июля 2014 года, в Буэнос-Айресе две российские лесбиянки — Марина Миронова и Оксана Тимофеева, воспитывающие 16-летноего сына, поженились и пропросили политического убежища в этой стране.\n",
            "В день четырёхлетия принятия закона об однополом браке в Аргентине — 15 июля 2014 года, в Буэнос-Айресе две российские лесбиянки — Марина Миронова и Оксана Тимофеева, воспитывающие 16-летноего сына, поженились и пропросили политического убежища в этой стране.\n",
            "\n",
            "Об этом ообщает агентство EFE со ссылкой на Федерацию лесбиянок, геев, бисексуалов и транссексуалов Аргентины (FALGBT).\n",
            "Об этом ообщает агентство EFE со ссылкой на Федерацию лесбиянок, геев, бисексуалов и транссексуалов Аргентины (FALGBT).\n",
            "\n",
            "Через четыре года после принятия закона об однополом браке в Аргентине, две русские женщины женились в Буэнос-Айресе, 15 июля 2014 года.\n",
            "Через четыре года после принятия закона об однополом браке в Аргентине, две русские женщины женились в Буэнос-Айресе, 15 июля 2014 года.\n",
            "\n",
            "Источник видео.\n",
            "Источник ..\n",
            "\n",
            "Женщины заявили, что дата совпала случайно, а их выбор пал на Аргентину, так как они хотят жить «свободно и в безопасности», и эта страна может предоставить им такую возможность.\n",
            "Женщины заявили, что дата сов##сема случайно, а их выбор пал на Аргентину, так как они хотят жить «свободно и в безопасности», и эта страна может предоставить им такую возможность.\n",
            "\n",
            "Вице-президент FALGBT Клаудия Кастросин Верду, ставшая свидетелем на свадьбе, пояснила, что пара искала помощи у аргентинской федерации, страдая от преследований гомосексуалистов в России, начавшихся в конце 2012 года, после принятия закона о запрете пропаганды гомосексуализма среди несовершеннолетних: У них есть 16-летний сын, которого они не хотят потерять.\n",
            "Вице-президент FALGBT Клаудия Кастросин Верду, ставшая свидетелем на свадьбе, пояснила, что пара искала помощи у аргентинской федерации, страдая от преследований гомосексуалистов в России, начавшихся в конце 2012 года, после принятия закона о запрете пропаганды гомосексуализма среди несовершеннолетних: У них есть 16-летний сын, которого они не хотят потерять.\n",
            "\n",
            "Кастросин Верду также выразила обеспокоенность ущемлением в России прав сексуальных меньшинств.\n",
            "Кастросин Верду также выразила с ущемлением в России прав сексуальных меньшинств.\n",
            "\n",
            "Женщины 38 и 36 лет приехали в Аргентину месяц назад после того, как узнали о якобы готовящемся законе, по которому у однополых пар смогут отбирать детей.\n",
            "Женщины 38 и 36 лет приехали в Аргентину месяц назад после того, как узнали о якобы готовящемся законе, по которому у однополых пар смогут иметь детей.\n",
            "\n",
            "СМИ отмечают, что они фактически бежали из России в Аргентину, не зная в должной мере ни английского ни испанского языка.\n",
            "СМИ отмечают, что они фактически бежали из России в Аргентину, не зная в должной мере ни английского ни испанского языка.\n",
            "\n",
            "Марина Миронова (мать 16-летнего парня) также сообщила изданию Télam, что в России она работала учителем и была уволена, после того как в школе узнали о том, что она живёт с женщиной.\n",
            "Марина Миронова (мать 16-летнего парня) также сообщила изданию Télam, что в России она работала учителем и была уволена, после того как в школе узнали о том, что она живёт с женщиной.\n",
            "\n",
            "С конца 2012 года, когда в России был принят «антигейский» закон, давление на лиц «нетрадиционной» ориентации только усиливается.\n",
            "С конца 2012 года, когда в России был принят «антигейский» закон, давление на лиц «нетрадиционной» ориентации только усиливается.\n",
            "\n",
            "Им запрещают проводить акции и шествия в защиту своих прав.  Дикторы российского телевидения допускают оскорбительные и провокационные высказывания в адрес ЛГБТ-сообщества, предлагая сжигать в печах «сердца геев» и их самих.\n",
            "Им запрещают проводить акции и шествия в защиту своих прав.  Дикторы российского телевидения допускают оскорбительные и провокационные высказывания в адрес ЛГБТ-сообщества, предлагая им в печах «сердца геев» и их самих.\n",
            "\n",
            "В сентябре 2013 года депутат Госдумы РФ от Единой России, председатель политической партии «Родина» Алексей Журавлёв выступил инициатором законопроекта о лишении родительских прав лиц нетрадиционной сексуальной ориентации.\n",
            "В сентябре 2013 года депутат Госдумы РФ от Единой России, председатель политической партии «Родина» Алексей Журавлёв выступил инициатором законопроекта о лишении родительских прав лиц нетрадиционной сексуальной ориентации.\n",
            "\n",
            "Докладчик ПАСЕ по правам ЛГБТ Х. Хаугли расценил эту инициативу как проявление гомофобной пропаганды, противоречащее международным обязательствам России.\n",
            "Докладчик ПАСЕ по правам ЛГБТ Х. Хаугли расценил эту инициативу как проявление гомофобной пропаганды, противоречащее международным обязательствам России.\n",
            "\n",
            "\n",
            "91 synonym len\n",
            "В день четырёхлетия принятия закона об однополом браке в Аргентине — 15 июля 2014 года, в Буэнос-Айресе две российские лесбиянки — Марина Миронова и Оксана Тимофеева, воспитывающие 16-летноего сына, поженились и пропросили политического убежища в этой стране.\n",
            "В день четырёхлетия принятия закона об однополом браке в Аргентине — 15 июля 2014 года, в Буэнос-Айресе две российские лесбиянки — Марина Миронова и Оксана Тимофеева, воспитывающие 16-летноего сына, поженились и пропросили политического убежища в этой стране.\n",
            "\n",
            "Об этом ообщает агентство EFE со ссылкой на Федерацию лесбиянок, геев, бисексуалов и транссексуалов Аргентины (FALGBT).\n",
            "Об этом ообщает агенство EFE со ссылкой на Федерацию лесбиянок, геев, бисексуалов и транссексуалов Аргентины (FALGBT).\n",
            "\n",
            "Через четыре года после принятия закона об однополом браке в Аргентине, две русские женщины женились в Буэнос-Айресе, 15 июля 2014 года.\n",
            "Через четыре года после принятия закона об однополом браке в Аргентине, две русские женщины женились в Буэнос-Айресе, 15 июля 2014 года.\n",
            "\n",
            "Источник видео.\n",
            "Источник видео.\n",
            "\n",
            "Женщины заявили, что дата совпала случайно, а их выбор пал на Аргентину, так как они хотят жить «свободно и в безопасности», и эта страна может предоставить им такую возможность.\n",
            "Женщины заявили, что дата совпала случайно, а их выбор пал на Аргентину, так как они хотят жить «свободно и в защиты», и эта страна может дать им такую возможность.\n",
            "\n",
            "Вице-президент FALGBT Клаудия Кастросин Верду, ставшая свидетелем на свадьбе, пояснила, что пара искала помощи у аргентинской федерации, страдая от преследований гомосексуалистов в России, начавшихся в конце 2012 года, после принятия закона о запрете пропаганды гомосексуализма среди несовершеннолетних: У них есть 16-летний сын, которого они не хотят потерять.\n",
            "Вице-президент FALGBT Клаудия Кастросин Верду, ставшая свидетелем на свадьбе, вбила, что пара искала помощи у аргентинской федерации, болея от преследований гей в России, пришедших в конце 2012 года, после питья закона о запрете пропаганды гомосексуализма среди несовершеннолетних: У них есть 16-летний сын, которого они не хотят лишить.\n",
            "\n",
            "Кастросин Верду также выразила обеспокоенность ущемлением в России прав сексуальных меньшинств.\n",
            "Кастросин Верду также явила смуту умалением в России прав сексуальных меньшинств.\n",
            "\n",
            "Женщины 38 и 36 лет приехали в Аргентину месяц назад после того, как узнали о якобы готовящемся законе, по которому у однополых пар смогут отбирать детей.\n",
            "Женщины 38 и 36 лет пошли в Аргентину месяц назад после того, как узнали о якобы учащемся законе, по которому у однополых пар смогут лишать детей.\n",
            "\n",
            "СМИ отмечают, что они фактически бежали из России в Аргентину, не зная в должной мере ни английского ни испанского языка.\n",
            "СМИ метят, что они фактически бежали из России в Аргентину, не зная в должной мере ни английского ни испанского языка.\n",
            "\n",
            "Марина Миронова (мать 16-летнего парня) также сообщила изданию Télam, что в России она работала учителем и была уволена, после того как в школе узнали о том, что она живёт с женщиной.\n",
            "Марина Миронова (мать 16-летнего парня) также изрекла изданию Télam, что в России она делала учителем и была уволена, после того как в школе узнали о том, что она живёт с женщиной.\n",
            "\n",
            "С конца 2012 года, когда в России был принят «антигейский» закон, давление на лиц «нетрадиционной» ориентации только усиливается.\n",
            "С конца 2012 года, когда в России был принят «антигейский» закон, иго на лиц «особой» хода только растёт.\n",
            "\n",
            "Им запрещают проводить акции и шествия в защиту своих прав.  Дикторы российского телевидения допускают оскорбительные и провокационные высказывания в адрес ЛГБТ-сообщества, предлагая сжигать в печах «сердца геев» и их самих.\n",
            "Им запрещают жить акции и шествия в защиту своих прав.  Дикторы российского телевидения мнят оскорбительные и провокационные фразы в адрес Лгбт-сообщества, давая сжигать в печах «сердца геев» и их самих.\n",
            "\n",
            "В сентябре 2013 года депутат Госдумы РФ от Единой России, председатель политической партии «Родина» Алексей Журавлёв выступил инициатором законопроекта о лишении родительских прав лиц нетрадиционной сексуальной ориентации.\n",
            "В сентябре 2013 года депутат Госдумы РФ от Единой России, председатель политической партии «Родина» Алексей Журавлёв вышел инициатором законопроекта о лишении родительских прав лиц нетрадиционной сексуальной ориентации.\n",
            "\n",
            "Докладчик ПАСЕ по правам ЛГБТ Х. Хаугли расценил эту инициативу как проявление гомофобной пропаганды, противоречащее международным обязательствам России.\n",
            "Докладчик ПАСЕ по правам ЛГБТ Х. Хаугли понял эту почин как намёк гомофобной лозунга, противоречащее мировым гко России.\n",
            "\n",
            "\n",
            "91 synonym frequency\n",
            "В день четырёхлетия принятия закона об однополом браке в Аргентине — 15 июля 2014 года, в Буэнос-Айресе две российские лесбиянки — Марина Миронова и Оксана Тимофеева, воспитывающие 16-летноего сына, поженились и пропросили политического убежища в этой стране.\n",
            "В день четырёхлетия принятия закона об однополом браке в Аргентине — 15 июля 2014 года, в Буэнос-Айресе две российские лесбиянки — Марина Миронова и Оксана Тимофеева, воспитывающие 16-летноего сына, поженились и пропросили политического убежища в этой стране.\n",
            "\n",
            "Об этом ообщает агентство EFE со ссылкой на Федерацию лесбиянок, геев, бисексуалов и транссексуалов Аргентины (FALGBT).\n",
            "Об этом ообщает агентство EFE со ссылкой на Федерацию лесбиянок, геев, бисексуалов и транссексуалов Аргентины (FALGBT).\n",
            "\n",
            "Через четыре года после принятия закона об однополом браке в Аргентине, две русские женщины женились в Буэнос-Айресе, 15 июля 2014 года.\n",
            "Через четыре года после принятия закона об однополом браке в Аргентине, две русские женщины женились в Буэнос-Айресе, 15 июля 2014 года.\n",
            "\n",
            "Источник видео.\n",
            "Источник видео.\n",
            "\n",
            "Женщины заявили, что дата совпала случайно, а их выбор пал на Аргентину, так как они хотят жить «свободно и в безопасности», и эта страна может предоставить им такую возможность.\n",
            "Женщины заявили, что дата совпала случайно, а их выбор пал на Аргентину, так как они хотят жить «свободно и в безопасности», и эта страна может предоставить им такую возможность.\n",
            "\n",
            "Вице-президент FALGBT Клаудия Кастросин Верду, ставшая свидетелем на свадьбе, пояснила, что пара искала помощи у аргентинской федерации, страдая от преследований гомосексуалистов в России, начавшихся в конце 2012 года, после принятия закона о запрете пропаганды гомосексуализма среди несовершеннолетних: У них есть 16-летний сын, которого они не хотят потерять.\n",
            "Вице-президент FALGBT Клаудия Кастросин Верду, ставшая свидетелем на свадьбе, пояснила, что пара искала помощи у аргентинской федерации, страдая от преследований гомосексуалистов в России, начавшихся в конце 2012 года, после принятия закона о запрете пропаганды гомосексуализма среди несовершеннолетних: У них есть 16-летний сын, которого они не хотят потерять.\n",
            "\n",
            "Кастросин Верду также выразила обеспокоенность ущемлением в России прав сексуальных меньшинств.\n",
            "Кастросин Верду также выразила встревоженность ущемлением в России прав сексуальных меньшинств.\n",
            "\n",
            "Женщины 38 и 36 лет приехали в Аргентину месяц назад после того, как узнали о якобы готовящемся законе, по которому у однополых пар смогут отбирать детей.\n",
            "Женщины 38 и 36 лет приехали в Аргентину месяц назад после того, как узнали о якобы готовящемся законе, по которому у однополых пар смогут тщательно выбирать детей.\n",
            "\n",
            "СМИ отмечают, что они фактически бежали из России в Аргентину, не зная в должной мере ни английского ни испанского языка.\n",
            "СМИ отмечают, что они фактически бежали из России в Аргентину, не зная в должной мере ни английского ни испанского языка.\n",
            "\n",
            "Марина Миронова (мать 16-летнего парня) также сообщила изданию Télam, что в России она работала учителем и была уволена, после того как в школе узнали о том, что она живёт с женщиной.\n",
            "Марина Миронова (мать 16-летнего парня) также сообщила изданию Télam, что в России она работала учителем и была уволена, после того как в школе узнали о том, что она живёт с женщиной.\n",
            "\n",
            "С конца 2012 года, когда в России был принят «антигейский» закон, давление на лиц «нетрадиционной» ориентации только усиливается.\n",
            "С конца 2012 года, когда в России был принят «антигейский» закон, давление на лиц «нетрадиционной» ориентации только усиливается.\n",
            "\n",
            "Им запрещают проводить акции и шествия в защиту своих прав.  Дикторы российского телевидения допускают оскорбительные и провокационные высказывания в адрес ЛГБТ-сообщества, предлагая сжигать в печах «сердца геев» и их самих.\n",
            "Им запрещают проводить акции и шествия в защиту своих прав.  Дикторы российского телевидения допускают оскорбительные и провокационные высказывания в адрес ЛГБТ-сообщества, предлагая сжигать в печах «сердца геев» и их самих.\n",
            "\n",
            "В сентябре 2013 года депутат Госдумы РФ от Единой России, председатель политической партии «Родина» Алексей Журавлёв выступил инициатором законопроекта о лишении родительских прав лиц нетрадиционной сексуальной ориентации.\n",
            "В сентябре 2013 года депутат Госдумы РФ от Единой России, председатель политической партии «Родина» Алексей Журавлёв выступил инициатором законопроекта о лишении родительских прав лиц нетрадиционной сексуальной ориентации.\n",
            "\n",
            "Докладчик ПАСЕ по правам ЛГБТ Х. Хаугли расценил эту инициативу как проявление гомофобной пропаганды, противоречащее международным обязательствам России.\n",
            "Докладчик ПАСЕ по правам ЛГБТ Х. Хаугли расценил эту инициативу как проявление гомофобной пропаганды, противоречащее международным обязательствам России.\n",
            "\n",
            "\n",
            "92 bert len\n",
            "Президент России Дмитрий Медведев освободил генерал-полковника полиции Михаила Суходольского от должности начальника Главного управления МВД России по Санкт-Петербургу и Ленинградской области.\n",
            "Президент России Дмитрий Медведев освободил генерал-полковника полиции Михаила Суходольского от посту начальника Главного управления МВД России по Санкт-Петербургу и Ленинградской области.\n",
            "\n",
            "Об этом сообщает пресс-служба Кремля.\n",
            "Об этом заявил пресс-служба Кремля.\n",
            "\n",
            "Суходольский был назначен на эту должность в июне 2011 года.\n",
            "Суходольский был назначен на эту команду в июне 2011 года.\n",
            "\n",
            "До этого он работал заместителем главы МВД Рашида Нургалиева.\n",
            "До этого он был заместителем главы МВД Рашида Нургалиева.\n",
            "\n",
            "Причины отставки пока не называются.\n",
            "Причины , пока не известны.\n",
            "\n",
            "Как сообщает РИА Новости, исполняющим обязанности главы петербургского управления МВД назначен бывший заместитель Суходольского генерал-майор полиции Сергей Умнов.\n",
            "Как и РИА Новости, исполняющим обязанности главы петербургского управления МВД назначен бывший начальник Суходольского генерал-майор полиции Сергей Умнов.\n",
            "\n",
            "Ранее Умнов считался конкурентом Суходольского за место начальника ГУ МВД Петербурга.\n",
            "Ранее Умнов был на Суходольского за место начальника ГУ МВД Петербурга.\n",
            "\n",
            "Сообщалось, что за его кандидатуру выступал предыдущий руководитель управления Владислав Пиотровский.\n",
            "то, что за его место - и руководитель управления Владислав Пиотровский.\n",
            "\n",
            "Сам Пиотровский летом 2011 года подал рапорт об отставке в связи с тем, что не прошел переаттестацию.\n",
            "Сам Пиотровский летом 2011 года подал рапорт об отставке в связи с тем, что не прошел переаттестацию.\n",
            "\n",
            "В начале года Михаил Суходольский оказался в центре скандала, связанного с гибелью задержанного полицейскими подростка и последовавшей вслед за этим проверкой питерского управления.\n",
            "В начале года Михаил Суходольский был в центре скандала, связано с гибелью задержанного полицейскими подростка и , вслед за этим работой питерского управления.\n",
            "\n",
            "15-летний Никита Леонтьев был задержан 22 января.\n",
            "15-летний Никита Леонтьев был задержан 22 января.\n",
            "\n",
            "Участковый Денис Иванов и заместители начальника 75-го отдела полиции Олег Прохоренко и Алексей Малых заподозрили его в попытке ограблении, после чего Иванов, как он позже признался сам, избил юношу.\n",
            "Участковый Денис Иванов и заместители начальника 75-го отдела полиции Олег Прохоренко и Алексей Малых взяли его в попытке ограблении, после чего Иванов, как он позже и сам, избил юношу.\n",
            "\n",
            "После избиения Леонтьеву вызвали скорую помощь, но он умер по дороге в больницу.\n",
            "После избиения Леонтьеву вызвали скорую помощь, но он умер по дороге в г.\n",
            "\n",
            "Иванова уволили и предъявили обвинения; кроме того, были уволены Прохоренко, Малых и начальник УМВД по Невскому району Валерий Белоцерковский.\n",
            "Иванова уволили и предъявили обвинения; кроме того, были уволены Прохоренко, Малых и начальник УМВД по Невскому району Валерий Белоцерковский.\n",
            "\n",
            "7 февраля в управлении началась проверка, инициированная Рашидом Нургалиевым.\n",
            "7 февраля в СМИ прошла проверка, с Рашидом Нургалиевым.\n",
            "\n",
            "При этом Суходольский выступил с публичной критикой этой проверки, заявив, в частности: \"Мне не совсем понятно, как организация безопасности дорожного движения, внесение предложений по совершенствованию законодательства или государственная защита потерпевших, свидетелей и иных участников судопроизводства могли повлиять на эту трагедию\".\n",
            "При этом Суходольский также с большой критикой этой связи, заявив, в этом: \"Мне не совсем понятно, как уровень движения и состава, система изменений по вопросам безопасности или организация защита граждан, как и иных видов , могли вести на эту позицию\".\n",
            "\n",
            "После этого стало известно, что Суходольский ушел на больничный и пропустил начало итоговой коллегии МВД РФ в Москве.\n",
            "После этого стало ясно, что Суходольский ушел на больничный и начало начало итоговой коллегии МВД РФ в Москве.\n",
            "\n",
            "Как писали СМИ, он направил главе МВД Рашиду Нургалиеву уведомление о причинах своего отсутствия, однако содержание этого документа неизвестно.\n",
            "Как писали СМИ, он дал главе МВД Рашиду Нургалиеву информацию о причинах своего дела, однако из этого , нет.\n",
            "\n",
            "\n",
            "92 bert frequency\n",
            "Президент России Дмитрий Медведев освободил генерал-полковника полиции Михаила Суходольского от должности начальника Главного управления МВД России по Санкт-Петербургу и Ленинградской области.\n",
            "Президент России Дмитрий Медведев освободил генерал-полковника полиции Михаила Суходольского от должности начальника Главного управления МВД России по Санкт-Петербургу и Ленинградской области.\n",
            "\n",
            "Об этом сообщает пресс-служба Кремля.\n",
            "Об этом сообщает пресс-служба Кремля.\n",
            "\n",
            "Суходольский был назначен на эту должность в июне 2011 года.\n",
            "Суходольский был назначен на эту должность в июне 2011 года.\n",
            "\n",
            "До этого он работал заместителем главы МВД Рашида Нургалиева.\n",
            "До этого он работал заместителем главы МВД Рашида Нургалиева.\n",
            "\n",
            "Причины отставки пока не называются.\n",
            "Причины отставки пока не называются.\n",
            "\n",
            "Как сообщает РИА Новости, исполняющим обязанности главы петербургского управления МВД назначен бывший заместитель Суходольского генерал-майор полиции Сергей Умнов.\n",
            "Как сообщает РИА Новости, исполняющим обязанности главы петербургского управления МВД назначен бывший заместитель Суходольского генерал-майор полиции Сергей Умнов.\n",
            "\n",
            "Ранее Умнов считался конкурентом Суходольского за место начальника ГУ МВД Петербурга.\n",
            "Ранее Умнов считался конкурентом Суходольского за место начальника ГУ МВД Петербурга.\n",
            "\n",
            "Сообщалось, что за его кандидатуру выступал предыдущий руководитель управления Владислав Пиотровский.\n",
            "Сообщалось, что за его кандидатуру выступал предыдущий руководитель управления Владислав Пиотровский.\n",
            "\n",
            "Сам Пиотровский летом 2011 года подал рапорт об отставке в связи с тем, что не прошел переаттестацию.\n",
            "Сам Пиотровский летом 2011 года подал рапорт об отставке в связи с тем, что не прошел переаттестацию.\n",
            "\n",
            "В начале года Михаил Суходольский оказался в центре скандала, связанного с гибелью задержанного полицейскими подростка и последовавшей вслед за этим проверкой питерского управления.\n",
            "В начале года Михаил Суходольский оказался в центре скандала, связанного с гибелью задержанного полицейскими подростка и последовавшей вслед за этим проверкой питерского управления.\n",
            "\n",
            "15-летний Никита Леонтьев был задержан 22 января.\n",
            "15-летний Никита Леонтьев был задержан 22 января.\n",
            "\n",
            "Участковый Денис Иванов и заместители начальника 75-го отдела полиции Олег Прохоренко и Алексей Малых заподозрили его в попытке ограблении, после чего Иванов, как он позже признался сам, избил юношу.\n",
            "Участковый Денис Иванов и заместители начальника 75-го отдела полиции Олег Прохоренко и Алексей Малых заподозрили его в попытке ограблении, после чего Иванов, как он позже признался сам, избил юношу.\n",
            "\n",
            "После избиения Леонтьеву вызвали скорую помощь, но он умер по дороге в больницу.\n",
            "После избиения Леонтьеву вызвали скорую помощь, но он умер по дороге в больницу.\n",
            "\n",
            "Иванова уволили и предъявили обвинения; кроме того, были уволены Прохоренко, Малых и начальник УМВД по Невскому району Валерий Белоцерковский.\n",
            "Иванова уволили и предъявили обвинения; кроме того, были уволены Прохоренко, Малых и начальник УМВД по Невскому району Валерий Белоцерковский.\n",
            "\n",
            "7 февраля в управлении началась проверка, инициированная Рашидом Нургалиевым.\n",
            "7 февраля в управлении началась проверка, инициированная Рашидом Нургалиевым.\n",
            "\n",
            "При этом Суходольский выступил с публичной критикой этой проверки, заявив, в частности: \"Мне не совсем понятно, как организация безопасности дорожного движения, внесение предложений по совершенствованию законодательства или государственная защита потерпевших, свидетелей и иных участников судопроизводства могли повлиять на эту трагедию\".\n",
            "При этом Суходольский выступил с публичной критикой этой проверки, заявив, в частности: \"Мне не совсем понятно, как организация безопасности дорожного движения, организация предложений по совершенствованию законодательства или государственная защита потерпевших, свидетелей и иных участников судопроизводства могли вести на эту трагедию\".\n",
            "\n",
            "После этого стало известно, что Суходольский ушел на больничный и пропустил начало итоговой коллегии МВД РФ в Москве.\n",
            "После этого стало известно, что Суходольский ушел на больничный и пропустил начало итоговой коллегии МВД РФ в Москве.\n",
            "\n",
            "Как писали СМИ, он направил главе МВД Рашиду Нургалиеву уведомление о причинах своего отсутствия, однако содержание этого документа неизвестно.\n",
            "Как писали СМИ, он направил главе МВД Рашиду Нургалиеву информацию о причинах своего отсутствия, однако содержание этого документа неизвестно.\n",
            "\n",
            "\n",
            "92 synonym len\n",
            "Президент России Дмитрий Медведев освободил генерал-полковника полиции Михаила Суходольского от должности начальника Главного управления МВД России по Санкт-Петербургу и Ленинградской области.\n",
            "Президент России Дмитрий Медведев освободил генерал-полковника полиции Михаила Суходольского от должности начальника Главного управления МВД России по Санкт-Петербургу и Ленинградской области.\n",
            "\n",
            "Об этом сообщает пресс-служба Кремля.\n",
            "Об этом пишет пресс-служба Кремля.\n",
            "\n",
            "Суходольский был назначен на эту должность в июне 2011 года.\n",
            "Суходольский был назначен на эту должность в июне 2011 года.\n",
            "\n",
            "До этого он работал заместителем главы МВД Рашида Нургалиева.\n",
            "До этого он делал заместителем главы МВД Рашида Нургалиева.\n",
            "\n",
            "Причины отставки пока не называются.\n",
            "Причины ухода пока не именуют.\n",
            "\n",
            "Как сообщает РИА Новости, исполняющим обязанности главы петербургского управления МВД назначен бывший заместитель Суходольского генерал-майор полиции Сергей Умнов.\n",
            "Как пишет РИА Новости, исполняющим обязанности главы петербургского управления МВД назначен бывший зам Суходольского генерал-майор полиции Сергей Умнов.\n",
            "\n",
            "Ранее Умнов считался конкурентом Суходольского за место начальника ГУ МВД Петербурга.\n",
            "Ранее Умнов был соперником Суходольского за место начальника ГУ МВД Петербурга.\n",
            "\n",
            "Сообщалось, что за его кандидатуру выступал предыдущий руководитель управления Владислав Пиотровский.\n",
            "Сообщалось, что за его кандидатуру шёл предыдущий руководитель управления Владислав Пиотровский.\n",
            "\n",
            "Сам Пиотровский летом 2011 года подал рапорт об отставке в связи с тем, что не прошел переаттестацию.\n",
            "Сам Пиотровский летом 2011 года подал рапорт об отставке в связи с тем, что не прошел переаттестацию.\n",
            "\n",
            "В начале года Михаил Суходольский оказался в центре скандала, связанного с гибелью задержанного полицейскими подростка и последовавшей вслед за этим проверкой питерского управления.\n",
            "В начале года Михаил Суходольский стал в центре скандала, связанного с гибелью задержанного полицейскими подростка и вышедшей вслед за этим тестом питерского управления.\n",
            "\n",
            "15-летний Никита Леонтьев был задержан 22 января.\n",
            "15-летний Никита Леонтьев был задержан 22 января.\n",
            "\n",
            "Участковый Денис Иванов и заместители начальника 75-го отдела полиции Олег Прохоренко и Алексей Малых заподозрили его в попытке ограблении, после чего Иванов, как он позже признался сам, избил юношу.\n",
            "Участковый Денис Иванов и заместители начальника 75-го отдела полиции Олег Прохоренко и Алексей Малых подумали его в попытке ограблении, после чего Иванов, как он позже объявил сам, избил юношу.\n",
            "\n",
            "После избиения Леонтьеву вызвали скорую помощь, но он умер по дороге в больницу.\n",
            "После избиения Леонтьеву вызвали скорую помощь, но он умер по дороге в хоспис.\n",
            "\n",
            "Иванова уволили и предъявили обвинения; кроме того, были уволены Прохоренко, Малых и начальник УМВД по Невскому району Валерий Белоцерковский.\n",
            "Иванова уволили и предъявили обвинения; кроме того, были уволены Прохоренко, Малых и начальник УМВД по Невскому району Валерий Белоцерковский.\n",
            "\n",
            "7 февраля в управлении началась проверка, инициированная Рашидом Нургалиевым.\n",
            "7 февраля в чпу пришла проверка, зачинавшая Рашидом Нургалиевым.\n",
            "\n",
            "При этом Суходольский выступил с публичной критикой этой проверки, заявив, в частности: \"Мне не совсем понятно, как организация безопасности дорожного движения, внесение предложений по совершенствованию законодательства или государственная защита потерпевших, свидетелей и иных участников судопроизводства могли повлиять на эту трагедию\".\n",
            "При этом Суходольский вышел с публичной критикой этой теста, заявив, в частности: \"Мне не совсем понятно, как организация защиты дорожного движения, внесение предложений по росту права или народная защита потерпевших, свидетелей и иных участников суда могли повлиять на эту трагедию\".\n",
            "\n",
            "После этого стало известно, что Суходольский ушел на больничный и пропустил начало итоговой коллегии МВД РФ в Москве.\n",
            "После этого стало известно, что Суходольский ушел на больничный и вдел начало итоговой коллегии МВД РФ в Москве.\n",
            "\n",
            "Как писали СМИ, он направил главе МВД Рашиду Нургалиеву уведомление о причинах своего отсутствия, однако содержание этого документа неизвестно.\n",
            "Как писали СМИ, он ткнул главе МВД Рашиду Нургалиеву нотис о причинах своего отсутствия, однако содержание этого чека неизвестно.\n",
            "\n",
            "\n",
            "92 synonym frequency\n",
            "Президент России Дмитрий Медведев освободил генерал-полковника полиции Михаила Суходольского от должности начальника Главного управления МВД России по Санкт-Петербургу и Ленинградской области.\n",
            "Президент России Дмитрий Медведев освободил генерал-полковника полиции Михаила Суходольского от должности начальника Главного управления МВД России по Санкт-Петербургу и Ленинградской области.\n",
            "\n",
            "Об этом сообщает пресс-служба Кремля.\n",
            "Об этом сообщает пресс-служба Кремля.\n",
            "\n",
            "Суходольский был назначен на эту должность в июне 2011 года.\n",
            "Суходольский был назначен на эту должность в июне 2011 года.\n",
            "\n",
            "До этого он работал заместителем главы МВД Рашида Нургалиева.\n",
            "До этого он работал заместителем главы МВД Рашида Нургалиева.\n",
            "\n",
            "Причины отставки пока не называются.\n",
            "Причины отставки пока не называются.\n",
            "\n",
            "Как сообщает РИА Новости, исполняющим обязанности главы петербургского управления МВД назначен бывший заместитель Суходольского генерал-майор полиции Сергей Умнов.\n",
            "Как сообщает РИА Новости, исполняющим обязанности главы петербургского управления МВД назначен бывший заместитель Суходольского генерал-майор полиции Сергей Умнов.\n",
            "\n",
            "Ранее Умнов считался конкурентом Суходольского за место начальника ГУ МВД Петербурга.\n",
            "Ранее Умнов считался конкурентом Суходольского за место начальника ГУ МВД Петербурга.\n",
            "\n",
            "Сообщалось, что за его кандидатуру выступал предыдущий руководитель управления Владислав Пиотровский.\n",
            "Сообщалось, что за его кандидатуру выступал предыдущий руководитель управления Владислав Пиотровский.\n",
            "\n",
            "Сам Пиотровский летом 2011 года подал рапорт об отставке в связи с тем, что не прошел переаттестацию.\n",
            "Сам Пиотровский летом 2011 года подал рапорт об отставке в связи с тем, что не прошел переаттестацию.\n",
            "\n",
            "В начале года Михаил Суходольский оказался в центре скандала, связанного с гибелью задержанного полицейскими подростка и последовавшей вслед за этим проверкой питерского управления.\n",
            "В начале года Михаил Суходольский оказался в центре скандала, связанного с гибелью задержанного полицейскими подростка и последовавшей вслед за этим проверкой питерского управления.\n",
            "\n",
            "15-летний Никита Леонтьев был задержан 22 января.\n",
            "15-летний Никита Леонтьев был задержан 22 января.\n",
            "\n",
            "Участковый Денис Иванов и заместители начальника 75-го отдела полиции Олег Прохоренко и Алексей Малых заподозрили его в попытке ограблении, после чего Иванов, как он позже признался сам, избил юношу.\n",
            "Участковый Денис Иванов и заместители начальника 75-го отдела полиции Олег Прохоренко и Алексей Малых заподозрили его в попытке ограблении, после чего Иванов, как он позже признался сам, избил юношу.\n",
            "\n",
            "После избиения Леонтьеву вызвали скорую помощь, но он умер по дороге в больницу.\n",
            "После избиения Леонтьеву вызвали скорую помощь, но он умер по дороге в больницу.\n",
            "\n",
            "Иванова уволили и предъявили обвинения; кроме того, были уволены Прохоренко, Малых и начальник УМВД по Невскому району Валерий Белоцерковский.\n",
            "Иванова уволили и предъявили обвинения; кроме того, были уволены Прохоренко, Малых и начальник УМВД по Невскому району Валерий Белоцерковский.\n",
            "\n",
            "7 февраля в управлении началась проверка, инициированная Рашидом Нургалиевым.\n",
            "7 февраля в управлении началась проверка, инициированная Рашидом Нургалиевым.\n",
            "\n",
            "При этом Суходольский выступил с публичной критикой этой проверки, заявив, в частности: \"Мне не совсем понятно, как организация безопасности дорожного движения, внесение предложений по совершенствованию законодательства или государственная защита потерпевших, свидетелей и иных участников судопроизводства могли повлиять на эту трагедию\".\n",
            "При этом Суходольский выступил с публичной критикой этой проверки, заявив, в частности: \"Мне не совсем понятно, как организация безопасности дорожного движения, внесение предложений по совершенствованию законодательства или государственная защита потерпевших, свидетелей и иных участников судопроизводства могли возыметь действие на эту трагедию\".\n",
            "\n",
            "После этого стало известно, что Суходольский ушел на больничный и пропустил начало итоговой коллегии МВД РФ в Москве.\n",
            "После этого стало известно, что Суходольский ушел на больничный и пропустил начало итоговой коллегии МВД РФ в Москве.\n",
            "\n",
            "Как писали СМИ, он направил главе МВД Рашиду Нургалиеву уведомление о причинах своего отсутствия, однако содержание этого документа неизвестно.\n",
            "Как писали СМИ, он направил главе МВД Рашиду Нургалиеву нотис о причинах своего отсутствия, однако содержание этого документа неизвестно.\n",
            "\n",
            "\n",
            "93 bert len\n",
            "Следствие по уголовному делу об аварии на Саяно-Шушенской ГЭС завершено.\n",
            "Следствие по этому делу об аварии на Саяно-Шушенской ГЭС г.\n",
            "\n",
            "В настоящее время восемь обвиняемых и их адвокаты продолжают ознакомление с материалами дела, общий объём которого составляет 1148 томов.\n",
            "В настоящее время восемь человек и их адвокаты имеют работать с частью дела, общий объём которого - 1148 томов.\n",
            "\n",
            "По завершении ознакомления с делом будут рассмотрены заявленные ходатайства защиты.\n",
            "По итогам связи с делом будут быть заявленные данные защиты.\n",
            "\n",
            "Как сообщает «Лента.ру», в качестве обвиняемых по делу об аварии на Саяно-Шушенской ГЭС проходит высшее руководство станции: бывший директор Николай Неволько, его первый заместитель и главный инженер Андрей Митрофанов, заместители главного инженера Геннадий Никитенко и Евгений Шерварли, начальник службы мониторинга оборудования Александр Матвиенко, начальник лаборатории технической диагностики Владимир Белобородов и ведущий инженер Александр Клюкач.\n",
            "Как пишет «Лента.ру», в числе комиссии по делу об аварии на Саяно-Шушенской ГЭС приняли высшее лицо станции: бывший директор Николай Неволько, его первый заместитель и главный инженер Андрей Митрофанов, заместители главного инженера Геннадий Никитенко и Евгений Шерварли, начальник службы мониторинга оборудования Александр Матвиенко, начальник лаборатории технической диагностики Владимир Белобородов и ведущий инженер Александр Клюкач.\n",
            "\n",
            "Все они обвиняются в нарушении правил охраны труда, повлекшем по неосторожности смерть человека (часть 2 статьи 134 УК РФ).\n",
            "Все они - в нарушении правил охраны труда, повлекшем по неосторожности смерть человека (часть 2 статьи 134 УК РФ).\n",
            "\n",
            "Напомним, авария на Саяно-Шушенской ГЭС - крупнейшей гидроэлектростанции России - произошла 17 августа 2009 года.\n",
            "Так, авария на Саяно-Шушенской ГЭС - крупнейшей ГЭС России - - 17 августа 2009 года.\n",
            "\n",
            "В результате аварии погибли 75 человек, ещё 85 работников станции пострадали.\n",
            "В результате аварии погибли 75 человек, ещё 85 работников станции пострадали.\n",
            "\n",
            "Из десяти гидроагрегатов ГЭС семь были разрушены или получили серьезные повреждения.\n",
            "Из десяти ГЭС ГЭС семь были разрушены или получили серьезные повреждения.\n",
            "\n",
            "В 2010 году четыре агрегата ГЭС были восстановлены и запущены.\n",
            "В 2010 году четыре агрегата ГЭС были восстановлены и запущены.\n",
            "\n",
            "Остальные были признаны не подлежащими ремонту.\n",
            "Они были и не при ремонту.\n",
            "\n",
            "Работы по замене гидроагрегатов продлятся до конца 2014 года.\n",
            "Работы по замене гидроагрегатов начались до конца 2014 года.\n",
            "\n",
            "\n",
            "93 bert frequency\n",
            "Следствие по уголовному делу об аварии на Саяно-Шушенской ГЭС завершено.\n",
            "Следствие по уголовному делу об аварии на Саяно-Шушенской ГЭС завершено.\n",
            "\n",
            "В настоящее время восемь обвиняемых и их адвокаты продолжают ознакомление с материалами дела, общий объём которого составляет 1148 томов.\n",
            "В настоящее время восемь обвиняемых и их адвокаты продолжают работать с материалами дела, общий объём которого составляет 1148 томов.\n",
            "\n",
            "По завершении ознакомления с делом будут рассмотрены заявленные ходатайства защиты.\n",
            "По завершении ознакомления с делом будут рассмотрены заявленные ходатайства защиты.\n",
            "\n",
            "Как сообщает «Лента.ру», в качестве обвиняемых по делу об аварии на Саяно-Шушенской ГЭС проходит высшее руководство станции: бывший директор Николай Неволько, его первый заместитель и главный инженер Андрей Митрофанов, заместители главного инженера Геннадий Никитенко и Евгений Шерварли, начальник службы мониторинга оборудования Александр Матвиенко, начальник лаборатории технической диагностики Владимир Белобородов и ведущий инженер Александр Клюкач.\n",
            "Как сообщает «Лента.ру», в качестве обвиняемых по делу об аварии на Саяно-Шушенской ГЭС проходит высшее руководство станции: бывший директор Николай Неволько, его первый заместитель и главный инженер Андрей Митрофанов, заместители главного инженера Геннадий Никитенко и Евгений Шерварли, начальник службы мониторинга оборудования Александр Матвиенко, начальник лаборатории технической диагностики Владимир Белобородов и ведущий инженер Александр Клюкач.\n",
            "\n",
            "Все они обвиняются в нарушении правил охраны труда, повлекшем по неосторожности смерть человека (часть 2 статьи 134 УК РФ).\n",
            "Все они обвиняются в нарушении правил охраны труда, повлекшем по неосторожности смерть человека (часть 2 статьи 134 УК РФ).\n",
            "\n",
            "Напомним, авария на Саяно-Шушенской ГЭС - крупнейшей гидроэлектростанции России - произошла 17 августа 2009 года.\n",
            "Напомним, авария на Саяно-Шушенской ГЭС - крупнейшей гидроэлектростанции России - произошла 17 августа 2009 года.\n",
            "\n",
            "В результате аварии погибли 75 человек, ещё 85 работников станции пострадали.\n",
            "В результате аварии погибли 75 человек, ещё 85 работников станции пострадали.\n",
            "\n",
            "Из десяти гидроагрегатов ГЭС семь были разрушены или получили серьезные повреждения.\n",
            "Из десяти гидроагрегатов ГЭС семь были разрушены или получили серьезные повреждения.\n",
            "\n",
            "В 2010 году четыре агрегата ГЭС были восстановлены и запущены.\n",
            "В 2010 году четыре агрегата ГЭС были восстановлены и запущены.\n",
            "\n",
            "Остальные были признаны не подлежащими ремонту.\n",
            "Остальные были признаны не подлежащими ремонту.\n",
            "\n",
            "Работы по замене гидроагрегатов продлятся до конца 2014 года.\n",
            "Работы по замене гидроагрегатов продлятся до конца 2014 года.\n",
            "\n",
            "\n",
            "93 synonym len\n",
            "Следствие по уголовному делу об аварии на Саяно-Шушенской ГЭС завершено.\n",
            "Следствие по уголовному делу об аварии на Саяно-Шушенской ГЭС доведённое.\n",
            "\n",
            "В настоящее время восемь обвиняемых и их адвокаты продолжают ознакомление с материалами дела, общий объём которого составляет 1148 томов.\n",
            "В настоящее время восемь пеняющих и их адвокаты идут смотр с материалами дела, общий объём которого есть 1148 томов.\n",
            "\n",
            "По завершении ознакомления с делом будут рассмотрены заявленные ходатайства защиты.\n",
            "По завершении смотра с делом будут учтённые заявленные ходатайства защиты.\n",
            "\n",
            "Как сообщает «Лента.ру», в качестве обвиняемых по делу об аварии на Саяно-Шушенской ГЭС проходит высшее руководство станции: бывший директор Николай Неволько, его первый заместитель и главный инженер Андрей Митрофанов, заместители главного инженера Геннадий Никитенко и Евгений Шерварли, начальник службы мониторинга оборудования Александр Матвиенко, начальник лаборатории технической диагностики Владимир Белобородов и ведущий инженер Александр Клюкач.\n",
            "Как пишет «Лента.ру», в родившемся пеняющих по делу об аварии на Саяно-Шушенской ГЭС идёт высшее руководство станции: бывший директор Николай Неволько, его первый заместитель и главный инженер Андрей Митрофанов, заместители главного инженера Геннадий Никитенко и Евгений Шерварли, начальник службы мониторинга оборудования Александр Матвиенко, начальник лаборатории технической диагностики Владимир Белобородов и ведущий инженер Александр Клюкач.\n",
            "\n",
            "Все они обвиняются в нарушении правил охраны труда, повлекшем по неосторожности смерть человека (часть 2 статьи 134 УК РФ).\n",
            "Все они обвиняются в нарушении правил охраны труда, повлекшем по неосторожности смерть человека (часть 2 статьи 134 УК РФ).\n",
            "\n",
            "Напомним, авария на Саяно-Шушенской ГЭС - крупнейшей гидроэлектростанции России - произошла 17 августа 2009 года.\n",
            "Напомним, авария на Саяно-Шушенской ГЭС - крупнейшей гэс России - вышла 17 августа 2009 года.\n",
            "\n",
            "В результате аварии погибли 75 человек, ещё 85 работников станции пострадали.\n",
            "В итоге аварии погибли 75 человек, ещё 85 работников станции пострадали.\n",
            "\n",
            "Из десяти гидроагрегатов ГЭС семь были разрушены или получили серьезные повреждения.\n",
            "Из десяти гидроагрегатов ГЭС семь были разрушены или получили серьезные повреждения.\n",
            "\n",
            "В 2010 году четыре агрегата ГЭС были восстановлены и запущены.\n",
            "В 2010 году четыре агрегата ГЭС были восстановлены и запущены.\n",
            "\n",
            "Остальные были признаны не подлежащими ремонту.\n",
            "Прочие были узнанные не подлежащими ремонту.\n",
            "\n",
            "Работы по замене гидроагрегатов продлятся до конца 2014 года.\n",
            "Работы по замене гидроагрегатов продлятся до конца 2014 года.\n",
            "\n",
            "\n",
            "93 synonym frequency\n",
            "Следствие по уголовному делу об аварии на Саяно-Шушенской ГЭС завершено.\n",
            "Следствие по уголовному делу об аварии на Саяно-Шушенской ГЭС завершено.\n",
            "\n",
            "В настоящее время восемь обвиняемых и их адвокаты продолжают ознакомление с материалами дела, общий объём которого составляет 1148 томов.\n",
            "В настоящее время восемь обвиняемых и их адвокаты продолжают изучение с материалами дела, общий объём которого составляет 1148 томов.\n",
            "\n",
            "По завершении ознакомления с делом будут рассмотрены заявленные ходатайства защиты.\n",
            "По завершении ознакомления с делом будут рассмотрены заявленные ходатайства защиты.\n",
            "\n",
            "Как сообщает «Лента.ру», в качестве обвиняемых по делу об аварии на Саяно-Шушенской ГЭС проходит высшее руководство станции: бывший директор Николай Неволько, его первый заместитель и главный инженер Андрей Митрофанов, заместители главного инженера Геннадий Никитенко и Евгений Шерварли, начальник службы мониторинга оборудования Александр Матвиенко, начальник лаборатории технической диагностики Владимир Белобородов и ведущий инженер Александр Клюкач.\n",
            "Как сообщает «Лента.ру», в качестве обвиняемых по делу об аварии на Саяно-Шушенской ГЭС проходит высшее руководство станции: бывший директор Николай Неволько, его первый заместитель и главный инженер Андрей Митрофанов, заместители главного инженера Геннадий Никитенко и Евгений Шерварли, начальник службы мониторинга оборудования Александр Матвиенко, начальник лаборатории технической диагностики Владимир Белобородов и ведущий инженер Александр Клюкач.\n",
            "\n",
            "Все они обвиняются в нарушении правил охраны труда, повлекшем по неосторожности смерть человека (часть 2 статьи 134 УК РФ).\n",
            "Все они обвиняются в нарушении правил охраны труда, повлекшем по неосторожности смерть человека (часть 2 статьи 134 УК РФ).\n",
            "\n",
            "Напомним, авария на Саяно-Шушенской ГЭС - крупнейшей гидроэлектростанции России - произошла 17 августа 2009 года.\n",
            "Напомним, авария на Саяно-Шушенской ГЭС - крупнейшей гидроэлектростанции России - произошла 17 августа 2009 года.\n",
            "\n",
            "В результате аварии погибли 75 человек, ещё 85 работников станции пострадали.\n",
            "В результате аварии погибли 75 человек, ещё 85 работников станции пострадали.\n",
            "\n",
            "Из десяти гидроагрегатов ГЭС семь были разрушены или получили серьезные повреждения.\n",
            "Из десяти гидроагрегатов ГЭС семь были разрушены или получили серьезные повреждения.\n",
            "\n",
            "В 2010 году четыре агрегата ГЭС были восстановлены и запущены.\n",
            "В 2010 году четыре агрегата ГЭС были восстановлены и запущены.\n",
            "\n",
            "Остальные были признаны не подлежащими ремонту.\n",
            "Остальные были признаны не подлежащими ремонту.\n",
            "\n",
            "Работы по замене гидроагрегатов продлятся до конца 2014 года.\n",
            "Работы по замене гидроагрегатов продлятся до конца 2014 года.\n",
            "\n",
            "\n",
            "94 bert len\n",
            "21-летняя Полина Попова из Екатеринбурга стала «Мисс Россия-2017».\n",
            "21-летняя Полина Попова из Екатеринбурга стала «Мисс Россия-2017».\n",
            "\n",
            "Победительнице вручили корону из белого золота, украшенную бриллиантами и жемчугом стоимостью миллион долларов, банковскую карту на три миллиона рублей и автомобиль.\n",
            "ему вручили корону из белого золота, с золото и жемчугом на миллион долларов, золотой карту на три миллиона рублей и т.\n",
            "\n",
            "Девушка также получила право представить Россию на «Мисс Мира» и «Мисс Вселенная».\n",
            "Девушка также имеет право на Россию на «Мисс Мира» и «Мисс Вселенная».\n",
            "\n",
            "Попова уже шесть лет ведёт модельную карьеру, но «Мисс Россия» стал её первым конкурсом красоты.\n",
            "Попова уже шесть лет ведёт свою карьеру, но «Мисс Россия» стал её первым конкурсом красоты.\n",
            "\n",
            "Вице-мисс стала москвичка Ксения Александрова, а третье место заняла жительница Башкирии Альбина Ахтямова.\n",
            "Вице-мисс стала москвичка Ксения Александрова, а третье место заняла из Башкирии Альбина Ахтямова.\n",
            "\n",
            "Девушки получили от организаторов гранты на обучение в любом высшем учебном заведении мира.\n",
            "Девушки имеют от них гранты на участие в любом высшем учебном центре мира.\n",
            "\n",
            "Церемония финала прошла в концертном зале Барвиха Luxury Village.\n",
            "Церемония финала прошла в го зале Барвиха Luxury Village.\n",
            "\n",
            "Мероприятие вели радио-диджей Максим Привалов и телеведущая Виктория Лопырёва, завоевавшая титул «Мисс Россия» в 2003 году.\n",
            "Также вели радио-диджей Максим Привалов и телеведущая Виктория Лопырёва, получив титул «Мисс Россия» в 2003 году.\n",
            "\n",
            "В жюри конкурса вошли чемпионка мира и шестикратная чемпионка Европы по художественной гимнастике Ляйсан Утяшева, дизайнер Игорь Чапурин, фотограф Джонатан Беккер, а также лауреаты конкурса прошлых лет — Оксана Фёдорова (2001), София Никитчук (2015) и Ксения Сухинова (2007).\n",
            "В жюри конкурса вошли чемпионка мира и шестикратная чемпионка Европы по художественной гимнастике Ляйсан Утяшева, дизайнер Игорь Чапурин, фотограф Джонатан Беккер, а также лауреаты конкурса прошлых лет — Оксана Фёдорова (2001), София Никитчук (2015) и Ксения Сухинова (2007).\n",
            "\n",
            "За звание главной красавицы страны боролись 50 девушек из разных регионов страны.\n",
            "За звание главной команды страны вышли 50 девушек из разных регионов страны.\n",
            "\n",
            "Согласно условиям конкурса, все участницы финального этапа были выше 173 сантиметров, старше 18, но моложе 23 лет, не имели татуировок, вредных привычек, опубликованных фото- и видеоматериалов эротического характера, мужей, детей и уголовной ответственности.\n",
            "По условиям конкурса, все участники первого этапа были выше 173 сантиметров, старше 18, но моложе 23 лет, не имели денег, вредных случаев, имели фото- и фильмах , отбора, мужей, детей и форм системы.\n",
            "\n",
            "\n",
            "94 bert frequency\n",
            "21-летняя Полина Попова из Екатеринбурга стала «Мисс Россия-2017».\n",
            "21-летняя Полина Попова из Екатеринбурга стала «Мисс Россия-2017».\n",
            "\n",
            "Победительнице вручили корону из белого золота, украшенную бриллиантами и жемчугом стоимостью миллион долларов, банковскую карту на три миллиона рублей и автомобиль.\n",
            "Победительнице вручили корону из белого золота, украшенную бриллиантами и жемчугом стоимостью миллион долларов, банковскую карту на три миллиона рублей и автомобиль.\n",
            "\n",
            "Девушка также получила право представить Россию на «Мисс Мира» и «Мисс Вселенная».\n",
            "Девушка также получила право представить Россию на «Мисс Мира» и «Мисс Вселенная».\n",
            "\n",
            "Попова уже шесть лет ведёт модельную карьеру, но «Мисс Россия» стал её первым конкурсом красоты.\n",
            "Попова уже шесть лет ведёт модельную карьеру, но «Мисс Россия» стал её первым конкурсом красоты.\n",
            "\n",
            "Вице-мисс стала москвичка Ксения Александрова, а третье место заняла жительница Башкирии Альбина Ахтямова.\n",
            "Вице-мисс стала москвичка Ксения Александрова, а третье место заняла из Башкирии Альбина Ахтямова.\n",
            "\n",
            "Девушки получили от организаторов гранты на обучение в любом высшем учебном заведении мира.\n",
            "Девушки получили от организаторов гранты на обучение в любом высшем учебном заведении мира.\n",
            "\n",
            "Церемония финала прошла в концертном зале Барвиха Luxury Village.\n",
            "Церемония финала прошла в концертном зале Барвиха Luxury Village.\n",
            "\n",
            "Мероприятие вели радио-диджей Максим Привалов и телеведущая Виктория Лопырёва, завоевавшая титул «Мисс Россия» в 2003 году.\n",
            "Мероприятие вели радио-диджей Максим Привалов и телеведущая Виктория Лопырёва, завоевавшая звание «Мисс Россия» в 2003 году.\n",
            "\n",
            "В жюри конкурса вошли чемпионка мира и шестикратная чемпионка Европы по художественной гимнастике Ляйсан Утяшева, дизайнер Игорь Чапурин, фотограф Джонатан Беккер, а также лауреаты конкурса прошлых лет — Оксана Фёдорова (2001), София Никитчук (2015) и Ксения Сухинова (2007).\n",
            "В состав конкурса вошли чемпионка мира и шестикратная чемпионка Европы по художественной гимнастике Ляйсан Утяшева, дизайнер Игорь Чапурин, фотограф Джонатан Беккер, а также лауреаты конкурса прошлых лет — Оксана Фёдорова (2001), София Никитчук (2015) и Ксения Сухинова (2007).\n",
            "\n",
            "За звание главной красавицы страны боролись 50 девушек из разных регионов страны.\n",
            "За звание главной красавицы страны боролись 50 девушек из разных регионов страны.\n",
            "\n",
            "Согласно условиям конкурса, все участницы финального этапа были выше 173 сантиметров, старше 18, но моложе 23 лет, не имели татуировок, вредных привычек, опубликованных фото- и видеоматериалов эротического характера, мужей, детей и уголовной ответственности.\n",
            "Согласно условиям конкурса, все участницы финального этапа были длиной 173 сантиметров, старше 18, но моложе 23 лет, не имели татуировок, вредных привычек, опубликованных фото- и видеоматериалов эротического характера, мужей, детей и уголовной ответственности.\n",
            "\n",
            "\n",
            "94 synonym len\n",
            "21-летняя Полина Попова из Екатеринбурга стала «Мисс Россия-2017».\n",
            "21-летняя Полина Попова из Екатеринбурга стала «Мисс Россия-2017».\n",
            "\n",
            "Победительнице вручили корону из белого золота, украшенную бриллиантами и жемчугом стоимостью миллион долларов, банковскую карту на три миллиона рублей и автомобиль.\n",
            "Призёру вручили корону из белого золота, украшенную ромбами и жемчугом курсом миллион долларов, банковскую карту на три миллиона рублей и автомобиль.\n",
            "\n",
            "Девушка также получила право представить Россию на «Мисс Мира» и «Мисс Вселенная».\n",
            "Девушка также сняла право явить Россию на «Мисс Мира» и «Мисс Вселенная».\n",
            "\n",
            "Попова уже шесть лет ведёт модельную карьеру, но «Мисс Россия» стал её первым конкурсом красоты.\n",
            "Попова уже шесть лет ведёт модельную карьеру, но «Мисс Россия» стал её первым конкурсом красоты.\n",
            "\n",
            "Вице-мисс стала москвичка Ксения Александрова, а третье место заняла жительница Башкирии Альбина Ахтямова.\n",
            "Вице-мисс стала москвичка Ксения Александрова, а третье место заняла землянка Башкирии Альбина Ахтямова.\n",
            "\n",
            "Девушки получили от организаторов гранты на обучение в любом высшем учебном заведении мира.\n",
            "Девушки сняли от спонсоров гранты на наука в любом высшем учебном баре мира.\n",
            "\n",
            "Церемония финала прошла в концертном зале Барвиха Luxury Village.\n",
            "Церемония финала прошла в концертном зале Барвиха Luxury Village.\n",
            "\n",
            "Мероприятие вели радио-диджей Максим Привалов и телеведущая Виктория Лопырёва, завоевавшая титул «Мисс Россия» в 2003 году.\n",
            "Мероприятие вели радио-диджей Максим Привалов и телеведущая Виктория Лопырёва, взявшая титул «Мисс Россия» в 2003 году.\n",
            "\n",
            "В жюри конкурса вошли чемпионка мира и шестикратная чемпионка Европы по художественной гимнастике Ляйсан Утяшева, дизайнер Игорь Чапурин, фотограф Джонатан Беккер, а также лауреаты конкурса прошлых лет — Оксана Фёдорова (2001), София Никитчук (2015) и Ксения Сухинова (2007).\n",
            "В жюри конкурса вошли чемпионка мира и шестикратная чемпионка Европы по художественной гимнастике Ляйсан Утяшева, дизайнер Игорь Чапурин, фотограф Джонатан Беккер, а также лауреаты конкурса прошлых лет — Оксана Фёдорова (2001), София Никитчук (2015) и Ксения Сухинова (2007).\n",
            "\n",
            "За звание главной красавицы страны боролись 50 девушек из разных регионов страны.\n",
            "За звание главной крали страны бились 50 девушек из разных регионов страны.\n",
            "\n",
            "Согласно условиям конкурса, все участницы финального этапа были выше 173 сантиметров, старше 18, но моложе 23 лет, не имели татуировок, вредных привычек, опубликованных фото- и видеоматериалов эротического характера, мужей, детей и уголовной ответственности.\n",
            "По условиям конкурса, все участницы финального этапа были выше 173 сантиметров, старше 18, но моложе 23 лет, не имели татуажей, вредных мод, выданных фото- и видеоматериалов любовного характера, мужей, детей и уголовной ответа.\n",
            "\n",
            "\n",
            "94 synonym frequency\n",
            "21-летняя Полина Попова из Екатеринбурга стала «Мисс Россия-2017».\n",
            "21-летняя Полина Попова из Екатеринбурга стала «Мисс Россия-2017».\n",
            "\n",
            "Победительнице вручили корону из белого золота, украшенную бриллиантами и жемчугом стоимостью миллион долларов, банковскую карту на три миллиона рублей и автомобиль.\n",
            "Победительнице вручили корону из белого золота, украшенную бриллиантами и жемчугом стоимостью миллион долларов, банковскую карту на три миллиона рублей и автомобиль.\n",
            "\n",
            "Девушка также получила право представить Россию на «Мисс Мира» и «Мисс Вселенная».\n",
            "Девушка также получила право представить Россию на «Мисс Мира» и «Мисс Вселенная».\n",
            "\n",
            "Попова уже шесть лет ведёт модельную карьеру, но «Мисс Россия» стал её первым конкурсом красоты.\n",
            "Попова уже шесть лет ведёт модельную карьеру, но «Мисс Россия» стал её первым конкурсом красоты.\n",
            "\n",
            "Вице-мисс стала москвичка Ксения Александрова, а третье место заняла жительница Башкирии Альбина Ахтямова.\n",
            "Вице-мисс стала москвичка Ксения Александрова, а третье место заняла землянка Башкирии Альбина Ахтямова.\n",
            "\n",
            "Девушки получили от организаторов гранты на обучение в любом высшем учебном заведении мира.\n",
            "Девушки получили от организаторов гранты на обучение в любом высшем учебном заведении мира.\n",
            "\n",
            "Церемония финала прошла в концертном зале Барвиха Luxury Village.\n",
            "Церемония финала прошла в концертном зале Барвиха Luxury Village.\n",
            "\n",
            "Мероприятие вели радио-диджей Максим Привалов и телеведущая Виктория Лопырёва, завоевавшая титул «Мисс Россия» в 2003 году.\n",
            "Мероприятие вели радио-диджей Максим Привалов и телеведущая Виктория Лопырёва, завоевавшая правовой титул «Мисс Россия» в 2003 году.\n",
            "\n",
            "В жюри конкурса вошли чемпионка мира и шестикратная чемпионка Европы по художественной гимнастике Ляйсан Утяшева, дизайнер Игорь Чапурин, фотограф Джонатан Беккер, а также лауреаты конкурса прошлых лет — Оксана Фёдорова (2001), София Никитчук (2015) и Ксения Сухинова (2007).\n",
            "В жюри конкурса вошли чемпионка мира и шестикратная чемпионка Европы по художественной гимнастике Ляйсан Утяшева, дизайнер Игорь Чапурин, фотограф Джонатан Беккер, а также лауреаты конкурса прошлых лет — Оксана Фёдорова (2001), София Никитчук (2015) и Ксения Сухинова (2007).\n",
            "\n",
            "За звание главной красавицы страны боролись 50 девушек из разных регионов страны.\n",
            "За звание главной красавицы страны боролись 50 девушек из разных регионов страны.\n",
            "\n",
            "Согласно условиям конкурса, все участницы финального этапа были выше 173 сантиметров, старше 18, но моложе 23 лет, не имели татуировок, вредных привычек, опубликованных фото- и видеоматериалов эротического характера, мужей, детей и уголовной ответственности.\n",
            "Согласно условиям конкурса, все участницы финального этапа были выше 173 сантиметров, старше 18, но моложе 23 лет, не имели татуировок, вредных привычек, опубликованных фото- и видеоматериалов эротического характера, мужей, детей и уголовной ответственности.\n",
            "\n",
            "\n",
            "95 bert len\n",
            "Александр Соловьёв Утром 4 апреля 2017 года в своём доме в Ижевске задержан глава Удмуртии Александр Соловьёв.\n",
            "Александр Соловьёв Утром 4 апреля 2017 года в своём доме в Ижевске задержан глава Удмуртии Александр Соловьёв.\n",
            "\n",
            "В его доме был проведён обыск, после чего он был этапирован в Москву.\n",
            "В его доме был один обыск, после чего он был этапирован в Москву.\n",
            "\n",
            "В отношении Соловьёва возбуждено уголовное дело по ч. 6 ст. 290 УК РФ по обвинению в получении взятки в особо крупном размере.\n",
            "В . Соловьёва возбуждено уголовное дело по ч. 6 ст. 290 УК РФ по делу в получении взятки в особо крупном размере.\n",
            "\n",
            "По версии следствия, в период с 2014 по 2016 год Александр Соловьёв получил от компании, занимавшейся строительством мостов через реки Кама и Буй у города Камбарки, денежные суммы в размере около 140 млн рублей.\n",
            "По версии компании, в период с 2014 по 2016 год Александр Соловьёв дал от команды, занимается проектом мостов через реки Кама и Буй у города Камбарки, на суммы в размере около 140 млн рублей.\n",
            "\n",
            "Помимо этого, Соловьёву якобы досталась доля в коммерческой организации стоимостью 2,7 млн рублей, за что он должен был обеспечить внеочередную оплату работ из федерального и регионального бюджетов и выделить лицензии для геологического изучения, разведки и добычи песка и песчано-гравийной смеси.\n",
            "Помимо этого, Соловьёву якобы была доля в организации компании - 2,7 млн рублей, за что он должен был получить большую оплату работ из областного и центрального бюджетов и другие земли для организации отдела, разведки и добычи песка и его смеси.\n",
            "\n",
            "Ранее сообщалось также о задержании главы Удмуртавтодора, но задержание главы предприятия было опровергнуто[http://www.rbc.ru/rbcfreenews/58e344f09a79471002e253af В «Удмуртавтодоре» опровергли задержание главы предприятия :: Политика :: РИА Новости].\n",
            "Ранее было также о создании главы Удмуртавтодора, но положение главы предприятия было .[http:: В «Удмуртавтодоре» - задержание главы предприятия :::а положениеости].\n",
            "\n",
            "В связи с возбуждением уголовного дела членство Соловьёва в партии «Единая Россия» было автоматически приостановлено[https://ria.ru/politics/20170404/1491429215.html Источник сообщил о приостановке членства в ЕР задержанного главы Удмуртии :: Общество :: РБК].\n",
            "В связи с началом дела дела дело Соловьёва в партии «Единая Россия» было официально .[https:/ он : о возможности участия в ЕР - главы Удмуртии :: : :: РБК].\n",
            "\n",
            "4 апреля Президентом России Владимиром Путиным был подписан Указ «О досрочном прекращении полномочий Главы Удмуртской Республики».\n",
            "4 апреля Президентом России Владимиром Путиным был подписан Указ «О досрочном прекращении полномочий Главы Удмуртской Республики».\n",
            "\n",
            "Полный текст документа:  На основании подпункта г пункта 1 статьи 19 Федерального закона от 6 октября 1999 г 184 ФЗ Об общих принципах организации законодательных представительных и исполнительных органов государственной власти субъектов Российской Федерации постановляю 1 Отрешить Соловьева Александра Васильевича от должности Главы Удмуртской Республики в связи с утратой доверия Президента Российской Федерации 2 Настоящий Указ вступает в силу со дня его подписания   Александр Соловьёв занимал свой пост с 2014 года, ранее с 2013 года был членом Совета Федерации от региона, с 2007 по 2013 год являлся председателем Государственного совета Удмуртской республики.\n",
            "Полный текст Указ:  На основе подпункта г пункта 1 статьи 19 Федерального закона от 6 октября 1999 г 184 ФЗ Об общих принципах организации законодательных представительных и исполнительных органов государственной власти субъектов Российской Федерации : 1 от Соловьева Александра Васильевича от поста Главы Удмуртской Республики в связи с утратой доверия Президента Российской Федерации 2 . Указ РФ в силу со дня его смерти   Александр Соловьёв на свой пост с 2014 года, ранее с 2013 года был членом Совета Федерации от региона, с 2007 по 2013 год - председателем Государственного совета Удмуртской республики.\n",
            "\n",
            "\n",
            "95 bert frequency\n",
            "Александр Соловьёв Утром 4 апреля 2017 года в своём доме в Ижевске задержан глава Удмуртии Александр Соловьёв.\n",
            "Александр Соловьёв Утром 4 апреля 2017 года в своём доме в Ижевске задержан глава Удмуртии Александр Соловьёв.\n",
            "\n",
            "В его доме был проведён обыск, после чего он был этапирован в Москву.\n",
            "В его доме был проведён обыск, после чего он был этапирован в Москву.\n",
            "\n",
            "В отношении Соловьёва возбуждено уголовное дело по ч. 6 ст. 290 УК РФ по обвинению в получении взятки в особо крупном размере.\n",
            "В отношении Соловьёва возбуждено уголовное дело по ч. 6 ст. 290 УК РФ по обвинению в получении взятки в особо крупном размере.\n",
            "\n",
            "По версии следствия, в период с 2014 по 2016 год Александр Соловьёв получил от компании, занимавшейся строительством мостов через реки Кама и Буй у города Камбарки, денежные суммы в размере около 140 млн рублей.\n",
            "По версии следствия, в период с 2014 по 2016 год Александр Соловьёв получил от компании, занимавшейся строительством мостов через реки Кама и Буй у города Камбарки, денежные суммы в размере около 140 млн рублей.\n",
            "\n",
            "Помимо этого, Соловьёву якобы досталась доля в коммерческой организации стоимостью 2,7 млн рублей, за что он должен был обеспечить внеочередную оплату работ из федерального и регионального бюджетов и выделить лицензии для геологического изучения, разведки и добычи песка и песчано-гравийной смеси.\n",
            "Помимо этого, Соловьёву якобы досталась доля в коммерческой организации стоимостью 2,7 млн рублей, за что он должен был обеспечить внеочередную оплату работ из федерального и регионального бюджетов и выделить лицензии для геологического изучения, разведки и добычи песка и песчано-гравийной смеси.\n",
            "\n",
            "Ранее сообщалось также о задержании главы Удмуртавтодора, но задержание главы предприятия было опровергнуто[http://www.rbc.ru/rbcfreenews/58e344f09a79471002e253af В «Удмуртавтодоре» опровергли задержание главы предприятия :: Политика :: РИА Новости].\n",
            "Ранее сообщалось также о задержании главы Удмуртавтодора, ноположение главы предприятия было опровергнуто[http://www.rbc.ru/rbcfreenews/58e344f09a79471002e253af В «Удмуртавтодоре» опровергли задержание главы предприятия :: Политика :: РИА Новости].\n",
            "\n",
            "В связи с возбуждением уголовного дела членство Соловьёва в партии «Единая Россия» было автоматически приостановлено[https://ria.ru/politics/20170404/1491429215.html Источник сообщил о приостановке членства в ЕР задержанного главы Удмуртии :: Общество :: РБК].\n",
            "В связи с возбуждением уголовного дела Александра Соловьёва в партии «Единая Россия» было официально приостановлено[https://ria.ru/politics/20170404/1491429215.html Источник сообщил о приостановке членства в ЕР задержанного главы Удмуртии :: Общество :: РБК].\n",
            "\n",
            "4 апреля Президентом России Владимиром Путиным был подписан Указ «О досрочном прекращении полномочий Главы Удмуртской Республики».\n",
            "4 апреля Президентом России Владимиром Путиным был подписан Указ «О досрочном прекращении полномочий Главы Удмуртской Республики».\n",
            "\n",
            "Полный текст документа:  На основании подпункта г пункта 1 статьи 19 Федерального закона от 6 октября 1999 г 184 ФЗ Об общих принципах организации законодательных представительных и исполнительных органов государственной власти субъектов Российской Федерации постановляю 1 Отрешить Соловьева Александра Васильевича от должности Главы Удмуртской Республики в связи с утратой доверия Президента Российской Федерации 2 Настоящий Указ вступает в силу со дня его подписания   Александр Соловьёв занимал свой пост с 2014 года, ранее с 2013 года был членом Совета Федерации от региона, с 2007 по 2013 год являлся председателем Государственного совета Удмуртской республики.\n",
            "Полный текст документа:  На основании подпункта г пункта 1 статьи 19 Федерального закона от 6 октября 1999 г 184 ФЗ Об общих принципах организации законодательных представительных и исполнительных органов государственной власти субъектов Российской Федерации постановляю 1 Отрешить Соловьева Александра Васильевича от должности Главы Удмуртской Республики в связи с утратой доверия Президента Российской Федерации 2 Настоящий Указ вступает в силу со дня его подписания   Александр Соловьёв занимал свой пост с 2014 года, ранее с 2013 года был членом Совета Федерации от региона, с 2007 по 2013 год являлся председателем Государственного совета Удмуртской республики.\n",
            "\n",
            "\n",
            "95 synonym len\n",
            "Александр Соловьёв Утром 4 апреля 2017 года в своём доме в Ижевске задержан глава Удмуртии Александр Соловьёв.\n",
            "Александр Соловьёв Утром 4 апреля 2017 года в своём доме в Ижевске задержан глава Удмуртии Александр Соловьёв.\n",
            "\n",
            "В его доме был проведён обыск, после чего он был этапирован в Москву.\n",
            "В его доме был обойдённый обыск, после чего он был этапирован в Москву.\n",
            "\n",
            "В отношении Соловьёва возбуждено уголовное дело по ч. 6 ст. 290 УК РФ по обвинению в получении взятки в особо крупном размере.\n",
            "В дроби Соловьёва возбуждено уголовное дело по ч. 6 ст. 290 УК РФ по иску в получении взятки в особо крупном размере.\n",
            "\n",
            "По версии следствия, в период с 2014 по 2016 год Александр Соловьёв получил от компании, занимавшейся строительством мостов через реки Кама и Буй у города Камбарки, денежные суммы в размере около 140 млн рублей.\n",
            "По версии итога, в период с 2014 по 2016 год Александр Соловьёв снял от компании, горевшей зданием мостов через реки Кама и Буй у города Камбарки, денежные суммы в размере около 140 млн рублей.\n",
            "\n",
            "Помимо этого, Соловьёву якобы досталась доля в коммерческой организации стоимостью 2,7 млн рублей, за что он должен был обеспечить внеочередную оплату работ из федерального и регионального бюджетов и выделить лицензии для геологического изучения, разведки и добычи песка и песчано-гравийной смеси.\n",
            "Помимо этого, Соловьёву якобы пала доля в товарной организации курсом 2,7 млн рублей, за что он должен был оказать специальную оплату работ из федерального и краевого бюджетов и выбрать права для геологического анализа, поиска и добычи песка и песчано-гравийной смеси.\n",
            "\n",
            "Ранее сообщалось также о задержании главы Удмуртавтодора, но задержание главы предприятия было опровергнуто[http://www.rbc.ru/rbcfreenews/58e344f09a79471002e253af В «Удмуртавтодоре» опровергли задержание главы предприятия :: Политика :: РИА Новости].\n",
            "Ранее сообщалось также о аресте главы Удмуртааресто арест главы предприятия было разбитое[http://www.rbc.ru/rbcfreenews/58e344f09a79471002e253af В «Удмуртавтодоре» разбили задержание главы предприятия :: Политика :: РИА Новости].\n",
            "\n",
            "В связи с возбуждением уголовного дела членство Соловьёва в партии «Единая Россия» было автоматически приостановлено[https://ria.ru/politics/20170404/1491429215.html Источник сообщил о приостановке членства в ЕР задержанного главы Удмуртии :: Общество :: РБК].\n",
            "В связи с пылом уголовного дела участие Соловьёва в партии «Единая Россия» было механично прерванное[https://ria.ru/politics/20170404/1491429215.html Источник изрёк о паузе участия в ЕР взятого главы Удмуртии :: Дсо :: РБК].\n",
            "\n",
            "4 апреля Президентом России Владимиром Путиным был подписан Указ «О досрочном прекращении полномочий Главы Удмуртской Республики».\n",
            "4 апреля Президентом России Владимиром Путиным был подписан Указ «О досрочном прекращении полномочий Главы Удмуртской Республики».\n",
            "\n",
            "Полный текст документа:  На основании подпункта г пункта 1 статьи 19 Федерального закона от 6 октября 1999 г 184 ФЗ Об общих принципах организации законодательных представительных и исполнительных органов государственной власти субъектов Российской Федерации постановляю 1 Отрешить Соловьева Александра Васильевича от должности Главы Удмуртской Республики в связи с утратой доверия Президента Российской Федерации 2 Настоящий Указ вступает в силу со дня его подписания   Александр Соловьёв занимал свой пост с 2014 года, ранее с 2013 года был членом Совета Федерации от региона, с 2007 по 2013 год являлся председателем Государственного совета Удмуртской республики.\n",
            "Полный текст чека:  На основании подпункта г пункта 1 статьи 19 Федерального закона от 6 октября 1999 г 184 ФЗ Об общих принципах организации законодательных представительных и исполнительных органов государственной власти субъектов Российской Федерации постановляю 1 Отрешить Соловьева Александра Васильевича от должности Главы Удмуртской Республики в связи с утратой доверия Президента Российской Федерации 2 Настоящий Указ вводит в силу со дня его подписания   Александр Соловьёв брал свой пост с 2014 года, ранее с 2013 года был членом Совета Федерации от региона, с 2007 по 2013 год был председателем Государственного совета Удмуртской республики.\n",
            "\n",
            "\n",
            "95 synonym frequency\n",
            "Александр Соловьёв Утром 4 апреля 2017 года в своём доме в Ижевске задержан глава Удмуртии Александр Соловьёв.\n",
            "Александр Соловьёв Утром 4 апреля 2017 года в своём доме в Ижевске задержан глава Удмуртии Александр Соловьёв.\n",
            "\n",
            "В его доме был проведён обыск, после чего он был этапирован в Москву.\n",
            "В его доме был проведён обыск, после чего он был этапирован в Москву.\n",
            "\n",
            "В отношении Соловьёва возбуждено уголовное дело по ч. 6 ст. 290 УК РФ по обвинению в получении взятки в особо крупном размере.\n",
            "В отношении Соловьёва возбуждено уголовное дело по ч. 6 ст. 290 УК РФ по обвинению в получении взятки в особо крупном размере.\n",
            "\n",
            "По версии следствия, в период с 2014 по 2016 год Александр Соловьёв получил от компании, занимавшейся строительством мостов через реки Кама и Буй у города Камбарки, денежные суммы в размере около 140 млн рублей.\n",
            "По версии следствия, в период с 2014 по 2016 год Александр Соловьёв получил от компании, занимавшейся строительством мостов через реки Кама и Буй у города Камбарки, денежные суммы в размере около 140 млн рублей.\n",
            "\n",
            "Помимо этого, Соловьёву якобы досталась доля в коммерческой организации стоимостью 2,7 млн рублей, за что он должен был обеспечить внеочередную оплату работ из федерального и регионального бюджетов и выделить лицензии для геологического изучения, разведки и добычи песка и песчано-гравийной смеси.\n",
            "Помимо этого, Соловьёву якобы досталась доля в коммерческой организации стоимостью 2,7 млн рублей, за что он должен был обеспечить внеочередную оплату работ из федерального и регионального бюджетов и выделить лицензии для геологического изучения, разведки и добычи песка и песчано-гравийной смеси.\n",
            "\n",
            "Ранее сообщалось также о задержании главы Удмуртавтодора, но задержание главы предприятия было опровергнуто[http://www.rbc.ru/rbcfreenews/58e344f09a79471002e253af В «Удмуртавтодоре» опровергли задержание главы предприятия :: Политика :: РИА Новости].\n",
            "Ранее сообщалось также о задержании главы Удмуртавтодора, но лишенлишение свободу главы предприятия было опровергнуто[http://www.rbc.ru/rbcfreenews/58e344f09a79471002e253af В «Удмуртавтодоре» опровергли задержание главы предприятия :: Политика :: РИА Новости].\n",
            "\n",
            "В связи с возбуждением уголовного дела членство Соловьёва в партии «Единая Россия» было автоматически приостановлено[https://ria.ru/politics/20170404/1491429215.html Источник сообщил о приостановке членства в ЕР задержанного главы Удмуртии :: Общество :: РБК].\n",
            "В связи с возбуждением уголовного дела участие Соловьёва в партии «Единая Россия» было автоматично приостановлено[https://ria.ru/politics/20170404/1491429215.html Источник сообщил о приостановке членства в ЕР задержанного главы Удмуртии :: Общество :: РБК].\n",
            "\n",
            "4 апреля Президентом России Владимиром Путиным был подписан Указ «О досрочном прекращении полномочий Главы Удмуртской Республики».\n",
            "4 апреля Президентом России Владимиром Путиным был подписан Указ «О досрочном прекращении полномочий Главы Удмуртской Республики».\n",
            "\n",
            "Полный текст документа:  На основании подпункта г пункта 1 статьи 19 Федерального закона от 6 октября 1999 г 184 ФЗ Об общих принципах организации законодательных представительных и исполнительных органов государственной власти субъектов Российской Федерации постановляю 1 Отрешить Соловьева Александра Васильевича от должности Главы Удмуртской Республики в связи с утратой доверия Президента Российской Федерации 2 Настоящий Указ вступает в силу со дня его подписания   Александр Соловьёв занимал свой пост с 2014 года, ранее с 2013 года был членом Совета Федерации от региона, с 2007 по 2013 год являлся председателем Государственного совета Удмуртской республики.\n",
            "Полный текст документа:  На основании подпункта г пункта 1 статьи 19 Федерального закона от 6 октября 1999 г 184 ФЗ Об общих принципах организации законодательных представительных и исполнительных органов государственной власти субъектов Российской Федерации постановляю 1 Отрешить Соловьева Александра Васильевича от должности Главы Удмуртской Республики в связи с утратой доверия Президента Российской Федерации 2 Настоящий Указ вступает в силу со дня его подписания   Александр Соловьёв занимал свой пост с 2014 года, ранее с 2013 года был членом Совета Федерации от региона, с 2007 по 2013 год являлся председателем Государственного совета Удмуртской республики.\n",
            "\n",
            "\n",
            "96 bert len\n",
            "Юлия Ефимова в 2008 году Российская пловчиха Юлия Ефимова сообщила, что ещё не решила, вернётся ли она в США навсегда.\n",
            "Юлия Ефимова в 2008 году Российская пловчиха Юлия Ефимова заявил, что ещё не решила, ли ли она в США ».\n",
            "\n",
            "Вчера, 16 августа 2016 года, российские СМИ распространили фразу из интервью Ефимов CNN, в которой говорится о том, что спортсменка вернётся домой в США.\n",
            "Вчера, 16 августа 2016 года, российские СМИ получили фразу из книги Ефимов CNN, в которой говорит о том, что он домой домой в США.\n",
            "\n",
            "Оригинал: \"Efimova plans to return to her Los Angeles home.\n",
            "\": \"Efimova plans to return to her Los Angeles home.\n",
            "\n",
            "The 24-year-old has lived in the US for the last five years\".\n",
            "The 24-year-old has lived in the US for the last five years\".\n",
            "\n",
            "Ефимова планирует вернуться в свой дом в Лос-Анджелесе.\n",
            "Ефимова должна жить в свой дом в Лос-Анджелесе.\n",
            "\n",
            "24-летняя спортсменка живёт в США последние пять лет.\n",
            "24-летняя спортсменка живёт в США последние пять лет.\n",
            "\n",
            "Кроме того, Юлия заявила: Жизнь в США гораздо легче, чем в России.\n",
            "Кроме того, Юлия заявила: Жизнь в США гораздо легче, чем в России.\n",
            "\n",
            "В Америке все улыбаются, дружелюбны.\n",
            "В Америке все они, нет.\n",
            "\n",
            "Она меняет.\n",
            "Она меняет.\n",
            "\n",
            "Изменила она и меня.\n",
            "И она и меня.\n",
            "\n",
            "В России людям действительно тяжело.\n",
            "В России людям очень тяжело.\n",
            "\n",
            "Возможно, именно поэтому они кажутся более агрессивными по сравнению с американцами.\n",
            "Так, именно поэтому они были более всего по ситуации с американцами.\n",
            "\n",
            "После разгоревшегося скандала, Юлия, не отрицая свои слова сказанные международному агентству, сообщила, что российские СМИ неправильно их интерпретировали — сейчас она планирует лишь «забрать вещи» из Соединённых Штатов и пожить там полгода, а за это время она решит, где будет жить и чем займётся дальше: Русские медиа перековеркали мои слова в интервью CNN.\n",
            "После этого скандала, Юлия, не на свои слова сказанные по народу, заявил, что российские СМИ не их : — сейчас она может лишь «забрать вещи» из Соединённых Штатов и пожить там полгода, а за это время она решит, где будет жить и чем будет дальше: Русские медиа - мои слова в сайт CNN.\n",
            "\n",
            "Я сказала, что вернусь в США, только чтобы забрать свои вещи.\n",
            "Я сказала, что я в США, только чтобы забрать свои вещи.\n",
            "\n",
            "У меня там квартира оплачена еще на полгода, и я вернусь туда забрать свои вещи.\n",
            "У меня там же , еще на полгода, и я хотел туда забрать свои вещи.\n",
            "\n",
            "Потом будет этап Кубка мира, а после этого я приму решение, где мне тренироваться — в России, Европе, США или открою свой собственный клуб.\n",
            "Потом будет этап Кубка мира, а после этого я приму решение, где мне [UNK] — в России, Европе, США или в свой новый клуб.\n",
            "\n",
            "Юлия Ефимова уехала в США в марте 2011 года, где её тренером стал американец Дэвид Сало.\n",
            "Юлия Ефимова уехала в США в марте 2011 года, где её тренером стал американец Дэвид Сало.\n",
            "\n",
            "По словам спортсменки, в России она проводит максимум месяц в году.\n",
            "По словам неё, в России она есть один месяц в году.\n",
            "\n",
            "Ранее главный тренер сборной РФ Сергей Колмогоров допустил, что Юлия может вернуться в Россию, где будет тренироваться по индивидуальной программе.\n",
            "Ранее главный тренер сборной РФ Сергей Колмогоров заявил, что Юлия может быть в Россию, где будет выступать по основной команде.\n",
            "\n",
            "На Олимпиаде в Бразилии Ефимова завоевала две серебряные медали на дистанциях 100 м и 200 м брассом.\n",
            "На Олимпиаде в Бразилии Ефимова выиграла две серебряные медали на дистанции 100 м и 200 м брассом.\n",
            "\n",
            "Спортсменка является бронзовым призёром Олимпийских Игр-2012, четырёхкратной чемпионкой мира, трёхкратной чемпионкой Европы.\n",
            "Спортсменка , бронзовым призёром Олимпийских Игр-2012, четырёхкратной чемпионкой мира, трёхкратной чемпионкой Европы.\n",
            "\n",
            "Она трижды побеждала на чемпионате Европы на короткой воде.\n",
            "Она трижды стала на чемпионате Европы на этой воде.\n",
            "\n",
            "\n",
            "96 bert frequency\n",
            "Юлия Ефимова в 2008 году Российская пловчиха Юлия Ефимова сообщила, что ещё не решила, вернётся ли она в США навсегда.\n",
            "Юлия Ефимова в 2008 году Российская пловчиха Юлия Ефимова сообщила, что ещё не решила, вернётся ли она в США навсегда.\n",
            "\n",
            "Вчера, 16 августа 2016 года, российские СМИ распространили фразу из интервью Ефимов CNN, в которой говорится о том, что спортсменка вернётся домой в США.\n",
            "Вчера, 16 августа 2016 года, российские СМИ распространили фразу из интервью Ефимов CNN, в которой говорится о том, что он вернётся домой в США.\n",
            "\n",
            "Оригинал: \"Efimova plans to return to her Los Angeles home.\n",
            "Оригинал: \"Efimova plans to return to her Los Angeles home.\n",
            "\n",
            "The 24-year-old has lived in the US for the last five years\".\n",
            "The 24-year-old has lived in the US for the last five years\".\n",
            "\n",
            "Ефимова планирует вернуться в свой дом в Лос-Анджелесе.\n",
            "Ефимова планирует вернуться в свой дом в Лос-Анджелесе.\n",
            "\n",
            "24-летняя спортсменка живёт в США последние пять лет.\n",
            "24-летняя спортсменка живёт в США последние пять лет.\n",
            "\n",
            "Кроме того, Юлия заявила: Жизнь в США гораздо легче, чем в России.\n",
            "Кроме того, Юлия заявила: Жизнь в США гораздо легче, чем в России.\n",
            "\n",
            "В Америке все улыбаются, дружелюбны.\n",
            "В Америке все улыбаются, дружелюбны.\n",
            "\n",
            "Она меняет.\n",
            "Она меняет.\n",
            "\n",
            "Изменила она и меня.\n",
            "Изменила она и меня.\n",
            "\n",
            "В России людям действительно тяжело.\n",
            "В России людям действительно тяжело.\n",
            "\n",
            "Возможно, именно поэтому они кажутся более агрессивными по сравнению с американцами.\n",
            "Возможно, именно поэтому они кажутся более агрессивными по сравнению с американцами.\n",
            "\n",
            "После разгоревшегося скандала, Юлия, не отрицая свои слова сказанные международному агентству, сообщила, что российские СМИ неправильно их интерпретировали — сейчас она планирует лишь «забрать вещи» из Соединённых Штатов и пожить там полгода, а за это время она решит, где будет жить и чем займётся дальше: Русские медиа перековеркали мои слова в интервью CNN.\n",
            "После разгоревшегося скандала, Юлия, не отрицая свои слова сказанные международному агентству, сообщила, что российские СМИ не их интерпретировали — сейчас она планирует лишь «забрать вещи» из Соединённых Штатов и жить там полгода, а за это время она решит, где будет жить и чем займётся дальше: Русские СМИ перековеркали мои слова в интервью CNN.\n",
            "\n",
            "Я сказала, что вернусь в США, только чтобы забрать свои вещи.\n",
            "Я сказала, что вернусь в США, только чтобы забрать свои вещи.\n",
            "\n",
            "У меня там квартира оплачена еще на полгода, и я вернусь туда забрать свои вещи.\n",
            "У меня там квартира оплачена еще на полгода, и я вернусь туда забрать свои вещи.\n",
            "\n",
            "Потом будет этап Кубка мира, а после этого я приму решение, где мне тренироваться — в России, Европе, США или открою свой собственный клуб.\n",
            "Потом будет этап Кубка мира, а после этого я приму решение, где мне [UNK] — в России, Европе, США или открою свой собственный клуб.\n",
            "\n",
            "Юлия Ефимова уехала в США в марте 2011 года, где её тренером стал американец Дэвид Сало.\n",
            "Юлия Ефимова уехала в США в марте 2011 года, где её тренером стал американец Дэвид Сало.\n",
            "\n",
            "По словам спортсменки, в России она проводит максимум месяц в году.\n",
            "По словам спортсменки, в России она проводит один месяц в году.\n",
            "\n",
            "Ранее главный тренер сборной РФ Сергей Колмогоров допустил, что Юлия может вернуться в Россию, где будет тренироваться по индивидуальной программе.\n",
            "Ранее главный тренер сборной РФ Сергей Колмогоров допустил, что Юлия может вернуться в Россию, где будет выступать по индивидуальной программе.\n",
            "\n",
            "На Олимпиаде в Бразилии Ефимова завоевала две серебряные медали на дистанциях 100 м и 200 м брассом.\n",
            "На Олимпиаде в Бразилии Ефимова завоевала две серебряные медали на дистанциях 100 м и 200 м брассом.\n",
            "\n",
            "Спортсменка является бронзовым призёром Олимпийских Игр-2012, четырёхкратной чемпионкой мира, трёхкратной чемпионкой Европы.\n",
            "Спортсменка является бронзовым призёром Олимпийских Игр-2012, четырёхкратной чемпионкой мира, трёхкратной чемпионкой Европы.\n",
            "\n",
            "Она трижды побеждала на чемпионате Европы на короткой воде.\n",
            "Она также побеждала на чемпионате Европы на короткой воде.\n",
            "\n",
            "\n",
            "96 synonym len\n",
            "Юлия Ефимова в 2008 году Российская пловчиха Юлия Ефимова сообщила, что ещё не решила, вернётся ли она в США навсегда.\n",
            "Юлия Ефимова в 2008 году Российская пловчиха Юлия Ефимова изрекла, что ещё не решила, придёт ли она в США навек.\n",
            "\n",
            "Вчера, 16 августа 2016 года, российские СМИ распространили фразу из интервью Ефимов CNN, в которой говорится о том, что спортсменка вернётся домой в США.\n",
            "Вчера, 16 августа 2016 года, российские СМИ излили фразу из опросе Ефимов CNN, в которой говорится о том, что спортсменка придёт домой в США.\n",
            "\n",
            "Оригинал: \"Efimova plans to return to her Los Angeles home.\n",
            "Чудак: \"Efimova plans to return to her Los Angeles home.\n",
            "\n",
            "The 24-year-old has lived in the US for the last five years\".\n",
            "The 24-year-old has lived in the US for the last five years\".\n",
            "\n",
            "Ефимова планирует вернуться в свой дом в Лос-Анджелесе.\n",
            "Ефимова хочет прийти в свой дом в Лос-Анджелесе.\n",
            "\n",
            "24-летняя спортсменка живёт в США последние пять лет.\n",
            "24-летняя спортсменка живёт в США последние пять лет.\n",
            "\n",
            "Кроме того, Юлия заявила: Жизнь в США гораздо легче, чем в России.\n",
            "Кроме того, Юлия заявила: Жизнь в США гораздо легче, чем в России.\n",
            "\n",
            "В Америке все улыбаются, дружелюбны.\n",
            "В Америке все смеются, дружные.\n",
            "\n",
            "Она меняет.\n",
            "Она меняет.\n",
            "\n",
            "Изменила она и меня.\n",
            "Выдала она и меня.\n",
            "\n",
            "В России людям действительно тяжело.\n",
            "В России людям действительно тяжело.\n",
            "\n",
            "Возможно, именно поэтому они кажутся более агрессивными по сравнению с американцами.\n",
            "Возможно, именно поэтому они кажутся более агрессивными по сравнению с американцами.\n",
            "\n",
            "После разгоревшегося скандала, Юлия, не отрицая свои слова сказанные международному агентству, сообщила, что российские СМИ неправильно их интерпретировали — сейчас она планирует лишь «забрать вещи» из Соединённых Штатов и пожить там полгода, а за это время она решит, где будет жить и чем займётся дальше: Русские медиа перековеркали мои слова в интервью CNN.\n",
            "После зажёгшегося скандала, Юлия, не отрицая свои слова сказанные мировому агенству, изрекла, что российские СМИ неправильно их освещали — сейчас она хочет лишь «забрать вещи» из Соединённых Штатов и пожить там полгода, а за это время она решит, где будет жить и чем начнёт дальше: Русские медиа перековеркали мои слова в опросе CNN.\n",
            "\n",
            "Я сказала, что вернусь в США, только чтобы забрать свои вещи.\n",
            "Я сказала, что приду в США, только чтобы забрать свои вещи.\n",
            "\n",
            "У меня там квартира оплачена еще на полгода, и я вернусь туда забрать свои вещи.\n",
            "У меня там дом покрытая еще на полгода, и я приду туда забрать свои вещи.\n",
            "\n",
            "Потом будет этап Кубка мира, а после этого я приму решение, где мне тренироваться — в России, Европе, США или открою свой собственный клуб.\n",
            "Потом будет этап Кубка мира, а после этого я приму решение, где мне обучаться — в России, Европе, США или открою свой собственный клуб.\n",
            "\n",
            "Юлия Ефимова уехала в США в марте 2011 года, где её тренером стал американец Дэвид Сало.\n",
            "Юлия Ефимова уехала в США в марте 2011 года, где её тренером стал американец Дэвид Сало.\n",
            "\n",
            "По словам спортсменки, в России она проводит максимум месяц в году.\n",
            "По словам спортсменки, в России она живёт максимум месяц в году.\n",
            "\n",
            "Ранее главный тренер сборной РФ Сергей Колмогоров допустил, что Юлия может вернуться в Россию, где будет тренироваться по индивидуальной программе.\n",
            "Ранее главный тренер сборной РФ Сергей Колмогоров дал, что Юлия может прийти в Россию, где будет обучаться по личной программе.\n",
            "\n",
            "На Олимпиаде в Бразилии Ефимова завоевала две серебряные медали на дистанциях 100 м и 200 м брассом.\n",
            "На Олимпиаде в Бразилии Ефимова взяла две серебряные медали на путях 100 м и 200 м брассом.\n",
            "\n",
            "Спортсменка является бронзовым призёром Олимпийских Игр-2012, четырёхкратной чемпионкой мира, трёхкратной чемпионкой Европы.\n",
            "Спортсменка есть бронзовым призёром Олимпийских Игр-2012, четырёхкратной чемпионкой мира, трёхкратной чемпионкой Европы.\n",
            "\n",
            "Она трижды побеждала на чемпионате Европы на короткой воде.\n",
            "Она трижды била на чемпионате Европы на короткой воде.\n",
            "\n",
            "\n",
            "96 synonym frequency\n",
            "Юлия Ефимова в 2008 году Российская пловчиха Юлия Ефимова сообщила, что ещё не решила, вернётся ли она в США навсегда.\n",
            "Юлия Ефимова в 2008 году Российская пловчиха Юлия Ефимова сообщила, что ещё не решила, вернётся ли она в США навсегда.\n",
            "\n",
            "Вчера, 16 августа 2016 года, российские СМИ распространили фразу из интервью Ефимов CNN, в которой говорится о том, что спортсменка вернётся домой в США.\n",
            "Вчера, 16 августа 2016 года, российские СМИ распространили фразу из интервью Ефимов CNN, в которой говорится о том, что спортсменка вернётся домой в США.\n",
            "\n",
            "Оригинал: \"Efimova plans to return to her Los Angeles home.\n",
            "Оригинал: \"Efimova plans to return to her Los Angeles home.\n",
            "\n",
            "The 24-year-old has lived in the US for the last five years\".\n",
            "The 24-year-old has lived in the US for the last five years\".\n",
            "\n",
            "Ефимова планирует вернуться в свой дом в Лос-Анджелесе.\n",
            "Ефимова планирует вернуться в свой дом в Лос-Анджелесе.\n",
            "\n",
            "24-летняя спортсменка живёт в США последние пять лет.\n",
            "24-летняя спортсменка живёт в США последние пять лет.\n",
            "\n",
            "Кроме того, Юлия заявила: Жизнь в США гораздо легче, чем в России.\n",
            "Кроме того, Юлия заявила: Жизнь в США гораздо легче, чем в России.\n",
            "\n",
            "В Америке все улыбаются, дружелюбны.\n",
            "В Америке все улыбаются, дружелюбны.\n",
            "\n",
            "Она меняет.\n",
            "Она меняет.\n",
            "\n",
            "Изменила она и меня.\n",
            "Изменила она и меня.\n",
            "\n",
            "В России людям действительно тяжело.\n",
            "В России людям действительно тяжело.\n",
            "\n",
            "Возможно, именно поэтому они кажутся более агрессивными по сравнению с американцами.\n",
            "Возможно, именно поэтому они кажутся более агрессивными по сравнению с американцами.\n",
            "\n",
            "После разгоревшегося скандала, Юлия, не отрицая свои слова сказанные международному агентству, сообщила, что российские СМИ неправильно их интерпретировали — сейчас она планирует лишь «забрать вещи» из Соединённых Штатов и пожить там полгода, а за это время она решит, где будет жить и чем займётся дальше: Русские медиа перековеркали мои слова в интервью CNN.\n",
            "После разгоревшегося скандала, Юлия, не отрицая свои слова сказанные международному агентству, сообщила, что российские СМИ неправильно их интерпретировали — сейчас она планирует лишь «забрать вещи» из Соединённых Штатов и прожить там полгода, а за это время она решит, где будет жить и чем займётся дальше: Русские медий перековеркали мои слова в интервью CNN.\n",
            "\n",
            "Я сказала, что вернусь в США, только чтобы забрать свои вещи.\n",
            "Я сказала, что вернусь в США, только чтобы забрать свои вещи.\n",
            "\n",
            "У меня там квартира оплачена еще на полгода, и я вернусь туда забрать свои вещи.\n",
            "У меня там квартира оплачена еще на полгода, и я вернусь туда забрать свои вещи.\n",
            "\n",
            "Потом будет этап Кубка мира, а после этого я приму решение, где мне тренироваться — в России, Европе, США или открою свой собственный клуб.\n",
            "Потом будет этап Кубка мира, а после этого я приму решение, где мне готовиться — в России, Европе, США или открою свой собственный клуб.\n",
            "\n",
            "Юлия Ефимова уехала в США в марте 2011 года, где её тренером стал американец Дэвид Сало.\n",
            "Юлия Ефимова уехала в США в марте 2011 года, где её тренером стал американец Дэвид Сало.\n",
            "\n",
            "По словам спортсменки, в России она проводит максимум месяц в году.\n",
            "По словам спортсменки, в России она проводит максимум месяц в году.\n",
            "\n",
            "Ранее главный тренер сборной РФ Сергей Колмогоров допустил, что Юлия может вернуться в Россию, где будет тренироваться по индивидуальной программе.\n",
            "Ранее главный тренер сборной РФ Сергей Колмогоров допустил, что Юлия может вернуться в Россию, где будет готовиться по индивидуальной программе.\n",
            "\n",
            "На Олимпиаде в Бразилии Ефимова завоевала две серебряные медали на дистанциях 100 м и 200 м брассом.\n",
            "На Олимпиаде в Бразилии Ефимова завоевала две серебряные медали на дистанциях 100 м и 200 м брассом.\n",
            "\n",
            "Спортсменка является бронзовым призёром Олимпийских Игр-2012, четырёхкратной чемпионкой мира, трёхкратной чемпионкой Европы.\n",
            "Спортсменка является бронзовым призёром Олимпийских Игр-2012, четырёхкратной чемпионкой мира, трёхкратной чемпионкой Европы.\n",
            "\n",
            "Она трижды побеждала на чемпионате Европы на короткой воде.\n",
            "Она трехкратно побеждала на чемпионате Европы на короткой воде.\n",
            "\n",
            "\n",
            "97 bert len\n",
            "Аман Тулеев В воскресенье, 1 апреля 2018 года, губернатор Кемеровской области Аман Тулеев попросил президента России Владимира Путина о досрочной отставке по собственному желанию после пожара в торговом центре «Зимняя вишня», в котором, по официальным данным погибло около 60 человек, большая часть из которых дети.\n",
            "Аман Тулеев В воскресенье, 1 апреля 2018 года, губернатор Кемеровской области Аман Тулеев заявил президента России Владимира Путина о своей отставке по собственному желанию после пожара в городе центре «Зимняя вишня», в котором, по другим данным погибло около 60 человек, большая часть из которых дети.\n",
            "\n",
            "Владимир Путин уже принял отставку, назначив временно исполняющим обязанности первого заместителя губернатора Сергея Цивилёва.\n",
            "Владимир Путин уже принял отставку, назначив временно исполняющим обязанности первого заместителя губернатора Сергея Цивилёва.\n",
            "\n",
            "Тулеев пояснил, что «сделал всё, что мог», но «надо же жить, дальше жить», поэтому: Считаю для себя правильным, осознанным, единственно верным решением, потому что с таким тяжелейшим грузом на посту губернатора, ну нельзя, морально нельзя.\n",
            "Тулеев писал, что «сделал всё, что мог», но «надо же жить, дальше жить», поэтому: Считаю для себя большим, главным, не верным решением, потому что с таким тяжелейшим грузом на посту губернатора, ну нельзя, то нельзя.\n",
            "\n",
            "Отставки губернатора требовали на стихийном митинге после пожара, прошедшем 27 марта 2018 года в Кемерово.\n",
            "С губернатора - на стихийном митинге после пожара, начался 27 марта 2018 года в Кемерово.\n",
            "\n",
            "Сам Тулеев на митинге не появился.\n",
            "Сам Тулеев на митинге не был.\n",
            "\n",
            "Эти же требования относились к вице-губернатору Цивилёву, которого власти России заранее готовили в качестве замены действовавшего губернатора.\n",
            "Эти же же и к вице-губернатору Цивилёву, которого власти России заранее приняли в случае замены военного губернатора.\n",
            "\n",
            "Кроме того, по данным источников СМИ, решение об отставке Тулеева было принято в Кремле ещё до пожара.\n",
            "Кроме того, по данным некоторых СМИ, решение об отставке Тулеева было принято в Кремле ещё до пожара.\n",
            "\n",
            "Предположительно, уйти он должен быть после дня рождения 13 мая по состоянию здоровья.\n",
            "Так, уйти он должен быть после дня с 13 мая по причине г.\n",
            "\n",
            "Однако власти не хотели устраивать «показательной отставки» сразу после митингов, так как она, по мнению администрации президента, могла быть воспринята, как следствие требований граждан — решения под давлением, слабости, на что нынешняя власть в стране идти не готова.\n",
            "Однако власти не хотели такой «закон порядок» сразу после митингов, так как она, по мнению администрации президента, могла быть создана, как из , , — решения под ##обных, то, на что новая власть в стране идти не готова.\n",
            "\n",
            "Аману Тулееву 73 года (1944 г. р.).\n",
            "Аману Тулееву 73 года (1944 г. р.).\n",
            "\n",
            "Он занимается политикой с 1980-х годов.\n",
            "Он был начиная с 1980-х годов.\n",
            "\n",
            "Возглавил Кемеровскую область в 1997 году, четыре раза переизбирался главой региона с результатом более 90 %.\n",
            "Возглавил Кемеровскую область в 1997 году, четыре раза был главой региона с результатом более 90 %.\n",
            "\n",
            "Его полномочия на очередном губернаторском сроке истекали в 2020 году.\n",
            "Его ##боры на втором его сроке - в 2020 году.\n",
            "\n",
            "Сергей Евгеньевич Цивилёв стал заместителем губернатора Кемеровской области по промышленности, транспорту и потребительскому рынку в начале марта 2018 года.\n",
            "Сергей Евгеньевич Цивилёв стал заместителем губернатора Кемеровской области по промышленности, транспорту и потребительскому рынку в начале марта 2018 года.\n",
            "\n",
            "До этого он четыре года был гендиректором «Колмара» (добывает уголь в Якутии), основным совладельцем (70 %) которой являются его собственные холдинговые компаний «АНТЭ Холдинг» и «Данрит».\n",
            "До этого он четыре года был гендиректором «Колмара» (главный уголь в Якутии), главным ##и (70 %) которой были его известные группы компаний «АНТЭ Холдинг» и «Данрит».\n",
            "\n",
            "Остальными 30 % акций Колмара владеет ''Volga Group'' друга Путина Геннадия Тимченко.\n",
            "Более 30 % акций Колмара владеет ''Volga Group'' друга Путина Геннадия Тимченко.\n",
            "\n",
            "После вступления в должность вице-губернатора Цивилёв передал акции своих компаний жене.\n",
            "После выборов в роли вице-губернатора Цивилёв жене акции своих своей жене.\n",
            "\n",
            "\n",
            "97 bert frequency\n",
            "Аман Тулеев В воскресенье, 1 апреля 2018 года, губернатор Кемеровской области Аман Тулеев попросил президента России Владимира Путина о досрочной отставке по собственному желанию после пожара в торговом центре «Зимняя вишня», в котором, по официальным данным погибло около 60 человек, большая часть из которых дети.\n",
            "Аман Тулеев В воскресенье, 1 апреля 2018 года, губернатор Кемеровской области Аман Тулеев попросил президента России Владимира Путина о досрочной отставке по собственному желанию после пожара в торговом центре «Зимняя вишня», в котором, по официальным данным погибло около 60 человек, большая часть из которых дети.\n",
            "\n",
            "Владимир Путин уже принял отставку, назначив временно исполняющим обязанности первого заместителя губернатора Сергея Цивилёва.\n",
            "Владимир Путин уже принял отставку, назначив временно исполняющим обязанности первого заместителя губернатора Сергея Цивилёва.\n",
            "\n",
            "Тулеев пояснил, что «сделал всё, что мог», но «надо же жить, дальше жить», поэтому: Считаю для себя правильным, осознанным, единственно верным решением, потому что с таким тяжелейшим грузом на посту губернатора, ну нельзя, морально нельзя.\n",
            "Тулеев пояснил, что «сделал всё, что мог», но «надо же жить, дальше жить», поэтому: Считаю для себя правильным, осознанным, не верным решением, потому что с таким тяжелейшим грузом на посту губернатора, ну нельзя, то нельзя.\n",
            "\n",
            "Отставки губернатора требовали на стихийном митинге после пожара, прошедшем 27 марта 2018 года в Кемерово.\n",
            "Отставки губернатора требовали на стихийном митинге после пожара, прошедшем 27 марта 2018 года в Кемерово.\n",
            "\n",
            "Сам Тулеев на митинге не появился.\n",
            "Сам Тулеев на митинге не появился.\n",
            "\n",
            "Эти же требования относились к вице-губернатору Цивилёву, которого власти России заранее готовили в качестве замены действовавшего губернатора.\n",
            "Эти же требования относились к вице-губернатору Цивилёву, которого власти России заранее готовили в качестве замены действовавшего губернатора.\n",
            "\n",
            "Кроме того, по данным источников СМИ, решение об отставке Тулеева было принято в Кремле ещё до пожара.\n",
            "Кроме того, по данным источников СМИ, решение об отставке Тулеева было принято в Кремле ещё до пожара.\n",
            "\n",
            "Предположительно, уйти он должен быть после дня рождения 13 мая по состоянию здоровья.\n",
            "Предположительно, уйти он может быть после дня рождения 13 мая по состоянию здоровья.\n",
            "\n",
            "Однако власти не хотели устраивать «показательной отставки» сразу после митингов, так как она, по мнению администрации президента, могла быть воспринята, как следствие требований граждан — решения под давлением, слабости, на что нынешняя власть в стране идти не готова.\n",
            "Однако власти не хотели устраивать «показательной отставки» сразу после митингов, так как она, по мнению администрации президента, могла быть воспринята, как следствие требований граждан — решения под давлением, слабости, на что нынешняя власть в стране идти не готова.\n",
            "\n",
            "Аману Тулееву 73 года (1944 г. р.).\n",
            "Аману Тулееву 73 года (1944 г. р.).\n",
            "\n",
            "Он занимается политикой с 1980-х годов.\n",
            "Он занимается политикой с 1980-х годов.\n",
            "\n",
            "Возглавил Кемеровскую область в 1997 году, четыре раза переизбирался главой региона с результатом более 90 %.\n",
            "Возглавил Кемеровскую область в 1997 году, четыре раза переизбирался главой региона с результатом более 90 %.\n",
            "\n",
            "Его полномочия на очередном губернаторском сроке истекали в 2020 году.\n",
            "Его полномочия на очередном губернаторском сроке истекали в 2020 году.\n",
            "\n",
            "Сергей Евгеньевич Цивилёв стал заместителем губернатора Кемеровской области по промышленности, транспорту и потребительскому рынку в начале марта 2018 года.\n",
            "Сергей Евгеньевич Цивилёв стал заместителем губернатора Кемеровской области по промышленности, транспорту и потребительскому рынку в начале марта 2018 года.\n",
            "\n",
            "До этого он четыре года был гендиректором «Колмара» (добывает уголь в Якутии), основным совладельцем (70 %) которой являются его собственные холдинговые компаний «АНТЭ Холдинг» и «Данрит».\n",
            "До этого он четыре года был гендиректором «Колмара» (добывает уголь в Якутии), основным совладельцем (70 %) которой являются его собственные холдинговые компаний «АНТЭ Холдинг» и «Данрит».\n",
            "\n",
            "Остальными 30 % акций Колмара владеет ''Volga Group'' друга Путина Геннадия Тимченко.\n",
            "Остальными 30 % акций Колмара владеет ''Volga Group'' друга Путина Геннадия Тимченко.\n",
            "\n",
            "После вступления в должность вице-губернатора Цивилёв передал акции своих компаний жене.\n",
            "После вступления в должность вице-губернатора Цивилёв передал акции своих компаний жене.\n",
            "\n",
            "\n",
            "97 synonym len\n",
            "Аман Тулеев В воскресенье, 1 апреля 2018 года, губернатор Кемеровской области Аман Тулеев попросил президента России Владимира Путина о досрочной отставке по собственному желанию после пожара в торговом центре «Зимняя вишня», в котором, по официальным данным погибло около 60 человек, большая часть из которых дети.\n",
            "Аман Тулеев В воскресенье, 1 апреля 2018 года, губернатор Кемеровской области Аман Тулеев позвал президента России Владимира Путина о ранней отставке по собственному желанию после пожара в торговом центре «Зимняя вишня», в котором, по официальным данным погибло около 60 человек, большая часть из которых дети.\n",
            "\n",
            "Владимир Путин уже принял отставку, назначив временно исполняющим обязанности первого заместителя губернатора Сергея Цивилёва.\n",
            "Владимир Путин уже принял отставку, назначив временно исполняющим обязанности первого заместителя губернатора Сергея Цивилёва.\n",
            "\n",
            "Тулеев пояснил, что «сделал всё, что мог», но «надо же жить, дальше жить», поэтому: Считаю для себя правильным, осознанным, единственно верным решением, потому что с таким тяжелейшим грузом на посту губернатора, ну нельзя, морально нельзя.\n",
            "Тулеев вбил, что «сделал всё, что мог», но «надо же жить, дальше жить», поэтому: Считаю для себя правильным, осознанным, лишь верным решением, потому что с таким тяжелейшим грузом на посту губернатора, ну нельзя, этично нельзя.\n",
            "\n",
            "Отставки губернатора требовали на стихийном митинге после пожара, прошедшем 27 марта 2018 года в Кемерово.\n",
            "Ухода губернатора требовали на стихийном митинге после пожара, прошедшем 27 марта 2018 года в Кемерово.\n",
            "\n",
            "Сам Тулеев на митинге не появился.\n",
            "Сам Тулеев на митинге не вышел.\n",
            "\n",
            "Эти же требования относились к вице-губернатору Цивилёву, которого власти России заранее готовили в качестве замены действовавшего губернатора.\n",
            "Эти же требования ставили к вице-губернатору Цивилёву, которого власти России заранее готовили в родившемся замены ведшего губернатора.\n",
            "\n",
            "Кроме того, по данным источников СМИ, решение об отставке Тулеева было принято в Кремле ещё до пожара.\n",
            "Кроме того, по данным источников СМИ, решение об отставке Тулеева было принято в Кремле ещё до пожара.\n",
            "\n",
            "Предположительно, уйти он должен быть после дня рождения 13 мая по состоянию здоровья.\n",
            "Предположительно, уйти он должен быть после дня родов 13 мая по срезу здравия.\n",
            "\n",
            "Однако власти не хотели устраивать «показательной отставки» сразу после митингов, так как она, по мнению администрации президента, могла быть воспринята, как следствие требований граждан — решения под давлением, слабости, на что нынешняя власть в стране идти не готова.\n",
            "Однако власти не хотели девать «показательной ухода» сразу после митингов, так как она, по мнению администрации президента, могла быть понятая, как итог требований граждан — решения под игом, тяги, на что нынешняя власть в стране идти не готова.\n",
            "\n",
            "Аману Тулееву 73 года (1944 г. р.).\n",
            "Аману Тулееву 73 года (1944 г. р.).\n",
            "\n",
            "Он занимается политикой с 1980-х годов.\n",
            "Он горит политикой с 1980-х годов.\n",
            "\n",
            "Возглавил Кемеровскую область в 1997 году, четыре раза переизбирался главой региона с результатом более 90 %.\n",
            "Возглавил Кемеровскую область в 1997 году, четыре раза переизбирался главой региона с итогом более 90 %.\n",
            "\n",
            "Его полномочия на очередном губернаторском сроке истекали в 2020 году.\n",
            "Его мандаты на очередном губернаторском сроке течи в 2020 году.\n",
            "\n",
            "Сергей Евгеньевич Цивилёв стал заместителем губернатора Кемеровской области по промышленности, транспорту и потребительскому рынку в начале марта 2018 года.\n",
            "Сергей Евгеньевич Цивилёв стал заместителем губернатора Кемеровской области по промышленности, транспорту и потребительскому рынку в начале марта 2018 года.\n",
            "\n",
            "До этого он четыре года был гендиректором «Колмара» (добывает уголь в Якутии), основным совладельцем (70 %) которой являются его собственные холдинговые компаний «АНТЭ Холдинг» и «Данрит».\n",
            "До этого он четыре года был гендиректором «Колмара» (рубит уголь в Якутии), основным партнёром (70 %) которой есть его собственные холдинговые компаний «АНТЭ Холдинг» и «Данрит».\n",
            "\n",
            "Остальными 30 % акций Колмара владеет ''Volga Group'' друга Путина Геннадия Тимченко.\n",
            "Прочими 30 % акций Колмара владеет ''Volga Group'' друга Путина Геннадия Тимченко.\n",
            "\n",
            "После вступления в должность вице-губернатора Цивилёв передал акции своих компаний жене.\n",
            "После входа в должность вице-губернатора Цивилёв дал акции своих компаний жене.\n",
            "\n",
            "\n",
            "97 synonym frequency\n",
            "Аман Тулеев В воскресенье, 1 апреля 2018 года, губернатор Кемеровской области Аман Тулеев попросил президента России Владимира Путина о досрочной отставке по собственному желанию после пожара в торговом центре «Зимняя вишня», в котором, по официальным данным погибло около 60 человек, большая часть из которых дети.\n",
            "Аман Тулеев В воскресенье, 1 апреля 2018 года, губернатор Кемеровской области Аман Тулеев попросил президента России Владимира Путина о досрочной отставке по собственному желанию после пожара в торговом центре «Зимняя вишня», в котором, по официальным данным погибло около 60 человек, большая часть из которых дети.\n",
            "\n",
            "Владимир Путин уже принял отставку, назначив временно исполняющим обязанности первого заместителя губернатора Сергея Цивилёва.\n",
            "Владимир Путин уже принял отставку, назначив временно исполняющим обязанности первого заместителя губернатора Сергея Цивилёва.\n",
            "\n",
            "Тулеев пояснил, что «сделал всё, что мог», но «надо же жить, дальше жить», поэтому: Считаю для себя правильным, осознанным, единственно верным решением, потому что с таким тяжелейшим грузом на посту губернатора, ну нельзя, морально нельзя.\n",
            "Тулеев пояснил, что «сделал всё, что мог», но «надо же жить, дальше жить», поэтому: Считаю для себя правильным, осознанным, лишь только верным решением, потому что с таким тяжелейшим грузом на посту губернатора, ну нельзя, этично нельзя.\n",
            "\n",
            "Отставки губернатора требовали на стихийном митинге после пожара, прошедшем 27 марта 2018 года в Кемерово.\n",
            "Отставки губернатора требовали на стихийном митинге после пожара, прошедшем 27 марта 2018 года в Кемерово.\n",
            "\n",
            "Сам Тулеев на митинге не появился.\n",
            "Сам Тулеев на митинге не появился.\n",
            "\n",
            "Эти же требования относились к вице-губернатору Цивилёву, которого власти России заранее готовили в качестве замены действовавшего губернатора.\n",
            "Эти же требования относились к вице-губернатору Цивилёву, которого власти России заранее готовили в качестве замены действовавшего губернатора.\n",
            "\n",
            "Кроме того, по данным источников СМИ, решение об отставке Тулеева было принято в Кремле ещё до пожара.\n",
            "Кроме того, по данным источников СМИ, решение об отставке Тулеева было принято в Кремле ещё до пожара.\n",
            "\n",
            "Предположительно, уйти он должен быть после дня рождения 13 мая по состоянию здоровья.\n",
            "Предположительно, уйти он должен быть после дня рождения 13 мая по состоянию здоровья.\n",
            "\n",
            "Однако власти не хотели устраивать «показательной отставки» сразу после митингов, так как она, по мнению администрации президента, могла быть воспринята, как следствие требований граждан — решения под давлением, слабости, на что нынешняя власть в стране идти не готова.\n",
            "Однако власти не хотели устраивать «показательной отставки» сразу после митингов, так как она, по мнению администрации президента, могла быть воспринята, как следствие требований граждан — решения под давлением, слабости, на что нынешняя власть в стране идти не готова.\n",
            "\n",
            "Аману Тулееву 73 года (1944 г. р.).\n",
            "Аману Тулееву 73 года (1944 г. р.).\n",
            "\n",
            "Он занимается политикой с 1980-х годов.\n",
            "Он занимается политикой с 1980-х годов.\n",
            "\n",
            "Возглавил Кемеровскую область в 1997 году, четыре раза переизбирался главой региона с результатом более 90 %.\n",
            "Возглавил Кемеровскую область в 1997 году, четыре раза переизбирался главой региона с результатом более 90 %.\n",
            "\n",
            "Его полномочия на очередном губернаторском сроке истекали в 2020 году.\n",
            "Его полномочия на очередном губернаторском сроке истекали в 2020 году.\n",
            "\n",
            "Сергей Евгеньевич Цивилёв стал заместителем губернатора Кемеровской области по промышленности, транспорту и потребительскому рынку в начале марта 2018 года.\n",
            "Сергей Евгеньевич Цивилёв стал заместителем губернатора Кемеровской области по промышленности, транспорту и потребительскому рынку в начале марта 2018 года.\n",
            "\n",
            "До этого он четыре года был гендиректором «Колмара» (добывает уголь в Якутии), основным совладельцем (70 %) которой являются его собственные холдинговые компаний «АНТЭ Холдинг» и «Данрит».\n",
            "До этого он четыре года был гендиректором «Колмара» (добывает уголь в Якутии), основным совладельцем (70 %) которой являются его собственные холдинговые компаний «АНТЭ Холдинг» и «Данрит».\n",
            "\n",
            "Остальными 30 % акций Колмара владеет ''Volga Group'' друга Путина Геннадия Тимченко.\n",
            "Остальными 30 % акций Колмара владеет ''Volga Group'' друга Путина Геннадия Тимченко.\n",
            "\n",
            "После вступления в должность вице-губернатора Цивилёв передал акции своих компаний жене.\n",
            "После вступления в должность вице-губернатора Цивилёв передал акции своих компаний жене.\n",
            "\n",
            "\n",
            "98 bert len\n",
            "Подписан новый закон об ответственности за преступления террористического характера.\n",
            "Новый новый закон об ответственности за преступления террористического характера.\n",
            "\n",
            "Как сообщила пресс-служба президент России, Дмитрий Медведев подписал федеральный закон об ответственности за террористические преступления.\n",
            "Как и пресс-служба президент России, Дмитрий Медведев подписал федеральный закон об ответственности за террористические преступления.\n",
            "\n",
            "Согласно закону, расширяются основания для привлечения к уголовной ответственности лиц, уличённых в пособничестве в совершении теракта, а также ужесточается уголовное наказание за совершение ряда преступлений террористического характера, сообщает РБК.\n",
            "По закону, имеются условия для подготовки к пунктам статье лиц, уличённых в участии в ходе теракта, а также на на право за то ряда объектов террористического характера, по РБК.\n",
            "\n",
            "Инициатива внесения данных изменений принадлежит самому Дмитрию Медведеву.\n",
            "Система для данных данных к самому Дмитрию Медведеву.\n",
            "\n",
            "Например, в статье 205.1 УК РФ появится новая часть, предусматривающая уголовную ответственность за пособничество в совершении теракта в виде лишения свободы на срок от 8 до 20 лет.\n",
            "Так, в статье 205.1 УК РФ - новая часть, имеет ##ся норма за пособничество в совершении теракта в виде лишения свободы на срок от 8 до 20 лет.\n",
            "\n",
            "Термин «пособничество» в данном случае подразумевает «умышленное содействие советами, указаниями, предоставлением информации, средств или орудий совершения преступления либо устранением препятствий к его совершению, а также обещание скрыть преступника, средства или орудия совершения преступления, следы преступления либо предметы, добытые преступным путем, а равно обещание приобрести или сбыть такие предметы».\n",
            "Термин «защита» в данном случае означает «лично значение советами, например,,тв или орудий действия , либо других средств к ег«а также « скрыть информации, объекта или орудия совершения преступления, следы преступления либо предметы, добытые пут путем, а равно обещание найти или сбыть такие предметы».\n",
            "\n",
            "В соответствии с законом будет также ужесточена уголовная ответственность за содействие террористической деятельности (ст. 205.1 УК РФ).\n",
            "В связи с законом будет также иметь вся норма за содействие террористической деятельности (ст. 205.1 УК РФ).\n",
            "\n",
            "Оно будет караться лишением свободы на срок от 5 до 10 лет со штрафом в размере до 500 тыс. рублей (по действующему закону — от 4 до 8 лет).\n",
            "Оно будет быть лишением свободы на срок от 5 до 10 лет со штрафом в размере до 500 тыс. рублей (по другим закону — от 4 до 8 лет).\n",
            "\n",
            "В свою очередь, за публичные призывы к осуществлению террористической деятельности или публичное оправдание терроризма закон предлагает лишать свободы на срок от 8 до 15 лет со штрафом в размере от 500 тыс. до 1 млн рублей (в настоящее время — до 5 лет со штрафом до 500 тыс. рублей).\n",
            "В свою очередь, за публичные призывы к осуществлению террористической деятельности или публичное оправдание терроризма закон закон лишать свободы на срок от 8 до 15 лет со штрафом в размере от 500 тыс. до 1 млн рублей (в то время — до 5 лет со штрафом до 500 тыс. рублей).\n",
            "\n",
            "При этом условно-досрочное освобождение осуждённых за такие преступления может быть осуществлено только после фактического отбытия не менее 3/4 назначенного им срока наказания, подчёркивается в законе.\n",
            "При этом , право осуждённых за такие дела может быть возможно только после получения отбытия не менее 3/4 - им срока свободы, как в законе.\n",
            "\n",
            "Закон был принят Госдумой 26 ноября 2010 года и одобрен Советом Федерации 1 декабря 2010 года.\n",
            "Закон был принят Госдумой 26 ноября 2010 года и одобрен Советом Федерации 1 декабря 2010 года.\n",
            "\n",
            "\n",
            "98 bert frequency\n",
            "Подписан новый закон об ответственности за преступления террористического характера.\n",
            "Подписан новый закон об ответственности за преступления террористического характера.\n",
            "\n",
            "Как сообщила пресс-служба президент России, Дмитрий Медведев подписал федеральный закон об ответственности за террористические преступления.\n",
            "Как сообщила пресс-служба президент России, Дмитрий Медведев подписал федеральный закон об ответственности за террористические преступления.\n",
            "\n",
            "Согласно закону, расширяются основания для привлечения к уголовной ответственности лиц, уличённых в пособничестве в совершении теракта, а также ужесточается уголовное наказание за совершение ряда преступлений террористического характера, сообщает РБК.\n",
            "Согласно закону, расширяются основания для привлечения к уголовной ответственности лиц, уличённых в пособничестве в совершении теракта, а также ужесточается уголовное наказание за то ряда преступлений террористического характера, сообщает РБК.\n",
            "\n",
            "Инициатива внесения данных изменений принадлежит самому Дмитрию Медведеву.\n",
            "Инициатива внесения данных изменений принадлежит самому Дмитрию Медведеву.\n",
            "\n",
            "Например, в статье 205.1 УК РФ появится новая часть, предусматривающая уголовную ответственность за пособничество в совершении теракта в виде лишения свободы на срок от 8 до 20 лет.\n",
            "Например, в статье 205.1 УК РФ появится новая часть, предусматривающая уголовную ответственность за пособничество в совершении теракта в виде лишения свободы на срок от 8 до 20 лет.\n",
            "\n",
            "Термин «пособничество» в данном случае подразумевает «умышленное содействие советами, указаниями, предоставлением информации, средств или орудий совершения преступления либо устранением препятствий к его совершению, а также обещание скрыть преступника, средства или орудия совершения преступления, следы преступления либо предметы, добытые преступным путем, а равно обещание приобрести или сбыть такие предметы».\n",
            "Термин «защита» в данном случае подразумевает «умышленное значение советами, указаниями, предоставлением информации, средств или совершенияершения преступления либо устранением препятствий к его совершению, а« скрыть преступника, средства или орудия совершения преступления, следы преступления либо предметы, добытые преступным путем, а также обещание приобрести или получить такие предметы».\n",
            "\n",
            "В соответствии с законом будет также ужесточена уголовная ответственность за содействие террористической деятельности (ст. 205.1 УК РФ).\n",
            "В соответствии с законом будет также ужесточена уголовная ответственность за содействие террористической деятельности (ст. 205.1 УК РФ).\n",
            "\n",
            "Оно будет караться лишением свободы на срок от 5 до 10 лет со штрафом в размере до 500 тыс. рублей (по действующему закону — от 4 до 8 лет).\n",
            "Оно будет быть лишением свободы на срок от 5 до 10 лет со штрафом в размере до 500 тыс. рублей (по действующему закону — от 4 до 8 лет).\n",
            "\n",
            "В свою очередь, за публичные призывы к осуществлению террористической деятельности или публичное оправдание терроризма закон предлагает лишать свободы на срок от 8 до 15 лет со штрафом в размере от 500 тыс. до 1 млн рублей (в настоящее время — до 5 лет со штрафом до 500 тыс. рублей).\n",
            "В свою очередь, за публичные призывы к осуществлению террористической деятельности или публичное оправдание терроризма закон предлагает лишать свободы на срок от 8 до 15 лет со штрафом в размере от 500 тыс. до 1 млн рублей (в настоящее время — до 5 лет со штрафом до 500 тыс. рублей).\n",
            "\n",
            "При этом условно-досрочное освобождение осуждённых за такие преступления может быть осуществлено только после фактического отбытия не менее 3/4 назначенного им срока наказания, подчёркивается в законе.\n",
            "При этом условно-досрочное освобождение осуждённых за такие преступления может быть осуществлено только после фактического отбытия не менее 3/4 назначенного им срока наказания, подчёркивается в законе.\n",
            "\n",
            "Закон был принят Госдумой 26 ноября 2010 года и одобрен Советом Федерации 1 декабря 2010 года.\n",
            "Закон был принят Госдумой 26 ноября 2010 года и одобрен Советом Федерации 1 декабря 2010 года.\n",
            "\n",
            "\n",
            "98 synonym len\n",
            "Подписан новый закон об ответственности за преступления террористического характера.\n",
            "Подписан новый закон об ответственности за преступления террористического характера.\n",
            "\n",
            "Как сообщила пресс-служба президент России, Дмитрий Медведев подписал федеральный закон об ответственности за террористические преступления.\n",
            "Как изрекла пресс-служба президент России, Дмитрий Медведев подписал федеральный закон об ответственности за террористические преступления.\n",
            "\n",
            "Согласно закону, расширяются основания для привлечения к уголовной ответственности лиц, уличённых в пособничестве в совершении теракта, а также ужесточается уголовное наказание за совершение ряда преступлений террористического характера, сообщает РБК.\n",
            "По закону, набухают основания для призыва к уголовной ответа лиц, уличённых в помощи в делании теракта, а также ужесточается уголовное бич за делание ряда грехов террористического характера, пишет РБК.\n",
            "\n",
            "Инициатива внесения данных изменений принадлежит самому Дмитрию Медведеву.\n",
            "Почин внесения данных изменений состоит самому Дмитрию Медведеву.\n",
            "\n",
            "Например, в статье 205.1 УК РФ появится новая часть, предусматривающая уголовную ответственность за пособничество в совершении теракта в виде лишения свободы на срок от 8 до 20 лет.\n",
            "Например, в статье 205.1 УК РФ выйдет новая часть, предвидящая уголовную ответ за пособничество в совершении теракта в виде лишения свободы на срок от 8 до 20 лет.\n",
            "\n",
            "Термин «пособничество» в данном случае подразумевает «умышленное содействие советами, указаниями, предоставлением информации, средств или орудий совершения преступления либо устранением препятствий к его совершению, а также обещание скрыть преступника, средства или орудия совершения преступления, следы преступления либо предметы, добытые преступным путем, а равно обещание приобрести или сбыть такие предметы».\n",
            "Термин «помощь» в данном случае значит «умышленное опору советами, советами, предостадгрехали орудий делания греха либо отходом узд к его делансловокже слово скрыть жулика, средства или орудия совершения преступления, следы преступления либо предметы, добытые чёрным путем, а равно обещание взять или сбыть такие предметы».\n",
            "\n",
            "В соответствии с законом будет также ужесточена уголовная ответственность за содействие террористической деятельности (ст. 205.1 УК РФ).\n",
            "В соответствии с законом будет также ужесточена уголовная ответ за содействие террористической деятельности (ст. 205.1 УК РФ).\n",
            "\n",
            "Оно будет караться лишением свободы на срок от 5 до 10 лет со штрафом в размере до 500 тыс. рублей (по действующему закону — от 4 до 8 лет).\n",
            "Оно будет караться лишением свободы на срок от 5 до 10 лет со штрафом в размере до 500 тыс. рублей (по ведущему закону — от 4 до 8 лет).\n",
            "\n",
            "В свою очередь, за публичные призывы к осуществлению террористической деятельности или публичное оправдание терроризма закон предлагает лишать свободы на срок от 8 до 15 лет со штрафом в размере от 500 тыс. до 1 млн рублей (в настоящее время — до 5 лет со штрафом до 500 тыс. рублей).\n",
            "В свою очередь, за публичные призывы к осуществлению террористической деятельности или публичное оправдание терроризма закон даёт лишать свободы на срок от 8 до 15 лет со штрафом в размере от 500 тыс. до 1 млн рублей (в настоящее время — до 5 лет со штрафом до 500 тыс. рублей).\n",
            "\n",
            "При этом условно-досрочное освобождение осуждённых за такие преступления может быть осуществлено только после фактического отбытия не менее 3/4 назначенного им срока наказания, подчёркивается в законе.\n",
            "При этом условно-досрочное исход осуждённых за такие греха может быть достигнутое только после фактического отбытия не менее 3/4 отведённого им срока бича, подчёркивается в законе.\n",
            "\n",
            "Закон был принят Госдумой 26 ноября 2010 года и одобрен Советом Федерации 1 декабря 2010 года.\n",
            "Закон был принят Госдумой 26 ноября 2010 года и одобрен Советом Федерации 1 декабря 2010 года.\n",
            "\n",
            "\n",
            "98 synonym frequency\n",
            "Подписан новый закон об ответственности за преступления террористического характера.\n",
            "Подписан новый закон об ответственности за преступления террористического характера.\n",
            "\n",
            "Как сообщила пресс-служба президент России, Дмитрий Медведев подписал федеральный закон об ответственности за террористические преступления.\n",
            "Как сообщила пресс-служба президент России, Дмитрий Медведев подписал федеральный закон об ответственности за террористические преступления.\n",
            "\n",
            "Согласно закону, расширяются основания для привлечения к уголовной ответственности лиц, уличённых в пособничестве в совершении теракта, а также ужесточается уголовное наказание за совершение ряда преступлений террористического характера, сообщает РБК.\n",
            "Согласно закону, расширяются основания для привлечения к уголовной ответственности лиц, уличённых в пособничестве в совершении теракта, а также ужесточается уголовное наказание за вершение ряда преступлений террористического характера, сообщает РБК.\n",
            "\n",
            "Инициатива внесения данных изменений принадлежит самому Дмитрию Медведеву.\n",
            "Инициатива внесения данных изменений принадлежит самому Дмитрию Медведеву.\n",
            "\n",
            "Например, в статье 205.1 УК РФ появится новая часть, предусматривающая уголовную ответственность за пособничество в совершении теракта в виде лишения свободы на срок от 8 до 20 лет.\n",
            "Например, в статье 205.1 УК РФ появится новая часть, предусматривающая уголовную ответственность за пособничество в совершении теракта в виде лишения свободы на срок от 8 до 20 лет.\n",
            "\n",
            "Термин «пособничество» в данном случае подразумевает «умышленное содействие советами, указаниями, предоставлением информации, средств или орудий совершения преступления либо устранением препятствий к его совершению, а также обещание скрыть преступника, средства или орудия совершения преступления, следы преступления либо предметы, добытые преступным путем, а равно обещание приобрести или сбыть такие предметы».\n",
            "Термин «сообщничество» в данном случае подразумевает «умышленное способствование советами, указаниями, предоставлением информации, средств или орудсовершенияния преступления либо устранением препятствий к его совершению, а такжсловоскрыть преступника, средства или орудия совершения преступления, следы преступления либо предметы, добытые преступным путем, а так же обещание приобрести или сбагрить такие предметы».\n",
            "\n",
            "В соответствии с законом будет также ужесточена уголовная ответственность за содействие террористической деятельности (ст. 205.1 УК РФ).\n",
            "В соответствии с законом будет также ужесточена уголовная ответственность за содействие террористической деятельности (ст. 205.1 УК РФ).\n",
            "\n",
            "Оно будет караться лишением свободы на срок от 5 до 10 лет со штрафом в размере до 500 тыс. рублей (по действующему закону — от 4 до 8 лет).\n",
            "Оно будет караться лишением свободы на срок от 5 до 10 лет со штрафом в размере до 500 тыс. рублей (по действующему закону — от 4 до 8 лет).\n",
            "\n",
            "В свою очередь, за публичные призывы к осуществлению террористической деятельности или публичное оправдание терроризма закон предлагает лишать свободы на срок от 8 до 15 лет со штрафом в размере от 500 тыс. до 1 млн рублей (в настоящее время — до 5 лет со штрафом до 500 тыс. рублей).\n",
            "В свою очередь, за публичные призывы к осуществлению террористической деятельности или публичное оправдание терроризма закон предлагает лишать свободы на срок от 8 до 15 лет со штрафом в размере от 500 тыс. до 1 млн рублей (в настоящее время — до 5 лет со штрафом до 500 тыс. рублей).\n",
            "\n",
            "При этом условно-досрочное освобождение осуждённых за такие преступления может быть осуществлено только после фактического отбытия не менее 3/4 назначенного им срока наказания, подчёркивается в законе.\n",
            "При этом условно-досрочное освобождение осуждённых за такие преступления может быть осуществлено только после фактического отбытия не менее 3/4 назначенного им срока наказания, подчёркивается в законе.\n",
            "\n",
            "Закон был принят Госдумой 26 ноября 2010 года и одобрен Советом Федерации 1 декабря 2010 года.\n",
            "Закон был принят Госдумой 26 ноября 2010 года и одобрен Советом Федерации 1 декабря 2010 года.\n",
            "\n",
            "\n",
            "99 bert len\n",
            "Бомба  По данным следствия Ахмад Рахами, подозреваемый в подготовке взрывов, прогремевших в минувшую субботу, 17 сентября 2016 года, в Нью-Йорке и Нью-Джерси, приобрел необходимые ему для теракта компоненты на eBay, а в качестве детонатора использовал сотовые телефоны, купленные в магазине, расположенном в 500 метрах от адреса, ранее указанного им как место проживания.\n",
            "Бомба  По данным полиции Ахмад Рахами, участвовал в подготовке взрывов, находился в минувшую субботу, 17 сентября 2016 года, в Нью-Йорке и Нью-Джерси, имел ##и ему для теракта средства на eBay, а в роли оружия - сотовые телефоны, купленные в магазине, примерно в 500 метрах от адреса, ранее известного им как место действия.\n",
            "\n",
            "В обнародованном во вторник заявлении о возбуждении уголовного дела излагаются многочисленные обвинения против 28-летнего Ахмада Рахами.\n",
            "В период во вторник делу о возбуждении уголовного дела - также дела против 28-летнего Ахмада Рахами.\n",
            "\n",
            "Максимальным наказанием по большинству из них является пожизненное заключение.\n",
            "Наиболее , по одному из них было пожизненное заключение.\n",
            "\n",
            "Рахами был арестован в понедельник после перестрелки с полицией, в ходе которой он и двое полицейских получили ранения.\n",
            "Рахами был арестован в понедельник после перестрелки с полицией, в ходе которой он и двое других имели ранения.\n",
            "\n",
            "Согласно документам дела, следствие полагает, что Рахами, используя на eBay аккаунт «Ahmad Rahami», в период между 20 июня и 10 августа приобрел лимонную кислоту, схемную плату, электрические воспламенители и сотни шарикоподшипников.\n",
            "По данным дела, суд того, что Рахами, получив на eBay аккаунт «Ahmad Rahami», в период между 20 июня и 10 августа имел ##а кислоту, схемную плату, различные часы и сотни долларов.\n",
            "\n",
            "Все купленные им вещи были доставлены в город Перт Амбой, где Рахами работал вплоть до 12 сентября.\n",
            "Все купленные им вещи были направлен в город Перт Амбой, где Рахами жил вплоть до 12 сентября.\n",
            "\n",
            "Шариковые подшипники были найдены в двух взрывных устройствах, изготовленных из скороварок, которые были заложены в субботу в четырёх кварталах друг от друга в нью-йоркском районе Челси.\n",
            "Эти вещества были найдены в двух других местах, одной из золота, которые были названы в субботу в четырёх кварталах друг от друга в нью-йоркском районе Челси.\n",
            "\n",
            "Одна из самодельных бомб взорвалась, ранив 29 человек, другая не сработала.\n",
            "Одна из самодельных бомб взорвалась, ранив 29 человек, другая не же.\n",
            "\n",
            "По словам следователей, вторая бомба состояла из многочисленных электрических воспламенителей.\n",
            "По словам экипажа, вторая бомба - из двух боевых элементов.\n",
            "\n",
            "Невзорвавшееся устройство было протестировано на отпечатки пальцев, в результате чего, согласно материалам следствия, было найдено 12 отпечатков пальцев Рахами.\n",
            "Само здание было основано на 12 пальцев, в результате чего, по данным ДНК, было найдено 12 000 пальцев Рахами.\n",
            "\n",
            "Отпечатки пальцев подозреваемого были также обнаружены на предметах внутри рюкзака, который был найден в воскресенье вечером на вокзале в городе Элизабет, штат Нью-Джерси, недалеко от Нью-Йорка.\n",
            "Часть пальцев тела были также известны на предметах внутри рюкзака, который был найден в воскресенье вечером на вокзале в городе Элизабет, штат Нью-Джерси, вблизи от Нью-Йорка.\n",
            "\n",
            "В рюкзаке было несколько взрывных устройств, одно из которых взорвалось, когда полиция пыталась обезвредить его при помощи специального робота.\n",
            "В рюкзаке было двое других веществ, одно из которых произошло, когда полиция начала найти его при помощи своего робота.\n",
            "\n",
            "Власти также связывают Рахами со взрывом бомбы в мусорной корзине, произошедшем в городе Сисайд Парк, штат Нью-Джерси в субботу утром.\n",
            "Власти также с Рахами со взрывом бомбы в мусорной корзине, которая в городе Сисайд Парк, штат Нью-Джерси в субботу утром.\n",
            "\n",
            "\n",
            "99 bert frequency\n",
            "Бомба  По данным следствия Ахмад Рахами, подозреваемый в подготовке взрывов, прогремевших в минувшую субботу, 17 сентября 2016 года, в Нью-Йорке и Нью-Джерси, приобрел необходимые ему для теракта компоненты на eBay, а в качестве детонатора использовал сотовые телефоны, купленные в магазине, расположенном в 500 метрах от адреса, ранее указанного им как место проживания.\n",
            "Бомба  По данным следствия Ахмад Рахами, подозреваемый в подготовке взрывов, прогремевших в минувшую субботу, 17 сентября 2016 года, в Нью-Йорке и Нью-Джерси, приобрел необходимые ему для теракта компоненты на eBay, а в качестве детонатора использовал сотовые телефоны, купленные в магазине, расположенном в 500 метрах от адреса, ранее указанного им как место проживания.\n",
            "\n",
            "В обнародованном во вторник заявлении о возбуждении уголовного дела излагаются многочисленные обвинения против 28-летнего Ахмада Рахами.\n",
            "В обнародованном во вторник заявлении о возбуждении уголовного дела излагаются многочисленные обвинения против 28-летнего Ахмада Рахами.\n",
            "\n",
            "Максимальным наказанием по большинству из них является пожизненное заключение.\n",
            "Максимальным наказанием по большинству из них является пожизненное заключение.\n",
            "\n",
            "Рахами был арестован в понедельник после перестрелки с полицией, в ходе которой он и двое полицейских получили ранения.\n",
            "Рахами был арестован в понедельник после перестрелки с полицией, в ходе которой он и двое полицейских получили ранения.\n",
            "\n",
            "Согласно документам дела, следствие полагает, что Рахами, используя на eBay аккаунт «Ahmad Rahami», в период между 20 июня и 10 августа приобрел лимонную кислоту, схемную плату, электрические воспламенители и сотни шарикоподшипников.\n",
            "Согласно документам дела, следствие полагает, что Рахами, используя на eBay аккаунт «Ahmad Rahami», в период между 20 июня и 10 августа приобрел лимонную кислоту, схемную плату, электрические воспламенители и сотни шарикоподшипников.\n",
            "\n",
            "Все купленные им вещи были доставлены в город Перт Амбой, где Рахами работал вплоть до 12 сентября.\n",
            "Все купленные им вещи были доставлены в город Перт Амбой, где Рахами работал вплоть до 12 сентября.\n",
            "\n",
            "Шариковые подшипники были найдены в двух взрывных устройствах, изготовленных из скороварок, которые были заложены в субботу в четырёх кварталах друг от друга в нью-йоркском районе Челси.\n",
            "Шариковые подшипники были найдены в двух взрывных устройствах, изготовленных из скороварок, которые были заложены в субботу в четырёх кварталах друг от друга в нью-йоркском районе Челси.\n",
            "\n",
            "Одна из самодельных бомб взорвалась, ранив 29 человек, другая не сработала.\n",
            "Одна из самодельных бомб взорвалась, ранив 29 человек, другая не сработала.\n",
            "\n",
            "По словам следователей, вторая бомба состояла из многочисленных электрических воспламенителей.\n",
            "По словам следователей, вторая бомба состояла из многочисленных электрических воспламенителей.\n",
            "\n",
            "Невзорвавшееся устройство было протестировано на отпечатки пальцев, в результате чего, согласно материалам следствия, было найдено 12 отпечатков пальцев Рахами.\n",
            "Невзорвавшееся устройство было протестировано на отпечатки пальцев, в результате чего, согласно материалам следствия, было найдено 12 отпечатков пальцев Рахами.\n",
            "\n",
            "Отпечатки пальцев подозреваемого были также обнаружены на предметах внутри рюкзака, который был найден в воскресенье вечером на вокзале в городе Элизабет, штат Нью-Джерси, недалеко от Нью-Йорка.\n",
            "Отпечатки пальцев подозреваемого были также обнаружены на предметах внутри рюкзака, который был найден в воскресенье вечером на вокзале в городе Элизабет, штат Нью-Джерси, северно от Нью-Йорка.\n",
            "\n",
            "В рюкзаке было несколько взрывных устройств, одно из которых взорвалось, когда полиция пыталась обезвредить его при помощи специального робота.\n",
            "В рюкзаке было несколько взрывных устройств, одно из которых взорвалось, когда полиция пыталась использовать его при помощи специального робота.\n",
            "\n",
            "Власти также связывают Рахами со взрывом бомбы в мусорной корзине, произошедшем в городе Сисайд Парк, штат Нью-Джерси в субботу утром.\n",
            "Власти также связывают Рахами со взрывом бомбы в мусорной корзине, произошедшем в городе Сисайд Парк, штат Нью-Джерси в субботу утром.\n",
            "\n",
            "\n",
            "99 synonym len\n",
            "Бомба  По данным следствия Ахмад Рахами, подозреваемый в подготовке взрывов, прогремевших в минувшую субботу, 17 сентября 2016 года, в Нью-Йорке и Нью-Джерси, приобрел необходимые ему для теракта компоненты на eBay, а в качестве детонатора использовал сотовые телефоны, купленные в магазине, расположенном в 500 метрах от адреса, ранее указанного им как место проживания.\n",
            "Бомба  По данным итога Ахмад Рахами, чаемый в подготовке взрывов, взгремевших в минувшую субботу, 17 сентября 2016 года, в Нью-Йорке и Нью-Джерси, взял необходимые ему для теракта части на eBay, а в родившемся заряда девал сотовые телефоны, купленные в магазине, помещённом в 500 метрах от адреса, ранее указанного им как место жилья.\n",
            "\n",
            "В обнародованном во вторник заявлении о возбуждении уголовного дела излагаются многочисленные обвинения против 28-летнего Ахмада Рахами.\n",
            "В объявленном во вторник иске о возбуждении уголовного дела излагаются мощные иски против 28-летнего Ахмада Рахами.\n",
            "\n",
            "Максимальным наказанием по большинству из них является пожизненное заключение.\n",
            "Высочайшим бичом по большинству из них есть пожизненное заключение.\n",
            "\n",
            "Рахами был арестован в понедельник после перестрелки с полицией, в ходе которой он и двое полицейских получили ранения.\n",
            "Рахами был арестован в понедельник после перестрелки с полицией, в ходе которой он и двое полицейских сняли ранения.\n",
            "\n",
            "Согласно документам дела, следствие полагает, что Рахами, используя на eBay аккаунт «Ahmad Rahami», в период между 20 июня и 10 августа приобрел лимонную кислоту, схемную плату, электрические воспламенители и сотни шарикоподшипников.\n",
            "По чекам дела, итог чает, что Рахами, девая на eBay аккаунт «Ahmad Rahami», в период между 20 июня и 10 августа взял лимонную кислоту, схемную плату, электрические воспламенители и сотни шарикоподшипников.\n",
            "\n",
            "Все купленные им вещи были доставлены в город Перт Амбой, где Рахами работал вплоть до 12 сентября.\n",
            "Все купленные им вещи были данные в город Перт Амбой, где Рахами делал вплоть до 12 сентября.\n",
            "\n",
            "Шариковые подшипники были найдены в двух взрывных устройствах, изготовленных из скороварок, которые были заложены в субботу в четырёх кварталах друг от друга в нью-йоркском районе Челси.\n",
            "Шариковые опоры были найдены в двух взрывных устройствах, изготовленных из скороварок, которые были заложены в субботу в четырёх кварталах друг от друга в нью-йоркском районе Челси.\n",
            "\n",
            "Одна из самодельных бомб взорвалась, ранив 29 человек, другая не сработала.\n",
            "Одна из самодельных бомб взорвалась, ранив 29 человек, другая не выдала.\n",
            "\n",
            "По словам следователей, вторая бомба состояла из многочисленных электрических воспламенителей.\n",
            "По словам следователей, вторая бомба в из мощных электрических воспламенителей.\n",
            "\n",
            "Невзорвавшееся устройство было протестировано на отпечатки пальцев, в результате чего, согласно материалам следствия, было найдено 12 отпечатков пальцев Рахами.\n",
            "Невзорвавшееся устройство было испытанное на знаки пальцев, в итоге чего, по материалам итога, было найдено 12 знаков пальцев Рахами.\n",
            "\n",
            "Отпечатки пальцев подозреваемого были также обнаружены на предметах внутри рюкзака, который был найден в воскресенье вечером на вокзале в городе Элизабет, штат Нью-Джерси, недалеко от Нью-Йорка.\n",
            "Знаки пальцев чаемого были также найденные на предметах внутри рюкзака, который был найден в воскресенье вечером на вокзале в городе Элизабет, штат Нью-Джерси, близ от Нью-Йорка.\n",
            "\n",
            "В рюкзаке было несколько взрывных устройств, одно из которых взорвалось, когда полиция пыталась обезвредить его при помощи специального робота.\n",
            "В рюкзаке было несколько взрывных устройств, одно из которых лопнуло, когда полиция искала удержать его при помощи узкого робота.\n",
            "\n",
            "Власти также связывают Рахами со взрывом бомбы в мусорной корзине, произошедшем в городе Сисайд Парк, штат Нью-Джерси в субботу утром.\n",
            "Власти также вяжут Рахами со взрывом бомбы в мусорной корзине, вышедшем в городе Сисайд Парк, штат Нью-Джерси в субботу утром.\n",
            "\n",
            "\n",
            "99 synonym frequency\n",
            "Бомба  По данным следствия Ахмад Рахами, подозреваемый в подготовке взрывов, прогремевших в минувшую субботу, 17 сентября 2016 года, в Нью-Йорке и Нью-Джерси, приобрел необходимые ему для теракта компоненты на eBay, а в качестве детонатора использовал сотовые телефоны, купленные в магазине, расположенном в 500 метрах от адреса, ранее указанного им как место проживания.\n",
            "Бомба  По данным следствия Ахмад Рахами, подозреваемый в подготовке взрывов, прогремевших в минувшую субботу, 17 сентября 2016 года, в Нью-Йорке и Нью-Джерси, приобрел необходимые ему для теракта компоненты на eBay, а в качестве детонатора использовал сотовые телефоны, купленные в магазине, расположенном в 500 метрах от адреса, ранее указанного им как место проживания.\n",
            "\n",
            "В обнародованном во вторник заявлении о возбуждении уголовного дела излагаются многочисленные обвинения против 28-летнего Ахмада Рахами.\n",
            "В обнародованном во вторник заявлении о возбуждении уголовного дела излагаются многочисленные обвинения против 28-летнего Ахмада Рахами.\n",
            "\n",
            "Максимальным наказанием по большинству из них является пожизненное заключение.\n",
            "Максимальным наказанием по большинству из них является пожизненное заключение.\n",
            "\n",
            "Рахами был арестован в понедельник после перестрелки с полицией, в ходе которой он и двое полицейских получили ранения.\n",
            "Рахами был арестован в понедельник после перестрелки с полицией, в ходе которой он и двое полицейских получили ранения.\n",
            "\n",
            "Согласно документам дела, следствие полагает, что Рахами, используя на eBay аккаунт «Ahmad Rahami», в период между 20 июня и 10 августа приобрел лимонную кислоту, схемную плату, электрические воспламенители и сотни шарикоподшипников.\n",
            "Согласно документам дела, следствие полагает, что Рахами, используя на eBay аккаунт «Ahmad Rahami», в период между 20 июня и 10 августа приобрел лимонную кислоту, схемную плату, электрические воспламенители и сотни шарикоподшипников.\n",
            "\n",
            "Все купленные им вещи были доставлены в город Перт Амбой, где Рахами работал вплоть до 12 сентября.\n",
            "Все купленные им вещи были доставлены в город Перт Амбой, где Рахами работал вплоть до 12 сентября.\n",
            "\n",
            "Шариковые подшипники были найдены в двух взрывных устройствах, изготовленных из скороварок, которые были заложены в субботу в четырёх кварталах друг от друга в нью-йоркском районе Челси.\n",
            "Шариковые подшипники были найдены в двух взрывных устройствах, изготовленных из скороварок, которые были заложены в субботу в четырёх кварталах друг от друга в нью-йоркском районе Челси.\n",
            "\n",
            "Одна из самодельных бомб взорвалась, ранив 29 человек, другая не сработала.\n",
            "Одна из самодельных бомб взорвалась, ранив 29 человек, другая не сработала.\n",
            "\n",
            "По словам следователей, вторая бомба состояла из многочисленных электрических воспламенителей.\n",
            "По словам следователей, вторая бомба состояла из многочисленных электрических воспламенителей.\n",
            "\n",
            "Невзорвавшееся устройство было протестировано на отпечатки пальцев, в результате чего, согласно материалам следствия, было найдено 12 отпечатков пальцев Рахами.\n",
            "Невзорвавшееся устройство было протестировано на отпечатки пальцев, в результате чего, согласно материалам следствия, было найдено 12 отпечатков пальцев Рахами.\n",
            "\n",
            "Отпечатки пальцев подозреваемого были также обнаружены на предметах внутри рюкзака, который был найден в воскресенье вечером на вокзале в городе Элизабет, штат Нью-Джерси, недалеко от Нью-Йорка.\n",
            "Отпечатки пальцев подозреваемого были также обнаружены на предметах внутри рюкзака, который был найден в воскресенье вечером на вокзале в городе Элизабет, штат Нью-Джерси, недалече от Нью-Йорка.\n",
            "\n",
            "В рюкзаке было несколько взрывных устройств, одно из которых взорвалось, когда полиция пыталась обезвредить его при помощи специального робота.\n",
            "В рюкзаке было несколько взрывных устройств, одно из которых взорвалось, когда полиция пыталась уничтожить его при помощи специального робота.\n",
            "\n",
            "Власти также связывают Рахами со взрывом бомбы в мусорной корзине, произошедшем в городе Сисайд Парк, штат Нью-Джерси в субботу утром.\n",
            "Власти также связывают Рахами со взрывом бомбы в мусорной корзине, произошедшем в городе Сисайд Парк, штат Нью-Джерси в субботу утром.\n",
            "\n",
            "\n",
            "100 bert len\n",
            "Карлос Тевес Новый главный тренер китайского клуба «Шанхай Гринлэнд Шеньхуа» Ву Цзиньсу решил вывести из состава нападающего Карлоса Тевеса из-за его лишнего веса: Тевес знает о моих тактических планах, выпускать на поле я его не планирую.\n",
            "Карлос Тевес Новый главный тренер китайского клуба «Шанхай Гринлэнд Шеньхуа» Ву Цзиньсу решил вывести из состава нападающего Карлоса Тевеса из-за его лишнего веса: Тевес знает о моих последних планах, и на поле я его не сказал.\n",
            "\n",
            "Тевес не готов физически.\n",
            "Тевес не готов ##ит.\n",
            "\n",
            "Он не будет играть.\n",
            "Он не будет играть.\n",
            "\n",
            "У него лишний вес, как и у Фредди Гуарина (полузащитник «Шанхая» — ред).\n",
            "У него лишний вес, как и у Фредди Гуарина (полузащитник «Шанхая» — ред).\n",
            "\n",
            "Я несу ответственность за команду и игроков.\n",
            "Я несу ##ю за команду и игроков.\n",
            "\n",
            "Если футболист не может нормально играть, то в составе его не будет.\n",
            "Если футболист не может так играть, то в составе его не будет.\n",
            "\n",
            "Я тренировал множество звезд, но никогда не ставил игроков в состав лишь из-за репутации.\n",
            "Я ##л игроков звезд, но никогда не ставил игроков в состав лишь из-за этого.\n",
            "\n",
            "22 августа 2017 года хакерская группировка Fancy Bears опубликовала данные о футболистах-участниках ЧМ-2010, имевших терапевтические исключения на прием запрещённых препаратов.\n",
            "22 августа 2017 года , группа Fancy Bears получила данные о футболистах-участниках ЧМ-2010, имевших право данные на прием боевых матчей.\n",
            "\n",
            "Среди них был Тевес, а также его партнеры по сборной Аргентины Хуан Себастьян Верон, Габриэль Хейнце и Диего Милито.\n",
            "Среди них был Тевес, а также его партнеры по сборной Аргентины Хуан Себастьян Верон, Габриэль Хейнце и Диего Милито.\n",
            "\n",
            "33-летний нападающий перешел в китайский «Шанхай Шеньхуа» в декабре 2016 года.\n",
            "33-летний нападающий перешел в китайский «Шанхай Шеньхуа» в декабре 2016 года.\n",
            "\n",
            "По данным британских журналистов, он получает 35 миллионов евро в год, что делает его самым высокооплачиваемым футболистом мира.\n",
            "По данным британских журналистов, он сделал 35 миллионов евро в год, что делает его самым лучшим футболистом мира.\n",
            "\n",
            "Его соотечественник Эсекьель Лавесси из китайского «Хэбэй Форчун» зарабатывает 30 миллионов в год и занимает второй место в этом рейтинге.\n",
            "Его сын Эсекьель Лавесси из китайского «Хэбэй Форчун» составляет 30 миллионов в год и занял второй место в этом рейтинге.\n",
            "\n",
            "В текущем сезоне Тевес провел 12 матчей в китайской Суперлиге, забил два мяча и отдал четыре голевых паса.\n",
            "В текущем сезоне Тевес провел 12 матчей в китайской Суперлиге, забил два мяча и отдал четыре голевых паса.\n",
            "\n",
            "\n",
            "100 bert frequency\n",
            "Карлос Тевес Новый главный тренер китайского клуба «Шанхай Гринлэнд Шеньхуа» Ву Цзиньсу решил вывести из состава нападающего Карлоса Тевеса из-за его лишнего веса: Тевес знает о моих тактических планах, выпускать на поле я его не планирую.\n",
            "Карлос Тевес Новый главный тренер китайского клуба «Шанхай Гринлэнд Шеньхуа» Ву Цзиньсу решил вывести из состава нападающего Карлоса Тевеса из-за его лишнего веса: Тевес знает о моих тактических планах, выпускать на поле я его не планирую.\n",
            "\n",
            "Тевес не готов физически.\n",
            "Тевес не готов ##ит.\n",
            "\n",
            "Он не будет играть.\n",
            "Он не будет играть.\n",
            "\n",
            "У него лишний вес, как и у Фредди Гуарина (полузащитник «Шанхая» — ред).\n",
            "У него лишний вес, как и у Фредди Гуарина (полузащитник «Шанхая» — ред).\n",
            "\n",
            "Я несу ответственность за команду и игроков.\n",
            "Я несу ответственность за команду и игроков.\n",
            "\n",
            "Если футболист не может нормально играть, то в составе его не будет.\n",
            "Если футболист не может так играть, то в составе его не будет.\n",
            "\n",
            "Я тренировал множество звезд, но никогда не ставил игроков в состав лишь из-за репутации.\n",
            "Я тренировал множество звезд, но никогда не ставил игроков в состав лишь из-за репутации.\n",
            "\n",
            "22 августа 2017 года хакерская группировка Fancy Bears опубликовала данные о футболистах-участниках ЧМ-2010, имевших терапевтические исключения на прием запрещённых препаратов.\n",
            "22 августа 2017 года хакерская группировка Fancy Bears опубликовала данные о футболистах-участниках ЧМ-2010, имевших терапевтические исключения на прием запрещённых препаратов.\n",
            "\n",
            "Среди них был Тевес, а также его партнеры по сборной Аргентины Хуан Себастьян Верон, Габриэль Хейнце и Диего Милито.\n",
            "Среди них был Тевес, а также его партнеры по сборной Аргентины Хуан Себастьян Верон, Габриэль Хейнце и Диего Милито.\n",
            "\n",
            "33-летний нападающий перешел в китайский «Шанхай Шеньхуа» в декабре 2016 года.\n",
            "33-летний нападающий перешел в китайский «Шанхай Шеньхуа» в декабре 2016 года.\n",
            "\n",
            "По данным британских журналистов, он получает 35 миллионов евро в год, что делает его самым высокооплачиваемым футболистом мира.\n",
            "По данным британских журналистов, он получает 35 миллионов евро в год, что делает его самым высокооплачиваемым футболистом мира.\n",
            "\n",
            "Его соотечественник Эсекьель Лавесси из китайского «Хэбэй Форчун» зарабатывает 30 миллионов в год и занимает второй место в этом рейтинге.\n",
            "Его сын Эсекьель Лавесси из китайского «Хэбэй Форчун» зарабатывает 30 миллионов в год и занимает второй место в этом рейтинге.\n",
            "\n",
            "В текущем сезоне Тевес провел 12 матчей в китайской Суперлиге, забил два мяча и отдал четыре голевых паса.\n",
            "В текущем сезоне Тевес провел 12 матчей в китайской Суперлиге, забил два мяча и отдал четыре голевых паса.\n",
            "\n",
            "\n",
            "100 synonym len\n",
            "Карлос Тевес Новый главный тренер китайского клуба «Шанхай Гринлэнд Шеньхуа» Ву Цзиньсу решил вывести из состава нападающего Карлоса Тевеса из-за его лишнего веса: Тевес знает о моих тактических планах, выпускать на поле я его не планирую.\n",
            "Карлос Тевес Новый главный тренер китайского клуба «Шанхай Гринлэнд Шеньхуа» Ву Цзиньсу решил вывести из состава нападающего Карлоса Тевеса из-за его лишнего веса: Тевес знает о моих тактических планах, делать на поле я его не хочу.\n",
            "\n",
            "Тевес не готов физически.\n",
            "Тевес не готов телесно.\n",
            "\n",
            "Он не будет играть.\n",
            "Он не будет играть.\n",
            "\n",
            "У него лишний вес, как и у Фредди Гуарина (полузащитник «Шанхая» — ред).\n",
            "У него лишний вес, как и у Фредди Гуарина (полузащитник «Шанхая» — ред).\n",
            "\n",
            "Я несу ответственность за команду и игроков.\n",
            "Я несу ответ за команду и игроков.\n",
            "\n",
            "Если футболист не может нормально играть, то в составе его не будет.\n",
            "Если футболист не может нормально играть, то в составе его не будет.\n",
            "\n",
            "Я тренировал множество звезд, но никогда не ставил игроков в состав лишь из-за репутации.\n",
            "Я обучал множество звезд, но никогда не ставил игроков в состав лишь из-за имена.\n",
            "\n",
            "22 августа 2017 года хакерская группировка Fancy Bears опубликовала данные о футболистах-участниках ЧМ-2010, имевших терапевтические исключения на прием запрещённых препаратов.\n",
            "22 августа 2017 года хакерская стан Fancy Bears выдала данные о футболистах-участниках ЧМ-2010, имевших лечебные бывшего на прием запрещённых препаратов.\n",
            "\n",
            "Среди них был Тевес, а также его партнеры по сборной Аргентины Хуан Себастьян Верон, Габриэль Хейнце и Диего Милито.\n",
            "Среди них был Тевес, а также его партнеры по сборной Аргентины Хуан Себастьян Верон, Габриэль Хейнце и Диего Милито.\n",
            "\n",
            "33-летний нападающий перешел в китайский «Шанхай Шеньхуа» в декабре 2016 года.\n",
            "33-летний нападающий перешел в китайский «Шанхай Шеньхуа» в декабре 2016 года.\n",
            "\n",
            "По данным британских журналистов, он получает 35 миллионов евро в год, что делает его самым высокооплачиваемым футболистом мира.\n",
            "По данным британских журналистов, он берёт 35 миллионов евро в год, что делает его самым хлебным футболистом мира.\n",
            "\n",
            "Его соотечественник Эсекьель Лавесси из китайского «Хэбэй Форчун» зарабатывает 30 миллионов в год и занимает второй место в этом рейтинге.\n",
            "Его земляк Эсекьель Лавесси из китайского «Хэбэй Форчун» лупит 30 миллионов в год и берёт второй место в этом рейтинге.\n",
            "\n",
            "В текущем сезоне Тевес провел 12 матчей в китайской Суперлиге, забил два мяча и отдал четыре голевых паса.\n",
            "В текущем сезоне Тевес провёл 12 матчей в китайской Суперлиге, забил два мяча и отдал четыре голевых паса.\n",
            "\n",
            "\n",
            "100 synonym frequency\n",
            "Карлос Тевес Новый главный тренер китайского клуба «Шанхай Гринлэнд Шеньхуа» Ву Цзиньсу решил вывести из состава нападающего Карлоса Тевеса из-за его лишнего веса: Тевес знает о моих тактических планах, выпускать на поле я его не планирую.\n",
            "Карлос Тевес Новый главный тренер китайского клуба «Шанхай Гринлэнд Шеньхуа» Ву Цзиньсу решил вывести из состава нападающего Карлоса Тевеса из-за его лишнего веса: Тевес знает о моих тактических планах, выпускать на поле я его не планирую.\n",
            "\n",
            "Тевес не готов физически.\n",
            "Тевес не готов плотски.\n",
            "\n",
            "Он не будет играть.\n",
            "Он не будет играть.\n",
            "\n",
            "У него лишний вес, как и у Фредди Гуарина (полузащитник «Шанхая» — ред).\n",
            "У него лишний вес, как и у Фредди Гуарина (полузащитник «Шанхая» — ред).\n",
            "\n",
            "Я несу ответственность за команду и игроков.\n",
            "Я несу ответственность за команду и игроков.\n",
            "\n",
            "Если футболист не может нормально играть, то в составе его не будет.\n",
            "Если футболист не может нормально играть, то в составе его не будет.\n",
            "\n",
            "Я тренировал множество звезд, но никогда не ставил игроков в состав лишь из-за репутации.\n",
            "Я тренировал множество звезд, но никогда не ставил игроков в состав лишь из-за репутации.\n",
            "\n",
            "22 августа 2017 года хакерская группировка Fancy Bears опубликовала данные о футболистах-участниках ЧМ-2010, имевших терапевтические исключения на прием запрещённых препаратов.\n",
            "22 августа 2017 года хакерская группировка Fancy Bears опубликовала данные о футболистах-участниках ЧМ-2010, имевших терапевтические исключения на прием запрещённых препаратов.\n",
            "\n",
            "Среди них был Тевес, а также его партнеры по сборной Аргентины Хуан Себастьян Верон, Габриэль Хейнце и Диего Милито.\n",
            "Среди них был Тевес, а также его партнеры по сборной Аргентины Хуан Себастьян Верон, Габриэль Хейнце и Диего Милито.\n",
            "\n",
            "33-летний нападающий перешел в китайский «Шанхай Шеньхуа» в декабре 2016 года.\n",
            "33-летний нападающий перешел в китайский «Шанхай Шеньхуа» в декабре 2016 года.\n",
            "\n",
            "По данным британских журналистов, он получает 35 миллионов евро в год, что делает его самым высокооплачиваемым футболистом мира.\n",
            "По данным британских журналистов, он получает 35 миллионов евро в год, что делает его самым высокооплачиваемым футболистом мира.\n",
            "\n",
            "Его соотечественник Эсекьель Лавесси из китайского «Хэбэй Форчун» зарабатывает 30 миллионов в год и занимает второй место в этом рейтинге.\n",
            "Его сельский житель Эсекьель Лавесси из китайского «Хэбэй Форчун» зарабатывает 30 миллионов в год и занимает второй место в этом рейтинге.\n",
            "\n",
            "В текущем сезоне Тевес провел 12 матчей в китайской Суперлиге, забил два мяча и отдал четыре голевых паса.\n",
            "В текущем сезоне Тевес провел 12 матчей в китайской Суперлиге, забил два мяча и отдал четыре голевых паса.\n",
            "\n",
            "\n"
          ]
        }
      ]
    },
    {
      "cell_type": "code",
      "source": [
        "def count_syllables(word):\n",
        "    word = re.sub(r'[^аеёиоуыэюя]', '', word.lower())\n",
        "    return len(word)\n",
        "\n",
        "def asw(sentences): # average number of syllables in the word\n",
        "    total_avg_syllables = 0\n",
        "    total_sentences = 0\n",
        "    for sentence in sentences:\n",
        "        words = re.findall(r'\\b\\w+\\b', sentence)\n",
        "        if len(words) != 0:\n",
        "            total_sentences += 1\n",
        "            total_syllables = 0\n",
        "            for word in words:\n",
        "                total_syllables += count_syllables(word)\n",
        "            total_avg_syllables += total_syllables / len(words)\n",
        "    return total_avg_syllables / total_sentences"
      ],
      "metadata": {
        "id": "tLxw0k_P-hRz"
      },
      "execution_count": null,
      "outputs": []
    },
    {
      "cell_type": "code",
      "source": [
        "bert_embed_tokenizer = AutoTokenizer.from_pretrained(\"bert-base-uncased\")\n",
        "bert_embed_model = AutoModel.from_pretrained(\"bert-base-uncased\")\n",
        "\n",
        "def bert_cos_dist(original_sentences, simple_sentences):\n",
        "    avg_dist = 0\n",
        "    for i in range(min(len(simple_sentences), len(original_sentences))):\n",
        "        sentence1 = original_sentences[i]\n",
        "        sentence2 = simple_sentences[i]\n",
        "\n",
        "        encoded_input = bert_embed_tokenizer([sentence1, sentence2], padding=True, truncation=True, return_tensors='pt')\n",
        "        with torch.no_grad():\n",
        "            output = bert_embed_model(**encoded_input)\n",
        "\n",
        "        sentence1_embedding = output.last_hidden_state[0, 0, :]\n",
        "        sentence2_embedding = output.last_hidden_state[1, 0, :]\n",
        "\n",
        "        dist = cosine_distances(sentence1_embedding.reshape(1, -1), sentence2_embedding.reshape(1, -1)).item()\n",
        "        avg_dist += dist    \n",
        "    return avg_dist / min(len(simple_sentences), len(original_sentences))"
      ],
      "metadata": {
        "colab": {
          "base_uri": "https://localhost:8080/"
        },
        "id": "q8lpTDunJtNz",
        "outputId": "270e3fd0-1a98-458b-ac2f-fbb4372fc7fe"
      },
      "execution_count": null,
      "outputs": [
        {
          "output_type": "stream",
          "name": "stderr",
          "text": [
            "Some weights of the model checkpoint at bert-base-uncased were not used when initializing BertModel: ['cls.predictions.transform.dense.bias', 'cls.predictions.decoder.weight', 'cls.seq_relationship.weight', 'cls.predictions.transform.dense.weight', 'cls.predictions.transform.LayerNorm.weight', 'cls.seq_relationship.bias', 'cls.predictions.transform.LayerNorm.bias', 'cls.predictions.bias']\n",
            "- This IS expected if you are initializing BertModel from the checkpoint of a model trained on another task or with another architecture (e.g. initializing a BertForSequenceClassification model from a BertForPreTraining model).\n",
            "- This IS NOT expected if you are initializing BertModel from the checkpoint of a model that you expect to be exactly identical (initializing a BertForSequenceClassification model from a BertForSequenceClassification model).\n"
          ]
        }
      ]
    },
    {
      "cell_type": "code",
      "source": [
        "sentences1 = [\"Мне нравятся коты\", \"I love you\"]\n",
        "sentences2 = [\"Я люблю собак\", \"Je t'aime\"]\n",
        "distance = bert_cos_dist(sentences1, sentences2)\n",
        "print(\"Cosine distance:\", distance)"
      ],
      "metadata": {
        "colab": {
          "base_uri": "https://localhost:8080/"
        },
        "id": "SHUJv2RMJ1Ka",
        "outputId": "63ad66ce-0614-4ba3-a84f-31ae7ffdb486"
      },
      "execution_count": null,
      "outputs": [
        {
          "output_type": "stream",
          "name": "stdout",
          "text": [
            "Cosine distance: 0.08052542805671692\n"
          ]
        }
      ]
    },
    {
      "cell_type": "code",
      "source": [
        "def assess_model(simple_dir, model, file_list, metric):\n",
        "    avg_metric = 0\n",
        "    files_num = 0\n",
        "    for file_name in file_list:\n",
        "        simple_location = os.path.join(simple_dir, model[0], model[1], file_name)\n",
        "        simple_sentences = read_list_from_file(simple_location)\n",
        "        if len(simple_sentences) != 0:\n",
        "            files_num += 1\n",
        "            if metric == 'asw':\n",
        "                avg_metric += asw(simple_sentences)\n",
        "            elif metric == 'bert_cos_dist':\n",
        "                original_location = os.path.join(simple_dir, 'original', file_name)\n",
        "                original_sentences = read_list_from_file(original_location)\n",
        "                if len(simple_sentences) != len(original_sentences):\n",
        "                    print(simple_sentences, original_sentences)\n",
        "                avg_metric += bert_cos_dist(simple_sentences, original_sentences)\n",
        "    return avg_metric/files_num"
      ],
      "metadata": {
        "id": "kbK1TjL2BH6t"
      },
      "execution_count": null,
      "outputs": []
    },
    {
      "cell_type": "code",
      "source": [
        "for model in models:\n",
        "    for metric in [\"asw\", \"bert_cos_dist\"]:\n",
        "        if model == (\"baseline\", \"\"):\n",
        "            file_list = base_sample_file_list\n",
        "        else:\n",
        "            file_list = sample_file_list\n",
        "        res = assess_model(simple_dir, model, file_list, metric)\n",
        "        print(\"Model: \" + str(model[0]))\n",
        "        print(\"Complexity method: \" + str(model[1]))\n",
        "        print(\"Metric: \" + metric)\n",
        "        print(\"Result: \" + str(res))\n",
        "        print()"
      ],
      "metadata": {
        "colab": {
          "base_uri": "https://localhost:8080/"
        },
        "id": "5DfOJLIjnFVB",
        "outputId": "412e24ba-1cce-4c9c-f759-d411993c95b1"
      },
      "execution_count": null,
      "outputs": [
        {
          "output_type": "stream",
          "name": "stdout",
          "text": [
            "Model: baseline\n",
            "Complexity method: \n",
            "Metric: asw\n",
            "Result: 2.4319689635569652\n",
            "\n",
            "Model: baseline\n",
            "Complexity method: \n",
            "Metric: bert_cos_dist\n",
            "Result: 0.018778686074329774\n",
            "\n",
            "Model: bert\n",
            "Complexity method: len\n",
            "Metric: asw\n",
            "Result: 2.06198362947108\n",
            "\n",
            "Model: bert\n",
            "Complexity method: len\n",
            "Metric: bert_cos_dist\n",
            "Result: 0.014339098001478782\n",
            "\n",
            "Model: bert\n",
            "Complexity method: frequency\n",
            "Metric: asw\n",
            "Result: 2.442835099455242\n",
            "\n",
            "Model: bert\n",
            "Complexity method: frequency\n",
            "Metric: bert_cos_dist\n",
            "Result: 0.0011896186038506703\n",
            "\n",
            "Model: synonym\n",
            "Complexity method: len\n",
            "Metric: asw\n",
            "Result: 2.247671556487743\n",
            "\n",
            "Model: synonym\n",
            "Complexity method: len\n",
            "Metric: bert_cos_dist\n",
            "Result: 0.005315173363085831\n",
            "\n",
            "Model: synonym\n",
            "Complexity method: frequency\n",
            "Metric: asw\n",
            "Result: 2.461087948158949\n",
            "\n",
            "Model: synonym\n",
            "Complexity method: frequency\n",
            "Metric: bert_cos_dist\n",
            "Result: 0.00042582925744976714\n",
            "\n"
          ]
        }
      ]
    }
  ]
}